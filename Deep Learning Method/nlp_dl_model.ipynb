{
  "nbformat": 4,
  "nbformat_minor": 0,
  "metadata": {
    "colab": {
      "provenance": [],
      "gpuType": "T4"
    },
    "kernelspec": {
      "name": "python3",
      "display_name": "Python 3"
    },
    "language_info": {
      "name": "python"
    },
    "accelerator": "GPU"
  },
  "cells": [
    {
      "cell_type": "code",
      "source": [
        "# Loading libraries\n",
        "\n",
        "import torch\n",
        "import torch.nn as nn\n",
        "import torch.optim as optim\n",
        "from torch.utils.data import Dataset, DataLoader\n",
        "from sklearn.preprocessing import LabelEncoder\n",
        "from sklearn.model_selection import train_test_split\n",
        "import pandas as pd\n",
        "from sklearn.metrics import precision_recall_fscore_support, accuracy_score\n",
        "import matplotlib.pyplot as plt\n",
        "import numpy as np\n",
        "import seaborn as sns\n",
        "from sklearn.metrics import confusion_matrix"
      ],
      "metadata": {
        "id": "HFIdEW8oJZUi"
      },
      "execution_count": 1,
      "outputs": []
    },
    {
      "cell_type": "code",
      "source": [
        "device = torch.device(\"cuda\" if torch.cuda.is_available() else \"cpu\")"
      ],
      "metadata": {
        "id": "LFLNfV3W4zOL"
      },
      "execution_count": 22,
      "outputs": []
    },
    {
      "cell_type": "markdown",
      "source": [
        "## **TODO: Revised Model:**\n",
        "- include casing features\n",
        "- fix the all Os problem\n",
        "- more plots -> conf matrix\n",
        "- look for new metrics\n",
        "\n",
        "\n",
        "**mistakes:**\n",
        "- overfitting -> regularization\n",
        "- all Os problem\n",
        "\n",
        "\n",
        "**things to try:**\n",
        "- regularization\n",
        "- adjust model parameters\n",
        "- adjust model structure\n",
        "- batch normalization\n",
        "- SMOT\n",
        "- class weights"
      ],
      "metadata": {
        "id": "6cxHV2XhLw79"
      }
    },
    {
      "cell_type": "markdown",
      "source": [
        "# Original Model"
      ],
      "metadata": {
        "id": "DQkeuwhDJmTh"
      }
    },
    {
      "cell_type": "code",
      "source": [
        "# Define the model\n",
        "class NLPModel(nn.Module):\n",
        "    def __init__(self, num_embeddings, embedding_dim, num_pos_tags, pos_embedding_dim, num_embeddings_lemma, lemma_embedding_dim, hidden_dim, lstm_out_dim, output_dim):\n",
        "        super(NLPModel, self).__init__()\n",
        "\n",
        "        # Embedding layers\n",
        "        self.word_embeddings = nn.Embedding(num_embeddings, embedding_dim)  # Pre-trained, frozen\n",
        "        self.pos_embeddings = nn.Embedding(num_pos_tags, pos_embedding_dim)\n",
        "        self.lemma_embedding = nn.Embedding(num_embeddings_lemma, lemma_embedding_dim)\n",
        "\n",
        "        # Concatenation dimension\n",
        "        concat_dim = embedding_dim + pos_embedding_dim + lemma_embedding_dim\n",
        "\n",
        "        # Dense layer prior to LSTM\n",
        "        self.dense = nn.Linear(concat_dim, hidden_dim)\n",
        "\n",
        "        # LSTM layer\n",
        "        self.lstm = nn.LSTM(hidden_dim, lstm_out_dim, batch_first=True, bidirectional=True)\n",
        "\n",
        "        # Output layer\n",
        "        self.output_layer = nn.Linear(2 * lstm_out_dim, output_dim)  # Correct input dimension\n",
        "\n",
        "        # Dropout layer\n",
        "        self.dropout = nn.Dropout(0.25)\n",
        "\n",
        "    def forward(self, x, pos, lemma):\n",
        "        # Embed each input type\n",
        "        x = self.word_embeddings(x)\n",
        "        pos = self.pos_embeddings(pos)\n",
        "        lemma = self.lemma_embedding(lemma)\n",
        "\n",
        "        # Concatenate embeddings\n",
        "        x = torch.cat((x, pos, lemma), dim=-1)\n",
        "\n",
        "        # Apply dense and activation\n",
        "        x = torch.tanh(self.dense(x))\n",
        "\n",
        "        # Apply dropout\n",
        "        x = self.dropout(x)\n",
        "\n",
        "        # LSTM layer\n",
        "        lstm_out, _ = self.lstm(x)\n",
        "\n",
        "        # Output layer\n",
        "        output = self.output_layer(lstm_out)\n",
        "\n",
        "        return output"
      ],
      "metadata": {
        "id": "M2UNmM1MJtE0"
      },
      "execution_count": 81,
      "outputs": []
    },
    {
      "cell_type": "markdown",
      "source": [
        "## Dataloading"
      ],
      "metadata": {
        "id": "HEzl8p-oJyBO"
      }
    },
    {
      "cell_type": "code",
      "source": [
        " # Load the CSV file\n",
        "file_path = '/content/feature_extracted_data.csv'\n",
        "df = pd.read_csv(file_path)\n",
        "\n",
        "# Encoding categorical columns\n",
        "word_encoder = LabelEncoder()\n",
        "pos_encoder = LabelEncoder()\n",
        "lemma_encoder = LabelEncoder()\n",
        "tag_encoder = LabelEncoder()\n",
        "\n",
        "df['Word_idx'] = word_encoder.fit_transform(df['Word'])\n",
        "df['POS_idx'] = pos_encoder.fit_transform(df['POS'])\n",
        "df['Lemma_idx'] = lemma_encoder.fit_transform(df['LEMMA'])\n",
        "df['Tag_idx'] = tag_encoder.fit_transform(df['Tag'])\n",
        "\n",
        "# Add 'unknown' index for words, lemmas, and tags\n",
        "def add_unknown_to_encoder(encoder):\n",
        "    classes = list(encoder.classes_)\n",
        "    if 'unknown' not in classes:\n",
        "        classes.append('unknown')\n",
        "        encoder.classes_ = np.array(classes)\n",
        "    return encoder\n",
        "\n",
        "word_encoder = add_unknown_to_encoder(word_encoder)\n",
        "lemma_encoder = add_unknown_to_encoder(lemma_encoder)\n",
        "tag_encoder = add_unknown_to_encoder(tag_encoder)\n",
        "\n",
        "# Function to map words/lemmas/tags to their indices, using 'unknown' for unseen labels\n",
        "def map_to_index(encoder, items, unknown_label='unknown'):\n",
        "    label_map = {label: idx for idx, label in enumerate(encoder.classes_)}\n",
        "    return [label_map.get(item, label_map[unknown_label]) for item in items]\n",
        "\n",
        "df['Word_idx'] = map_to_index(word_encoder, df['Word'])\n",
        "df['Lemma_idx'] = map_to_index(lemma_encoder, df['LEMMA'])\n",
        "df['Tag_idx'] = map_to_index(tag_encoder, df['Tag'])"
      ],
      "metadata": {
        "id": "sBtSmtM4JdSI"
      },
      "execution_count": 82,
      "outputs": []
    },
    {
      "cell_type": "code",
      "source": [
        "# Custom Dataset class\n",
        "class NLPCustomDataset(Dataset):\n",
        "    def __init__(self, dataframe):\n",
        "        self.dataframe = dataframe\n",
        "\n",
        "    def __len__(self):\n",
        "        return len(self.dataframe)\n",
        "\n",
        "    def __getitem__(self, idx):\n",
        "        word = self.dataframe.iloc[idx]['Word_idx']\n",
        "        pos = self.dataframe.iloc[idx]['POS_idx']\n",
        "        lemma = self.dataframe.iloc[idx]['Lemma_idx']\n",
        "        tag = self.dataframe.iloc[idx]['Tag_idx']\n",
        "\n",
        "        sample = {\n",
        "            'word': torch.tensor(word, dtype=torch.long),\n",
        "            'pos': torch.tensor(pos, dtype=torch.long),\n",
        "            'lemma': torch.tensor(lemma, dtype=torch.long),\n",
        "            'tag': torch.tensor(tag, dtype=torch.long)\n",
        "        }\n",
        "        return sample\n",
        "\n",
        "# Splitting data into training and validation sets\n",
        "train_df, val_df = train_test_split(df, test_size=0.2, random_state=42)\n",
        "\n",
        "# Creating Dataset and DataLoader for training and validation\n",
        "train_dataset = NLPCustomDataset(train_df)\n",
        "val_dataset = NLPCustomDataset(val_df)\n",
        "\n",
        "train_dataloader = DataLoader(train_dataset, batch_size=32, shuffle=True)\n",
        "val_dataloader = DataLoader(val_dataset, batch_size=32, shuffle=False)"
      ],
      "metadata": {
        "id": "40YOn-9dJiL8"
      },
      "execution_count": 83,
      "outputs": []
    },
    {
      "cell_type": "markdown",
      "source": [
        "## Parameter initialization"
      ],
      "metadata": {
        "id": "aflpNfJ3J5fJ"
      }
    },
    {
      "cell_type": "code",
      "source": [
        "# Initializing the model\n",
        "model = NLPModel(\n",
        "    num_embeddings=len(word_encoder.classes_),\n",
        "    embedding_dim=50,\n",
        "    num_pos_tags=len(pos_encoder.classes_),\n",
        "    pos_embedding_dim=10,\n",
        "    num_embeddings_lemma=len(lemma_encoder.classes_),\n",
        "    lemma_embedding_dim=10,\n",
        "    hidden_dim=100,\n",
        "    lstm_out_dim=50,\n",
        "    output_dim=len(tag_encoder.classes_)\n",
        ").to(device)\n",
        "\n",
        "# Defining loss function and optimizer\n",
        "criterion = nn.CrossEntropyLoss().to(device)\n",
        "optimizer = optim.Adam(model.parameters(), lr=0.001)\n",
        "\n",
        "# Training loop\n",
        "num_epochs = 10\n",
        "train_losses = []\n",
        "val_losses = []"
      ],
      "metadata": {
        "id": "IAPgwj0LJ_Xq"
      },
      "execution_count": 84,
      "outputs": []
    },
    {
      "cell_type": "markdown",
      "source": [
        "## Trianing Loop"
      ],
      "metadata": {
        "id": "WBaV8RxcKG23"
      }
    },
    {
      "cell_type": "code",
      "execution_count": 85,
      "metadata": {
        "colab": {
          "base_uri": "https://localhost:8080/"
        },
        "id": "1QujZiNmIyu5",
        "outputId": "14d607e4-71f8-492c-c291-7a3a002a5643"
      },
      "outputs": [
        {
          "output_type": "stream",
          "name": "stdout",
          "text": [
            "\n",
            "Epoch 1/10, Loss: 0.3338369301535946\n",
            "Validation Loss: 0.27900083609292226, Validation Accuracy: 0.9236189235597134\n",
            "Validation Precision: 0.906956789974471, Recall: 0.9236189235597134, F1 Score: 0.9024188916328366\n",
            "\n",
            "Epoch 2/10, Loss: 0.2661989182771918\n",
            "Validation Loss: 0.2618808309780434, Validation Accuracy: 0.9266386405352597\n",
            "Validation Precision: 0.9094096634321499, Recall: 0.9266386405352597, F1 Score: 0.908817211589181\n",
            "\n",
            "Epoch 3/10, Loss: 0.24159847729511447\n",
            "Validation Loss: 0.25633857714075764, Validation Accuracy: 0.9274083723133401\n",
            "Validation Precision: 0.9193484092495449, Recall: 0.9274083723133401, F1 Score: 0.9132036667349201\n",
            "\n",
            "Epoch 4/10, Loss: 0.226083397936749\n",
            "Validation Loss: 0.25694940562684543, Validation Accuracy: 0.9257208834152407\n",
            "Validation Precision: 0.9178543469812077, Recall: 0.9257208834152407, F1 Score: 0.914388430540816\n",
            "\n",
            "Epoch 5/10, Loss: 0.21522019537954837\n",
            "Validation Loss: 0.2568559627415556, Validation Accuracy: 0.9241518147906922\n",
            "Validation Precision: 0.9117025565114095, Recall: 0.9241518147906922, F1 Score: 0.9145466171302293\n",
            "\n",
            "Epoch 6/10, Loss: 0.2064710821825839\n",
            "Validation Loss: 0.2524676685782403, Validation Accuracy: 0.9281781040914204\n",
            "Validation Precision: 0.9181527359893977, Recall: 0.9281781040914204, F1 Score: 0.9161038545626745\n",
            "\n",
            "Epoch 7/10, Loss: 0.19954432517011358\n",
            "Validation Loss: 0.26141615961255, Validation Accuracy: 0.9224347208242051\n",
            "Validation Precision: 0.9097136755863491, Recall: 0.9224347208242051, F1 Score: 0.913678217321332\n",
            "\n",
            "Epoch 8/10, Loss: 0.19434239279514956\n",
            "Validation Loss: 0.2636258027421057, Validation Accuracy: 0.9219314346616141\n",
            "Validation Precision: 0.9091844646732121, Recall: 0.9219314346616141, F1 Score: 0.9132108809930776\n",
            "\n",
            "Epoch 9/10, Loss: 0.18924486679502453\n",
            "Validation Loss: 0.26820194157665933, Validation Accuracy: 0.91849724672864\n",
            "Validation Precision: 0.9066795027706056, Recall: 0.91849724672864, F1 Score: 0.9115516015962387\n",
            "\n",
            "Epoch 10/10, Loss: 0.18576662525668716\n",
            "Validation Loss: 0.2679603540119856, Validation Accuracy: 0.9172538338563562\n",
            "Validation Precision: 0.906725528685982, Recall: 0.9172538338563562, F1 Score: 0.9111456425150385\n"
          ]
        }
      ],
      "source": [
        "for epoch in range(num_epochs):\n",
        "    model.train()\n",
        "    total_loss = 0\n",
        "\n",
        "    for batch in train_dataloader:\n",
        "        words = batch['word'].to(device)\n",
        "        pos = batch['pos'].to(device)\n",
        "        lemma = batch['lemma'].to(device)\n",
        "        tags = batch['tag'].to(device)\n",
        "\n",
        "        optimizer.zero_grad()\n",
        "\n",
        "        # Forward pass\n",
        "        outputs = model(words, pos, lemma)\n",
        "\n",
        "        # Compute loss\n",
        "        loss = criterion(outputs.view(-1, outputs.shape[-1]), tags.view(-1))\n",
        "\n",
        "        # Backward pass and optimization\n",
        "        loss.backward()\n",
        "        optimizer.step()\n",
        "\n",
        "        total_loss += loss.item()\n",
        "\n",
        "    avg_loss = total_loss / len(train_dataloader)\n",
        "    train_losses.append(avg_loss)\n",
        "    print(f'\\nEpoch {epoch+1}/{num_epochs}, Loss: {avg_loss}')\n",
        "\n",
        "    # Validation step (optional)\n",
        "    model.eval()\n",
        "    val_loss = 0\n",
        "    correct_predictions = 0\n",
        "    total_predictions = 0\n",
        "    all_val_preds = []\n",
        "    all_val_labels = []\n",
        "\n",
        "    with torch.no_grad():\n",
        "        for batch in val_dataloader:\n",
        "            words = batch['word'].to(device)\n",
        "            pos = batch['pos'].to(device)\n",
        "            lemma = batch['lemma'].to(device)\n",
        "            tags = batch['tag'].to(device)\n",
        "\n",
        "            # Forward pass\n",
        "            outputs = model(words, pos, lemma)\n",
        "\n",
        "            # Compute loss\n",
        "            loss = criterion(outputs.view(-1, outputs.shape[-1]), tags.view(-1))\n",
        "            val_loss += loss.item()\n",
        "\n",
        "            # Calculate accuracy\n",
        "            _, predicted = torch.max(outputs.data, -1)\n",
        "            correct_predictions += (predicted == tags).sum().item()\n",
        "            total_predictions += tags.numel()\n",
        "\n",
        "            all_val_preds.extend(predicted.cpu().numpy().flatten())\n",
        "            all_val_labels.extend(tags.cpu().numpy().flatten())\n",
        "\n",
        "    avg_val_loss = val_loss / len(val_dataloader)\n",
        "    val_losses.append(avg_val_loss)\n",
        "    val_accuracy = correct_predictions / total_predictions\n",
        "\n",
        "    val_precision, val_recall, val_f1, _ = precision_recall_fscore_support(all_val_labels, all_val_preds, average='weighted',zero_division=0)\n",
        "    print(f'Validation Loss: {avg_val_loss}, Validation Accuracy: {val_accuracy}')\n",
        "    print(f'Validation Precision: {val_precision}, Recall: {val_recall}, F1 Score: {val_f1}')"
      ]
    },
    {
      "cell_type": "code",
      "source": [
        "# Calculate confusion matrix\n",
        "conf_matrix = confusion_matrix(all_val_labels, all_val_preds)\n",
        "\n",
        "# Plot confusion matrix\n",
        "plt.figure(figsize=(10, 8))\n",
        "sns.heatmap(conf_matrix, annot=True, fmt='d', cmap='coolwarm')\n",
        "plt.xlabel('Val Predicted Labels')\n",
        "plt.ylabel('Val True Labels')\n",
        "plt.title('Confusion Matrix')\n",
        "plt.show()"
      ],
      "metadata": {
        "id": "cDnLequy46ds",
        "colab": {
          "base_uri": "https://localhost:8080/",
          "height": 718
        },
        "outputId": "949f6365-6f80-49f8-f993-fef78c5520f7"
      },
      "execution_count": 86,
      "outputs": [
        {
          "output_type": "display_data",
          "data": {
            "text/plain": [
              "<Figure size 1000x800 with 2 Axes>"
            ],
            "image/png": "[encoded data removed]"
          },
          "metadata": {}
        }
      ]
    },
    {
      "cell_type": "code",
      "source": [
        "# Plotting training and validation losses\n",
        "plt.figure(figsize=(10, 5))\n",
        "plt.plot(range(1, num_epochs + 1), train_losses, label='Training Loss')\n",
        "plt.plot(range(1, num_epochs + 1), val_losses, label='Validation Loss')\n",
        "plt.xlabel('Epochs')\n",
        "plt.ylabel('Loss')\n",
        "plt.legend()\n",
        "plt.title('Training and Validation Loss over Epochs')\n",
        "plt.show()"
      ],
      "metadata": {
        "id": "ctAiA3FfKLGt",
        "colab": {
          "base_uri": "https://localhost:8080/",
          "height": 487
        },
        "outputId": "9c6669e2-6d85-43f4-c6f4-0041a5dbc892"
      },
      "execution_count": 87,
      "outputs": [
        {
          "output_type": "display_data",
          "data": {
            "text/plain": [
              "<Figure size 1000x500 with 1 Axes>"
            ],
            "image/png": "[encoded data removed]"
          },
          "metadata": {}
        }
      ]
    },
    {
      "cell_type": "code",
      "source": [
        "# Print some example predictions\n",
        "print(\"\\nSample Predictions:\")\n",
        "for i in range(100):\n",
        "    true_label = tag_encoder.inverse_transform([all_val_labels[i]])[0]\n",
        "    predicted_label = tag_encoder.inverse_transform([all_val_preds[i]])[0]\n",
        "    print(f\"True Label: {true_label}, Predicted Label: {predicted_label}\")"
      ],
      "metadata": {
        "id": "VBKbn0ZIKN55",
        "colab": {
          "base_uri": "https://localhost:8080/"
        },
        "outputId": "a670d485-4a97-415f-8b28-12d37b8b894e"
      },
      "execution_count": 88,
      "outputs": [
        {
          "output_type": "stream",
          "name": "stdout",
          "text": [
            "\n",
            "Sample Predictions:\n",
            "True Label: O, Predicted Label: O\n",
            "True Label: O, Predicted Label: O\n",
            "True Label: O, Predicted Label: O\n",
            "True Label: O, Predicted Label: O\n",
            "True Label: O, Predicted Label: O\n",
            "True Label: NEG, Predicted Label: NEG\n",
            "True Label: O, Predicted Label: O\n",
            "True Label: O, Predicted Label: O\n",
            "True Label: O, Predicted Label: O\n",
            "True Label: O, Predicted Label: O\n",
            "True Label: O, Predicted Label: O\n",
            "True Label: O, Predicted Label: O\n",
            "True Label: O, Predicted Label: O\n",
            "True Label: O, Predicted Label: O\n",
            "True Label: O, Predicted Label: NSCO\n",
            "True Label: O, Predicted Label: O\n",
            "True Label: O, Predicted Label: O\n",
            "True Label: NSCO, Predicted Label: O\n",
            "True Label: O, Predicted Label: O\n",
            "True Label: O, Predicted Label: O\n",
            "True Label: O, Predicted Label: O\n",
            "True Label: O, Predicted Label: O\n",
            "True Label: O, Predicted Label: O\n",
            "True Label: O, Predicted Label: O\n",
            "True Label: NSCO, Predicted Label: O\n",
            "True Label: O, Predicted Label: O\n",
            "True Label: O, Predicted Label: O\n",
            "True Label: O, Predicted Label: O\n",
            "True Label: O, Predicted Label: O\n",
            "True Label: O, Predicted Label: O\n",
            "True Label: O, Predicted Label: O\n",
            "True Label: O, Predicted Label: O\n",
            "True Label: O, Predicted Label: O\n",
            "True Label: O, Predicted Label: O\n",
            "True Label: O, Predicted Label: O\n",
            "True Label: O, Predicted Label: O\n",
            "True Label: NSCO, Predicted Label: NSCO\n",
            "True Label: O, Predicted Label: O\n",
            "True Label: O, Predicted Label: O\n",
            "True Label: O, Predicted Label: O\n",
            "True Label: O, Predicted Label: O\n",
            "True Label: O, Predicted Label: O\n",
            "True Label: O, Predicted Label: O\n",
            "True Label: NSCO, Predicted Label: O\n",
            "True Label: O, Predicted Label: O\n",
            "True Label: USCO, Predicted Label: O\n",
            "True Label: NSCO, Predicted Label: O\n",
            "True Label: O, Predicted Label: O\n",
            "True Label: O, Predicted Label: O\n",
            "True Label: O, Predicted Label: O\n",
            "True Label: O, Predicted Label: NSCO\n",
            "True Label: O, Predicted Label: O\n",
            "True Label: NSCO, Predicted Label: O\n",
            "True Label: O, Predicted Label: O\n",
            "True Label: O, Predicted Label: O\n",
            "True Label: O, Predicted Label: O\n",
            "True Label: O, Predicted Label: O\n",
            "True Label: O, Predicted Label: O\n",
            "True Label: O, Predicted Label: O\n",
            "True Label: O, Predicted Label: O\n",
            "True Label: O, Predicted Label: O\n",
            "True Label: O, Predicted Label: O\n",
            "True Label: O, Predicted Label: O\n",
            "True Label: O, Predicted Label: O\n",
            "True Label: O, Predicted Label: O\n",
            "True Label: O, Predicted Label: O\n",
            "True Label: O, Predicted Label: O\n",
            "True Label: O, Predicted Label: O\n",
            "True Label: O, Predicted Label: O\n",
            "True Label: O, Predicted Label: O\n",
            "True Label: O, Predicted Label: O\n",
            "True Label: O, Predicted Label: O\n",
            "True Label: O, Predicted Label: O\n",
            "True Label: O, Predicted Label: O\n",
            "True Label: O, Predicted Label: O\n",
            "True Label: O, Predicted Label: O\n",
            "True Label: O, Predicted Label: O\n",
            "True Label: NSCO, Predicted Label: NSCO\n",
            "True Label: O, Predicted Label: O\n",
            "True Label: O, Predicted Label: O\n",
            "True Label: O, Predicted Label: O\n",
            "True Label: O, Predicted Label: O\n",
            "True Label: O, Predicted Label: O\n",
            "True Label: O, Predicted Label: O\n",
            "True Label: O, Predicted Label: O\n",
            "True Label: NSCO, Predicted Label: O\n",
            "True Label: O, Predicted Label: O\n",
            "True Label: O, Predicted Label: O\n",
            "True Label: O, Predicted Label: O\n",
            "True Label: O, Predicted Label: O\n",
            "True Label: O, Predicted Label: O\n",
            "True Label: O, Predicted Label: O\n",
            "True Label: O, Predicted Label: O\n",
            "True Label: O, Predicted Label: O\n",
            "True Label: O, Predicted Label: O\n",
            "True Label: NSCO, Predicted Label: NSCO\n",
            "True Label: O, Predicted Label: O\n",
            "True Label: O, Predicted Label: O\n",
            "True Label: O, Predicted Label: O\n",
            "True Label: O, Predicted Label: O\n"
          ]
        }
      ]
    },
    {
      "cell_type": "markdown",
      "source": [
        "## Testing"
      ],
      "metadata": {
        "id": "hFIL3vz-KRuu"
      }
    },
    {
      "cell_type": "markdown",
      "source": [
        "## Dataloading Test Set"
      ],
      "metadata": {
        "id": "-7O9C91vKa4V"
      }
    },
    {
      "cell_type": "code",
      "source": [
        "# Load the test CSV file\n",
        "test_file_path = '/content/feature_extracted_dataTEST.csv'\n",
        "df_test = pd.read_csv(test_file_path)\n",
        "\n",
        "# Encoding categorical columns\n",
        "word_encoder = LabelEncoder()\n",
        "pos_encoder = LabelEncoder()\n",
        "lemma_encoder = LabelEncoder()\n",
        "tag_encoder = LabelEncoder()\n",
        "\n",
        "df_test['Word_idx'] = word_encoder.fit_transform(df_test['Word'])\n",
        "df_test['POS_idx'] = pos_encoder.fit_transform(df_test['POS'])\n",
        "df_test['Lemma_idx'] = lemma_encoder.fit_transform(df_test['LEMMA'])\n",
        "df_test['Tag_idx'] = tag_encoder.fit_transform(df_test['Tag'])\n",
        "\n",
        "word_encoder = add_unknown_to_encoder(word_encoder)\n",
        "lemma_encoder = add_unknown_to_encoder(lemma_encoder)\n",
        "tag_encoder = add_unknown_to_encoder(tag_encoder)\n",
        "\n",
        "df_test['Word_idx'] = map_to_index(word_encoder, df_test['Word'])\n",
        "df_test['Lemma_idx'] = map_to_index(lemma_encoder, df_test['LEMMA'])\n",
        "df_test['Tag_idx'] = map_to_index(tag_encoder, df_test['Tag'])\n",
        "\n",
        "\n",
        "# Custom Dataset class for test data\n",
        "class NLPCustomTestDataset(Dataset):\n",
        "    def __init__(self, dataframe):\n",
        "        self.dataframe = dataframe\n",
        "\n",
        "    def __len__(self):\n",
        "        return len(self.dataframe)\n",
        "\n",
        "    def __getitem__(self, idx):\n",
        "        word = self.dataframe.iloc[idx]['Word_idx']\n",
        "        pos = self.dataframe.iloc[idx]['POS_idx']\n",
        "        lemma = self.dataframe.iloc[idx]['Lemma_idx']\n",
        "        tag = self.dataframe.iloc[idx]['Tag_idx']\n",
        "\n",
        "        sample = {\n",
        "            'word': torch.tensor(word, dtype=torch.long),\n",
        "            'pos': torch.tensor(pos, dtype=torch.long),\n",
        "            'lemma': torch.tensor(lemma, dtype=torch.long),\n",
        "            'tag': torch.tensor(tag, dtype=torch.long)\n",
        "        }\n",
        "        return sample\n",
        "\n",
        "# Create Dataset and DataLoader for test data\n",
        "test_dataset = NLPCustomTestDataset(df_test)\n",
        "test_dataloader = DataLoader(test_dataset, batch_size=32, shuffle=False)"
      ],
      "metadata": {
        "id": "zEO-tZ8vKaQP"
      },
      "execution_count": 89,
      "outputs": []
    },
    {
      "cell_type": "markdown",
      "source": [
        "## Model Evaluation"
      ],
      "metadata": {
        "id": "HPEdKTfbKidy"
      }
    },
    {
      "cell_type": "code",
      "source": [
        "# Evaluate the model on the test data\n",
        "model.eval()\n",
        "test_loss = 0\n",
        "correct_predictions = 0\n",
        "total_predictions = 0\n",
        "all_test_preds = []\n",
        "all_test_labels = []\n",
        "\n",
        "with torch.no_grad():\n",
        "    for batch in test_dataloader:\n",
        "        words = batch['word'].to(device)\n",
        "        pos = batch['pos'].to(device)\n",
        "        lemma = batch['lemma'].to(device)\n",
        "        tags = batch['tag'].to(device)\n",
        "\n",
        "        # Forward pass\n",
        "        outputs = model(words, pos, lemma)\n",
        "\n",
        "        # Compute loss\n",
        "        loss = criterion(outputs.view(-1, outputs.shape[-1]), tags.view(-1))\n",
        "        test_loss += loss.item()\n",
        "\n",
        "        # Calculate accuracy\n",
        "        _, predicted = torch.max(outputs.data, -1)\n",
        "        correct_predictions += (predicted == tags).sum().item()\n",
        "        total_predictions += tags.numel()\n",
        "\n",
        "        all_test_preds.extend(predicted.cpu().numpy().flatten())\n",
        "        all_test_labels.extend(tags.cpu().numpy().flatten())\n",
        "\n",
        "avg_test_loss = test_loss / len(test_dataloader)\n",
        "test_accuracy = correct_predictions / total_predictions\n",
        "\n",
        "test_precision, test_recall, test_f1, _ = precision_recall_fscore_support(all_test_labels, all_test_preds, average='weighted', zero_division=0)\n",
        "\n",
        "print(f'Test Loss: {avg_test_loss}, Test Accuracy: {test_accuracy}')\n",
        "print(f'Test Precision: {test_precision}, Recall: {test_recall}, F1 Score: {test_f1}')"
      ],
      "metadata": {
        "id": "WaQ1UXWYKT5i",
        "colab": {
          "base_uri": "https://localhost:8080/"
        },
        "outputId": "75597b2a-c843-4ee4-c4a2-3b21f8a600cf"
      },
      "execution_count": 91,
      "outputs": [
        {
          "output_type": "stream",
          "name": "stdout",
          "text": [
            "Test Loss: 0.7039735036678639, Test Accuracy: 0.8473204104903078\n",
            "Test Precision: 0.7988553538357142, Recall: 0.8473204104903078, F1 Score: 0.8219930933995283\n"
          ]
        }
      ]
    },
    {
      "cell_type": "code",
      "source": [
        "# Calculate confusion matrix\n",
        "conf_matrix = confusion_matrix(all_test_labels, all_test_preds)\n",
        "\n",
        "# Plot confusion matrix\n",
        "plt.figure(figsize=(10, 8))\n",
        "sns.heatmap(conf_matrix, annot=True, fmt='d', cmap='YlGnBu')\n",
        "plt.xlabel('Test Predicted Labels')\n",
        "plt.ylabel('Test True Labels')\n",
        "plt.title('Confusion Matrix')\n",
        "plt.show()"
      ],
      "metadata": {
        "id": "rjBtet-A5eFp",
        "colab": {
          "base_uri": "https://localhost:8080/",
          "height": 718
        },
        "outputId": "79f23855-7203-4697-dc4a-394f55e6ed5a"
      },
      "execution_count": 92,
      "outputs": [
        {
          "output_type": "display_data",
          "data": {
            "text/plain": [
              "<Figure size 1000x800 with 2 Axes>"
            ],
            "image/png": "[encoded data removed]"
          },
          "metadata": {}
        }
      ]
    },
    {
      "cell_type": "code",
      "source": [
        "# Print some example predictions\n",
        "print(\"\\nSample Predictions:\")\n",
        "for i in range(100):\n",
        "    true_label = tag_encoder.inverse_transform([all_test_labels[i]])[0]\n",
        "    predicted_label = tag_encoder.inverse_transform([all_test_preds[i]])[0]\n",
        "    print(f\"True Label: {true_label}, Predicted Label: {predicted_label}\")"
      ],
      "metadata": {
        "id": "gKS2SHELKWrE",
        "colab": {
          "base_uri": "https://localhost:8080/"
        },
        "outputId": "5b1960ef-543d-4881-e516-5ff8eb58e81b"
      },
      "execution_count": 93,
      "outputs": [
        {
          "output_type": "stream",
          "name": "stdout",
          "text": [
            "\n",
            "Sample Predictions:\n",
            "True Label: O, Predicted Label: O\n",
            "True Label: O, Predicted Label: O\n",
            "True Label: O, Predicted Label: O\n",
            "True Label: O, Predicted Label: O\n",
            "True Label: O, Predicted Label: O\n",
            "True Label: O, Predicted Label: O\n",
            "True Label: O, Predicted Label: O\n",
            "True Label: O, Predicted Label: O\n",
            "True Label: O, Predicted Label: O\n",
            "True Label: O, Predicted Label: O\n",
            "True Label: O, Predicted Label: NSCO\n",
            "True Label: O, Predicted Label: O\n",
            "True Label: O, Predicted Label: O\n",
            "True Label: NEG, Predicted Label: O\n",
            "True Label: NSCO, Predicted Label: O\n",
            "True Label: NSCO, Predicted Label: O\n",
            "True Label: O, Predicted Label: O\n",
            "True Label: O, Predicted Label: O\n",
            "True Label: O, Predicted Label: O\n",
            "True Label: O, Predicted Label: O\n",
            "True Label: O, Predicted Label: O\n",
            "True Label: O, Predicted Label: O\n",
            "True Label: NEG, Predicted Label: O\n",
            "True Label: NSCO, Predicted Label: O\n",
            "True Label: NSCO, Predicted Label: O\n",
            "True Label: O, Predicted Label: O\n",
            "True Label: O, Predicted Label: O\n",
            "True Label: O, Predicted Label: NSCO\n",
            "True Label: O, Predicted Label: O\n",
            "True Label: O, Predicted Label: O\n",
            "True Label: O, Predicted Label: O\n",
            "True Label: O, Predicted Label: O\n",
            "True Label: O, Predicted Label: O\n",
            "True Label: O, Predicted Label: NSCO\n",
            "True Label: O, Predicted Label: O\n",
            "True Label: O, Predicted Label: O\n",
            "True Label: O, Predicted Label: O\n",
            "True Label: O, Predicted Label: O\n",
            "True Label: O, Predicted Label: O\n",
            "True Label: O, Predicted Label: O\n",
            "True Label: O, Predicted Label: O\n",
            "True Label: O, Predicted Label: O\n",
            "True Label: O, Predicted Label: O\n",
            "True Label: O, Predicted Label: O\n",
            "True Label: O, Predicted Label: O\n",
            "True Label: O, Predicted Label: O\n",
            "True Label: O, Predicted Label: O\n",
            "True Label: O, Predicted Label: O\n",
            "True Label: O, Predicted Label: O\n",
            "True Label: O, Predicted Label: O\n",
            "True Label: O, Predicted Label: O\n",
            "True Label: O, Predicted Label: O\n",
            "True Label: O, Predicted Label: O\n",
            "True Label: O, Predicted Label: O\n",
            "True Label: O, Predicted Label: O\n",
            "True Label: O, Predicted Label: O\n",
            "True Label: O, Predicted Label: O\n",
            "True Label: O, Predicted Label: O\n",
            "True Label: O, Predicted Label: O\n",
            "True Label: O, Predicted Label: O\n",
            "True Label: O, Predicted Label: O\n",
            "True Label: O, Predicted Label: O\n",
            "True Label: O, Predicted Label: O\n",
            "True Label: O, Predicted Label: O\n",
            "True Label: O, Predicted Label: O\n",
            "True Label: O, Predicted Label: O\n",
            "True Label: O, Predicted Label: O\n",
            "True Label: O, Predicted Label: O\n",
            "True Label: O, Predicted Label: O\n",
            "True Label: O, Predicted Label: O\n",
            "True Label: O, Predicted Label: O\n",
            "True Label: O, Predicted Label: O\n",
            "True Label: O, Predicted Label: O\n",
            "True Label: O, Predicted Label: O\n",
            "True Label: O, Predicted Label: O\n",
            "True Label: O, Predicted Label: O\n",
            "True Label: O, Predicted Label: O\n",
            "True Label: O, Predicted Label: O\n",
            "True Label: O, Predicted Label: O\n",
            "True Label: O, Predicted Label: O\n",
            "True Label: O, Predicted Label: O\n",
            "True Label: O, Predicted Label: O\n",
            "True Label: O, Predicted Label: O\n",
            "True Label: O, Predicted Label: NSCO\n",
            "True Label: O, Predicted Label: O\n",
            "True Label: O, Predicted Label: O\n",
            "True Label: O, Predicted Label: O\n",
            "True Label: O, Predicted Label: O\n",
            "True Label: O, Predicted Label: O\n",
            "True Label: O, Predicted Label: O\n",
            "True Label: O, Predicted Label: O\n",
            "True Label: O, Predicted Label: O\n",
            "True Label: O, Predicted Label: O\n",
            "True Label: O, Predicted Label: O\n",
            "True Label: O, Predicted Label: O\n",
            "True Label: O, Predicted Label: O\n",
            "True Label: O, Predicted Label: O\n",
            "True Label: O, Predicted Label: O\n",
            "True Label: O, Predicted Label: O\n",
            "True Label: O, Predicted Label: O\n"
          ]
        }
      ]
    },
    {
      "cell_type": "markdown",
      "source": [
        "# Revised Model\n",
        "\n",
        "Including\n",
        "- Regularization\n",
        "- Class weights\n",
        "\n"
      ],
      "metadata": {
        "id": "ZPpG3hhB6Wmy"
      }
    },
    {
      "cell_type": "markdown",
      "source": [
        "## Model - Revised"
      ],
      "metadata": {
        "id": "kTBTBeAu7kaq"
      }
    },
    {
      "cell_type": "code",
      "source": [
        "# Check if GPU is available\n",
        "device = torch.device(\"cuda\" if torch.cuda.is_available() else \"cpu\")\n",
        "print(f\"Using device: {device}\")"
      ],
      "metadata": {
        "colab": {
          "base_uri": "https://localhost:8080/"
        },
        "id": "D3_gWSAH9xi6",
        "outputId": "a3fa51ce-4dfd-48d2-d4b1-25a36e75912e"
      },
      "execution_count": 41,
      "outputs": [
        {
          "output_type": "stream",
          "name": "stdout",
          "text": [
            "Using device: cuda\n"
          ]
        }
      ]
    },
    {
      "cell_type": "code",
      "source": [
        "class NLPModel(nn.Module):\n",
        "    def __init__(self, num_embeddings, embedding_dim, num_pos_tags, pos_embedding_dim, num_embeddings_lemma, lemma_embedding_dim, hidden_dim, lstm_out_dim, output_dim):\n",
        "        super(NLPModel, self).__init__()\n",
        "\n",
        "        # Embedding layers\n",
        "        self.word_embeddings = nn.Embedding(num_embeddings, embedding_dim)\n",
        "        self.pos_embeddings = nn.Embedding(num_pos_tags, pos_embedding_dim)\n",
        "        self.lemma_embedding = nn.Embedding(num_embeddings_lemma, lemma_embedding_dim)\n",
        "\n",
        "        # Concatenation dimension\n",
        "        concat_dim = embedding_dim + pos_embedding_dim + lemma_embedding_dim\n",
        "\n",
        "        # Dense layer prior to LSTM\n",
        "        self.dense = nn.Linear(concat_dim, hidden_dim)\n",
        "\n",
        "        # LSTM layer\n",
        "        self.lstm = nn.LSTM(hidden_dim, lstm_out_dim, batch_first=True, bidirectional=True)\n",
        "\n",
        "        # Output layer\n",
        "        self.output_layer = nn.Linear(2 * lstm_out_dim, output_dim)\n",
        "\n",
        "        # Dropout layer\n",
        "        self.dropout = nn.Dropout(0.5)  # Increased dropout for regularization\n",
        "\n",
        "    def forward(self, x, pos, lemma):\n",
        "        # Embed each input type\n",
        "        x = self.word_embeddings(x)\n",
        "        pos = self.pos_embeddings(pos)\n",
        "        lemma = self.lemma_embedding(lemma)\n",
        "\n",
        "        # Concatenate embeddings\n",
        "        x = torch.cat((x, pos, lemma), dim=-1)\n",
        "\n",
        "        # Apply dense layer\n",
        "        x = torch.tanh(self.dense(x))\n",
        "\n",
        "        # Apply dropout\n",
        "        x = self.dropout(x)\n",
        "\n",
        "        # LSTM layer\n",
        "        lstm_out, _ = self.lstm(x)\n",
        "\n",
        "        # Output layer\n",
        "        output = self.output_layer(lstm_out)\n",
        "\n",
        "        return output"
      ],
      "metadata": {
        "id": "8_BxZHp17nde"
      },
      "execution_count": 56,
      "outputs": []
    },
    {
      "cell_type": "markdown",
      "source": [
        "## Revised Data Loading"
      ],
      "metadata": {
        "id": "jgW71llX8a26"
      }
    },
    {
      "cell_type": "code",
      "source": [
        "# Load data and preprocess\n",
        "train_data = pd.read_csv('/content/feature_extracted_data.csv')\n",
        "test_data = pd.read_csv('/content/feature_extracted_dataTEST.csv')\n",
        "\n",
        "# Function to add 'unknown' to encoder\n",
        "def add_unknown_to_encoder(encoder):\n",
        "    classes = list(encoder.classes_)\n",
        "    if 'unknown' not in classes:\n",
        "        classes.append('unknown')\n",
        "        encoder.classes_ = np.array(classes)\n",
        "    return encoder\n",
        "\n",
        "# Function to map items to indices with unknown handling\n",
        "def map_to_index(encoder, items, unknown_label='unknown'):\n",
        "    label_map = {label: idx for idx, label in enumerate(encoder.classes_)}\n",
        "    return [label_map.get(item, label_map[unknown_label]) for item in items]\n",
        "\n",
        "# Encode labels\n",
        "tag_encoder = LabelEncoder()\n",
        "train_data['Tag'] = tag_encoder.fit_transform(train_data['Tag'])\n",
        "tag_encoder = add_unknown_to_encoder(tag_encoder)\n",
        "\n",
        "# Encode words, POS, and lemma\n",
        "word_encoder = LabelEncoder()\n",
        "pos_encoder = LabelEncoder()\n",
        "lemma_encoder = LabelEncoder()\n",
        "\n",
        "train_data['Word'] = word_encoder.fit_transform(train_data['Word'])\n",
        "train_data['POS'] = pos_encoder.fit_transform(train_data['POS'])\n",
        "train_data['LEMMA'] = lemma_encoder.fit_transform(train_data['LEMMA'])\n",
        "\n",
        "word_encoder = add_unknown_to_encoder(word_encoder)\n",
        "lemma_encoder = add_unknown_to_encoder(lemma_encoder)\n",
        "\n",
        "# Transform test data\n",
        "test_data['Word'] = map_to_index(word_encoder, test_data['Word'])\n",
        "test_data['POS'] = pos_encoder.transform(test_data['POS'])  # POS should not have unknowns\n",
        "test_data['LEMMA'] = map_to_index(lemma_encoder, test_data['LEMMA'])\n",
        "test_data['Tag'] = map_to_index(tag_encoder, test_data['Tag'])\n",
        "\n",
        "# Split training data into train and validation sets\n",
        "train_data, val_data = train_test_split(train_data, test_size=0.2, random_state=42)\n",
        "\n",
        "# Create datasets and dataloaders\n",
        "class CustomDataset(Dataset):\n",
        "    def __init__(self, data):\n",
        "        self.data = data\n",
        "\n",
        "    def __len__(self):\n",
        "        return len(self.data)\n",
        "\n",
        "    def __getitem__(self, idx):\n",
        "        item = self.data.iloc[idx]\n",
        "        return {\n",
        "            'word': torch.tensor(item['Word'], dtype=torch.long),\n",
        "            'pos': torch.tensor(item['POS'], dtype=torch.long),\n",
        "            'lemma': torch.tensor(item['LEMMA'], dtype=torch.long),\n",
        "            'label': torch.tensor(item['Tag'], dtype=torch.long)\n",
        "        }\n",
        "\n",
        "train_dataset = CustomDataset(train_data)\n",
        "val_dataset = CustomDataset(val_data)\n",
        "test_dataset = CustomDataset(test_data)\n",
        "\n",
        "train_loader = DataLoader(train_dataset, batch_size=64, shuffle=True)\n",
        "val_loader = DataLoader(val_dataset, batch_size=64, shuffle=False)\n",
        "test_loader = DataLoader(test_dataset, batch_size=64, shuffle=False)\n",
        "\n",
        "# Calculate class weights\n",
        "class_counts = train_data['Tag'].value_counts().sort_index()\n",
        "class_weights = 1. / class_counts\n",
        "class_weights = class_weights / class_weights.sum()\n",
        "class_weights = torch.tensor(class_weights.values, dtype=torch.float)\n",
        "\n",
        "# Ensure the class weights match the number of classes\n",
        "if len(class_weights) != len(tag_encoder.classes_):\n",
        "    class_weights = torch.cat([class_weights, torch.tensor([1.0], dtype=torch.float)])"
      ],
      "metadata": {
        "id": "i9pSu87r8agS"
      },
      "execution_count": 57,
      "outputs": []
    },
    {
      "cell_type": "code",
      "source": [
        "# Plotting class distribution\n",
        "plt.figure(figsize=(10, 6))\n",
        "sns.countplot(x='Tag', data=train_data)\n",
        "plt.title('Class Distribution in Training Data')\n",
        "plt.show()"
      ],
      "metadata": {
        "id": "yz1jrHsv9PWQ",
        "colab": {
          "base_uri": "https://localhost:8080/",
          "height": 564
        },
        "outputId": "0790e320-4080-4592-8cd2-63dd4d239381"
      },
      "execution_count": 58,
      "outputs": [
        {
          "output_type": "display_data",
          "data": {
            "text/plain": [
              "<Figure size 1000x600 with 1 Axes>"
            ],
            "image/png": "[encoded data removed]"
          },
          "metadata": {}
        }
      ]
    },
    {
      "cell_type": "code",
      "source": [
        "# Initialize model, criterion, and optimizer\n",
        "num_embeddings = len(word_encoder.classes_)\n",
        "embedding_dim = 100\n",
        "num_pos_tags = len(pos_encoder.classes_)\n",
        "pos_embedding_dim = 25\n",
        "num_embeddings_lemma = len(lemma_encoder.classes_)\n",
        "lemma_embedding_dim = 25\n",
        "hidden_dim = 128\n",
        "lstm_out_dim = 64\n",
        "output_dim = len(tag_encoder.classes_)\n",
        "\n",
        "model = NLPModel(num_embeddings, embedding_dim, num_pos_tags, pos_embedding_dim, num_embeddings_lemma, lemma_embedding_dim, hidden_dim, lstm_out_dim, output_dim).to(device)\n",
        "\n",
        "criterion = nn.CrossEntropyLoss(weight=class_weights).to(device)\n",
        "optimizer = optim.Adam(model.parameters(), lr=0.001)\n",
        "\n",
        "# Training loop\n",
        "num_epochs = 10\n",
        "train_losses = []\n",
        "val_losses = []"
      ],
      "metadata": {
        "id": "9DbE9uT68vvA"
      },
      "execution_count": 59,
      "outputs": []
    },
    {
      "cell_type": "markdown",
      "source": [
        "## Revised Training Loop"
      ],
      "metadata": {
        "id": "SZjuv6oy8Mk0"
      }
    },
    {
      "cell_type": "code",
      "source": [
        "for epoch in range(num_epochs):\n",
        "    model.train()\n",
        "    total_loss = 0\n",
        "\n",
        "    for batch in train_dataloader:\n",
        "        words = batch['word'].to(device)\n",
        "        pos = batch['pos'].to(device)\n",
        "        lemma = batch['lemma'].to(device)\n",
        "        tags = batch['tag'].to(device)\n",
        "\n",
        "        optimizer.zero_grad()\n",
        "\n",
        "        # Forward pass\n",
        "        outputs = model(words, pos, lemma)\n",
        "\n",
        "        # Compute loss\n",
        "        loss = criterion(outputs.view(-1, outputs.shape[-1]), tags.view(-1))\n",
        "\n",
        "        # Backward pass and optimization\n",
        "        loss.backward()\n",
        "        optimizer.step()\n",
        "\n",
        "        total_loss += loss.item()\n",
        "\n",
        "    avg_loss = total_loss / len(train_dataloader)\n",
        "    train_losses.append(avg_loss)\n",
        "    print(f'\\nEpoch {epoch+1}/{num_epochs}, Loss: {avg_loss}')\n",
        "\n",
        "    model.eval()\n",
        "    val_loss = 0\n",
        "    correct_predictions = 0\n",
        "    total_predictions = 0\n",
        "    all_val_preds = []\n",
        "    all_val_labels = []\n",
        "\n",
        "    with torch.no_grad():\n",
        "        for batch in val_dataloader:\n",
        "            words = batch['word'].to(device)\n",
        "            pos = batch['pos'].to(device)\n",
        "            lemma = batch['lemma'].to(device)\n",
        "            tags = batch['tag'].to(device)\n",
        "\n",
        "            # Forward pass\n",
        "            outputs = model(words, pos, lemma)\n",
        "\n",
        "            # Compute loss\n",
        "            loss = criterion(outputs.view(-1, outputs.shape[-1]), tags.view(-1))\n",
        "            val_loss += loss.item()\n",
        "\n",
        "            # Calculate accuracy\n",
        "            _, predicted = torch.max(outputs.data, -1)\n",
        "            correct_predictions += (predicted == tags).sum().item()\n",
        "            total_predictions += tags.numel()\n",
        "\n",
        "            all_val_preds.extend(predicted.cpu().numpy().flatten())\n",
        "            all_val_labels.extend(tags.cpu().numpy().flatten())\n",
        "\n",
        "    avg_val_loss = val_loss / len(val_dataloader)\n",
        "    val_losses.append(avg_val_loss)\n",
        "    val_accuracy = correct_predictions / total_predictions\n",
        "\n",
        "    val_precision, val_recall, val_f1, _ = precision_recall_fscore_support(all_val_labels, all_val_preds, average='weighted',zero_division=0)\n",
        "    print(f'Validation Loss: {avg_val_loss}, Validation Accuracy: {val_accuracy}')\n",
        "    print(f'Validation Precision: {val_precision}, Recall: {val_recall}, F1 Score: {val_f1}')"
      ],
      "metadata": {
        "id": "VQLzly7Z8EQO",
        "colab": {
          "base_uri": "https://localhost:8080/"
        },
        "outputId": "6c0faff4-9ef4-4e57-b91e-3cdc8f7ce84b"
      },
      "execution_count": 62,
      "outputs": [
        {
          "output_type": "stream",
          "name": "stdout",
          "text": [
            "\n",
            "Epoch 1/10, Loss: 0.5926141703641163\n",
            "Validation Loss: 0.7631556438493796, Validation Accuracy: 0.7401859198294748\n",
            "Validation Precision: 0.9011909104133408, Recall: 0.7401859198294748, F1 Score: 0.8011198508651163\n",
            "\n",
            "Epoch 2/10, Loss: 0.5534034338489743\n",
            "Validation Loss: 0.793900701062133, Validation Accuracy: 0.7687844158920007\n",
            "Validation Precision: 0.9008400371133031, Recall: 0.7687844158920007, F1 Score: 0.8192793633896744\n",
            "\n",
            "Epoch 3/10, Loss: 0.5376540234895952\n",
            "Validation Loss: 0.7734345171254862, Validation Accuracy: 0.7989223755106875\n",
            "Validation Precision: 0.8991583662744198, Recall: 0.7989223755106875, F1 Score: 0.8390961902790104\n",
            "\n",
            "Epoch 4/10, Loss: 0.5120491677131693\n",
            "Validation Loss: 0.791677466886485, Validation Accuracy: 0.7069394280300787\n",
            "Validation Precision: 0.9053628247664243, Recall: 0.7069394280300787, F1 Score: 0.7775553777527971\n",
            "\n",
            "Epoch 5/10, Loss: 0.5016163845473546\n",
            "Validation Loss: 0.8290794347483439, Validation Accuracy: 0.74270235064243\n",
            "Validation Precision: 0.908465362184149, Recall: 0.74270235064243, F1 Score: 0.8083239928461934\n",
            "\n",
            "Epoch 6/10, Loss: 0.4875352431865854\n",
            "Validation Loss: 0.8312449060860231, Validation Accuracy: 0.7665344306945349\n",
            "Validation Precision: 0.9031213446625729, Recall: 0.7665344306945349, F1 Score: 0.8216228375719821\n",
            "\n",
            "Epoch 7/10, Loss: 0.48722544918421207\n",
            "Validation Loss: 0.8046394756705867, Validation Accuracy: 0.7056071999526319\n",
            "Validation Precision: 0.9069581183326231, Recall: 0.7056071999526319, F1 Score: 0.7775972396810964\n",
            "\n",
            "Epoch 8/10, Loss: 0.47109530665061566\n",
            "Validation Loss: 0.8231537990645985, Validation Accuracy: 0.7659719343951684\n",
            "Validation Precision: 0.9046791019679037, Recall: 0.7659719343951684, F1 Score: 0.8213796468799999\n",
            "\n",
            "Epoch 9/10, Loss: 0.46603905881344637\n",
            "Validation Loss: 0.8427494346643939, Validation Accuracy: 0.7353010835455029\n",
            "Validation Precision: 0.9049000471068278, Recall: 0.7353010835455029, F1 Score: 0.7992631471391763\n",
            "\n",
            "Epoch 10/10, Loss: 0.46023110405718604\n",
            "Validation Loss: 0.8764652148996847, Validation Accuracy: 0.6754988454023328\n",
            "Validation Precision: 0.9107450285145646, Recall: 0.6754988454023328, F1 Score: 0.760692837658643\n"
          ]
        }
      ]
    },
    {
      "cell_type": "markdown",
      "source": [
        "Plotting"
      ],
      "metadata": {
        "id": "PBPd7Pc6_PkD"
      }
    },
    {
      "cell_type": "code",
      "source": [
        "# Calculate confusion matrix\n",
        "conf_matrix = confusion_matrix(all_val_labels, all_val_preds)\n",
        "\n",
        "# Plot confusion matrix\n",
        "plt.figure(figsize=(10, 8))\n",
        "sns.heatmap(conf_matrix, annot=True, fmt='d', cmap='coolwarm')\n",
        "plt.xlabel('Val Predicted Labels')\n",
        "plt.ylabel('Val True Labels')\n",
        "plt.title('Confusion Matrix Revised')\n",
        "plt.show()"
      ],
      "metadata": {
        "id": "qb46dmwB_BqK",
        "colab": {
          "base_uri": "https://localhost:8080/",
          "height": 718
        },
        "outputId": "40ca1779-6c9b-4b5a-c3ee-abab2ffd5d5e"
      },
      "execution_count": 67,
      "outputs": [
        {
          "output_type": "display_data",
          "data": {
            "text/plain": [
              "<Figure size 1000x800 with 2 Axes>"
            ],
            "image/png": "[encoded data removed]"
          },
          "metadata": {}
        }
      ]
    },
    {
      "cell_type": "code",
      "source": [
        "# Print some example predictions\n",
        "print(\"\\nSample Predictions:\")\n",
        "for i in range(100):\n",
        "    true_label = tag_encoder.inverse_transform([all_val_labels[i]])[0]\n",
        "    predicted_label = tag_encoder.inverse_transform([all_val_preds[i]])[0]\n",
        "    print(f\"True Label: {true_label}, Predicted Label: {predicted_label}\")"
      ],
      "metadata": {
        "id": "_P-58Yir_Izv",
        "colab": {
          "base_uri": "https://localhost:8080/"
        },
        "outputId": "f2e7224f-6ed2-4018-eedd-ca6c342857a5"
      },
      "execution_count": 66,
      "outputs": [
        {
          "output_type": "stream",
          "name": "stdout",
          "text": [
            "\n",
            "Sample Predictions:\n",
            "True Label: O, Predicted Label: O\n",
            "True Label: O, Predicted Label: O\n",
            "True Label: O, Predicted Label: O\n",
            "True Label: O, Predicted Label: O\n",
            "True Label: O, Predicted Label: O\n",
            "True Label: NEG, Predicted Label: NEG\n",
            "True Label: O, Predicted Label: USCO\n",
            "True Label: O, Predicted Label: O\n",
            "True Label: O, Predicted Label: NSCO\n",
            "True Label: O, Predicted Label: O\n",
            "True Label: O, Predicted Label: NSCO\n",
            "True Label: O, Predicted Label: O\n",
            "True Label: O, Predicted Label: O\n",
            "True Label: O, Predicted Label: O\n",
            "True Label: O, Predicted Label: USCO\n",
            "True Label: O, Predicted Label: O\n",
            "True Label: O, Predicted Label: O\n",
            "True Label: NSCO, Predicted Label: O\n",
            "True Label: O, Predicted Label: O\n",
            "True Label: O, Predicted Label: O\n",
            "True Label: O, Predicted Label: O\n",
            "True Label: O, Predicted Label: USCO\n",
            "True Label: O, Predicted Label: O\n",
            "True Label: O, Predicted Label: NSCO\n",
            "True Label: NSCO, Predicted Label: O\n",
            "True Label: O, Predicted Label: O\n",
            "True Label: O, Predicted Label: USCO\n",
            "True Label: O, Predicted Label: O\n",
            "True Label: O, Predicted Label: O\n",
            "True Label: O, Predicted Label: O\n",
            "True Label: O, Predicted Label: USCO\n",
            "True Label: O, Predicted Label: UNC\n",
            "True Label: O, Predicted Label: USCO\n",
            "True Label: O, Predicted Label: USCO\n",
            "True Label: O, Predicted Label: O\n",
            "True Label: O, Predicted Label: O\n",
            "True Label: NSCO, Predicted Label: NSCO\n",
            "True Label: O, Predicted Label: O\n",
            "True Label: O, Predicted Label: O\n",
            "True Label: O, Predicted Label: O\n",
            "True Label: O, Predicted Label: O\n",
            "True Label: O, Predicted Label: O\n",
            "True Label: O, Predicted Label: O\n",
            "True Label: NSCO, Predicted Label: NSCO\n",
            "True Label: O, Predicted Label: O\n",
            "True Label: USCO, Predicted Label: USCO\n",
            "True Label: NSCO, Predicted Label: O\n",
            "True Label: O, Predicted Label: USCO\n",
            "True Label: O, Predicted Label: O\n",
            "True Label: O, Predicted Label: O\n",
            "True Label: O, Predicted Label: NSCO\n",
            "True Label: O, Predicted Label: O\n",
            "True Label: NSCO, Predicted Label: NSCO\n",
            "True Label: O, Predicted Label: O\n",
            "True Label: O, Predicted Label: O\n",
            "True Label: O, Predicted Label: O\n",
            "True Label: O, Predicted Label: O\n",
            "True Label: O, Predicted Label: O\n",
            "True Label: O, Predicted Label: NSCO\n",
            "True Label: O, Predicted Label: O\n",
            "True Label: O, Predicted Label: O\n",
            "True Label: O, Predicted Label: USCO\n",
            "True Label: O, Predicted Label: UNC\n",
            "True Label: O, Predicted Label: O\n",
            "True Label: O, Predicted Label: O\n",
            "True Label: O, Predicted Label: USCO\n",
            "True Label: O, Predicted Label: O\n",
            "True Label: O, Predicted Label: O\n",
            "True Label: O, Predicted Label: O\n",
            "True Label: O, Predicted Label: O\n",
            "True Label: O, Predicted Label: UNC\n",
            "True Label: O, Predicted Label: O\n",
            "True Label: O, Predicted Label: NSCO\n",
            "True Label: O, Predicted Label: O\n",
            "True Label: O, Predicted Label: O\n",
            "True Label: O, Predicted Label: NSCO\n",
            "True Label: O, Predicted Label: O\n",
            "True Label: NSCO, Predicted Label: NSCO\n",
            "True Label: O, Predicted Label: O\n",
            "True Label: O, Predicted Label: O\n",
            "True Label: O, Predicted Label: O\n",
            "True Label: O, Predicted Label: O\n",
            "True Label: O, Predicted Label: O\n",
            "True Label: O, Predicted Label: O\n",
            "True Label: O, Predicted Label: NSCO\n",
            "True Label: NSCO, Predicted Label: O\n",
            "True Label: O, Predicted Label: O\n",
            "True Label: O, Predicted Label: O\n",
            "True Label: O, Predicted Label: O\n",
            "True Label: O, Predicted Label: UNC\n",
            "True Label: O, Predicted Label: O\n",
            "True Label: O, Predicted Label: O\n",
            "True Label: O, Predicted Label: O\n",
            "True Label: O, Predicted Label: O\n",
            "True Label: O, Predicted Label: NEG\n",
            "True Label: NSCO, Predicted Label: NSCO\n",
            "True Label: O, Predicted Label: O\n",
            "True Label: O, Predicted Label: O\n",
            "True Label: O, Predicted Label: O\n",
            "True Label: O, Predicted Label: O\n"
          ]
        }
      ]
    },
    {
      "cell_type": "markdown",
      "source": [
        "### Revised Testing"
      ],
      "metadata": {
        "id": "mFB1FbLG8Rze"
      }
    },
    {
      "cell_type": "code",
      "source": [
        "# Evaluate the model on the test data\n",
        "model.eval()\n",
        "test_loss = 0\n",
        "correct_predictions = 0\n",
        "total_predictions = 0\n",
        "all_test_preds = []\n",
        "all_test_labels = []\n",
        "\n",
        "with torch.no_grad():\n",
        "    for batch in test_loader:\n",
        "        words = batch['word'].to(device)\n",
        "        pos = batch['pos'].to(device)\n",
        "        lemma = batch['lemma'].to(device)\n",
        "        tags = batch['label'].to(device)\n",
        "\n",
        "        # Forward pass\n",
        "        outputs = model(words, pos, lemma)\n",
        "\n",
        "        # Compute loss\n",
        "        loss = criterion(outputs.view(-1, outputs.shape[-1]), tags.view(-1))\n",
        "        test_loss += loss.item()\n",
        "\n",
        "        # Calculate accuracy\n",
        "        _, predicted = torch.max(outputs.data, -1)\n",
        "        correct_predictions += (predicted == tags).sum().item()\n",
        "        total_predictions += tags.numel()\n",
        "\n",
        "        all_test_preds.extend(predicted.cpu().numpy().flatten())\n",
        "        all_test_labels.extend(tags.cpu().numpy().flatten())\n",
        "\n",
        "avg_test_loss = test_loss / len(test_loader)\n",
        "test_accuracy = correct_predictions / total_predictions\n",
        "\n",
        "test_precision, test_recall, test_f1, _ = precision_recall_fscore_support(all_test_labels, all_test_preds, average='weighted', zero_division=0)\n",
        "\n",
        "print(f'Test Loss: {avg_test_loss}, Test Accuracy: {test_accuracy}')\n",
        "print(f'Test Precision: {test_precision}, Recall: {test_recall}, F1 Score: {test_f1}')"
      ],
      "metadata": {
        "id": "QAwPoypv8UHH",
        "colab": {
          "base_uri": "https://localhost:8080/"
        },
        "outputId": "19fef0f3-dc0f-45a5-a173-d65731e672a6"
      },
      "execution_count": 71,
      "outputs": [
        {
          "output_type": "stream",
          "name": "stdout",
          "text": [
            "Test Loss: 0.7002829347680114, Test Accuracy: 0.7455644241733181\n",
            "Test Precision: 0.9080259312009991, Recall: 0.7455644241733181, F1 Score: 0.8096475403794715\n"
          ]
        }
      ]
    },
    {
      "cell_type": "markdown",
      "source": [
        "Plotting"
      ],
      "metadata": {
        "id": "WKaGeG3y_OQN"
      }
    },
    {
      "cell_type": "code",
      "source": [
        "# Calculate confusion matrix\n",
        "conf_matrix = confusion_matrix(all_test_labels, all_test_preds)\n",
        "\n",
        "# Plot confusion matrix\n",
        "plt.figure(figsize=(10, 8))\n",
        "sns.heatmap(conf_matrix, annot=True, fmt='d', cmap='YlGnBu')\n",
        "plt.xlabel('Test Predicted Labels')\n",
        "plt.ylabel('Test True Labels')\n",
        "plt.title('Confusion Matrix')\n",
        "plt.show()"
      ],
      "metadata": {
        "id": "YXV2nf_-_Cbq",
        "colab": {
          "base_uri": "https://localhost:8080/",
          "height": 718
        },
        "outputId": "d133b066-3277-4daf-8b11-af1e5b5fb9a2"
      },
      "execution_count": 72,
      "outputs": [
        {
          "output_type": "display_data",
          "data": {
            "text/plain": [
              "<Figure size 1000x800 with 2 Axes>"
            ],
            "image/png": "[encoded data removed]"
          },
          "metadata": {}
        }
      ]
    },
    {
      "cell_type": "code",
      "source": [
        "# Print some example predictions\n",
        "print(\"\\nSample Predictions:\")\n",
        "for i in range(100):\n",
        "    true_label = tag_encoder.inverse_transform([all_test_labels[i]])[0]\n",
        "    predicted_label = tag_encoder.inverse_transform([all_test_preds[i]])[0]\n",
        "    print(f\"True Label: {true_label}, Predicted Label: {predicted_label}\")"
      ],
      "metadata": {
        "id": "C8XHwQs8_Mvl",
        "colab": {
          "base_uri": "https://localhost:8080/"
        },
        "outputId": "5fa5e964-cd48-4a28-a4ef-14245adb245f"
      },
      "execution_count": 73,
      "outputs": [
        {
          "output_type": "stream",
          "name": "stdout",
          "text": [
            "\n",
            "Sample Predictions:\n",
            "True Label: O, Predicted Label: O\n",
            "True Label: O, Predicted Label: O\n",
            "True Label: O, Predicted Label: O\n",
            "True Label: O, Predicted Label: USCO\n",
            "True Label: O, Predicted Label: USCO\n",
            "True Label: O, Predicted Label: O\n",
            "True Label: O, Predicted Label: NSCO\n",
            "True Label: O, Predicted Label: O\n",
            "True Label: O, Predicted Label: O\n",
            "True Label: O, Predicted Label: O\n",
            "True Label: O, Predicted Label: USCO\n",
            "True Label: O, Predicted Label: O\n",
            "True Label: O, Predicted Label: O\n",
            "True Label: NEG, Predicted Label: NEG\n",
            "True Label: NSCO, Predicted Label: NSCO\n",
            "True Label: NSCO, Predicted Label: NSCO\n",
            "True Label: O, Predicted Label: NSCO\n",
            "True Label: O, Predicted Label: O\n",
            "True Label: O, Predicted Label: NSCO\n",
            "True Label: O, Predicted Label: O\n",
            "True Label: O, Predicted Label: O\n",
            "True Label: O, Predicted Label: USCO\n",
            "True Label: NEG, Predicted Label: NEG\n",
            "True Label: NSCO, Predicted Label: NSCO\n",
            "True Label: NSCO, Predicted Label: NSCO\n",
            "True Label: O, Predicted Label: O\n",
            "True Label: O, Predicted Label: O\n",
            "True Label: O, Predicted Label: O\n",
            "True Label: O, Predicted Label: O\n",
            "True Label: O, Predicted Label: O\n",
            "True Label: O, Predicted Label: O\n",
            "True Label: O, Predicted Label: O\n",
            "True Label: O, Predicted Label: O\n",
            "True Label: O, Predicted Label: NSCO\n",
            "True Label: O, Predicted Label: O\n",
            "True Label: O, Predicted Label: O\n",
            "True Label: O, Predicted Label: O\n",
            "True Label: O, Predicted Label: O\n",
            "True Label: O, Predicted Label: O\n",
            "True Label: O, Predicted Label: O\n",
            "True Label: O, Predicted Label: O\n",
            "True Label: O, Predicted Label: O\n",
            "True Label: O, Predicted Label: O\n",
            "True Label: O, Predicted Label: O\n",
            "True Label: O, Predicted Label: O\n",
            "True Label: O, Predicted Label: O\n",
            "True Label: O, Predicted Label: O\n",
            "True Label: O, Predicted Label: O\n",
            "True Label: O, Predicted Label: O\n",
            "True Label: O, Predicted Label: O\n",
            "True Label: O, Predicted Label: USCO\n",
            "True Label: O, Predicted Label: O\n",
            "True Label: O, Predicted Label: O\n",
            "True Label: O, Predicted Label: O\n",
            "True Label: O, Predicted Label: O\n",
            "True Label: O, Predicted Label: O\n",
            "True Label: O, Predicted Label: USCO\n",
            "True Label: O, Predicted Label: O\n",
            "True Label: O, Predicted Label: NSCO\n",
            "True Label: O, Predicted Label: NSCO\n",
            "True Label: O, Predicted Label: O\n",
            "True Label: O, Predicted Label: O\n",
            "True Label: O, Predicted Label: O\n",
            "True Label: O, Predicted Label: O\n",
            "True Label: O, Predicted Label: O\n",
            "True Label: O, Predicted Label: O\n",
            "True Label: O, Predicted Label: O\n",
            "True Label: O, Predicted Label: O\n",
            "True Label: O, Predicted Label: USCO\n",
            "True Label: O, Predicted Label: O\n",
            "True Label: O, Predicted Label: NSCO\n",
            "True Label: O, Predicted Label: O\n",
            "True Label: O, Predicted Label: O\n",
            "True Label: O, Predicted Label: O\n",
            "True Label: O, Predicted Label: O\n",
            "True Label: O, Predicted Label: UNC\n",
            "True Label: O, Predicted Label: O\n",
            "True Label: O, Predicted Label: O\n",
            "True Label: O, Predicted Label: O\n",
            "True Label: O, Predicted Label: O\n",
            "True Label: O, Predicted Label: O\n",
            "True Label: O, Predicted Label: O\n",
            "True Label: O, Predicted Label: USCO\n",
            "True Label: O, Predicted Label: O\n",
            "True Label: O, Predicted Label: USCO\n",
            "True Label: O, Predicted Label: O\n",
            "True Label: O, Predicted Label: NSCO\n",
            "True Label: O, Predicted Label: O\n",
            "True Label: O, Predicted Label: O\n",
            "True Label: O, Predicted Label: O\n",
            "True Label: O, Predicted Label: O\n",
            "True Label: O, Predicted Label: O\n",
            "True Label: O, Predicted Label: O\n",
            "True Label: O, Predicted Label: O\n",
            "True Label: O, Predicted Label: O\n",
            "True Label: O, Predicted Label: O\n",
            "True Label: O, Predicted Label: USCO\n",
            "True Label: O, Predicted Label: O\n",
            "True Label: O, Predicted Label: O\n",
            "True Label: O, Predicted Label: O\n"
          ]
        }
      ]
    },
    {
      "cell_type": "markdown",
      "source": [
        "# Training with Case Tagging Features"
      ],
      "metadata": {
        "id": "RLRIapVaS0qS"
      }
    },
    {
      "cell_type": "code",
      "source": [
        "# Load the data\n",
        "train_data_path = '/content/feature_extracted_data.csv'\n",
        "test_data_path = '/content/feature_extracted_dataTEST.csv'\n",
        "\n",
        "train_data = pd.read_csv(train_data_path)\n",
        "test_data = pd.read_csv(test_data_path)\n",
        "\n",
        "# Define the dataset class\n",
        "class NLPDataset(Dataset):\n",
        "    def __init__(self, data):\n",
        "        self.data = data\n",
        "        self.word_encoder = LabelEncoder().fit(data['Word'])\n",
        "        self.pos_encoder = LabelEncoder().fit(data['POS'])\n",
        "        self.lemma_encoder = LabelEncoder().fit(data['LEMMA'])\n",
        "        self.tag_encoder = LabelEncoder().fit(data['Tag'])\n",
        "\n",
        "    def __len__(self):\n",
        "        return len(self.data)\n",
        "\n",
        "    def __getitem__(self, idx):\n",
        "        word = self.word_encoder.transform([self.data.iloc[idx]['Word']])[0]\n",
        "        pos = self.pos_encoder.transform([self.data.iloc[idx]['POS']])[0]\n",
        "        lemma = self.lemma_encoder.transform([self.data.iloc[idx]['LEMMA']])[0]\n",
        "        number = self.data.iloc[idx]['NUMBER']\n",
        "        contains_number = self.data.iloc[idx]['Contains NUMBER']\n",
        "        maj_number = self.data.iloc[idx]['Maj NUMBER']\n",
        "        tag = self.tag_encoder.transform([self.data.iloc[idx]['Tag']])[0]\n",
        "        return {\n",
        "            'word': torch.tensor(word, dtype=torch.long),\n",
        "            'pos': torch.tensor(pos, dtype=torch.long),\n",
        "            'lemma': torch.tensor(lemma, dtype=torch.long),\n",
        "            'number': torch.tensor(number, dtype=torch.float),\n",
        "            'contains_number': torch.tensor(contains_number, dtype=torch.float),\n",
        "            'maj_number': torch.tensor(maj_number, dtype=torch.float),\n",
        "            'tag': torch.tensor(tag, dtype=torch.long)\n",
        "        }\n",
        "\n",
        "# Create dataset and dataloader\n",
        "train_dataset = NLPDataset(train_data)\n",
        "test_dataset = NLPDataset(test_data)\n",
        "\n",
        "train_dataloader = DataLoader(train_dataset, batch_size=32, shuffle=True)\n",
        "test_dataloader = DataLoader(test_dataset, batch_size=32, shuffle=False)"
      ],
      "metadata": {
        "id": "m0WkdMgGS3Db"
      },
      "execution_count": 74,
      "outputs": []
    },
    {
      "cell_type": "code",
      "source": [
        "# Define the model\n",
        "class NLPModel(nn.Module):\n",
        "    def __init__(self, num_embeddings, embedding_dim, num_pos_tags, pos_embedding_dim, num_embeddings_lemma, lemma_embedding_dim, hidden_dim, lstm_out_dim, output_dim):\n",
        "        super(NLPModel, self).__init__()\n",
        "\n",
        "        # Embedding layers\n",
        "        self.word_embeddings = nn.Embedding(num_embeddings, embedding_dim)\n",
        "        self.pos_embeddings = nn.Embedding(num_pos_tags, pos_embedding_dim)\n",
        "        self.lemma_embeddings = nn.Embedding(num_embeddings_lemma, lemma_embedding_dim)\n",
        "\n",
        "        # Feature weight\n",
        "        self.feature_weight = 0.1  # To reduce their impact\n",
        "\n",
        "        # Concatenation dimension\n",
        "        concat_dim = embedding_dim + pos_embedding_dim + lemma_embedding_dim + 3  # 3 for the additional features\n",
        "\n",
        "        # Dense layer prior to LSTM\n",
        "        self.dense = nn.Linear(concat_dim, hidden_dim)\n",
        "\n",
        "        # LSTM layer\n",
        "        self.lstm = nn.LSTM(hidden_dim, lstm_out_dim, batch_first=True, bidirectional=True)\n",
        "\n",
        "        # Output layer\n",
        "        self.output_layer = nn.Linear(2 * lstm_out_dim, output_dim)\n",
        "\n",
        "    def forward(self, word_input, pos_input, lemma_input, number, contains_number, maj_number):\n",
        "        word_embeds = self.word_embeddings(word_input)\n",
        "        pos_embeds = self.pos_embeddings(pos_input)\n",
        "        lemma_embeds = self.lemma_embeddings(lemma_input)\n",
        "\n",
        "        # Apply weight to number features\n",
        "        number = number * self.feature_weight\n",
        "        contains_number = contains_number * self.feature_weight\n",
        "        maj_number = maj_number * self.feature_weight\n",
        "\n",
        "        # Concatenate all features\n",
        "        combined = torch.cat((word_embeds, pos_embeds, lemma_embeds, number.unsqueeze(-1), contains_number.unsqueeze(-1), maj_number.unsqueeze(-1)), dim=-1)\n",
        "\n",
        "        # Dense layer\n",
        "        dense_out = self.dense(combined)\n",
        "\n",
        "        # LSTM layer\n",
        "        lstm_out, _ = self.lstm(dense_out)\n",
        "\n",
        "        # Output layer\n",
        "        output = self.output_layer(lstm_out)\n",
        "\n",
        "        return output"
      ],
      "metadata": {
        "id": "okf-yFLeTHKr"
      },
      "execution_count": 79,
      "outputs": []
    },
    {
      "cell_type": "code",
      "source": [
        "# Initialize the model, criterion, and optimizer\n",
        "model = NLPModel(num_embeddings=len(train_dataset.word_encoder.classes_),\n",
        "                 embedding_dim=100,\n",
        "                 num_pos_tags=len(train_dataset.pos_encoder.classes_),\n",
        "                 pos_embedding_dim=25,\n",
        "                 num_embeddings_lemma=len(train_dataset.lemma_encoder.classes_),\n",
        "                 lemma_embedding_dim=25,\n",
        "                 hidden_dim=128,\n",
        "                 lstm_out_dim=64,\n",
        "                 output_dim=len(train_dataset.tag_encoder.classes_)).to(device)\n",
        "\n",
        "criterion = nn.CrossEntropyLoss().to(device)\n",
        "optimizer = optim.Adam(model.parameters(), lr=0.001)\n",
        "\n",
        "# Training loop with progress bar\n",
        "num_epochs = 10\n",
        "batch_size = 16  # Reduced batch size for more frequent updates\n",
        "from tqdm import tqdm  # Progress bar library\n",
        "\n",
        "for epoch in range(num_epochs):\n",
        "    model.train()\n",
        "    epoch_loss = 0\n",
        "    num_batches = len(train_dataloader)\n",
        "\n",
        "    # Using tqdm for the progress bar\n",
        "    with tqdm(total=num_batches, desc=f'Epoch {epoch + 1}/{num_epochs}', unit='batch') as pbar:\n",
        "        for batch_idx, batch in enumerate(train_dataloader):\n",
        "            words = batch['word'].to(device)\n",
        "            pos = batch['pos'].to(device)\n",
        "            lemma = batch['lemma'].to(device)\n",
        "            number = batch['number'].to(device)\n",
        "            contains_number = batch['contains_number'].to(device)\n",
        "            maj_number = batch['maj_number'].to(device)\n",
        "            tags = batch['tag'].to(device)\n",
        "\n",
        "            optimizer.zero_grad()\n",
        "            outputs = model(words, pos, lemma, number, contains_number, maj_number)\n",
        "            loss = criterion(outputs.view(-1, outputs.shape[-1]), tags.view(-1))\n",
        "            loss.backward()\n",
        "            optimizer.step()\n",
        "\n",
        "            epoch_loss += loss.item()\n",
        "            pbar.set_postfix({'Loss': epoch_loss / (batch_idx + 1)})\n",
        "            pbar.update(1)\n",
        "\n",
        "    print(f'Epoch {epoch + 1}/{num_epochs}, Loss: {epoch_loss / num_batches}')\n",
        "\n",
        "# Evaluate the model on the test data\n",
        "model.eval()\n",
        "test_loss = 0\n",
        "correct_predictions = 0\n",
        "total_predictions = 0\n",
        "all_test_preds = []\n",
        "all_test_labels = []\n",
        "\n",
        "with torch.no_grad():\n",
        "    for batch in test_dataloader:\n",
        "        words = batch['word'].to(device)\n",
        "        pos = batch['pos'].to(device)\n",
        "        lemma = batch['lemma'].to(device)\n",
        "        number = batch['number'].to(device)\n",
        "        contains_number = batch['contains_number'].to(device)\n",
        "        maj_number = batch['maj_number'].to(device)\n",
        "        tags = batch['tag'].to(device)\n",
        "\n",
        "        outputs = model(words, pos, lemma, number, contains_number, maj_number)\n",
        "        loss = criterion(outputs.view(-1, outputs.shape[-1]), tags.view(-1))\n",
        "        test_loss += loss.item()\n",
        "\n",
        "        _, predicted = torch.max(outputs.data, -1)\n",
        "        correct_predictions += (predicted == tags).sum().item()\n",
        "        total_predictions += tags.numel()\n",
        "\n",
        "        all_test_preds.extend(predicted.cpu().numpy().flatten())\n",
        "        all_test_labels.extend(tags.cpu().numpy().flatten())\n",
        "\n",
        "avg_test_loss = test_loss / len(test_dataloader)\n",
        "test_accuracy = correct_predictions / total_predictions\n",
        "\n",
        "test_precision, test_recall, test_f1, _ = precision_recall_fscore_support(all_test_labels, all_test_preds, average='weighted', zero_division=0)\n",
        "\n",
        "print(f'Test Loss: {avg_test_loss}, Test Accuracy: {test_accuracy}')\n",
        "print(f'Test Precision: {test_precision}, Recall: {test_recall}, F1 Score: {test_f1}')"
      ],
      "metadata": {
        "colab": {
          "base_uri": "https://localhost:8080/",
          "height": 382
        },
        "id": "YSC2dAXJTJO8",
        "outputId": "1119710d-be43-45aa-a51c-7edc22d80709"
      },
      "execution_count": 80,
      "outputs": [
        {
          "output_type": "stream",
          "name": "stderr",
          "text": [
            "Epoch 1/10:   0%|          | 20/5278 [00:20<1:27:56,  1.00s/batch, Loss=1.09]\n"
          ]
        },
        {
          "output_type": "error",
          "ename": "KeyboardInterrupt",
          "evalue": "",
          "traceback": [
            "\u001b[0;31m---------------------------------------------------------------------------\u001b[0m",
            "\u001b[0;31mKeyboardInterrupt\u001b[0m                         Traceback (most recent call last)",
            "\u001b[0;32m<ipython-input-80-c6a8f5404e6b>\u001b[0m in \u001b[0;36m<cell line: 20>\u001b[0;34m()\u001b[0m\n\u001b[1;32m     25\u001b[0m     \u001b[0;31m# Using tqdm for the progress bar\u001b[0m\u001b[0;34m\u001b[0m\u001b[0;34m\u001b[0m\u001b[0m\n\u001b[1;32m     26\u001b[0m     \u001b[0;32mwith\u001b[0m \u001b[0mtqdm\u001b[0m\u001b[0;34m(\u001b[0m\u001b[0mtotal\u001b[0m\u001b[0;34m=\u001b[0m\u001b[0mnum_batches\u001b[0m\u001b[0;34m,\u001b[0m \u001b[0mdesc\u001b[0m\u001b[0;34m=\u001b[0m\u001b[0;34mf'Epoch {epoch + 1}/{num_epochs}'\u001b[0m\u001b[0;34m,\u001b[0m \u001b[0munit\u001b[0m\u001b[0;34m=\u001b[0m\u001b[0;34m'batch'\u001b[0m\u001b[0;34m)\u001b[0m \u001b[0;32mas\u001b[0m \u001b[0mpbar\u001b[0m\u001b[0;34m:\u001b[0m\u001b[0;34m\u001b[0m\u001b[0;34m\u001b[0m\u001b[0m\n\u001b[0;32m---> 27\u001b[0;31m         \u001b[0;32mfor\u001b[0m \u001b[0mbatch_idx\u001b[0m\u001b[0;34m,\u001b[0m \u001b[0mbatch\u001b[0m \u001b[0;32min\u001b[0m \u001b[0menumerate\u001b[0m\u001b[0;34m(\u001b[0m\u001b[0mtrain_dataloader\u001b[0m\u001b[0;34m)\u001b[0m\u001b[0;34m:\u001b[0m\u001b[0;34m\u001b[0m\u001b[0;34m\u001b[0m\u001b[0m\n\u001b[0m\u001b[1;32m     28\u001b[0m             \u001b[0mwords\u001b[0m \u001b[0;34m=\u001b[0m \u001b[0mbatch\u001b[0m\u001b[0;34m[\u001b[0m\u001b[0;34m'word'\u001b[0m\u001b[0;34m]\u001b[0m\u001b[0;34m.\u001b[0m\u001b[0mto\u001b[0m\u001b[0;34m(\u001b[0m\u001b[0mdevice\u001b[0m\u001b[0;34m)\u001b[0m\u001b[0;34m\u001b[0m\u001b[0;34m\u001b[0m\u001b[0m\n\u001b[1;32m     29\u001b[0m             \u001b[0mpos\u001b[0m \u001b[0;34m=\u001b[0m \u001b[0mbatch\u001b[0m\u001b[0;34m[\u001b[0m\u001b[0;34m'pos'\u001b[0m\u001b[0;34m]\u001b[0m\u001b[0;34m.\u001b[0m\u001b[0mto\u001b[0m\u001b[0;34m(\u001b[0m\u001b[0mdevice\u001b[0m\u001b[0;34m)\u001b[0m\u001b[0;34m\u001b[0m\u001b[0;34m\u001b[0m\u001b[0m\n",
            "\u001b[0;32m/usr/local/lib/python3.10/dist-packages/torch/utils/data/dataloader.py\u001b[0m in \u001b[0;36m__next__\u001b[0;34m(self)\u001b[0m\n\u001b[1;32m    629\u001b[0m                 \u001b[0;31m# TODO(https://github.com/pytorch/pytorch/issues/76750)\u001b[0m\u001b[0;34m\u001b[0m\u001b[0;34m\u001b[0m\u001b[0m\n\u001b[1;32m    630\u001b[0m                 \u001b[0mself\u001b[0m\u001b[0;34m.\u001b[0m\u001b[0m_reset\u001b[0m\u001b[0;34m(\u001b[0m\u001b[0;34m)\u001b[0m  \u001b[0;31m# type: ignore[call-arg]\u001b[0m\u001b[0;34m\u001b[0m\u001b[0;34m\u001b[0m\u001b[0m\n\u001b[0;32m--> 631\u001b[0;31m             \u001b[0mdata\u001b[0m \u001b[0;34m=\u001b[0m \u001b[0mself\u001b[0m\u001b[0;34m.\u001b[0m\u001b[0m_next_data\u001b[0m\u001b[0;34m(\u001b[0m\u001b[0;34m)\u001b[0m\u001b[0;34m\u001b[0m\u001b[0;34m\u001b[0m\u001b[0m\n\u001b[0m\u001b[1;32m    632\u001b[0m             \u001b[0mself\u001b[0m\u001b[0;34m.\u001b[0m\u001b[0m_num_yielded\u001b[0m \u001b[0;34m+=\u001b[0m \u001b[0;36m1\u001b[0m\u001b[0;34m\u001b[0m\u001b[0;34m\u001b[0m\u001b[0m\n\u001b[1;32m    633\u001b[0m             \u001b[0;32mif\u001b[0m \u001b[0mself\u001b[0m\u001b[0;34m.\u001b[0m\u001b[0m_dataset_kind\u001b[0m \u001b[0;34m==\u001b[0m \u001b[0m_DatasetKind\u001b[0m\u001b[0;34m.\u001b[0m\u001b[0mIterable\u001b[0m \u001b[0;32mand\u001b[0m\u001b[0;31m \u001b[0m\u001b[0;31m\\\u001b[0m\u001b[0;34m\u001b[0m\u001b[0;34m\u001b[0m\u001b[0m\n",
            "\u001b[0;32m/usr/local/lib/python3.10/dist-packages/torch/utils/data/dataloader.py\u001b[0m in \u001b[0;36m_next_data\u001b[0;34m(self)\u001b[0m\n\u001b[1;32m    673\u001b[0m     \u001b[0;32mdef\u001b[0m \u001b[0m_next_data\u001b[0m\u001b[0;34m(\u001b[0m\u001b[0mself\u001b[0m\u001b[0;34m)\u001b[0m\u001b[0;34m:\u001b[0m\u001b[0;34m\u001b[0m\u001b[0;34m\u001b[0m\u001b[0m\n\u001b[1;32m    674\u001b[0m         \u001b[0mindex\u001b[0m \u001b[0;34m=\u001b[0m \u001b[0mself\u001b[0m\u001b[0;34m.\u001b[0m\u001b[0m_next_index\u001b[0m\u001b[0;34m(\u001b[0m\u001b[0;34m)\u001b[0m  \u001b[0;31m# may raise StopIteration\u001b[0m\u001b[0;34m\u001b[0m\u001b[0;34m\u001b[0m\u001b[0m\n\u001b[0;32m--> 675\u001b[0;31m         \u001b[0mdata\u001b[0m \u001b[0;34m=\u001b[0m \u001b[0mself\u001b[0m\u001b[0;34m.\u001b[0m\u001b[0m_dataset_fetcher\u001b[0m\u001b[0;34m.\u001b[0m\u001b[0mfetch\u001b[0m\u001b[0;34m(\u001b[0m\u001b[0mindex\u001b[0m\u001b[0;34m)\u001b[0m  \u001b[0;31m# may raise StopIteration\u001b[0m\u001b[0;34m\u001b[0m\u001b[0;34m\u001b[0m\u001b[0m\n\u001b[0m\u001b[1;32m    676\u001b[0m         \u001b[0;32mif\u001b[0m \u001b[0mself\u001b[0m\u001b[0;34m.\u001b[0m\u001b[0m_pin_memory\u001b[0m\u001b[0;34m:\u001b[0m\u001b[0;34m\u001b[0m\u001b[0;34m\u001b[0m\u001b[0m\n\u001b[1;32m    677\u001b[0m             \u001b[0mdata\u001b[0m \u001b[0;34m=\u001b[0m \u001b[0m_utils\u001b[0m\u001b[0;34m.\u001b[0m\u001b[0mpin_memory\u001b[0m\u001b[0;34m.\u001b[0m\u001b[0mpin_memory\u001b[0m\u001b[0;34m(\u001b[0m\u001b[0mdata\u001b[0m\u001b[0;34m,\u001b[0m \u001b[0mself\u001b[0m\u001b[0;34m.\u001b[0m\u001b[0m_pin_memory_device\u001b[0m\u001b[0;34m)\u001b[0m\u001b[0;34m\u001b[0m\u001b[0;34m\u001b[0m\u001b[0m\n",
            "\u001b[0;32m/usr/local/lib/python3.10/dist-packages/torch/utils/data/_utils/fetch.py\u001b[0m in \u001b[0;36mfetch\u001b[0;34m(self, possibly_batched_index)\u001b[0m\n\u001b[1;32m     49\u001b[0m                 \u001b[0mdata\u001b[0m \u001b[0;34m=\u001b[0m \u001b[0mself\u001b[0m\u001b[0;34m.\u001b[0m\u001b[0mdataset\u001b[0m\u001b[0;34m.\u001b[0m\u001b[0m__getitems__\u001b[0m\u001b[0;34m(\u001b[0m\u001b[0mpossibly_batched_index\u001b[0m\u001b[0;34m)\u001b[0m\u001b[0;34m\u001b[0m\u001b[0;34m\u001b[0m\u001b[0m\n\u001b[1;32m     50\u001b[0m             \u001b[0;32melse\u001b[0m\u001b[0;34m:\u001b[0m\u001b[0;34m\u001b[0m\u001b[0;34m\u001b[0m\u001b[0m\n\u001b[0;32m---> 51\u001b[0;31m                 \u001b[0mdata\u001b[0m \u001b[0;34m=\u001b[0m \u001b[0;34m[\u001b[0m\u001b[0mself\u001b[0m\u001b[0;34m.\u001b[0m\u001b[0mdataset\u001b[0m\u001b[0;34m[\u001b[0m\u001b[0midx\u001b[0m\u001b[0;34m]\u001b[0m \u001b[0;32mfor\u001b[0m \u001b[0midx\u001b[0m \u001b[0;32min\u001b[0m \u001b[0mpossibly_batched_index\u001b[0m\u001b[0;34m]\u001b[0m\u001b[0;34m\u001b[0m\u001b[0;34m\u001b[0m\u001b[0m\n\u001b[0m\u001b[1;32m     52\u001b[0m         \u001b[0;32melse\u001b[0m\u001b[0;34m:\u001b[0m\u001b[0;34m\u001b[0m\u001b[0;34m\u001b[0m\u001b[0m\n\u001b[1;32m     53\u001b[0m             \u001b[0mdata\u001b[0m \u001b[0;34m=\u001b[0m \u001b[0mself\u001b[0m\u001b[0;34m.\u001b[0m\u001b[0mdataset\u001b[0m\u001b[0;34m[\u001b[0m\u001b[0mpossibly_batched_index\u001b[0m\u001b[0;34m]\u001b[0m\u001b[0;34m\u001b[0m\u001b[0;34m\u001b[0m\u001b[0m\n",
            "\u001b[0;32m/usr/local/lib/python3.10/dist-packages/torch/utils/data/_utils/fetch.py\u001b[0m in \u001b[0;36m<listcomp>\u001b[0;34m(.0)\u001b[0m\n\u001b[1;32m     49\u001b[0m                 \u001b[0mdata\u001b[0m \u001b[0;34m=\u001b[0m \u001b[0mself\u001b[0m\u001b[0;34m.\u001b[0m\u001b[0mdataset\u001b[0m\u001b[0;34m.\u001b[0m\u001b[0m__getitems__\u001b[0m\u001b[0;34m(\u001b[0m\u001b[0mpossibly_batched_index\u001b[0m\u001b[0;34m)\u001b[0m\u001b[0;34m\u001b[0m\u001b[0;34m\u001b[0m\u001b[0m\n\u001b[1;32m     50\u001b[0m             \u001b[0;32melse\u001b[0m\u001b[0;34m:\u001b[0m\u001b[0;34m\u001b[0m\u001b[0;34m\u001b[0m\u001b[0m\n\u001b[0;32m---> 51\u001b[0;31m                 \u001b[0mdata\u001b[0m \u001b[0;34m=\u001b[0m \u001b[0;34m[\u001b[0m\u001b[0mself\u001b[0m\u001b[0;34m.\u001b[0m\u001b[0mdataset\u001b[0m\u001b[0;34m[\u001b[0m\u001b[0midx\u001b[0m\u001b[0;34m]\u001b[0m \u001b[0;32mfor\u001b[0m \u001b[0midx\u001b[0m \u001b[0;32min\u001b[0m \u001b[0mpossibly_batched_index\u001b[0m\u001b[0;34m]\u001b[0m\u001b[0;34m\u001b[0m\u001b[0;34m\u001b[0m\u001b[0m\n\u001b[0m\u001b[1;32m     52\u001b[0m         \u001b[0;32melse\u001b[0m\u001b[0;34m:\u001b[0m\u001b[0;34m\u001b[0m\u001b[0;34m\u001b[0m\u001b[0m\n\u001b[1;32m     53\u001b[0m             \u001b[0mdata\u001b[0m \u001b[0;34m=\u001b[0m \u001b[0mself\u001b[0m\u001b[0;34m.\u001b[0m\u001b[0mdataset\u001b[0m\u001b[0;34m[\u001b[0m\u001b[0mpossibly_batched_index\u001b[0m\u001b[0;34m]\u001b[0m\u001b[0;34m\u001b[0m\u001b[0;34m\u001b[0m\u001b[0m\n",
            "\u001b[0;32m<ipython-input-74-9b18eef09ec5>\u001b[0m in \u001b[0;36m__getitem__\u001b[0;34m(self, idx)\u001b[0m\n\u001b[1;32m     19\u001b[0m \u001b[0;34m\u001b[0m\u001b[0m\n\u001b[1;32m     20\u001b[0m     \u001b[0;32mdef\u001b[0m \u001b[0m__getitem__\u001b[0m\u001b[0;34m(\u001b[0m\u001b[0mself\u001b[0m\u001b[0;34m,\u001b[0m \u001b[0midx\u001b[0m\u001b[0;34m)\u001b[0m\u001b[0;34m:\u001b[0m\u001b[0;34m\u001b[0m\u001b[0;34m\u001b[0m\u001b[0m\n\u001b[0;32m---> 21\u001b[0;31m         \u001b[0mword\u001b[0m \u001b[0;34m=\u001b[0m \u001b[0mself\u001b[0m\u001b[0;34m.\u001b[0m\u001b[0mword_encoder\u001b[0m\u001b[0;34m.\u001b[0m\u001b[0mtransform\u001b[0m\u001b[0;34m(\u001b[0m\u001b[0;34m[\u001b[0m\u001b[0mself\u001b[0m\u001b[0;34m.\u001b[0m\u001b[0mdata\u001b[0m\u001b[0;34m.\u001b[0m\u001b[0miloc\u001b[0m\u001b[0;34m[\u001b[0m\u001b[0midx\u001b[0m\u001b[0;34m]\u001b[0m\u001b[0;34m[\u001b[0m\u001b[0;34m'Word'\u001b[0m\u001b[0;34m]\u001b[0m\u001b[0;34m]\u001b[0m\u001b[0;34m)\u001b[0m\u001b[0;34m[\u001b[0m\u001b[0;36m0\u001b[0m\u001b[0;34m]\u001b[0m\u001b[0;34m\u001b[0m\u001b[0;34m\u001b[0m\u001b[0m\n\u001b[0m\u001b[1;32m     22\u001b[0m         \u001b[0mpos\u001b[0m \u001b[0;34m=\u001b[0m \u001b[0mself\u001b[0m\u001b[0;34m.\u001b[0m\u001b[0mpos_encoder\u001b[0m\u001b[0;34m.\u001b[0m\u001b[0mtransform\u001b[0m\u001b[0;34m(\u001b[0m\u001b[0;34m[\u001b[0m\u001b[0mself\u001b[0m\u001b[0;34m.\u001b[0m\u001b[0mdata\u001b[0m\u001b[0;34m.\u001b[0m\u001b[0miloc\u001b[0m\u001b[0;34m[\u001b[0m\u001b[0midx\u001b[0m\u001b[0;34m]\u001b[0m\u001b[0;34m[\u001b[0m\u001b[0;34m'POS'\u001b[0m\u001b[0;34m]\u001b[0m\u001b[0;34m]\u001b[0m\u001b[0;34m)\u001b[0m\u001b[0;34m[\u001b[0m\u001b[0;36m0\u001b[0m\u001b[0;34m]\u001b[0m\u001b[0;34m\u001b[0m\u001b[0;34m\u001b[0m\u001b[0m\n\u001b[1;32m     23\u001b[0m         \u001b[0mlemma\u001b[0m \u001b[0;34m=\u001b[0m \u001b[0mself\u001b[0m\u001b[0;34m.\u001b[0m\u001b[0mlemma_encoder\u001b[0m\u001b[0;34m.\u001b[0m\u001b[0mtransform\u001b[0m\u001b[0;34m(\u001b[0m\u001b[0;34m[\u001b[0m\u001b[0mself\u001b[0m\u001b[0;34m.\u001b[0m\u001b[0mdata\u001b[0m\u001b[0;34m.\u001b[0m\u001b[0miloc\u001b[0m\u001b[0;34m[\u001b[0m\u001b[0midx\u001b[0m\u001b[0;34m]\u001b[0m\u001b[0;34m[\u001b[0m\u001b[0;34m'LEMMA'\u001b[0m\u001b[0;34m]\u001b[0m\u001b[0;34m]\u001b[0m\u001b[0;34m)\u001b[0m\u001b[0;34m[\u001b[0m\u001b[0;36m0\u001b[0m\u001b[0;34m]\u001b[0m\u001b[0;34m\u001b[0m\u001b[0;34m\u001b[0m\u001b[0m\n",
            "\u001b[0;32m/usr/local/lib/python3.10/dist-packages/sklearn/utils/_set_output.py\u001b[0m in \u001b[0;36mwrapped\u001b[0;34m(self, X, *args, **kwargs)\u001b[0m\n\u001b[1;32m    138\u001b[0m     \u001b[0;34m@\u001b[0m\u001b[0mwraps\u001b[0m\u001b[0;34m(\u001b[0m\u001b[0mf\u001b[0m\u001b[0;34m)\u001b[0m\u001b[0;34m\u001b[0m\u001b[0;34m\u001b[0m\u001b[0m\n\u001b[1;32m    139\u001b[0m     \u001b[0;32mdef\u001b[0m \u001b[0mwrapped\u001b[0m\u001b[0;34m(\u001b[0m\u001b[0mself\u001b[0m\u001b[0;34m,\u001b[0m \u001b[0mX\u001b[0m\u001b[0;34m,\u001b[0m \u001b[0;34m*\u001b[0m\u001b[0margs\u001b[0m\u001b[0;34m,\u001b[0m \u001b[0;34m**\u001b[0m\u001b[0mkwargs\u001b[0m\u001b[0;34m)\u001b[0m\u001b[0;34m:\u001b[0m\u001b[0;34m\u001b[0m\u001b[0;34m\u001b[0m\u001b[0m\n\u001b[0;32m--> 140\u001b[0;31m         \u001b[0mdata_to_wrap\u001b[0m \u001b[0;34m=\u001b[0m \u001b[0mf\u001b[0m\u001b[0;34m(\u001b[0m\u001b[0mself\u001b[0m\u001b[0;34m,\u001b[0m \u001b[0mX\u001b[0m\u001b[0;34m,\u001b[0m \u001b[0;34m*\u001b[0m\u001b[0margs\u001b[0m\u001b[0;34m,\u001b[0m \u001b[0;34m**\u001b[0m\u001b[0mkwargs\u001b[0m\u001b[0;34m)\u001b[0m\u001b[0;34m\u001b[0m\u001b[0;34m\u001b[0m\u001b[0m\n\u001b[0m\u001b[1;32m    141\u001b[0m         \u001b[0;32mif\u001b[0m \u001b[0misinstance\u001b[0m\u001b[0;34m(\u001b[0m\u001b[0mdata_to_wrap\u001b[0m\u001b[0;34m,\u001b[0m \u001b[0mtuple\u001b[0m\u001b[0;34m)\u001b[0m\u001b[0;34m:\u001b[0m\u001b[0;34m\u001b[0m\u001b[0;34m\u001b[0m\u001b[0m\n\u001b[1;32m    142\u001b[0m             \u001b[0;31m# only wrap the first output for cross decomposition\u001b[0m\u001b[0;34m\u001b[0m\u001b[0;34m\u001b[0m\u001b[0m\n",
            "\u001b[0;32m/usr/local/lib/python3.10/dist-packages/sklearn/preprocessing/_label.py\u001b[0m in \u001b[0;36mtransform\u001b[0;34m(self, y)\u001b[0m\n\u001b[1;32m    137\u001b[0m             \u001b[0;32mreturn\u001b[0m \u001b[0mnp\u001b[0m\u001b[0;34m.\u001b[0m\u001b[0marray\u001b[0m\u001b[0;34m(\u001b[0m\u001b[0;34m[\u001b[0m\u001b[0;34m]\u001b[0m\u001b[0;34m)\u001b[0m\u001b[0;34m\u001b[0m\u001b[0;34m\u001b[0m\u001b[0m\n\u001b[1;32m    138\u001b[0m \u001b[0;34m\u001b[0m\u001b[0m\n\u001b[0;32m--> 139\u001b[0;31m         \u001b[0;32mreturn\u001b[0m \u001b[0m_encode\u001b[0m\u001b[0;34m(\u001b[0m\u001b[0my\u001b[0m\u001b[0;34m,\u001b[0m \u001b[0muniques\u001b[0m\u001b[0;34m=\u001b[0m\u001b[0mself\u001b[0m\u001b[0;34m.\u001b[0m\u001b[0mclasses_\u001b[0m\u001b[0;34m)\u001b[0m\u001b[0;34m\u001b[0m\u001b[0;34m\u001b[0m\u001b[0m\n\u001b[0m\u001b[1;32m    140\u001b[0m \u001b[0;34m\u001b[0m\u001b[0m\n\u001b[1;32m    141\u001b[0m     \u001b[0;32mdef\u001b[0m \u001b[0minverse_transform\u001b[0m\u001b[0;34m(\u001b[0m\u001b[0mself\u001b[0m\u001b[0;34m,\u001b[0m \u001b[0my\u001b[0m\u001b[0;34m)\u001b[0m\u001b[0;34m:\u001b[0m\u001b[0;34m\u001b[0m\u001b[0;34m\u001b[0m\u001b[0m\n",
            "\u001b[0;32m/usr/local/lib/python3.10/dist-packages/sklearn/utils/_encode.py\u001b[0m in \u001b[0;36m_encode\u001b[0;34m(values, uniques, check_unknown)\u001b[0m\n\u001b[1;32m    222\u001b[0m     \u001b[0;32mif\u001b[0m \u001b[0mvalues\u001b[0m\u001b[0;34m.\u001b[0m\u001b[0mdtype\u001b[0m\u001b[0;34m.\u001b[0m\u001b[0mkind\u001b[0m \u001b[0;32min\u001b[0m \u001b[0;34m\"OUS\"\u001b[0m\u001b[0;34m:\u001b[0m\u001b[0;34m\u001b[0m\u001b[0;34m\u001b[0m\u001b[0m\n\u001b[1;32m    223\u001b[0m         \u001b[0;32mtry\u001b[0m\u001b[0;34m:\u001b[0m\u001b[0;34m\u001b[0m\u001b[0;34m\u001b[0m\u001b[0m\n\u001b[0;32m--> 224\u001b[0;31m             \u001b[0;32mreturn\u001b[0m \u001b[0m_map_to_integer\u001b[0m\u001b[0;34m(\u001b[0m\u001b[0mvalues\u001b[0m\u001b[0;34m,\u001b[0m \u001b[0muniques\u001b[0m\u001b[0;34m)\u001b[0m\u001b[0;34m\u001b[0m\u001b[0;34m\u001b[0m\u001b[0m\n\u001b[0m\u001b[1;32m    225\u001b[0m         \u001b[0;32mexcept\u001b[0m \u001b[0mKeyError\u001b[0m \u001b[0;32mas\u001b[0m \u001b[0me\u001b[0m\u001b[0;34m:\u001b[0m\u001b[0;34m\u001b[0m\u001b[0;34m\u001b[0m\u001b[0m\n\u001b[1;32m    226\u001b[0m             \u001b[0;32mraise\u001b[0m \u001b[0mValueError\u001b[0m\u001b[0;34m(\u001b[0m\u001b[0;34mf\"y contains previously unseen labels: {str(e)}\"\u001b[0m\u001b[0;34m)\u001b[0m\u001b[0;34m\u001b[0m\u001b[0;34m\u001b[0m\u001b[0m\n",
            "\u001b[0;32m/usr/local/lib/python3.10/dist-packages/sklearn/utils/_encode.py\u001b[0m in \u001b[0;36m_map_to_integer\u001b[0;34m(values, uniques)\u001b[0m\n\u001b[1;32m    161\u001b[0m \u001b[0;32mdef\u001b[0m \u001b[0m_map_to_integer\u001b[0m\u001b[0;34m(\u001b[0m\u001b[0mvalues\u001b[0m\u001b[0;34m,\u001b[0m \u001b[0muniques\u001b[0m\u001b[0;34m)\u001b[0m\u001b[0;34m:\u001b[0m\u001b[0;34m\u001b[0m\u001b[0;34m\u001b[0m\u001b[0m\n\u001b[1;32m    162\u001b[0m     \u001b[0;34m\"\"\"Map values based on its position in uniques.\"\"\"\u001b[0m\u001b[0;34m\u001b[0m\u001b[0;34m\u001b[0m\u001b[0m\n\u001b[0;32m--> 163\u001b[0;31m     \u001b[0mtable\u001b[0m \u001b[0;34m=\u001b[0m \u001b[0m_nandict\u001b[0m\u001b[0;34m(\u001b[0m\u001b[0;34m{\u001b[0m\u001b[0mval\u001b[0m\u001b[0;34m:\u001b[0m \u001b[0mi\u001b[0m \u001b[0;32mfor\u001b[0m \u001b[0mi\u001b[0m\u001b[0;34m,\u001b[0m \u001b[0mval\u001b[0m \u001b[0;32min\u001b[0m \u001b[0menumerate\u001b[0m\u001b[0;34m(\u001b[0m\u001b[0muniques\u001b[0m\u001b[0;34m)\u001b[0m\u001b[0;34m}\u001b[0m\u001b[0;34m)\u001b[0m\u001b[0;34m\u001b[0m\u001b[0;34m\u001b[0m\u001b[0m\n\u001b[0m\u001b[1;32m    164\u001b[0m     \u001b[0;32mreturn\u001b[0m \u001b[0mnp\u001b[0m\u001b[0;34m.\u001b[0m\u001b[0marray\u001b[0m\u001b[0;34m(\u001b[0m\u001b[0;34m[\u001b[0m\u001b[0mtable\u001b[0m\u001b[0;34m[\u001b[0m\u001b[0mv\u001b[0m\u001b[0;34m]\u001b[0m \u001b[0;32mfor\u001b[0m \u001b[0mv\u001b[0m \u001b[0;32min\u001b[0m \u001b[0mvalues\u001b[0m\u001b[0;34m]\u001b[0m\u001b[0;34m)\u001b[0m\u001b[0;34m\u001b[0m\u001b[0;34m\u001b[0m\u001b[0m\n\u001b[1;32m    165\u001b[0m \u001b[0;34m\u001b[0m\u001b[0m\n",
            "\u001b[0;32m/usr/local/lib/python3.10/dist-packages/sklearn/utils/_encode.py\u001b[0m in \u001b[0;36m__init__\u001b[0;34m(self, mapping)\u001b[0m\n\u001b[1;32m    149\u001b[0m         \u001b[0msuper\u001b[0m\u001b[0;34m(\u001b[0m\u001b[0;34m)\u001b[0m\u001b[0;34m.\u001b[0m\u001b[0m__init__\u001b[0m\u001b[0;34m(\u001b[0m\u001b[0mmapping\u001b[0m\u001b[0;34m)\u001b[0m\u001b[0;34m\u001b[0m\u001b[0;34m\u001b[0m\u001b[0m\n\u001b[1;32m    150\u001b[0m         \u001b[0;32mfor\u001b[0m \u001b[0mkey\u001b[0m\u001b[0;34m,\u001b[0m \u001b[0mvalue\u001b[0m \u001b[0;32min\u001b[0m \u001b[0mmapping\u001b[0m\u001b[0;34m.\u001b[0m\u001b[0mitems\u001b[0m\u001b[0;34m(\u001b[0m\u001b[0;34m)\u001b[0m\u001b[0;34m:\u001b[0m\u001b[0;34m\u001b[0m\u001b[0;34m\u001b[0m\u001b[0m\n\u001b[0;32m--> 151\u001b[0;31m             \u001b[0;32mif\u001b[0m \u001b[0mis_scalar_nan\u001b[0m\u001b[0;34m(\u001b[0m\u001b[0mkey\u001b[0m\u001b[0;34m)\u001b[0m\u001b[0;34m:\u001b[0m\u001b[0;34m\u001b[0m\u001b[0;34m\u001b[0m\u001b[0m\n\u001b[0m\u001b[1;32m    152\u001b[0m                 \u001b[0mself\u001b[0m\u001b[0;34m.\u001b[0m\u001b[0mnan_value\u001b[0m \u001b[0;34m=\u001b[0m \u001b[0mvalue\u001b[0m\u001b[0;34m\u001b[0m\u001b[0;34m\u001b[0m\u001b[0m\n\u001b[1;32m    153\u001b[0m                 \u001b[0;32mbreak\u001b[0m\u001b[0;34m\u001b[0m\u001b[0;34m\u001b[0m\u001b[0m\n",
            "\u001b[0;32m/usr/local/lib/python3.10/dist-packages/sklearn/utils/__init__.py\u001b[0m in \u001b[0;36mis_scalar_nan\u001b[0;34m(x)\u001b[0m\n\u001b[1;32m   1072\u001b[0m     \u001b[0;32mFalse\u001b[0m\u001b[0;34m\u001b[0m\u001b[0;34m\u001b[0m\u001b[0m\n\u001b[1;32m   1073\u001b[0m     \"\"\"\n\u001b[0;32m-> 1074\u001b[0;31m     \u001b[0;32mreturn\u001b[0m \u001b[0misinstance\u001b[0m\u001b[0;34m(\u001b[0m\u001b[0mx\u001b[0m\u001b[0;34m,\u001b[0m \u001b[0mnumbers\u001b[0m\u001b[0;34m.\u001b[0m\u001b[0mReal\u001b[0m\u001b[0;34m)\u001b[0m \u001b[0;32mand\u001b[0m \u001b[0mmath\u001b[0m\u001b[0;34m.\u001b[0m\u001b[0misnan\u001b[0m\u001b[0;34m(\u001b[0m\u001b[0mx\u001b[0m\u001b[0;34m)\u001b[0m\u001b[0;34m\u001b[0m\u001b[0;34m\u001b[0m\u001b[0m\n\u001b[0m\u001b[1;32m   1075\u001b[0m \u001b[0;34m\u001b[0m\u001b[0m\n\u001b[1;32m   1076\u001b[0m \u001b[0;34m\u001b[0m\u001b[0m\n",
            "\u001b[0;32m/usr/lib/python3.10/abc.py\u001b[0m in \u001b[0;36m__instancecheck__\u001b[0;34m(cls, instance)\u001b[0m\n\u001b[1;32m    117\u001b[0m         \u001b[0;32mdef\u001b[0m \u001b[0m__instancecheck__\u001b[0m\u001b[0;34m(\u001b[0m\u001b[0mcls\u001b[0m\u001b[0;34m,\u001b[0m \u001b[0minstance\u001b[0m\u001b[0;34m)\u001b[0m\u001b[0;34m:\u001b[0m\u001b[0;34m\u001b[0m\u001b[0;34m\u001b[0m\u001b[0m\n\u001b[1;32m    118\u001b[0m             \u001b[0;34m\"\"\"Override for isinstance(instance, cls).\"\"\"\u001b[0m\u001b[0;34m\u001b[0m\u001b[0;34m\u001b[0m\u001b[0m\n\u001b[0;32m--> 119\u001b[0;31m             \u001b[0;32mreturn\u001b[0m \u001b[0m_abc_instancecheck\u001b[0m\u001b[0;34m(\u001b[0m\u001b[0mcls\u001b[0m\u001b[0;34m,\u001b[0m \u001b[0minstance\u001b[0m\u001b[0;34m)\u001b[0m\u001b[0;34m\u001b[0m\u001b[0;34m\u001b[0m\u001b[0m\n\u001b[0m\u001b[1;32m    120\u001b[0m \u001b[0;34m\u001b[0m\u001b[0m\n\u001b[1;32m    121\u001b[0m         \u001b[0;32mdef\u001b[0m \u001b[0m__subclasscheck__\u001b[0m\u001b[0;34m(\u001b[0m\u001b[0mcls\u001b[0m\u001b[0;34m,\u001b[0m \u001b[0msubclass\u001b[0m\u001b[0;34m)\u001b[0m\u001b[0;34m:\u001b[0m\u001b[0;34m\u001b[0m\u001b[0;34m\u001b[0m\u001b[0m\n",
            "\u001b[0;31mKeyboardInterrupt\u001b[0m: "
          ]
        }
      ]
    }
  ]
}