{
 "cells": [
  {
   "cell_type": "markdown",
   "metadata": {},
   "source": [
    "# **Deep Learning Method**\n",
    "### Group 1 - Detection of Negation and Uncertainty\n",
    "\n",
    "- Marino Oliveros Blanco NIU:1668563\n",
    "- Pere Mayol Carbonell NIU:1669503\n",
    "- Andreu Gascón Marzo NIU:1670919\n",
    "- Judith Zaragoza NIU:1634071"
   ]
  },
  {
   "cell_type": "markdown",
   "metadata": {},
   "source": [
    "## **Library and Data Loading**"
   ]
  },
  {
   "cell_type": "code",
   "execution_count": 23,
   "metadata": {},
   "outputs": [],
   "source": [
    "# Libraries\n",
    "import json\n",
    "import re\n",
    "from langdetect import detect # Library for language detection\n",
    "from spellchecker import SpellChecker\n",
    "import spacy\n",
    "import random\n",
    "import numpy as np\n",
    "import tensorflow as tf\n",
    "from tensorflow.keras.models import Model\n",
    "from tensorflow.keras.layers import Input, Embedding, LSTM, Dense, concatenate\n",
    "from sklearn.metrics import precision_score, recall_score, f1_score, accuracy_score"
   ]
  },
  {
   "cell_type": "code",
   "execution_count": 18,
   "metadata": {},
   "outputs": [
    {
     "name": "stdout",
     "output_type": "stream",
     "text": [
      "The training set contains:  254  samples\n"
     ]
    }
   ],
   "source": [
    "# Loading the training json file\n",
    "loading_train = open(\"negacio_train_v2024.json\",)\n",
    "training_data = json.load(loading_train)\n",
    "print(\"The training set contains: \", len(training_data), \" samples\")"
   ]
  },
  {
   "cell_type": "code",
   "execution_count": 19,
   "metadata": {},
   "outputs": [
    {
     "name": "stdout",
     "output_type": "stream",
     "text": [
      "The test set contains:  64  samples\n"
     ]
    }
   ],
   "source": [
    "# Loading the json object\n",
    "loading_test = open(\"negacio_test_v2024.json\")\n",
    "test_data = json.load(loading_test)\n",
    "print(\"The test set contains: \", len(test_data), \" samples\")"
   ]
  },
  {
   "cell_type": "markdown",
   "metadata": {},
   "source": [
    "## **Data Annotation**\n",
    "- Set using ground truth word to either O, NEG, UNC, NSCO, USCO"
   ]
  },
  {
   "cell_type": "code",
   "execution_count": 20,
   "metadata": {},
   "outputs": [],
   "source": [
    "def tag_words_from_json(json_data):\n",
    "    # Extract text and predictions from JSON data\n",
    "    text = json_data[0]['data']['text']\n",
    "    predictions = json_data[0]['predictions'][0]['result']\n",
    "\n",
    "    # Initialize counters\n",
    "    counts = {'NEG': 0, 'NSCO': 0, 'UNC': 0, 'USCO': 0}\n",
    "\n",
    "    # Initialize tokens and their coordinates\n",
    "    tokens = []\n",
    "    start_pos = 0\n",
    "\n",
    "    # Split text into tokens while tracking their start and end positions\n",
    "    for word in text.split():\n",
    "        start = text.find(word, start_pos)\n",
    "        end = start + len(word)\n",
    "        tokens.append((word, start, end))\n",
    "        start_pos = end\n",
    "\n",
    "    # Initialize tags list\n",
    "    tags = ['O'] * len(tokens)\n",
    "\n",
    "    # Tag each word\n",
    "    for pred in predictions:\n",
    "        pred_start = pred['value']['start']\n",
    "        pred_end = pred['value']['end']\n",
    "        label = pred['value']['labels'][0]\n",
    "\n",
    "        if label in counts:\n",
    "            counts[label] += 1\n",
    "            for i, (word, start, end) in enumerate(tokens):\n",
    "                if start < pred_end and end > pred_start:\n",
    "                    tags[i] = label\n",
    "\n",
    "    # Combine tokens with tags\n",
    "    tagged_text = [(token[0], (token[1], token[2]), tags[i]) for i, token in enumerate(tokens)]\n",
    "\n",
    "    # Return tagged words with coordinates and counts\n",
    "    return tagged_text, counts"
   ]
  },
  {
   "cell_type": "code",
   "execution_count": 25,
   "metadata": {},
   "outputs": [
    {
     "name": "stdout",
     "output_type": "stream",
     "text": [
      "Tagged Words:\n",
      "[('nº', (1, 3), 'O'), ('historia', (4, 12), 'O'), ('clinica:', (13, 21), 'O'), ('**', (22, 24), 'O'), ('***', (25, 28), 'O'), ('***', (29, 32), 'O'), ('nºepisodi:', (33, 43), 'O'), ('********', (44, 52), 'O'), ('sexe:', (53, 58), 'O'), ('home', (59, 63), 'O'), ('data', (64, 68), 'O'), ('de', (69, 71), 'O'), ('naixement:', (72, 82), 'O'), ('16.05.1936', (83, 93), 'O'), ('edat:', (94, 99), 'O'), ('82', (100, 102), 'O'), ('anys', (103, 107), 'O'), ('procedencia', (108, 119), 'O'), ('cex', (120, 123), 'O'), ('mateix', (124, 130), 'O'), ('hosp', (131, 135), 'O'), ('servei', (136, 142), 'O'), ('urologia', (143, 151), 'O'), ('data', (152, 156), 'O'), (\"d'ingres\", (157, 165), 'O'), ('24.07.2018', (166, 176), 'O'), ('data', (177, 181), 'O'), (\"d'alta\", (182, 188), 'O'), ('25.07.2018', (189, 199), 'O'), ('08:54:04', (200, 208), 'O'), ('ates', (209, 213), 'O'), ('per', (214, 217), 'O'), ('***************,', (218, 234), 'O'), ('*****;', (235, 241), 'O'), ('****************,', (242, 259), 'O'), ('******', (260, 266), 'O'), ('informe', (267, 274), 'O'), (\"d'alta\", (275, 281), 'O'), (\"d'hospitalitzacio\", (282, 299), 'O'), ('motiu', (300, 305), 'O'), (\"d'ingres\", (306, 314), 'O'), ('paciente', (315, 323), 'O'), ('que', (324, 327), 'O'), ('ingresa', (328, 335), 'O'), ('de', (336, 338), 'O'), ('forma', (339, 344), 'O'), ('programada', (345, 355), 'O'), ('para', (356, 360), 'O'), ('realizacion', (361, 372), 'O'), ('de', (373, 375), 'O'), ('uretrotomia', (376, 387), 'O'), ('interna', (388, 395), 'O'), ('.', (396, 397), 'O'), ('antecedents', (398, 409), 'O'), ('alergia', (410, 417), 'O'), ('a', (418, 419), 'O'), ('penicilina', (420, 430), 'O'), ('y', (431, 432), 'O'), ('cloramfenicol', (433, 446), 'O'), ('.', (447, 448), 'O'), ('no', (449, 451), 'NEG'), ('habitos', (452, 459), 'NSCO'), ('toxicos.', (460, 468), 'NSCO'), ('antecedentes', (469, 481), 'O'), ('medicos:', (482, 490), 'O'), ('bloqueo', (491, 498), 'O'), ('auriculoventricular', (499, 518), 'O'), ('de', (519, 521), 'O'), ('primer', (522, 528), 'O'), ('grado', (529, 534), 'O'), ('hipertension', (535, 547), 'O'), ('arterial.', (548, 557), 'O'), ('diverticulosis', (558, 572), 'O'), ('extensa', (573, 580), 'O'), ('insuficiencia', (581, 594), 'O'), ('renal', (595, 600), 'O'), ('cronica', (601, 608), 'O'), ('colelitiasis', (609, 621), 'O'), ('antecedentes', (622, 634), 'O'), ('quirurgicos:', (635, 647), 'O'), ('exeresis', (648, 656), 'O'), ('de', (657, 659), 'O'), ('lesiones', (660, 668), 'O'), ('cutaneas', (669, 677), 'O'), ('con', (678, 681), 'O'), ('anestesia', (682, 691), 'O'), ('local', (692, 697), 'O'), ('protesis', (698, 706), 'O'), ('total', (707, 712), 'O'), ('de', (713, 715), 'O'), ('cadera', (716, 722), 'O'), ('cordectomia', (723, 734), 'O'), ('herniorrafia', (735, 747), 'O'), ('inguinal', (748, 756), 'O'), ('proces', (757, 763), 'O'), ('actual', (764, 770), 'O'), ('varon', (771, 776), 'O'), ('de', (777, 779), 'O'), ('81a', (780, 783), 'O'), ('que', (784, 787), 'O'), ('a', (788, 789), 'O'), ('raiz', (790, 794), 'O'), ('de', (795, 797), 'O'), ('episodio', (798, 806), 'O'), ('de', (807, 809), 'O'), ('hematuria', (810, 819), 'O'), ('macroscopica', (820, 832), 'O'), ('se', (833, 835), 'O'), ('realiza', (836, 843), 'O'), ('cistoscopia', (844, 855), 'NSCO'), ('que', (856, 859), 'O'), ('es', (860, 862), 'O'), ('negativa', (863, 871), 'NEG'), ('para', (872, 876), 'NSCO'), ('lesiones', (877, 885), 'NSCO'), ('malignas', (886, 894), 'NSCO'), ('pero', (895, 899), 'O'), ('se', (900, 902), 'O'), ('objetiva', (903, 911), 'O'), ('estenosis', (912, 921), 'O'), ('de', (922, 924), 'O'), ('uretra', (925, 931), 'O'), ('.', (932, 933), 'O'), ('se', (934, 936), 'O'), ('intentan', (937, 945), 'O'), ('dilataciones', (946, 958), 'O'), ('progresivas', (959, 970), 'O'), ('en', (971, 973), 'O'), ('el', (974, 976), 'O'), ('gabinete', (977, 985), 'O'), ('de', (986, 988), 'O'), ('urologia', (989, 997), 'O'), ('sin', (998, 1001), 'NEG'), ('exito.', (1002, 1008), 'NSCO'), ('se', (1009, 1011), 'O'), ('solicita', (1012, 1020), 'O'), ('estudio', (1021, 1028), 'O'), ('de', (1029, 1031), 'O'), ('imagen', (1032, 1038), 'O'), ('que', (1039, 1042), 'O'), ('confirma', (1043, 1051), 'O'), ('la', (1052, 1054), 'O'), ('existencia', (1055, 1065), 'O'), ('de', (1066, 1068), 'O'), ('estenosis', (1069, 1078), 'O'), ('a', (1079, 1080), 'O'), ('nivel', (1081, 1086), 'O'), ('d', (1087, 1088), 'O'), ('uretra', (1089, 1095), 'O'), ('bulbar', (1096, 1102), 'O'), ('por', (1103, 1106), 'O'), ('lo', (1107, 1109), 'O'), ('que', (1110, 1113), 'O'), ('se', (1114, 1116), 'O'), ('indica', (1117, 1123), 'O'), ('uretrtomia', (1124, 1134), 'O'), ('interna.', (1135, 1143), 'O'), ('exploracio', (1144, 1154), 'O'), ('complementaria', (1155, 1169), 'O'), ('uretrocistografia', (1170, 1187), 'O'), ('retrograda', (1188, 1198), 'O'), ('+', (1199, 1200), 'O'), ('cums', (1201, 1205), 'O'), ('(11/2017):', (1206, 1216), 'O'), ('la', (1217, 1219), 'O'), ('uretrografia', (1220, 1232), 'O'), ('retrograda', (1233, 1243), 'O'), ('muestra', (1244, 1251), 'O'), ('una', (1252, 1255), 'O'), ('uretra', (1256, 1262), 'O'), ('anterior', (1263, 1271), 'O'), ('con', (1272, 1275), 'O'), ('dos', (1276, 1279), 'O'), ('estenosis', (1280, 1289), 'O'), ('focales', (1290, 1297), 'O'), ('a', (1298, 1299), 'O'), ('nivel', (1300, 1305), 'O'), ('de', (1306, 1308), 'O'), ('uretra', (1309, 1315), 'O'), ('peneana', (1316, 1323), 'O'), ('y', (1324, 1325), 'O'), ('bulbar,', (1326, 1333), 'O'), ('aunque', (1334, 1340), 'O'), ('se', (1341, 1343), 'O'), ('observa', (1344, 1351), 'O'), ('paso', (1352, 1356), 'O'), ('de', (1357, 1359), 'O'), ('contraste', (1360, 1369), 'O'), ('retrogrado', (1370, 1380), 'O'), ('a', (1381, 1382), 'O'), ('vejiga.', (1383, 1390), 'O'), ('vejiga', (1391, 1397), 'O'), ('de', (1398, 1400), 'O'), ('correcta', (1401, 1409), 'O'), ('capacidad', (1410, 1419), 'O'), ('(250', (1420, 1424), 'O'), ('cc', (1425, 1427), 'O'), ('de', (1428, 1430), 'O'), ('contraste),', (1431, 1442), 'O'), ('de', (1443, 1445), 'O'), ('paredes', (1446, 1453), 'O'), ('trabeculadas', (1454, 1466), 'O'), ('y', (1467, 1468), 'O'), ('con', (1469, 1472), 'O'), ('diverticulos,', (1473, 1486), 'O'), ('el', (1487, 1489), 'O'), ('mayor', (1490, 1495), 'O'), ('de', (1496, 1498), 'O'), ('ellos', (1499, 1504), 'O'), ('en', (1505, 1507), 'O'), ('cara', (1508, 1512), 'O'), ('posterolateral', (1513, 1527), 'O'), ('izquierda,', (1528, 1538), 'O'), ('sin', (1539, 1542), 'NEG'), ('observarse', (1543, 1553), 'NSCO'), ('defectos', (1554, 1562), 'NSCO'), ('de', (1563, 1565), 'NSCO'), ('replecion.', (1566, 1576), 'NSCO'), ('la', (1577, 1579), 'O'), ('uretrografia', (1580, 1592), 'O'), ('miccional', (1593, 1602), 'O'), ('muestra', (1603, 1610), 'O'), ('una', (1611, 1614), 'O'), ('uretra', (1615, 1621), 'O'), ('prostatica', (1622, 1632), 'O'), ('dilatada,', (1633, 1642), 'O'), ('sin', (1643, 1646), 'UNC'), ('claras', (1647, 1653), 'UNC'), ('estenosis', (1654, 1663), 'USCO'), ('focales', (1664, 1671), 'USCO'), ('confirmandose', (1672, 1685), 'USCO'), ('la', (1686, 1688), 'USCO'), ('existencia', (1689, 1699), 'USCO'), ('de', (1700, 1702), 'USCO'), ('las', (1703, 1706), 'USCO'), ('dos', (1707, 1710), 'USCO'), ('estenosis', (1711, 1720), 'USCO'), ('de', (1721, 1723), 'USCO'), ('uretra', (1724, 1730), 'USCO'), ('anterior', (1731, 1739), 'USCO'), ('descritas', (1740, 1749), 'USCO'), ('previamente.', (1750, 1762), 'USCO'), ('moderado', (1763, 1771), 'O'), ('residuo', (1772, 1779), 'O'), ('postmiccional', (1780, 1793), 'O'), ('en', (1794, 1796), 'O'), ('vejiga', (1797, 1803), 'O'), ('asi', (1804, 1807), 'O'), ('como', (1808, 1812), 'O'), ('en', (1813, 1815), 'O'), ('el', (1816, 1818), 'O'), ('interior', (1819, 1827), 'O'), ('del', (1828, 1831), 'O'), ('diverticulo', (1832, 1843), 'O'), ('posterolateral', (1844, 1858), 'O'), ('izquierdo', (1859, 1868), 'O'), ('descrito.', (1869, 1878), 'O'), ('uretroscopia', (1879, 1891), 'O'), ('(10/2017)', (1892, 1901), 'O'), ('falsa', (1902, 1907), 'UNC'), ('via', (1908, 1911), 'USCO'), ('a', (1912, 1913), 'USCO'), ('nivel', (1914, 1919), 'USCO'), ('de', (1920, 1922), 'USCO'), ('uretra', (1923, 1929), 'USCO'), ('peneana,', (1930, 1938), 'USCO'), ('siguiendo', (1939, 1948), 'O'), ('la', (1949, 1951), 'O'), ('uretra', (1952, 1958), 'O'), ('se', (1959, 1961), 'O'), ('detecta', (1962, 1969), 'O'), ('gran', (1970, 1974), 'O'), ('estenosis', (1975, 1984), 'O'), ('que', (1985, 1988), 'O'), ('no', (1989, 1991), 'NEG'), ('permite', (1992, 1999), 'NSCO'), ('el', (2000, 2002), 'NSCO'), ('paso', (2003, 2007), 'NSCO'), ('de', (2008, 2010), 'NSCO'), ('una', (2011, 2014), 'NSCO'), ('guia.', (2015, 2020), 'NSCO'), ('nhc', (2021, 2024), 'O'), ('**', (2025, 2027), 'O'), ('***', (2028, 2031), 'O'), ('***', (2032, 2035), 'O'), ('(********)', (2036, 2046), 'O'), ('age-v-uro', (2047, 2056), 'O'), ('1/2', (2057, 2060), 'O'), ('lopd', (2061, 2065), 'O'), ('evolucio', (2066, 2074), 'O'), ('clinica', (2075, 2082), 'O'), ('el', (2083, 2085), 'O'), ('24', (2086, 2088), 'O'), ('de', (2089, 2091), 'O'), ('julio', (2092, 2097), 'O'), ('de', (2098, 2100), 'O'), ('2018', (2101, 2105), 'O'), ('con', (2106, 2109), 'O'), ('el', (2110, 2112), 'O'), ('consentimiento', (2113, 2127), 'O'), ('informado', (2128, 2137), 'O'), ('del', (2138, 2141), 'O'), ('paciente', (2142, 2150), 'O'), ('y', (2151, 2152), 'O'), ('sin', (2153, 2156), 'NEG'), ('contraindicacion', (2157, 2173), 'NSCO'), ('preoperatoria', (2174, 2187), 'NSCO'), ('se', (2188, 2190), 'O'), ('realiza', (2191, 2198), 'O'), ('uretrotomia', (2199, 2210), 'O'), ('interna', (2211, 2218), 'O'), ('sin', (2219, 2222), 'NEG'), ('incidencias.', (2223, 2235), 'NSCO'), ('tras', (2236, 2240), 'O'), ('el', (2241, 2243), 'O'), ('procedimiento', (2244, 2257), 'O'), ('el', (2258, 2260), 'O'), ('paciente', (2261, 2269), 'O'), ('es', (2270, 2272), 'O'), ('trasladado', (2273, 2283), 'O'), ('a', (2284, 2285), 'O'), ('la', (2286, 2288), 'O'), ('planta', (2289, 2295), 'O'), ('de', (2296, 2298), 'O'), ('hospitalizacion', (2299, 2314), 'O'), ('siendo', (2315, 2321), 'O'), ('portador', (2322, 2330), 'O'), ('de', (2331, 2333), 'O'), ('lavado', (2334, 2340), 'O'), ('vesical', (2341, 2348), 'O'), ('continuo.', (2349, 2358), 'O'), ('posteriormente', (2359, 2373), 'O'), ('se', (2374, 2376), 'O'), ('mantiene', (2377, 2385), 'O'), ('en', (2386, 2388), 'O'), ('buen', (2389, 2393), 'O'), ('estado', (2394, 2400), 'O'), ('general,', (2401, 2409), 'O'), ('afebril,', (2410, 2418), 'NEG'), ('hemodinamicamente', (2419, 2436), 'O'), ('estable', (2437, 2444), 'O'), ('y', (2445, 2446), 'O'), ('con', (2447, 2450), 'O'), ('buen', (2451, 2455), 'O'), ('control', (2456, 2463), 'O'), ('del', (2464, 2467), 'O'), ('dolor.', (2468, 2474), 'O'), ('aclarado', (2475, 2483), 'O'), ('progresivo', (2484, 2494), 'O'), ('de', (2495, 2497), 'O'), ('la', (2498, 2500), 'O'), ('orina', (2501, 2506), 'O'), ('con', (2507, 2510), 'O'), ('los', (2511, 2514), 'O'), ('lavados', (2515, 2522), 'O'), ('vesicales', (2523, 2532), 'O'), ('continuos,', (2533, 2543), 'O'), ('que', (2544, 2547), 'O'), ('permiten', (2548, 2556), 'O'), ('su', (2557, 2559), 'O'), ('retirada,', (2560, 2569), 'O'), ('conserva', (2570, 2578), 'O'), ('correcta', (2579, 2587), 'O'), ('diuresis.', (2588, 2597), 'O'), ('tolerancia', (2598, 2608), 'O'), ('correcta', (2609, 2617), 'O'), ('a', (2618, 2619), 'O'), ('dieta', (2620, 2625), 'O'), ('oral.', (2626, 2631), 'O'), ('dada', (2632, 2636), 'O'), ('la', (2637, 2639), 'O'), ('buena', (2640, 2645), 'O'), ('evolucion', (2646, 2655), 'O'), ('se', (2656, 2658), 'O'), ('decide', (2659, 2665), 'O'), ('alta', (2666, 2670), 'O'), ('domiciliaria', (2671, 2683), 'O'), ('siendo', (2684, 2690), 'O'), ('portador', (2691, 2699), 'O'), ('de', (2700, 2702), 'O'), ('sonda', (2703, 2708), 'O'), ('vesical.', (2709, 2717), 'O'), ('orientacio', (2718, 2728), 'O'), ('diagnostica', (2729, 2740), 'O'), ('n40.0', (2741, 2746), 'O'), ('hiperplasia', (2747, 2758), 'O'), ('prostatica', (2759, 2769), 'O'), ('benigna', (2770, 2777), 'O'), ('sense', (2778, 2783), 'O'), ('simptomes', (2784, 2793), 'O'), ('en', (2794, 2796), 'O'), ('les', (2797, 2800), 'O'), ('vies', (2801, 2805), 'O'), ('urinaries', (2806, 2815), 'O'), ('inferiors', (2816, 2825), 'O'), ('procediments', (2826, 2838), 'O'), ('04.81', (2839, 2844), 'O'), ('injeccio', (2845, 2853), 'O'), ('en', (2854, 2856), 'O'), ('el', (2857, 2859), 'O'), ('nervi', (2860, 2865), 'O'), ('periferic', (2866, 2875), 'O'), (\"d'anestesic\", (2876, 2887), 'O'), ('per', (2888, 2891), 'O'), ('a', (2892, 2893), 'O'), ('analgesia', (2894, 2903), 'O'), ('58.0', (2904, 2908), 'O'), ('uretrotomia.', (2909, 2921), 'O'), ('excisio', (2922, 2929), 'O'), ('de', (2930, 2932), 'O'), ('septe', (2933, 2938), 'O'), ('uretral,', (2939, 2947), 'O'), ('uretrostomia', (2948, 2960), 'O'), ('perineal,', (2961, 2970), 'O'), ('extraccio', (2971, 2980), 'O'), ('de', (2981, 2983), 'O'), ('calcul', (2984, 2990), 'O'), ('uretral', (2991, 2998), 'O'), ('per', (2999, 3002), 'O'), ('incisio', (3003, 3010), 'O'), ('sonda', (3011, 3016), 'O'), ('vesical', (3017, 3024), 'O'), ('profilaxis', (3025, 3035), 'O'), ('antibiotica,', (3036, 3048), 'O'), ('antilucerosa', (3049, 3061), 'O'), ('y', (3062, 3063), 'O'), ('antitrombotica', (3064, 3078), 'O'), ('tractament', (3079, 3089), 'O'), ('i', (3090, 3091), 'O'), ('recomanacions', (3092, 3105), 'O'), ('a', (3106, 3107), 'O'), (\"l'alta\", (3108, 3114), 'O'), ('-abundante', (3115, 3125), 'O'), ('ingesta', (3126, 3133), 'O'), ('de', (3134, 3136), 'O'), ('liquidos', (3137, 3145), 'O'), ('entorno', (3146, 3153), 'O'), ('a', (3154, 3155), 'O'), ('dos', (3156, 3159), 'O'), ('litros', (3160, 3166), 'O'), ('y', (3167, 3168), 'O'), ('medio', (3169, 3174), 'O'), ('de', (3175, 3177), 'O'), ('agua', (3178, 3182), 'O'), ('al', (3183, 3185), 'O'), ('dia.', (3186, 3190), 'O'), ('-puede', (3191, 3197), 'O'), ('orinar', (3198, 3204), 'O'), ('con', (3205, 3208), 'O'), ('restos', (3209, 3215), 'O'), ('de', (3216, 3218), 'O'), ('sangre', (3219, 3225), 'O'), ('durante', (3226, 3233), 'O'), ('las', (3234, 3237), 'O'), ('proximas', (3238, 3246), 'O'), ('semanas.', (3247, 3255), 'O'), ('-es', (3256, 3259), 'O'), ('normal', (3260, 3266), 'O'), ('que', (3267, 3270), 'O'), ('sienta', (3271, 3277), 'O'), ('escozor', (3278, 3285), 'O'), ('al', (3286, 3288), 'O'), ('orinar', (3289, 3295), 'O'), ('y', (3296, 3297), 'O'), ('que', (3298, 3301), 'O'), ('tenga', (3302, 3307), 'O'), ('algun', (3308, 3313), 'O'), ('escape', (3314, 3320), 'O'), ('de', (3321, 3323), 'O'), ('orina', (3324, 3329), 'O'), ('y', (3330, 3331), 'O'), ('urgencia', (3332, 3340), 'O'), ('miccional', (3341, 3350), 'O'), ('al', (3351, 3353), 'O'), ('retirar', (3354, 3361), 'O'), ('la', (3362, 3364), 'O'), ('sonda', (3365, 3370), 'O'), ('vesical.', (3371, 3379), 'O'), ('mantener', (3380, 3388), 'O'), ('sonda', (3389, 3394), 'O'), ('vesical', (3395, 3402), 'O'), ('durante', (3403, 3410), 'O'), ('14', (3411, 3413), 'O'), ('dias', (3414, 3418), 'O'), ('(dos', (3419, 3423), 'O'), ('semanas).', (3424, 3433), 'O'), ('ciprofloxacino', (3434, 3448), 'O'), ('500mg', (3449, 3454), 'O'), ('cada', (3455, 3459), 'O'), ('12h', (3460, 3463), 'O'), ('durante', (3464, 3471), 'O'), ('dos', (3472, 3475), 'O'), ('semanas.', (3476, 3484), 'O'), ('-paracetamol', (3485, 3497), 'O'), ('1', (3498, 3499), 'O'), ('g', (3500, 3501), 'O'), ('cada', (3502, 3506), 'O'), ('8', (3507, 3508), 'O'), ('horas', (3509, 3514), 'O'), ('si', (3515, 3517), 'O'), ('molestias.', (3518, 3528), 'O'), ('-si', (3529, 3532), 'O'), ('fiebre', (3533, 3539), 'O'), ('mayor', (3540, 3545), 'O'), ('de', (3546, 3548), 'O'), ('38ºc,', (3549, 3554), 'O'), ('empeoramiento', (3555, 3568), 'O'), ('claro', (3569, 3574), 'O'), ('del', (3575, 3578), 'O'), ('estado', (3579, 3585), 'O'), ('general', (3586, 3593), 'O'), ('o', (3594, 3595), 'O'), ('imposibilidad', (3596, 3609), 'O'), ('miccional', (3610, 3619), 'O'), ('por', (3620, 3623), 'O'), ('obstruccion', (3624, 3635), 'O'), ('de', (3636, 3638), 'O'), ('sonda', (3639, 3644), 'O'), ('vesical', (3645, 3652), 'O'), ('o', (3653, 3654), 'O'), ('despues', (3655, 3662), 'O'), ('de', (3663, 3665), 'O'), ('su', (3666, 3668), 'O'), ('retirada,', (3669, 3678), 'O'), ('consultar', (3679, 3688), 'O'), ('con', (3689, 3692), 'O'), ('el', (3693, 3695), 'O'), ('servicio', (3696, 3704), 'O'), ('de', (3705, 3707), 'O'), ('urgencias.', (3708, 3718), 'O'), ('-control', (3719, 3727), 'O'), ('en', (3728, 3730), 'O'), ('consultas', (3731, 3740), 'O'), ('externas', (3741, 3749), 'O'), ('de', (3750, 3752), 'O'), ('urologia', (3753, 3761), 'O'), ('segun', (3762, 3767), 'O'), ('cita', (3768, 3772), 'O'), ('en', (3773, 3775), 'O'), ('hoja', (3776, 3780), 'O'), ('adjunta.', (3781, 3789), 'O'), ('destinacio', (3790, 3800), 'O'), ('a', (3801, 3802), 'O'), (\"l'alta:\", (3803, 3810), 'O'), ('a', (3811, 3812), 'O'), ('domicili', (3813, 3821), 'O'), ('nhc', (3822, 3825), 'O'), ('**', (3826, 3828), 'O'), ('***', (3829, 3832), 'O'), ('***', (3833, 3836), 'O'), ('(********)', (3837, 3847), 'O'), ('age-v-uro', (3848, 3857), 'O'), ('2/2', (3858, 3861), 'O'), ('lopd', (3862, 3866), 'O')]\n",
      "\n",
      "Number of tokens in the entry: 554\n",
      "\n",
      "Counts:\n",
      "{'NEG': 8, 'NSCO': 8, 'UNC': 2, 'USCO': 2}\n"
     ]
    }
   ],
   "source": [
    "# EXAMPLE USAGE\n",
    "# Tag the words from the training data\n",
    "tags, counts = tag_words_from_json(training_data)\n",
    "print(\"Tagged Words:\")\n",
    "print(tags)\n",
    "print(\"\\nNumber of tokens in the entry:\", len(tags))\n",
    "print(\"\\nCounts:\")\n",
    "print(counts)"
   ]
  },
  {
   "cell_type": "code",
   "execution_count": 33,
   "metadata": {},
   "outputs": [
    {
     "name": "stdout",
     "output_type": "stream",
     "text": [
      "Number of tokens in the entry: 254\n",
      "[('nº', (1, 3), 'O'), ('historia', (4, 12), 'O'), ('clinica:', (13, 21), 'O'), ('**', (22, 24), 'O'), ('***', (25, 28), 'O'), ('***', (29, 32), 'O'), ('nºepisodi:', (33, 43), 'O'), ('********', (44, 52), 'O'), ('sexe:', (53, 58), 'O'), ('home', (59, 63), 'O'), ('data', (64, 68), 'O'), ('de', (69, 71), 'O'), ('naixement:', (72, 82), 'O'), ('16.05.1936', (83, 93), 'O'), ('edat:', (94, 99), 'O'), ('82', (100, 102), 'O'), ('anys', (103, 107), 'O'), ('procedencia', (108, 119), 'O'), ('cex', (120, 123), 'O'), ('mateix', (124, 130), 'O'), ('hosp', (131, 135), 'O'), ('servei', (136, 142), 'O'), ('urologia', (143, 151), 'O'), ('data', (152, 156), 'O'), (\"d'ingres\", (157, 165), 'O'), ('24.07.2018', (166, 176), 'O'), ('data', (177, 181), 'O'), (\"d'alta\", (182, 188), 'O'), ('25.07.2018', (189, 199), 'O'), ('08:54:04', (200, 208), 'O'), ('ates', (209, 213), 'O'), ('per', (214, 217), 'O'), ('***************,', (218, 234), 'O'), ('*****;', (235, 241), 'O'), ('****************,', (242, 259), 'O'), ('******', (260, 266), 'O'), ('informe', (267, 274), 'O'), (\"d'alta\", (275, 281), 'O'), (\"d'hospitalitzacio\", (282, 299), 'O'), ('motiu', (300, 305), 'O'), (\"d'ingres\", (306, 314), 'O'), ('paciente', (315, 323), 'O'), ('que', (324, 327), 'O'), ('ingresa', (328, 335), 'O'), ('de', (336, 338), 'O'), ('forma', (339, 344), 'O'), ('programada', (345, 355), 'O'), ('para', (356, 360), 'O'), ('realizacion', (361, 372), 'O'), ('de', (373, 375), 'O'), ('uretrotomia', (376, 387), 'O'), ('interna', (388, 395), 'O'), ('.', (396, 397), 'O'), ('antecedents', (398, 409), 'O'), ('alergia', (410, 417), 'O'), ('a', (418, 419), 'O'), ('penicilina', (420, 430), 'O'), ('y', (431, 432), 'O'), ('cloramfenicol', (433, 446), 'O'), ('.', (447, 448), 'O'), ('no', (449, 451), 'NEG'), ('habitos', (452, 459), 'NSCO'), ('toxicos.', (460, 468), 'NSCO'), ('antecedentes', (469, 481), 'O'), ('medicos:', (482, 490), 'O'), ('bloqueo', (491, 498), 'O'), ('auriculoventricular', (499, 518), 'O'), ('de', (519, 521), 'O'), ('primer', (522, 528), 'O'), ('grado', (529, 534), 'O'), ('hipertension', (535, 547), 'O'), ('arterial.', (548, 557), 'O'), ('diverticulosis', (558, 572), 'O'), ('extensa', (573, 580), 'O'), ('insuficiencia', (581, 594), 'O'), ('renal', (595, 600), 'O'), ('cronica', (601, 608), 'O'), ('colelitiasis', (609, 621), 'O'), ('antecedentes', (622, 634), 'O'), ('quirurgicos:', (635, 647), 'O'), ('exeresis', (648, 656), 'O'), ('de', (657, 659), 'O'), ('lesiones', (660, 668), 'O'), ('cutaneas', (669, 677), 'O'), ('con', (678, 681), 'O'), ('anestesia', (682, 691), 'O'), ('local', (692, 697), 'O'), ('protesis', (698, 706), 'O'), ('total', (707, 712), 'O'), ('de', (713, 715), 'O'), ('cadera', (716, 722), 'O'), ('cordectomia', (723, 734), 'O'), ('herniorrafia', (735, 747), 'O'), ('inguinal', (748, 756), 'O'), ('proces', (757, 763), 'O'), ('actual', (764, 770), 'O'), ('varon', (771, 776), 'O'), ('de', (777, 779), 'O'), ('81a', (780, 783), 'O'), ('que', (784, 787), 'O'), ('a', (788, 789), 'O'), ('raiz', (790, 794), 'O'), ('de', (795, 797), 'O'), ('episodio', (798, 806), 'O'), ('de', (807, 809), 'O'), ('hematuria', (810, 819), 'O'), ('macroscopica', (820, 832), 'O'), ('se', (833, 835), 'O'), ('realiza', (836, 843), 'O'), ('cistoscopia', (844, 855), 'NSCO'), ('que', (856, 859), 'O'), ('es', (860, 862), 'O'), ('negativa', (863, 871), 'NEG'), ('para', (872, 876), 'NSCO'), ('lesiones', (877, 885), 'NSCO'), ('malignas', (886, 894), 'NSCO'), ('pero', (895, 899), 'O'), ('se', (900, 902), 'O'), ('objetiva', (903, 911), 'O'), ('estenosis', (912, 921), 'O'), ('de', (922, 924), 'O'), ('uretra', (925, 931), 'O'), ('.', (932, 933), 'O'), ('se', (934, 936), 'O'), ('intentan', (937, 945), 'O'), ('dilataciones', (946, 958), 'O'), ('progresivas', (959, 970), 'O'), ('en', (971, 973), 'O'), ('el', (974, 976), 'O'), ('gabinete', (977, 985), 'O'), ('de', (986, 988), 'O'), ('urologia', (989, 997), 'O'), ('sin', (998, 1001), 'NEG'), ('exito.', (1002, 1008), 'NSCO'), ('se', (1009, 1011), 'O'), ('solicita', (1012, 1020), 'O'), ('estudio', (1021, 1028), 'O'), ('de', (1029, 1031), 'O'), ('imagen', (1032, 1038), 'O'), ('que', (1039, 1042), 'O'), ('confirma', (1043, 1051), 'O'), ('la', (1052, 1054), 'O'), ('existencia', (1055, 1065), 'O'), ('de', (1066, 1068), 'O'), ('estenosis', (1069, 1078), 'O'), ('a', (1079, 1080), 'O'), ('nivel', (1081, 1086), 'O'), ('d', (1087, 1088), 'O'), ('uretra', (1089, 1095), 'O'), ('bulbar', (1096, 1102), 'O'), ('por', (1103, 1106), 'O'), ('lo', (1107, 1109), 'O'), ('que', (1110, 1113), 'O'), ('se', (1114, 1116), 'O'), ('indica', (1117, 1123), 'O'), ('uretrtomia', (1124, 1134), 'O'), ('interna.', (1135, 1143), 'O'), ('exploracio', (1144, 1154), 'O'), ('complementaria', (1155, 1169), 'O'), ('uretrocistografia', (1170, 1187), 'O'), ('retrograda', (1188, 1198), 'O'), ('+', (1199, 1200), 'O'), ('cums', (1201, 1205), 'O'), ('(11/2017):', (1206, 1216), 'O'), ('la', (1217, 1219), 'O'), ('uretrografia', (1220, 1232), 'O'), ('retrograda', (1233, 1243), 'O'), ('muestra', (1244, 1251), 'O'), ('una', (1252, 1255), 'O'), ('uretra', (1256, 1262), 'O'), ('anterior', (1263, 1271), 'O'), ('con', (1272, 1275), 'O'), ('dos', (1276, 1279), 'O'), ('estenosis', (1280, 1289), 'O'), ('focales', (1290, 1297), 'O'), ('a', (1298, 1299), 'O'), ('nivel', (1300, 1305), 'O'), ('de', (1306, 1308), 'O'), ('uretra', (1309, 1315), 'O'), ('peneana', (1316, 1323), 'O'), ('y', (1324, 1325), 'O'), ('bulbar,', (1326, 1333), 'O'), ('aunque', (1334, 1340), 'O'), ('se', (1341, 1343), 'O'), ('observa', (1344, 1351), 'O'), ('paso', (1352, 1356), 'O'), ('de', (1357, 1359), 'O'), ('contraste', (1360, 1369), 'O'), ('retrogrado', (1370, 1380), 'O'), ('a', (1381, 1382), 'O'), ('vejiga.', (1383, 1390), 'O'), ('vejiga', (1391, 1397), 'O'), ('de', (1398, 1400), 'O'), ('correcta', (1401, 1409), 'O'), ('capacidad', (1410, 1419), 'O'), ('(250', (1420, 1424), 'O'), ('cc', (1425, 1427), 'O'), ('de', (1428, 1430), 'O'), ('contraste),', (1431, 1442), 'O'), ('de', (1443, 1445), 'O'), ('paredes', (1446, 1453), 'O'), ('trabeculadas', (1454, 1466), 'O'), ('y', (1467, 1468), 'O'), ('con', (1469, 1472), 'O'), ('diverticulos,', (1473, 1486), 'O'), ('el', (1487, 1489), 'O'), ('mayor', (1490, 1495), 'O'), ('de', (1496, 1498), 'O'), ('ellos', (1499, 1504), 'O'), ('en', (1505, 1507), 'O'), ('cara', (1508, 1512), 'O'), ('posterolateral', (1513, 1527), 'O'), ('izquierda,', (1528, 1538), 'O'), ('sin', (1539, 1542), 'NEG'), ('observarse', (1543, 1553), 'NSCO'), ('defectos', (1554, 1562), 'NSCO'), ('de', (1563, 1565), 'NSCO'), ('replecion.', (1566, 1576), 'NSCO'), ('la', (1577, 1579), 'O'), ('uretrografia', (1580, 1592), 'O'), ('miccional', (1593, 1602), 'O'), ('muestra', (1603, 1610), 'O'), ('una', (1611, 1614), 'O'), ('uretra', (1615, 1621), 'O'), ('prostatica', (1622, 1632), 'O'), ('dilatada,', (1633, 1642), 'O'), ('sin', (1643, 1646), 'UNC'), ('claras', (1647, 1653), 'UNC'), ('estenosis', (1654, 1663), 'USCO'), ('focales', (1664, 1671), 'USCO'), ('confirmandose', (1672, 1685), 'USCO'), ('la', (1686, 1688), 'USCO'), ('existencia', (1689, 1699), 'USCO'), ('de', (1700, 1702), 'USCO'), ('las', (1703, 1706), 'USCO'), ('dos', (1707, 1710), 'USCO'), ('estenosis', (1711, 1720), 'USCO'), ('de', (1721, 1723), 'USCO'), ('uretra', (1724, 1730), 'USCO'), ('anterior', (1731, 1739), 'USCO'), ('descritas', (1740, 1749), 'USCO'), ('previamente.', (1750, 1762), 'USCO'), ('moderado', (1763, 1771), 'O'), ('residuo', (1772, 1779), 'O'), ('postmiccional', (1780, 1793), 'O'), ('en', (1794, 1796), 'O'), ('vejiga', (1797, 1803), 'O'), ('asi', (1804, 1807), 'O'), ('como', (1808, 1812), 'O'), ('en', (1813, 1815), 'O'), ('el', (1816, 1818), 'O'), ('interior', (1819, 1827), 'O'), ('del', (1828, 1831), 'O'), ('diverticulo', (1832, 1843), 'O'), ('posterolateral', (1844, 1858), 'O'), ('izquierdo', (1859, 1868), 'O'), ('descrito.', (1869, 1878), 'O'), ('uretroscopia', (1879, 1891), 'O'), ('(10/2017)', (1892, 1901), 'O'), ('falsa', (1902, 1907), 'UNC'), ('via', (1908, 1911), 'USCO'), ('a', (1912, 1913), 'USCO'), ('nivel', (1914, 1919), 'USCO'), ('de', (1920, 1922), 'USCO'), ('uretra', (1923, 1929), 'USCO'), ('peneana,', (1930, 1938), 'USCO'), ('siguiendo', (1939, 1948), 'O'), ('la', (1949, 1951), 'O'), ('uretra', (1952, 1958), 'O'), ('se', (1959, 1961), 'O'), ('detecta', (1962, 1969), 'O'), ('gran', (1970, 1974), 'O'), ('estenosis', (1975, 1984), 'O'), ('que', (1985, 1988), 'O'), ('no', (1989, 1991), 'NEG'), ('permite', (1992, 1999), 'NSCO'), ('el', (2000, 2002), 'NSCO'), ('paso', (2003, 2007), 'NSCO'), ('de', (2008, 2010), 'NSCO'), ('una', (2011, 2014), 'NSCO'), ('guia.', (2015, 2020), 'NSCO'), ('nhc', (2021, 2024), 'O'), ('**', (2025, 2027), 'O'), ('***', (2028, 2031), 'O'), ('***', (2032, 2035), 'O'), ('(********)', (2036, 2046), 'O'), ('age-v-uro', (2047, 2056), 'O'), ('1/2', (2057, 2060), 'O'), ('lopd', (2061, 2065), 'O'), ('evolucio', (2066, 2074), 'O'), ('clinica', (2075, 2082), 'O'), ('el', (2083, 2085), 'O'), ('24', (2086, 2088), 'O'), ('de', (2089, 2091), 'O'), ('julio', (2092, 2097), 'O'), ('de', (2098, 2100), 'O'), ('2018', (2101, 2105), 'O'), ('con', (2106, 2109), 'O'), ('el', (2110, 2112), 'O'), ('consentimiento', (2113, 2127), 'O'), ('informado', (2128, 2137), 'O'), ('del', (2138, 2141), 'O'), ('paciente', (2142, 2150), 'O'), ('y', (2151, 2152), 'O'), ('sin', (2153, 2156), 'NEG'), ('contraindicacion', (2157, 2173), 'NSCO'), ('preoperatoria', (2174, 2187), 'NSCO'), ('se', (2188, 2190), 'O'), ('realiza', (2191, 2198), 'O'), ('uretrotomia', (2199, 2210), 'O'), ('interna', (2211, 2218), 'O'), ('sin', (2219, 2222), 'NEG'), ('incidencias.', (2223, 2235), 'NSCO'), ('tras', (2236, 2240), 'O'), ('el', (2241, 2243), 'O'), ('procedimiento', (2244, 2257), 'O'), ('el', (2258, 2260), 'O'), ('paciente', (2261, 2269), 'O'), ('es', (2270, 2272), 'O'), ('trasladado', (2273, 2283), 'O'), ('a', (2284, 2285), 'O'), ('la', (2286, 2288), 'O'), ('planta', (2289, 2295), 'O'), ('de', (2296, 2298), 'O'), ('hospitalizacion', (2299, 2314), 'O'), ('siendo', (2315, 2321), 'O'), ('portador', (2322, 2330), 'O'), ('de', (2331, 2333), 'O'), ('lavado', (2334, 2340), 'O'), ('vesical', (2341, 2348), 'O'), ('continuo.', (2349, 2358), 'O'), ('posteriormente', (2359, 2373), 'O'), ('se', (2374, 2376), 'O'), ('mantiene', (2377, 2385), 'O'), ('en', (2386, 2388), 'O'), ('buen', (2389, 2393), 'O'), ('estado', (2394, 2400), 'O'), ('general,', (2401, 2409), 'O'), ('afebril,', (2410, 2418), 'NEG'), ('hemodinamicamente', (2419, 2436), 'O'), ('estable', (2437, 2444), 'O'), ('y', (2445, 2446), 'O'), ('con', (2447, 2450), 'O'), ('buen', (2451, 2455), 'O'), ('control', (2456, 2463), 'O'), ('del', (2464, 2467), 'O'), ('dolor.', (2468, 2474), 'O'), ('aclarado', (2475, 2483), 'O'), ('progresivo', (2484, 2494), 'O'), ('de', (2495, 2497), 'O'), ('la', (2498, 2500), 'O'), ('orina', (2501, 2506), 'O'), ('con', (2507, 2510), 'O'), ('los', (2511, 2514), 'O'), ('lavados', (2515, 2522), 'O'), ('vesicales', (2523, 2532), 'O'), ('continuos,', (2533, 2543), 'O'), ('que', (2544, 2547), 'O'), ('permiten', (2548, 2556), 'O'), ('su', (2557, 2559), 'O'), ('retirada,', (2560, 2569), 'O'), ('conserva', (2570, 2578), 'O'), ('correcta', (2579, 2587), 'O'), ('diuresis.', (2588, 2597), 'O'), ('tolerancia', (2598, 2608), 'O'), ('correcta', (2609, 2617), 'O'), ('a', (2618, 2619), 'O'), ('dieta', (2620, 2625), 'O'), ('oral.', (2626, 2631), 'O'), ('dada', (2632, 2636), 'O'), ('la', (2637, 2639), 'O'), ('buena', (2640, 2645), 'O'), ('evolucion', (2646, 2655), 'O'), ('se', (2656, 2658), 'O'), ('decide', (2659, 2665), 'O'), ('alta', (2666, 2670), 'O'), ('domiciliaria', (2671, 2683), 'O'), ('siendo', (2684, 2690), 'O'), ('portador', (2691, 2699), 'O'), ('de', (2700, 2702), 'O'), ('sonda', (2703, 2708), 'O'), ('vesical.', (2709, 2717), 'O'), ('orientacio', (2718, 2728), 'O'), ('diagnostica', (2729, 2740), 'O'), ('n40.0', (2741, 2746), 'O'), ('hiperplasia', (2747, 2758), 'O'), ('prostatica', (2759, 2769), 'O'), ('benigna', (2770, 2777), 'O'), ('sense', (2778, 2783), 'O'), ('simptomes', (2784, 2793), 'O'), ('en', (2794, 2796), 'O'), ('les', (2797, 2800), 'O'), ('vies', (2801, 2805), 'O'), ('urinaries', (2806, 2815), 'O'), ('inferiors', (2816, 2825), 'O'), ('procediments', (2826, 2838), 'O'), ('04.81', (2839, 2844), 'O'), ('injeccio', (2845, 2853), 'O'), ('en', (2854, 2856), 'O'), ('el', (2857, 2859), 'O'), ('nervi', (2860, 2865), 'O'), ('periferic', (2866, 2875), 'O'), (\"d'anestesic\", (2876, 2887), 'O'), ('per', (2888, 2891), 'O'), ('a', (2892, 2893), 'O'), ('analgesia', (2894, 2903), 'O'), ('58.0', (2904, 2908), 'O'), ('uretrotomia.', (2909, 2921), 'O'), ('excisio', (2922, 2929), 'O'), ('de', (2930, 2932), 'O'), ('septe', (2933, 2938), 'O'), ('uretral,', (2939, 2947), 'O'), ('uretrostomia', (2948, 2960), 'O'), ('perineal,', (2961, 2970), 'O'), ('extraccio', (2971, 2980), 'O'), ('de', (2981, 2983), 'O'), ('calcul', (2984, 2990), 'O'), ('uretral', (2991, 2998), 'O'), ('per', (2999, 3002), 'O'), ('incisio', (3003, 3010), 'O'), ('sonda', (3011, 3016), 'O'), ('vesical', (3017, 3024), 'O'), ('profilaxis', (3025, 3035), 'O'), ('antibiotica,', (3036, 3048), 'O'), ('antilucerosa', (3049, 3061), 'O'), ('y', (3062, 3063), 'O'), ('antitrombotica', (3064, 3078), 'O'), ('tractament', (3079, 3089), 'O'), ('i', (3090, 3091), 'O'), ('recomanacions', (3092, 3105), 'O'), ('a', (3106, 3107), 'O'), (\"l'alta\", (3108, 3114), 'O'), ('-abundante', (3115, 3125), 'O'), ('ingesta', (3126, 3133), 'O'), ('de', (3134, 3136), 'O'), ('liquidos', (3137, 3145), 'O'), ('entorno', (3146, 3153), 'O'), ('a', (3154, 3155), 'O'), ('dos', (3156, 3159), 'O'), ('litros', (3160, 3166), 'O'), ('y', (3167, 3168), 'O'), ('medio', (3169, 3174), 'O'), ('de', (3175, 3177), 'O'), ('agua', (3178, 3182), 'O'), ('al', (3183, 3185), 'O'), ('dia.', (3186, 3190), 'O'), ('-puede', (3191, 3197), 'O'), ('orinar', (3198, 3204), 'O'), ('con', (3205, 3208), 'O'), ('restos', (3209, 3215), 'O'), ('de', (3216, 3218), 'O'), ('sangre', (3219, 3225), 'O'), ('durante', (3226, 3233), 'O'), ('las', (3234, 3237), 'O'), ('proximas', (3238, 3246), 'O'), ('semanas.', (3247, 3255), 'O'), ('-es', (3256, 3259), 'O'), ('normal', (3260, 3266), 'O'), ('que', (3267, 3270), 'O'), ('sienta', (3271, 3277), 'O'), ('escozor', (3278, 3285), 'O'), ('al', (3286, 3288), 'O'), ('orinar', (3289, 3295), 'O'), ('y', (3296, 3297), 'O'), ('que', (3298, 3301), 'O'), ('tenga', (3302, 3307), 'O'), ('algun', (3308, 3313), 'O'), ('escape', (3314, 3320), 'O'), ('de', (3321, 3323), 'O'), ('orina', (3324, 3329), 'O'), ('y', (3330, 3331), 'O'), ('urgencia', (3332, 3340), 'O'), ('miccional', (3341, 3350), 'O'), ('al', (3351, 3353), 'O'), ('retirar', (3354, 3361), 'O'), ('la', (3362, 3364), 'O'), ('sonda', (3365, 3370), 'O'), ('vesical.', (3371, 3379), 'O'), ('mantener', (3380, 3388), 'O'), ('sonda', (3389, 3394), 'O'), ('vesical', (3395, 3402), 'O'), ('durante', (3403, 3410), 'O'), ('14', (3411, 3413), 'O'), ('dias', (3414, 3418), 'O'), ('(dos', (3419, 3423), 'O'), ('semanas).', (3424, 3433), 'O'), ('ciprofloxacino', (3434, 3448), 'O'), ('500mg', (3449, 3454), 'O'), ('cada', (3455, 3459), 'O'), ('12h', (3460, 3463), 'O'), ('durante', (3464, 3471), 'O'), ('dos', (3472, 3475), 'O'), ('semanas.', (3476, 3484), 'O'), ('-paracetamol', (3485, 3497), 'O'), ('1', (3498, 3499), 'O'), ('g', (3500, 3501), 'O'), ('cada', (3502, 3506), 'O'), ('8', (3507, 3508), 'O'), ('horas', (3509, 3514), 'O'), ('si', (3515, 3517), 'O'), ('molestias.', (3518, 3528), 'O'), ('-si', (3529, 3532), 'O'), ('fiebre', (3533, 3539), 'O'), ('mayor', (3540, 3545), 'O'), ('de', (3546, 3548), 'O'), ('38ºc,', (3549, 3554), 'O'), ('empeoramiento', (3555, 3568), 'O'), ('claro', (3569, 3574), 'O'), ('del', (3575, 3578), 'O'), ('estado', (3579, 3585), 'O'), ('general', (3586, 3593), 'O'), ('o', (3594, 3595), 'O'), ('imposibilidad', (3596, 3609), 'O'), ('miccional', (3610, 3619), 'O'), ('por', (3620, 3623), 'O'), ('obstruccion', (3624, 3635), 'O'), ('de', (3636, 3638), 'O'), ('sonda', (3639, 3644), 'O'), ('vesical', (3645, 3652), 'O'), ('o', (3653, 3654), 'O'), ('despues', (3655, 3662), 'O'), ('de', (3663, 3665), 'O'), ('su', (3666, 3668), 'O'), ('retirada,', (3669, 3678), 'O'), ('consultar', (3679, 3688), 'O'), ('con', (3689, 3692), 'O'), ('el', (3693, 3695), 'O'), ('servicio', (3696, 3704), 'O'), ('de', (3705, 3707), 'O'), ('urgencias.', (3708, 3718), 'O'), ('-control', (3719, 3727), 'O'), ('en', (3728, 3730), 'O'), ('consultas', (3731, 3740), 'O'), ('externas', (3741, 3749), 'O'), ('de', (3750, 3752), 'O'), ('urologia', (3753, 3761), 'O'), ('segun', (3762, 3767), 'O'), ('cita', (3768, 3772), 'O'), ('en', (3773, 3775), 'O'), ('hoja', (3776, 3780), 'O'), ('adjunta.', (3781, 3789), 'O'), ('destinacio', (3790, 3800), 'O'), ('a', (3801, 3802), 'O'), (\"l'alta:\", (3803, 3810), 'O'), ('a', (3811, 3812), 'O'), ('domicili', (3813, 3821), 'O'), ('nhc', (3822, 3825), 'O'), ('**', (3826, 3828), 'O'), ('***', (3829, 3832), 'O'), ('***', (3833, 3836), 'O'), ('(********)', (3837, 3847), 'O'), ('age-v-uro', (3848, 3857), 'O'), ('2/2', (3858, 3861), 'O'), ('lopd', (3862, 3866), 'O')]\n"
     ]
    }
   ],
   "source": [
    "def tag_words_from_json(json_data):\n",
    "    # Initialize lists for all tagged texts and counts\n",
    "    all_tagged_texts = []\n",
    "    all_counts = []\n",
    "\n",
    "    # Iterate through each entry in the JSON data\n",
    "    for entry in json_data:\n",
    "        # Extract text and predictions from JSON entry\n",
    "        text = entry['data']['text']\n",
    "        predictions = entry['predictions'][0]['result']\n",
    "\n",
    "        # Initialize counters\n",
    "        counts = {'NEG': 0, 'NSCO': 0, 'UNC': 0, 'USCO': 0}\n",
    "\n",
    "        # Initialize tokens and their coordinates\n",
    "        tokens = []\n",
    "        start_pos = 0\n",
    "\n",
    "        # Split text into tokens while tracking their start and end positions\n",
    "        for word in text.split():\n",
    "            start = text.find(word, start_pos)\n",
    "            end = start + len(word)\n",
    "            tokens.append((word, start, end))\n",
    "            start_pos = end\n",
    "\n",
    "        # Initialize tags list\n",
    "        tags = ['O'] * len(tokens)\n",
    "\n",
    "        # Tag each word\n",
    "        for pred in predictions:\n",
    "            pred_start = pred['value']['start']\n",
    "            pred_end = pred['value']['end']\n",
    "            label = pred['value']['labels'][0]\n",
    "\n",
    "            if label in counts:\n",
    "                counts[label] += 1\n",
    "                for i, (word, start, end) in enumerate(tokens):\n",
    "                    if start < pred_end and end > pred_start:\n",
    "                        tags[i] = label\n",
    "\n",
    "        # Combine tokens with tags\n",
    "        tagged_text = [(token[0], (token[1], token[2]), tags[i]) for i, token in enumerate(tokens)]\n",
    "\n",
    "        # Append the results to the lists\n",
    "        all_tagged_texts.append(tagged_text)\n",
    "        all_counts.append(counts)\n",
    "\n",
    "    # Return the list of tagged words and counts for all entries\n",
    "    return all_tagged_texts, all_counts"
   ]
  },
  {
   "cell_type": "code",
   "execution_count": 39,
   "metadata": {},
   "outputs": [
    {
     "name": "stdout",
     "output_type": "stream",
     "text": [
      "Number of entries in the entry: 254\n",
      "[('nº', (1, 3), 'O'), ('historia', (4, 12), 'O'), ('clinica:', (13, 21), 'O'), ('**', (22, 24), 'O'), ('***', (25, 28), 'O'), ('***', (29, 32), 'O'), ('nºepisodi:', (33, 43), 'O'), ('********', (44, 52), 'O'), ('sexe:', (53, 58), 'O'), ('home', (59, 63), 'O'), ('data', (64, 68), 'O'), ('de', (69, 71), 'O'), ('naixement:', (72, 82), 'O'), ('16.05.1936', (83, 93), 'O'), ('edat:', (94, 99), 'O'), ('82', (100, 102), 'O'), ('anys', (103, 107), 'O'), ('procedencia', (108, 119), 'O'), ('cex', (120, 123), 'O'), ('mateix', (124, 130), 'O'), ('hosp', (131, 135), 'O'), ('servei', (136, 142), 'O'), ('urologia', (143, 151), 'O'), ('data', (152, 156), 'O'), (\"d'ingres\", (157, 165), 'O'), ('24.07.2018', (166, 176), 'O'), ('data', (177, 181), 'O'), (\"d'alta\", (182, 188), 'O'), ('25.07.2018', (189, 199), 'O'), ('08:54:04', (200, 208), 'O'), ('ates', (209, 213), 'O'), ('per', (214, 217), 'O'), ('***************,', (218, 234), 'O'), ('*****;', (235, 241), 'O'), ('****************,', (242, 259), 'O'), ('******', (260, 266), 'O'), ('informe', (267, 274), 'O'), (\"d'alta\", (275, 281), 'O'), (\"d'hospitalitzacio\", (282, 299), 'O'), ('motiu', (300, 305), 'O'), (\"d'ingres\", (306, 314), 'O'), ('paciente', (315, 323), 'O'), ('que', (324, 327), 'O'), ('ingresa', (328, 335), 'O'), ('de', (336, 338), 'O'), ('forma', (339, 344), 'O'), ('programada', (345, 355), 'O'), ('para', (356, 360), 'O'), ('realizacion', (361, 372), 'O'), ('de', (373, 375), 'O'), ('uretrotomia', (376, 387), 'O'), ('interna', (388, 395), 'O'), ('.', (396, 397), 'O'), ('antecedents', (398, 409), 'O'), ('alergia', (410, 417), 'O'), ('a', (418, 419), 'O'), ('penicilina', (420, 430), 'O'), ('y', (431, 432), 'O'), ('cloramfenicol', (433, 446), 'O'), ('.', (447, 448), 'O'), ('no', (449, 451), 'NEG'), ('habitos', (452, 459), 'NSCO'), ('toxicos.', (460, 468), 'NSCO'), ('antecedentes', (469, 481), 'O'), ('medicos:', (482, 490), 'O'), ('bloqueo', (491, 498), 'O'), ('auriculoventricular', (499, 518), 'O'), ('de', (519, 521), 'O'), ('primer', (522, 528), 'O'), ('grado', (529, 534), 'O'), ('hipertension', (535, 547), 'O'), ('arterial.', (548, 557), 'O'), ('diverticulosis', (558, 572), 'O'), ('extensa', (573, 580), 'O'), ('insuficiencia', (581, 594), 'O'), ('renal', (595, 600), 'O'), ('cronica', (601, 608), 'O'), ('colelitiasis', (609, 621), 'O'), ('antecedentes', (622, 634), 'O'), ('quirurgicos:', (635, 647), 'O'), ('exeresis', (648, 656), 'O'), ('de', (657, 659), 'O'), ('lesiones', (660, 668), 'O'), ('cutaneas', (669, 677), 'O'), ('con', (678, 681), 'O'), ('anestesia', (682, 691), 'O'), ('local', (692, 697), 'O'), ('protesis', (698, 706), 'O'), ('total', (707, 712), 'O'), ('de', (713, 715), 'O'), ('cadera', (716, 722), 'O'), ('cordectomia', (723, 734), 'O'), ('herniorrafia', (735, 747), 'O'), ('inguinal', (748, 756), 'O'), ('proces', (757, 763), 'O'), ('actual', (764, 770), 'O'), ('varon', (771, 776), 'O'), ('de', (777, 779), 'O'), ('81a', (780, 783), 'O'), ('que', (784, 787), 'O'), ('a', (788, 789), 'O'), ('raiz', (790, 794), 'O'), ('de', (795, 797), 'O'), ('episodio', (798, 806), 'O'), ('de', (807, 809), 'O'), ('hematuria', (810, 819), 'O'), ('macroscopica', (820, 832), 'O'), ('se', (833, 835), 'O'), ('realiza', (836, 843), 'O'), ('cistoscopia', (844, 855), 'NSCO'), ('que', (856, 859), 'O'), ('es', (860, 862), 'O'), ('negativa', (863, 871), 'NEG'), ('para', (872, 876), 'NSCO'), ('lesiones', (877, 885), 'NSCO'), ('malignas', (886, 894), 'NSCO'), ('pero', (895, 899), 'O'), ('se', (900, 902), 'O'), ('objetiva', (903, 911), 'O'), ('estenosis', (912, 921), 'O'), ('de', (922, 924), 'O'), ('uretra', (925, 931), 'O'), ('.', (932, 933), 'O'), ('se', (934, 936), 'O'), ('intentan', (937, 945), 'O'), ('dilataciones', (946, 958), 'O'), ('progresivas', (959, 970), 'O'), ('en', (971, 973), 'O'), ('el', (974, 976), 'O'), ('gabinete', (977, 985), 'O'), ('de', (986, 988), 'O'), ('urologia', (989, 997), 'O'), ('sin', (998, 1001), 'NEG'), ('exito.', (1002, 1008), 'NSCO'), ('se', (1009, 1011), 'O'), ('solicita', (1012, 1020), 'O'), ('estudio', (1021, 1028), 'O'), ('de', (1029, 1031), 'O'), ('imagen', (1032, 1038), 'O'), ('que', (1039, 1042), 'O'), ('confirma', (1043, 1051), 'O'), ('la', (1052, 1054), 'O'), ('existencia', (1055, 1065), 'O'), ('de', (1066, 1068), 'O'), ('estenosis', (1069, 1078), 'O'), ('a', (1079, 1080), 'O'), ('nivel', (1081, 1086), 'O'), ('d', (1087, 1088), 'O'), ('uretra', (1089, 1095), 'O'), ('bulbar', (1096, 1102), 'O'), ('por', (1103, 1106), 'O'), ('lo', (1107, 1109), 'O'), ('que', (1110, 1113), 'O'), ('se', (1114, 1116), 'O'), ('indica', (1117, 1123), 'O'), ('uretrtomia', (1124, 1134), 'O'), ('interna.', (1135, 1143), 'O'), ('exploracio', (1144, 1154), 'O'), ('complementaria', (1155, 1169), 'O'), ('uretrocistografia', (1170, 1187), 'O'), ('retrograda', (1188, 1198), 'O'), ('+', (1199, 1200), 'O'), ('cums', (1201, 1205), 'O'), ('(11/2017):', (1206, 1216), 'O'), ('la', (1217, 1219), 'O'), ('uretrografia', (1220, 1232), 'O'), ('retrograda', (1233, 1243), 'O'), ('muestra', (1244, 1251), 'O'), ('una', (1252, 1255), 'O'), ('uretra', (1256, 1262), 'O'), ('anterior', (1263, 1271), 'O'), ('con', (1272, 1275), 'O'), ('dos', (1276, 1279), 'O'), ('estenosis', (1280, 1289), 'O'), ('focales', (1290, 1297), 'O'), ('a', (1298, 1299), 'O'), ('nivel', (1300, 1305), 'O'), ('de', (1306, 1308), 'O'), ('uretra', (1309, 1315), 'O'), ('peneana', (1316, 1323), 'O'), ('y', (1324, 1325), 'O'), ('bulbar,', (1326, 1333), 'O'), ('aunque', (1334, 1340), 'O'), ('se', (1341, 1343), 'O'), ('observa', (1344, 1351), 'O'), ('paso', (1352, 1356), 'O'), ('de', (1357, 1359), 'O'), ('contraste', (1360, 1369), 'O'), ('retrogrado', (1370, 1380), 'O'), ('a', (1381, 1382), 'O'), ('vejiga.', (1383, 1390), 'O'), ('vejiga', (1391, 1397), 'O'), ('de', (1398, 1400), 'O'), ('correcta', (1401, 1409), 'O'), ('capacidad', (1410, 1419), 'O'), ('(250', (1420, 1424), 'O'), ('cc', (1425, 1427), 'O'), ('de', (1428, 1430), 'O'), ('contraste),', (1431, 1442), 'O'), ('de', (1443, 1445), 'O'), ('paredes', (1446, 1453), 'O'), ('trabeculadas', (1454, 1466), 'O'), ('y', (1467, 1468), 'O'), ('con', (1469, 1472), 'O'), ('diverticulos,', (1473, 1486), 'O'), ('el', (1487, 1489), 'O'), ('mayor', (1490, 1495), 'O'), ('de', (1496, 1498), 'O'), ('ellos', (1499, 1504), 'O'), ('en', (1505, 1507), 'O'), ('cara', (1508, 1512), 'O'), ('posterolateral', (1513, 1527), 'O'), ('izquierda,', (1528, 1538), 'O'), ('sin', (1539, 1542), 'NEG'), ('observarse', (1543, 1553), 'NSCO'), ('defectos', (1554, 1562), 'NSCO'), ('de', (1563, 1565), 'NSCO'), ('replecion.', (1566, 1576), 'NSCO'), ('la', (1577, 1579), 'O'), ('uretrografia', (1580, 1592), 'O'), ('miccional', (1593, 1602), 'O'), ('muestra', (1603, 1610), 'O'), ('una', (1611, 1614), 'O'), ('uretra', (1615, 1621), 'O'), ('prostatica', (1622, 1632), 'O'), ('dilatada,', (1633, 1642), 'O'), ('sin', (1643, 1646), 'UNC'), ('claras', (1647, 1653), 'UNC'), ('estenosis', (1654, 1663), 'USCO'), ('focales', (1664, 1671), 'USCO'), ('confirmandose', (1672, 1685), 'USCO'), ('la', (1686, 1688), 'USCO'), ('existencia', (1689, 1699), 'USCO'), ('de', (1700, 1702), 'USCO'), ('las', (1703, 1706), 'USCO'), ('dos', (1707, 1710), 'USCO'), ('estenosis', (1711, 1720), 'USCO'), ('de', (1721, 1723), 'USCO'), ('uretra', (1724, 1730), 'USCO'), ('anterior', (1731, 1739), 'USCO'), ('descritas', (1740, 1749), 'USCO'), ('previamente.', (1750, 1762), 'USCO'), ('moderado', (1763, 1771), 'O'), ('residuo', (1772, 1779), 'O'), ('postmiccional', (1780, 1793), 'O'), ('en', (1794, 1796), 'O'), ('vejiga', (1797, 1803), 'O'), ('asi', (1804, 1807), 'O'), ('como', (1808, 1812), 'O'), ('en', (1813, 1815), 'O'), ('el', (1816, 1818), 'O'), ('interior', (1819, 1827), 'O'), ('del', (1828, 1831), 'O'), ('diverticulo', (1832, 1843), 'O'), ('posterolateral', (1844, 1858), 'O'), ('izquierdo', (1859, 1868), 'O'), ('descrito.', (1869, 1878), 'O'), ('uretroscopia', (1879, 1891), 'O'), ('(10/2017)', (1892, 1901), 'O'), ('falsa', (1902, 1907), 'UNC'), ('via', (1908, 1911), 'USCO'), ('a', (1912, 1913), 'USCO'), ('nivel', (1914, 1919), 'USCO'), ('de', (1920, 1922), 'USCO'), ('uretra', (1923, 1929), 'USCO'), ('peneana,', (1930, 1938), 'USCO'), ('siguiendo', (1939, 1948), 'O'), ('la', (1949, 1951), 'O'), ('uretra', (1952, 1958), 'O'), ('se', (1959, 1961), 'O'), ('detecta', (1962, 1969), 'O'), ('gran', (1970, 1974), 'O'), ('estenosis', (1975, 1984), 'O'), ('que', (1985, 1988), 'O'), ('no', (1989, 1991), 'NEG'), ('permite', (1992, 1999), 'NSCO'), ('el', (2000, 2002), 'NSCO'), ('paso', (2003, 2007), 'NSCO'), ('de', (2008, 2010), 'NSCO'), ('una', (2011, 2014), 'NSCO'), ('guia.', (2015, 2020), 'NSCO'), ('nhc', (2021, 2024), 'O'), ('**', (2025, 2027), 'O'), ('***', (2028, 2031), 'O'), ('***', (2032, 2035), 'O'), ('(********)', (2036, 2046), 'O'), ('age-v-uro', (2047, 2056), 'O'), ('1/2', (2057, 2060), 'O'), ('lopd', (2061, 2065), 'O'), ('evolucio', (2066, 2074), 'O'), ('clinica', (2075, 2082), 'O'), ('el', (2083, 2085), 'O'), ('24', (2086, 2088), 'O'), ('de', (2089, 2091), 'O'), ('julio', (2092, 2097), 'O'), ('de', (2098, 2100), 'O'), ('2018', (2101, 2105), 'O'), ('con', (2106, 2109), 'O'), ('el', (2110, 2112), 'O'), ('consentimiento', (2113, 2127), 'O'), ('informado', (2128, 2137), 'O'), ('del', (2138, 2141), 'O'), ('paciente', (2142, 2150), 'O'), ('y', (2151, 2152), 'O'), ('sin', (2153, 2156), 'NEG'), ('contraindicacion', (2157, 2173), 'NSCO'), ('preoperatoria', (2174, 2187), 'NSCO'), ('se', (2188, 2190), 'O'), ('realiza', (2191, 2198), 'O'), ('uretrotomia', (2199, 2210), 'O'), ('interna', (2211, 2218), 'O'), ('sin', (2219, 2222), 'NEG'), ('incidencias.', (2223, 2235), 'NSCO'), ('tras', (2236, 2240), 'O'), ('el', (2241, 2243), 'O'), ('procedimiento', (2244, 2257), 'O'), ('el', (2258, 2260), 'O'), ('paciente', (2261, 2269), 'O'), ('es', (2270, 2272), 'O'), ('trasladado', (2273, 2283), 'O'), ('a', (2284, 2285), 'O'), ('la', (2286, 2288), 'O'), ('planta', (2289, 2295), 'O'), ('de', (2296, 2298), 'O'), ('hospitalizacion', (2299, 2314), 'O'), ('siendo', (2315, 2321), 'O'), ('portador', (2322, 2330), 'O'), ('de', (2331, 2333), 'O'), ('lavado', (2334, 2340), 'O'), ('vesical', (2341, 2348), 'O'), ('continuo.', (2349, 2358), 'O'), ('posteriormente', (2359, 2373), 'O'), ('se', (2374, 2376), 'O'), ('mantiene', (2377, 2385), 'O'), ('en', (2386, 2388), 'O'), ('buen', (2389, 2393), 'O'), ('estado', (2394, 2400), 'O'), ('general,', (2401, 2409), 'O'), ('afebril,', (2410, 2418), 'NEG'), ('hemodinamicamente', (2419, 2436), 'O'), ('estable', (2437, 2444), 'O'), ('y', (2445, 2446), 'O'), ('con', (2447, 2450), 'O'), ('buen', (2451, 2455), 'O'), ('control', (2456, 2463), 'O'), ('del', (2464, 2467), 'O'), ('dolor.', (2468, 2474), 'O'), ('aclarado', (2475, 2483), 'O'), ('progresivo', (2484, 2494), 'O'), ('de', (2495, 2497), 'O'), ('la', (2498, 2500), 'O'), ('orina', (2501, 2506), 'O'), ('con', (2507, 2510), 'O'), ('los', (2511, 2514), 'O'), ('lavados', (2515, 2522), 'O'), ('vesicales', (2523, 2532), 'O'), ('continuos,', (2533, 2543), 'O'), ('que', (2544, 2547), 'O'), ('permiten', (2548, 2556), 'O'), ('su', (2557, 2559), 'O'), ('retirada,', (2560, 2569), 'O'), ('conserva', (2570, 2578), 'O'), ('correcta', (2579, 2587), 'O'), ('diuresis.', (2588, 2597), 'O'), ('tolerancia', (2598, 2608), 'O'), ('correcta', (2609, 2617), 'O'), ('a', (2618, 2619), 'O'), ('dieta', (2620, 2625), 'O'), ('oral.', (2626, 2631), 'O'), ('dada', (2632, 2636), 'O'), ('la', (2637, 2639), 'O'), ('buena', (2640, 2645), 'O'), ('evolucion', (2646, 2655), 'O'), ('se', (2656, 2658), 'O'), ('decide', (2659, 2665), 'O'), ('alta', (2666, 2670), 'O'), ('domiciliaria', (2671, 2683), 'O'), ('siendo', (2684, 2690), 'O'), ('portador', (2691, 2699), 'O'), ('de', (2700, 2702), 'O'), ('sonda', (2703, 2708), 'O'), ('vesical.', (2709, 2717), 'O'), ('orientacio', (2718, 2728), 'O'), ('diagnostica', (2729, 2740), 'O'), ('n40.0', (2741, 2746), 'O'), ('hiperplasia', (2747, 2758), 'O'), ('prostatica', (2759, 2769), 'O'), ('benigna', (2770, 2777), 'O'), ('sense', (2778, 2783), 'O'), ('simptomes', (2784, 2793), 'O'), ('en', (2794, 2796), 'O'), ('les', (2797, 2800), 'O'), ('vies', (2801, 2805), 'O'), ('urinaries', (2806, 2815), 'O'), ('inferiors', (2816, 2825), 'O'), ('procediments', (2826, 2838), 'O'), ('04.81', (2839, 2844), 'O'), ('injeccio', (2845, 2853), 'O'), ('en', (2854, 2856), 'O'), ('el', (2857, 2859), 'O'), ('nervi', (2860, 2865), 'O'), ('periferic', (2866, 2875), 'O'), (\"d'anestesic\", (2876, 2887), 'O'), ('per', (2888, 2891), 'O'), ('a', (2892, 2893), 'O'), ('analgesia', (2894, 2903), 'O'), ('58.0', (2904, 2908), 'O'), ('uretrotomia.', (2909, 2921), 'O'), ('excisio', (2922, 2929), 'O'), ('de', (2930, 2932), 'O'), ('septe', (2933, 2938), 'O'), ('uretral,', (2939, 2947), 'O'), ('uretrostomia', (2948, 2960), 'O'), ('perineal,', (2961, 2970), 'O'), ('extraccio', (2971, 2980), 'O'), ('de', (2981, 2983), 'O'), ('calcul', (2984, 2990), 'O'), ('uretral', (2991, 2998), 'O'), ('per', (2999, 3002), 'O'), ('incisio', (3003, 3010), 'O'), ('sonda', (3011, 3016), 'O'), ('vesical', (3017, 3024), 'O'), ('profilaxis', (3025, 3035), 'O'), ('antibiotica,', (3036, 3048), 'O'), ('antilucerosa', (3049, 3061), 'O'), ('y', (3062, 3063), 'O'), ('antitrombotica', (3064, 3078), 'O'), ('tractament', (3079, 3089), 'O'), ('i', (3090, 3091), 'O'), ('recomanacions', (3092, 3105), 'O'), ('a', (3106, 3107), 'O'), (\"l'alta\", (3108, 3114), 'O'), ('-abundante', (3115, 3125), 'O'), ('ingesta', (3126, 3133), 'O'), ('de', (3134, 3136), 'O'), ('liquidos', (3137, 3145), 'O'), ('entorno', (3146, 3153), 'O'), ('a', (3154, 3155), 'O'), ('dos', (3156, 3159), 'O'), ('litros', (3160, 3166), 'O'), ('y', (3167, 3168), 'O'), ('medio', (3169, 3174), 'O'), ('de', (3175, 3177), 'O'), ('agua', (3178, 3182), 'O'), ('al', (3183, 3185), 'O'), ('dia.', (3186, 3190), 'O'), ('-puede', (3191, 3197), 'O'), ('orinar', (3198, 3204), 'O'), ('con', (3205, 3208), 'O'), ('restos', (3209, 3215), 'O'), ('de', (3216, 3218), 'O'), ('sangre', (3219, 3225), 'O'), ('durante', (3226, 3233), 'O'), ('las', (3234, 3237), 'O'), ('proximas', (3238, 3246), 'O'), ('semanas.', (3247, 3255), 'O'), ('-es', (3256, 3259), 'O'), ('normal', (3260, 3266), 'O'), ('que', (3267, 3270), 'O'), ('sienta', (3271, 3277), 'O'), ('escozor', (3278, 3285), 'O'), ('al', (3286, 3288), 'O'), ('orinar', (3289, 3295), 'O'), ('y', (3296, 3297), 'O'), ('que', (3298, 3301), 'O'), ('tenga', (3302, 3307), 'O'), ('algun', (3308, 3313), 'O'), ('escape', (3314, 3320), 'O'), ('de', (3321, 3323), 'O'), ('orina', (3324, 3329), 'O'), ('y', (3330, 3331), 'O'), ('urgencia', (3332, 3340), 'O'), ('miccional', (3341, 3350), 'O'), ('al', (3351, 3353), 'O'), ('retirar', (3354, 3361), 'O'), ('la', (3362, 3364), 'O'), ('sonda', (3365, 3370), 'O'), ('vesical.', (3371, 3379), 'O'), ('mantener', (3380, 3388), 'O'), ('sonda', (3389, 3394), 'O'), ('vesical', (3395, 3402), 'O'), ('durante', (3403, 3410), 'O'), ('14', (3411, 3413), 'O'), ('dias', (3414, 3418), 'O'), ('(dos', (3419, 3423), 'O'), ('semanas).', (3424, 3433), 'O'), ('ciprofloxacino', (3434, 3448), 'O'), ('500mg', (3449, 3454), 'O'), ('cada', (3455, 3459), 'O'), ('12h', (3460, 3463), 'O'), ('durante', (3464, 3471), 'O'), ('dos', (3472, 3475), 'O'), ('semanas.', (3476, 3484), 'O'), ('-paracetamol', (3485, 3497), 'O'), ('1', (3498, 3499), 'O'), ('g', (3500, 3501), 'O'), ('cada', (3502, 3506), 'O'), ('8', (3507, 3508), 'O'), ('horas', (3509, 3514), 'O'), ('si', (3515, 3517), 'O'), ('molestias.', (3518, 3528), 'O'), ('-si', (3529, 3532), 'O'), ('fiebre', (3533, 3539), 'O'), ('mayor', (3540, 3545), 'O'), ('de', (3546, 3548), 'O'), ('38ºc,', (3549, 3554), 'O'), ('empeoramiento', (3555, 3568), 'O'), ('claro', (3569, 3574), 'O'), ('del', (3575, 3578), 'O'), ('estado', (3579, 3585), 'O'), ('general', (3586, 3593), 'O'), ('o', (3594, 3595), 'O'), ('imposibilidad', (3596, 3609), 'O'), ('miccional', (3610, 3619), 'O'), ('por', (3620, 3623), 'O'), ('obstruccion', (3624, 3635), 'O'), ('de', (3636, 3638), 'O'), ('sonda', (3639, 3644), 'O'), ('vesical', (3645, 3652), 'O'), ('o', (3653, 3654), 'O'), ('despues', (3655, 3662), 'O'), ('de', (3663, 3665), 'O'), ('su', (3666, 3668), 'O'), ('retirada,', (3669, 3678), 'O'), ('consultar', (3679, 3688), 'O'), ('con', (3689, 3692), 'O'), ('el', (3693, 3695), 'O'), ('servicio', (3696, 3704), 'O'), ('de', (3705, 3707), 'O'), ('urgencias.', (3708, 3718), 'O'), ('-control', (3719, 3727), 'O'), ('en', (3728, 3730), 'O'), ('consultas', (3731, 3740), 'O'), ('externas', (3741, 3749), 'O'), ('de', (3750, 3752), 'O'), ('urologia', (3753, 3761), 'O'), ('segun', (3762, 3767), 'O'), ('cita', (3768, 3772), 'O'), ('en', (3773, 3775), 'O'), ('hoja', (3776, 3780), 'O'), ('adjunta.', (3781, 3789), 'O'), ('destinacio', (3790, 3800), 'O'), ('a', (3801, 3802), 'O'), (\"l'alta:\", (3803, 3810), 'O'), ('a', (3811, 3812), 'O'), ('domicili', (3813, 3821), 'O'), ('nhc', (3822, 3825), 'O'), ('**', (3826, 3828), 'O'), ('***', (3829, 3832), 'O'), ('***', (3833, 3836), 'O'), ('(********)', (3837, 3847), 'O'), ('age-v-uro', (3848, 3857), 'O'), ('2/2', (3858, 3861), 'O'), ('lopd', (3862, 3866), 'O')]\n",
      "('nº', (1, 3), 'O')\n",
      "O\n"
     ]
    }
   ],
   "source": [
    "# Example usage with all entries\n",
    "labels, counts_list = tag_words_from_json(training_data)\n",
    "\n",
    "print(\"Number of entries in the entry:\", len(labels))\n",
    "print(labels[0]) # Print out an example entry\n",
    "print(labels[0][0]) # Print out an example word\n",
    "print(labels[0][0][2]) # Tag"
   ]
  },
  {
   "cell_type": "markdown",
   "metadata": {},
   "source": [
    "## **Feature Extraction**"
   ]
  },
  {
   "cell_type": "markdown",
   "metadata": {},
   "source": [
    "Relevant features to be extracted:\n",
    "- POS Tags\n",
    "- NER Tags\n",
    "- Dependency Parsing trees\n",
    "- Coordinates\n",
    "- Negation Cues and Uncertainty Cues\n",
    "- Context Window????"
   ]
  },
  {
   "cell_type": "code",
   "execution_count": null,
   "metadata": {},
   "outputs": [],
   "source": [
    "\"\"\" PARA ADAPTAR \n",
    "#load spacy's spanish special.\n",
    "nlp = spacy.load(\"es_core_news_md\")\n",
    "#to get the POS as a feature for each word.\n",
    "def get_pos_tags(words):\n",
    "    text = ' '.join(words) #convert the words to text.\n",
    "    doc = nlp(text) #make it a doc using the function dowloaded before from spacy.\n",
    "\n",
    "    #Create a dictionary where the key = word and the value = POS tag.\n",
    "    pos_tags_dict = {token.text: token.pos_ for token in doc} \n",
    "    \n",
    "    #print(f'Length of Words---> {len(pos_tags_dict)}') \n",
    "    return pos_tags_dict\n",
    "\n",
    "pos_tags_all = []\n",
    "for text in words:\n",
    "    pos_tags_dict = get_pos_tags(words=text)\n",
    "    pos_tags_all.append(pos_tags_dict)\n",
    "\n",
    "\n",
    "pos_tags_feature = []\n",
    "for texts in pos_tags_all:\n",
    "    for word, tag in texts.items():\n",
    "        pos_tags_feature.append([word,tag])\n",
    "print(pos_tags_all[1])\"\"\""
   ]
  },
  {
   "cell_type": "code",
   "execution_count": null,
   "metadata": {},
   "outputs": [],
   "source": [
    "\"\"\" PARA ADAPTAR\n",
    "words_feature = []\n",
    "for i in range(len(words)):\n",
    "    for word in words[i]:\n",
    "        words_feature.append(word)\"\"\""
   ]
  },
  {
   "cell_type": "markdown",
   "metadata": {},
   "source": [
    "## **MODEL**"
   ]
  },
  {
   "cell_type": "code",
   "execution_count": null,
   "metadata": {},
   "outputs": [],
   "source": []
  },
  {
   "cell_type": "markdown",
   "metadata": {},
   "source": [
    "## **MODEL EVALUATION**"
   ]
  },
  {
   "cell_type": "code",
   "execution_count": null,
   "metadata": {},
   "outputs": [],
   "source": []
  }
 ],
 "metadata": {
  "kernelspec": {
   "display_name": "collegeEnv",
   "language": "python",
   "name": "python3"
  },
  "language_info": {
   "codemirror_mode": {
    "name": "ipython",
    "version": 3
   },
   "file_extension": ".py",
   "mimetype": "text/x-python",
   "name": "python",
   "nbconvert_exporter": "python",
   "pygments_lexer": "ipython3",
   "version": "3.10.13"
  }
 },
 "nbformat": 4,
 "nbformat_minor": 2
}
