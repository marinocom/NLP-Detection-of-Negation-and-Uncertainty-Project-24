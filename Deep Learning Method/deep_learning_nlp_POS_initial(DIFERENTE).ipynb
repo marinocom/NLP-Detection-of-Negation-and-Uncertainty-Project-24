{
 "cells": [
  {
   "cell_type": "markdown",
   "metadata": {},
   "source": [
    "# **Deep Learning Method**\n",
    "### Group 1 - Detection of Negation and Uncertainty\n",
    "\n",
    "- Marino Oliveros Blanco NIU:1668563\n",
    "- Pere Mayol Carbonell NIU:1669503\n",
    "- Andreu Gascón Marzo NIU:1670919\n",
    "- Judith Zaragoza NIU:1634071"
   ]
  },
  {
   "cell_type": "markdown",
   "metadata": {},
   "source": [
    "## **Library and Data Loading**"
   ]
  },
  {
   "cell_type": "code",
   "execution_count": 99,
   "metadata": {},
   "outputs": [],
   "source": [
    "# Libraries\n",
    "import json\n",
    "import re\n",
    "from langdetect import detect # Library for language detection\n",
    "from spellchecker import SpellChecker\n",
    "import spacy\n",
    "import random\n",
    "import string\n",
    "\n",
    "import pandas as pd \n"
   ]
  },
  {
   "cell_type": "code",
   "execution_count": 100,
   "metadata": {},
   "outputs": [
    {
     "name": "stdout",
     "output_type": "stream",
     "text": [
      "The training set contains:  254  samples\n"
     ]
    }
   ],
   "source": [
    "# Loading the training json file\n",
    "loading_train = open(\"negacio_train_v2024.json\",)\n",
    "training_data = json.load(loading_train)\n",
    "print(\"The training set contains: \", len(training_data), \" samples\")"
   ]
  },
  {
   "cell_type": "code",
   "execution_count": 101,
   "metadata": {},
   "outputs": [
    {
     "name": "stdout",
     "output_type": "stream",
     "text": [
      "The test set contains:  64  samples\n"
     ]
    }
   ],
   "source": [
    "# Loading the json object\n",
    "loading_test = open(\"negacio_test_v2024.json\")\n",
    "test_data = json.load(loading_test)\n",
    "print(\"The test set contains: \", len(test_data), \" samples\")"
   ]
  },
  {
   "cell_type": "code",
   "execution_count": 102,
   "metadata": {},
   "outputs": [],
   "source": [
    "def remove_pacient_info(text):\n",
    "    # Remove lines starting with \"nº historia clinica:\" and ending with \"motiu d'ingres\"\n",
    "    text = re.sub(r'nº historia clinica:.*?motiu d\\'ingres', '', text, flags=re.DOTALL)\n",
    "    # Remove lines starting with \"nhc\" and ending with \"lopd\"\n",
    "    text = re.sub(r'nhc.*?lopd', '', text, flags=re.DOTALL)\n",
    "    # Remove all asterisks '*'\n",
    "    text = text.replace('*', '')\n",
    "    return text\n",
    "\n",
    "\n",
    "# 2 Remove Punctuation (Able to be turned ON/OFF)\n",
    "def remove_punctuation(text):\n",
    "    # Define a translation table to map punctuation to None\n",
    "    translator = str.maketrans('', '', string.punctuation)\n",
    "    # Remove punctuation using the translation table\n",
    "    text = text.translate(translator)\n",
    "    return text"
   ]
  },
  {
   "cell_type": "markdown",
   "metadata": {},
   "source": [
    "## **Data Annotation**\n",
    "- Set using ground truth word to either O, NEG, UNC, NSCO, USCO"
   ]
  },
  {
   "cell_type": "code",
   "execution_count": 103,
   "metadata": {},
   "outputs": [],
   "source": [
    "def tag_words_from_json(json_data):\n",
    "    # Extract text and predictions from JSON data\n",
    "    text = json_data[0]['data']['text']\n",
    "    predictions = json_data[0]['predictions'][0]['result']\n",
    "    text_info = remove_pacient_info(text)\n",
    "    text_pun = remove_punctuation(text_info)\n",
    "    # Tokenize text\n",
    "    tokens = text_pun.split()\n",
    "\n",
    "    # Initialize counters\n",
    "    counts = {'NEG': 0, 'NSCO': 0, 'UNC': 0, 'USCO': 0}\n",
    "\n",
    "    # Initialize tags list\n",
    "    tags = ['O'] * len(tokens)\n",
    "\n",
    "    # Tag each word\n",
    "    for pred in predictions:\n",
    "        start = pred['value']['start']\n",
    "        end = pred['value']['end']\n",
    "        label = pred['value']['labels'][0]\n",
    "        \n",
    "        if label in counts:\n",
    "            counts[label] += 1\n",
    "            for i in range(len(tokens)):\n",
    "                if start <= len(' '.join(tokens[:i+1])) < end:\n",
    "                    tags[i] = label\n",
    "\n",
    "    # Return tagged words and counts\n",
    "    return tags, counts, tokens"
   ]
  },
  {
   "cell_type": "code",
   "execution_count": 104,
   "metadata": {},
   "outputs": [
    {
     "name": "stdout",
     "output_type": "stream",
     "text": [
      "Tagged Words:\n",
      "['O', 'O', 'O', 'O', 'O', 'O', 'O', 'O', 'O', 'O', 'O', 'O', 'O', 'O', 'O', 'O', 'O', 'O', 'O', 'O', 'O', 'O', 'O', 'O', 'O', 'O', 'O', 'O', 'O', 'O', 'O', 'O', 'O', 'O', 'O', 'O', 'O', 'O', 'O', 'O', 'O', 'O', 'O', 'O', 'O', 'O', 'O', 'O', 'O', 'O', 'O', 'O', 'O', 'NSCO', 'NSCO', 'NSCO', 'NSCO', 'NSCO', 'O', 'O', 'O', 'O', 'O', 'O', 'O', 'O', 'O', 'O', 'O', 'O', 'O', 'O', 'O', 'O', 'O', 'O', 'O', 'O', 'O', 'O', 'O', 'O', 'O', 'O', 'O', 'O', 'O', 'O', 'O', 'O', 'O', 'O', 'O', 'O', 'O', 'O', 'O', 'O', 'O', 'O', 'O', 'O', 'O', 'O', 'O', 'O', 'O', 'O', 'O', 'O', 'O', 'O', 'O', 'O', 'O', 'O', 'NEG', 'NSCO', 'NSCO', 'NSCO', 'O', 'O', 'O', 'O', 'O', 'O', 'O', 'O', 'O', 'O', 'O', 'O', 'O', 'O', 'O', 'O', 'NEG', 'NSCO', 'O', 'O', 'O', 'O', 'O', 'O', 'O', 'O', 'O', 'O', 'O', 'O', 'O', 'O', 'O', 'O', 'O', 'O', 'O', 'O', 'O', 'O', 'O', 'O', 'O', 'O', 'O', 'O', 'O', 'O', 'O', 'O', 'O', 'O', 'O', 'O', 'O', 'O', 'O', 'O', 'O', 'O', 'O', 'O', 'O', 'O', 'O', 'O', 'O', 'O', 'O', 'O', 'O', 'O', 'O', 'O', 'O', 'O', 'O', 'O', 'O', 'O', 'O', 'O', 'O', 'O', 'O', 'O', 'O', 'O', 'O', 'O', 'O', 'O', 'NSCO', 'NSCO', 'NSCO', 'NSCO', 'NSCO', 'NSCO', 'NSCO', 'O', 'O', 'O', 'O', 'O', 'O', 'O', 'O', 'O', 'O', 'UNC', 'UNC', 'USCO', 'USCO', 'USCO', 'USCO', 'USCO', 'USCO', 'USCO', 'USCO', 'USCO', 'USCO', 'USCO', 'USCO', 'USCO', 'USCO', 'USCO', 'USCO', 'USCO', 'USCO', 'USCO', 'USCO', 'O', 'O', 'O', 'O', 'O', 'O', 'O', 'O', 'O', 'O', 'O', 'O', 'O', 'O', 'O', 'O', 'O', 'O', 'O', 'UNC', 'USCO', 'USCO', 'USCO', 'O', 'O', 'O', 'O', 'O', 'O', 'NEG', 'NSCO', 'NSCO', 'NSCO', 'NSCO', 'O', 'O', 'O', 'O', 'O', 'O', 'O', 'O', 'O', 'O', 'O', 'O', 'O', 'O', 'O', 'O', 'O', 'O', 'O', 'O', 'NEG', 'NSCO', 'NSCO', 'NSCO', 'NSCO', 'O', 'O', 'O', 'O', 'NSCO', 'NSCO', 'NSCO', 'O', 'O', 'O', 'O', 'O', 'O', 'O', 'O', 'O', 'O', 'O', 'O', 'O', 'O', 'O', 'O', 'O', 'O', 'O', 'O', 'O', 'O', 'O', 'NEG', 'O', 'O', 'O', 'O', 'O', 'O', 'O', 'O', 'O', 'O', 'O', 'O', 'O', 'O', 'O', 'O', 'O', 'O', 'O', 'O', 'O', 'O', 'O', 'O', 'O', 'O', 'O', 'O', 'O', 'O', 'O', 'O', 'O', 'O', 'O', 'O', 'O', 'O', 'O', 'O', 'O', 'O', 'O', 'O', 'O', 'O', 'O', 'O', 'O', 'O', 'O', 'O', 'O', 'O', 'O', 'O', 'O', 'O', 'O', 'O', 'O', 'O', 'O', 'O', 'O', 'O', 'O', 'O', 'O', 'O', 'O', 'O', 'O', 'O', 'O', 'O', 'O', 'O', 'O', 'O', 'O', 'O', 'O', 'O', 'O', 'O', 'O', 'O', 'O', 'O', 'O', 'O', 'O', 'O', 'O', 'O', 'O', 'O', 'O', 'O', 'O', 'O', 'O', 'O', 'O', 'O', 'O', 'O', 'O', 'O', 'O', 'O', 'O', 'O', 'O', 'O', 'O', 'O', 'O', 'O', 'O', 'O', 'O', 'O', 'O', 'O', 'O', 'O', 'O', 'O', 'O', 'O', 'O', 'O', 'O', 'O', 'O', 'O', 'O', 'O', 'O', 'O', 'O', 'O', 'O', 'O', 'O', 'O', 'O', 'O', 'O', 'O']\n",
      "Words:\n",
      "['paciente', 'que', 'ingresa', 'de', 'forma', 'programada', 'para', 'realizacion', 'de', 'uretrotomia', 'interna', 'antecedents', 'alergia', 'a', 'penicilina', 'y', 'cloramfenicol', 'no', 'habitos', 'toxicos', 'antecedentes', 'medicos', 'bloqueo', 'auriculoventricular', 'de', 'primer', 'grado', 'hipertension', 'arterial', 'diverticulosis', 'extensa', 'insuficiencia', 'renal', 'cronica', 'colelitiasis', 'antecedentes', 'quirurgicos', 'exeresis', 'de', 'lesiones', 'cutaneas', 'con', 'anestesia', 'local', 'protesis', 'total', 'de', 'cadera', 'cordectomia', 'herniorrafia', 'inguinal', 'proces', 'actual', 'varon', 'de', '81a', 'que', 'a', 'raiz', 'de', 'episodio', 'de', 'hematuria', 'macroscopica', 'se', 'realiza', 'cistoscopia', 'que', 'es', 'negativa', 'para', 'lesiones', 'malignas', 'pero', 'se', 'objetiva', 'estenosis', 'de', 'uretra', 'se', 'intentan', 'dilataciones', 'progresivas', 'en', 'el', 'gabinete', 'de', 'urologia', 'sin', 'exito', 'se', 'solicita', 'estudio', 'de', 'imagen', 'que', 'confirma', 'la', 'existencia', 'de', 'estenosis', 'a', 'nivel', 'd', 'uretra', 'bulbar', 'por', 'lo', 'que', 'se', 'indica', 'uretrtomia', 'interna', 'exploracio', 'complementaria', 'uretrocistografia', 'retrograda', 'cums', '112017', 'la', 'uretrografia', 'retrograda', 'muestra', 'una', 'uretra', 'anterior', 'con', 'dos', 'estenosis', 'focales', 'a', 'nivel', 'de', 'uretra', 'peneana', 'y', 'bulbar', 'aunque', 'se', 'observa', 'paso', 'de', 'contraste', 'retrogrado', 'a', 'vejiga', 'vejiga', 'de', 'correcta', 'capacidad', '250', 'cc', 'de', 'contraste', 'de', 'paredes', 'trabeculadas', 'y', 'con', 'diverticulos', 'el', 'mayor', 'de', 'ellos', 'en', 'cara', 'posterolateral', 'izquierda', 'sin', 'observarse', 'defectos', 'de', 'replecion', 'la', 'uretrografia', 'miccional', 'muestra', 'una', 'uretra', 'prostatica', 'dilatada', 'sin', 'claras', 'estenosis', 'focales', 'confirmandose', 'la', 'existencia', 'de', 'las', 'dos', 'estenosis', 'de', 'uretra', 'anterior', 'descritas', 'previamente', 'moderado', 'residuo', 'postmiccional', 'en', 'vejiga', 'asi', 'como', 'en', 'el', 'interior', 'del', 'diverticulo', 'posterolateral', 'izquierdo', 'descrito', 'uretroscopia', '102017', 'falsa', 'via', 'a', 'nivel', 'de', 'uretra', 'peneana', 'siguiendo', 'la', 'uretra', 'se', 'detecta', 'gran', 'estenosis', 'que', 'no', 'permite', 'el', 'paso', 'de', 'una', 'guia', 'evolucio', 'clinica', 'el', '24', 'de', 'julio', 'de', '2018', 'con', 'el', 'consentimiento', 'informado', 'del', 'paciente', 'y', 'sin', 'contraindicacion', 'preoperatoria', 'se', 'realiza', 'uretrotomia', 'interna', 'sin', 'incidencias', 'tras', 'el', 'procedimiento', 'el', 'paciente', 'es', 'trasladado', 'a', 'la', 'planta', 'de', 'hospitalizacion', 'siendo', 'portador', 'de', 'lavado', 'vesical', 'continuo', 'posteriormente', 'se', 'mantiene', 'en', 'buen', 'estado', 'general', 'afebril', 'hemodinamicamente', 'estable', 'y', 'con', 'buen', 'control', 'del', 'dolor', 'aclarado', 'progresivo', 'de', 'la', 'orina', 'con', 'los', 'lavados', 'vesicales', 'continuos', 'que', 'permiten', 'su', 'retirada', 'conserva', 'correcta', 'diuresis', 'tolerancia', 'correcta', 'a', 'dieta', 'oral', 'dada', 'la', 'buena', 'evolucion', 'se', 'decide', 'alta', 'domiciliaria', 'siendo', 'portador', 'de', 'sonda', 'vesical', 'orientacio', 'diagnostica', 'n400', 'hiperplasia', 'prostatica', 'benigna', 'sense', 'simptomes', 'en', 'les', 'vies', 'urinaries', 'inferiors', 'procediments', '0481', 'injeccio', 'en', 'el', 'nervi', 'periferic', 'danestesic', 'per', 'a', 'analgesia', '580', 'uretrotomia', 'excisio', 'de', 'septe', 'uretral', 'uretrostomia', 'perineal', 'extraccio', 'de', 'calcul', 'uretral', 'per', 'incisio', 'sonda', 'vesical', 'profilaxis', 'antibiotica', 'antilucerosa', 'y', 'antitrombotica', 'tractament', 'i', 'recomanacions', 'a', 'lalta', 'abundante', 'ingesta', 'de', 'liquidos', 'entorno', 'a', 'dos', 'litros', 'y', 'medio', 'de', 'agua', 'al', 'dia', 'puede', 'orinar', 'con', 'restos', 'de', 'sangre', 'durante', 'las', 'proximas', 'semanas', 'es', 'normal', 'que', 'sienta', 'escozor', 'al', 'orinar', 'y', 'que', 'tenga', 'algun', 'escape', 'de', 'orina', 'y', 'urgencia', 'miccional', 'al', 'retirar', 'la', 'sonda', 'vesical', 'mantener', 'sonda', 'vesical', 'durante', '14', 'dias', 'dos', 'semanas', 'ciprofloxacino', '500mg', 'cada', '12h', 'durante', 'dos', 'semanas', 'paracetamol', '1', 'g', 'cada', '8', 'horas', 'si', 'molestias', 'si', 'fiebre', 'mayor', 'de', '38ºc', 'empeoramiento', 'claro', 'del', 'estado', 'general', 'o', 'imposibilidad', 'miccional', 'por', 'obstruccion', 'de', 'sonda', 'vesical', 'o', 'despues', 'de', 'su', 'retirada', 'consultar', 'con', 'el', 'servicio', 'de', 'urgencias', 'control', 'en', 'consultas', 'externas', 'de', 'urologia', 'segun', 'cita', 'en', 'hoja', 'adjunta', 'destinacio', 'a', 'lalta', 'a', 'domicili']\n",
      "\n",
      "Counts:\n",
      "{'NEG': 8, 'NSCO': 8, 'UNC': 2, 'USCO': 2}\n",
      "\n",
      "-----------------------------------\n",
      "Lenght of Taggs---> 493 \n",
      "Lenght of Words---> 493\n"
     ]
    }
   ],
   "source": [
    "# EXAMPLE USAGE\n",
    "# Tag the words from the training data\n",
    "tags, counts, words = tag_words_from_json(training_data)\n",
    "print(\"Tagged Words:\")\n",
    "print(tags)\n",
    "print(\"Words:\")\n",
    "print(words)\n",
    "print(\"\\nCounts:\")\n",
    "print(counts)\n",
    "print('\\n-----------------------------------')\n",
    "print(f'Lenght of Taggs---> {len(tags)} \\nLenght of Words---> {len(words)}')"
   ]
  },
  {
   "cell_type": "code",
   "execution_count": 105,
   "metadata": {},
   "outputs": [],
   "source": [
    "features = {}\n",
    "for i in range(len(tags)):\n",
    "    features[words[i]] = tags[i]"
   ]
  },
  {
   "cell_type": "code",
   "execution_count": 106,
   "metadata": {},
   "outputs": [
    {
     "name": "stdout",
     "output_type": "stream",
     "text": [
      "{'paciente': 'O', 'que': 'O', 'ingresa': 'O', 'de': 'O', 'forma': 'O', 'programada': 'O', 'para': 'O', 'realizacion': 'O', 'uretrotomia': 'O', 'interna': 'O', 'antecedents': 'O', 'alergia': 'O', 'a': 'O', 'penicilina': 'O', 'y': 'O', 'cloramfenicol': 'O', 'no': 'UNC', 'habitos': 'O', 'toxicos': 'O', 'antecedentes': 'O', 'medicos': 'O', 'bloqueo': 'O', 'auriculoventricular': 'O', 'primer': 'O', 'grado': 'O', 'hipertension': 'O', 'arterial': 'O', 'diverticulosis': 'O', 'extensa': 'O', 'insuficiencia': 'O', 'renal': 'O', 'cronica': 'O', 'colelitiasis': 'O', 'quirurgicos': 'O', 'exeresis': 'O', 'lesiones': 'O', 'cutaneas': 'O', 'con': 'O', 'anestesia': 'O', 'local': 'O', 'protesis': 'O', 'total': 'O', 'cadera': 'O', 'cordectomia': 'O', 'herniorrafia': 'O', 'inguinal': 'O', 'proces': 'O', 'actual': 'O', 'varon': 'NSCO', '81a': 'NSCO', 'raiz': 'O', 'episodio': 'O', 'hematuria': 'O', 'macroscopica': 'O', 'se': 'O', 'realiza': 'O', 'cistoscopia': 'O', 'es': 'O', 'negativa': 'O', 'malignas': 'O', 'pero': 'O', 'objetiva': 'O', 'estenosis': 'O', 'uretra': 'O', 'intentan': 'O', 'dilataciones': 'O', 'progresivas': 'O', 'en': 'O', 'el': 'O', 'gabinete': 'O', 'urologia': 'O', 'sin': 'O', 'exito': 'O', 'solicita': 'O', 'estudio': 'O', 'imagen': 'O', 'confirma': 'O', 'la': 'O', 'existencia': 'O', 'nivel': 'NSCO', 'd': 'O', 'bulbar': 'NEG', 'por': 'O', 'lo': 'O', 'indica': 'O', 'uretrtomia': 'O', 'exploracio': 'O', 'complementaria': 'O', 'uretrocistografia': 'O', 'retrograda': 'O', 'cums': 'NSCO', '112017': 'NSCO', 'uretrografia': 'O', 'muestra': 'O', 'una': 'USCO', 'anterior': 'O', 'dos': 'O', 'focales': 'O', 'peneana': 'O', 'aunque': 'NSCO', 'observa': 'O', 'paso': 'USCO', 'contraste': 'O', 'retrogrado': 'O', 'vejiga': 'O', 'correcta': 'O', 'capacidad': 'O', '250': 'O', 'cc': 'O', 'paredes': 'O', 'trabeculadas': 'O', 'diverticulos': 'O', 'mayor': 'O', 'ellos': 'O', 'cara': 'O', 'posterolateral': 'O', 'izquierda': 'O', 'observarse': 'O', 'defectos': 'O', 'replecion': 'O', 'miccional': 'O', 'prostatica': 'O', 'dilatada': 'O', 'claras': 'O', 'confirmandose': 'O', 'las': 'O', 'descritas': 'O', 'previamente': 'O', 'moderado': 'O', 'residuo': 'O', 'postmiccional': 'O', 'asi': 'O', 'como': 'O', 'interior': 'O', 'del': 'O', 'diverticulo': 'O', 'izquierdo': 'O', 'descrito': 'O', 'uretroscopia': 'NSCO', '102017': 'NSCO', 'falsa': 'NSCO', 'via': 'NSCO', 'siguiendo': 'O', 'detecta': 'O', 'gran': 'O', 'permite': 'UNC', 'guia': 'USCO', 'evolucio': 'USCO', 'clinica': 'USCO', '24': 'USCO', 'julio': 'USCO', '2018': 'USCO', 'consentimiento': 'USCO', 'informado': 'USCO', 'contraindicacion': 'O', 'preoperatoria': 'O', 'incidencias': 'O', 'tras': 'O', 'procedimiento': 'O', 'trasladado': 'O', 'planta': 'O', 'hospitalizacion': 'USCO', 'siendo': 'O', 'portador': 'O', 'lavado': 'O', 'vesical': 'O', 'continuo': 'O', 'posteriormente': 'O', 'mantiene': 'NEG', 'buen': 'O', 'estado': 'O', 'general': 'O', 'afebril': 'O', 'hemodinamicamente': 'O', 'estable': 'O', 'control': 'O', 'dolor': 'O', 'aclarado': 'O', 'progresivo': 'O', 'orina': 'O', 'los': 'O', 'lavados': 'O', 'vesicales': 'O', 'continuos': 'O', 'permiten': 'NEG', 'su': 'O', 'retirada': 'O', 'conserva': 'NSCO', 'diuresis': 'O', 'tolerancia': 'O', 'dieta': 'NSCO', 'oral': 'NSCO', 'dada': 'NSCO', 'buena': 'O', 'evolucion': 'O', 'decide': 'O', 'alta': 'O', 'domiciliaria': 'O', 'sonda': 'O', 'orientacio': 'O', 'diagnostica': 'O', 'n400': 'O', 'hiperplasia': 'O', 'benigna': 'O', 'sense': 'O', 'simptomes': 'O', 'les': 'O', 'vies': 'O', 'urinaries': 'NEG', 'inferiors': 'O', 'procediments': 'O', '0481': 'O', 'injeccio': 'O', 'nervi': 'O', 'periferic': 'O', 'danestesic': 'O', 'per': 'O', 'analgesia': 'O', '580': 'O', 'excisio': 'O', 'septe': 'O', 'uretral': 'O', 'uretrostomia': 'O', 'perineal': 'O', 'extraccio': 'O', 'calcul': 'O', 'incisio': 'O', 'profilaxis': 'O', 'antibiotica': 'O', 'antilucerosa': 'O', 'antitrombotica': 'O', 'tractament': 'O', 'i': 'O', 'recomanacions': 'O', 'lalta': 'O', 'abundante': 'O', 'ingesta': 'O', 'liquidos': 'O', 'entorno': 'O', 'litros': 'O', 'medio': 'O', 'agua': 'O', 'al': 'O', 'dia': 'O', 'puede': 'O', 'orinar': 'O', 'restos': 'O', 'sangre': 'O', 'durante': 'O', 'proximas': 'O', 'semanas': 'O', 'normal': 'O', 'sienta': 'O', 'escozor': 'O', 'tenga': 'O', 'algun': 'O', 'escape': 'O', 'urgencia': 'O', 'retirar': 'O', 'mantener': 'O', '14': 'O', 'dias': 'O', 'ciprofloxacino': 'O', '500mg': 'O', 'cada': 'O', '12h': 'O', 'paracetamol': 'O', '1': 'O', 'g': 'O', '8': 'O', 'horas': 'O', 'si': 'O', 'molestias': 'O', 'fiebre': 'O', '38ºc': 'O', 'empeoramiento': 'O', 'claro': 'O', 'o': 'O', 'imposibilidad': 'O', 'obstruccion': 'O', 'despues': 'O', 'consultar': 'O', 'servicio': 'O', 'urgencias': 'O', 'consultas': 'O', 'externas': 'O', 'segun': 'O', 'cita': 'O', 'hoja': 'O', 'adjunta': 'O', 'destinacio': 'O', 'domicili': 'O'}\n"
     ]
    }
   ],
   "source": [
    "print(features)"
   ]
  },
  {
   "cell_type": "code",
   "execution_count": 107,
   "metadata": {},
   "outputs": [],
   "source": [
    "word_feature = []\n",
    "tag_feature = []\n",
    "\n",
    "for word, tag in features.items():\n",
    "    word_feature.append(word)\n",
    "    tag_feature.append(tag)"
   ]
  },
  {
   "cell_type": "code",
   "execution_count": 108,
   "metadata": {},
   "outputs": [
    {
     "name": "stdout",
     "output_type": "stream",
     "text": [
      "Length of Words---> 293\n"
     ]
    }
   ],
   "source": [
    "#load spacy's spanish special.\n",
    "nlp = spacy.load(\"es_core_news_md\")\n",
    "#to get the POS as a feature for each word.\n",
    "def get_pos_tags(words):\n",
    "    text = ' '.join(words) #convert the words to text.\n",
    "    doc = nlp(text) #make it a doc using the function dowloaded before from spacy.\n",
    "\n",
    "    #Create a dictionary where the key = word and the value = POS tag.\n",
    "    pos_tags_dict = {token.text: token.pos_ for token in doc} \n",
    "    \n",
    "    print(f'Length of Words---> {len(pos_tags_dict)}') \n",
    "    return pos_tags_dict\n",
    "\n",
    "\n",
    "pos_tags_dict = get_pos_tags(words=words)\n",
    "\n",
    "pos_tags_feature = []\n",
    "for word, pos in pos_tags_dict.items():\n",
    "    pos_tags_feature.append(pos)\n"
   ]
  },
  {
   "cell_type": "code",
   "execution_count": 109,
   "metadata": {},
   "outputs": [
    {
     "data": {
      "text/html": [
       "<div>\n",
       "<style scoped>\n",
       "    .dataframe tbody tr th:only-of-type {\n",
       "        vertical-align: middle;\n",
       "    }\n",
       "\n",
       "    .dataframe tbody tr th {\n",
       "        vertical-align: top;\n",
       "    }\n",
       "\n",
       "    .dataframe thead th {\n",
       "        text-align: right;\n",
       "    }\n",
       "</style>\n",
       "<table border=\"1\" class=\"dataframe\">\n",
       "  <thead>\n",
       "    <tr style=\"text-align: right;\">\n",
       "      <th></th>\n",
       "      <th>Word</th>\n",
       "      <th>Tag</th>\n",
       "      <th>POS</th>\n",
       "    </tr>\n",
       "  </thead>\n",
       "  <tbody>\n",
       "    <tr>\n",
       "      <th>0</th>\n",
       "      <td>paciente</td>\n",
       "      <td>O</td>\n",
       "      <td>NOUN</td>\n",
       "    </tr>\n",
       "    <tr>\n",
       "      <th>1</th>\n",
       "      <td>que</td>\n",
       "      <td>O</td>\n",
       "      <td>SCONJ</td>\n",
       "    </tr>\n",
       "    <tr>\n",
       "      <th>2</th>\n",
       "      <td>ingresa</td>\n",
       "      <td>O</td>\n",
       "      <td>VERB</td>\n",
       "    </tr>\n",
       "    <tr>\n",
       "      <th>3</th>\n",
       "      <td>de</td>\n",
       "      <td>O</td>\n",
       "      <td>ADP</td>\n",
       "    </tr>\n",
       "    <tr>\n",
       "      <th>4</th>\n",
       "      <td>forma</td>\n",
       "      <td>O</td>\n",
       "      <td>NOUN</td>\n",
       "    </tr>\n",
       "    <tr>\n",
       "      <th>5</th>\n",
       "      <td>programada</td>\n",
       "      <td>O</td>\n",
       "      <td>ADJ</td>\n",
       "    </tr>\n",
       "    <tr>\n",
       "      <th>6</th>\n",
       "      <td>para</td>\n",
       "      <td>O</td>\n",
       "      <td>ADP</td>\n",
       "    </tr>\n",
       "    <tr>\n",
       "      <th>7</th>\n",
       "      <td>realizacion</td>\n",
       "      <td>O</td>\n",
       "      <td>PROPN</td>\n",
       "    </tr>\n",
       "    <tr>\n",
       "      <th>8</th>\n",
       "      <td>uretrotomia</td>\n",
       "      <td>O</td>\n",
       "      <td>ADJ</td>\n",
       "    </tr>\n",
       "    <tr>\n",
       "      <th>9</th>\n",
       "      <td>interna</td>\n",
       "      <td>O</td>\n",
       "      <td>ADJ</td>\n",
       "    </tr>\n",
       "  </tbody>\n",
       "</table>\n",
       "</div>"
      ],
      "text/plain": [
       "          Word Tag    POS\n",
       "0     paciente   O   NOUN\n",
       "1          que   O  SCONJ\n",
       "2      ingresa   O   VERB\n",
       "3           de   O    ADP\n",
       "4        forma   O   NOUN\n",
       "5   programada   O    ADJ\n",
       "6         para   O    ADP\n",
       "7  realizacion   O  PROPN\n",
       "8  uretrotomia   O    ADJ\n",
       "9      interna   O    ADJ"
      ]
     },
     "execution_count": 109,
     "metadata": {},
     "output_type": "execute_result"
    }
   ],
   "source": [
    "data_tuples = list(zip(word_feature, tag_feature, pos_tags_feature))\n",
    "\n",
    "data = pd.DataFrame(data_tuples, columns=['Word', 'Tag', 'POS'])\n",
    "data.head(10)"
   ]
  },
  {
   "cell_type": "code",
   "execution_count": 110,
   "metadata": {},
   "outputs": [
    {
     "name": "stdout",
     "output_type": "stream",
     "text": [
      "<class 'pandas.core.frame.DataFrame'>\n",
      "RangeIndex: 292 entries, 0 to 291\n",
      "Data columns (total 3 columns):\n",
      " #   Column  Non-Null Count  Dtype \n",
      "---  ------  --------------  ----- \n",
      " 0   Word    292 non-null    object\n",
      " 1   Tag     292 non-null    object\n",
      " 2   POS     292 non-null    object\n",
      "dtypes: object(3)\n",
      "memory usage: 7.0+ KB\n"
     ]
    }
   ],
   "source": [
    "data.info()"
   ]
  },
  {
   "cell_type": "markdown",
   "metadata": {},
   "source": [
    "## **Feature Extraction**"
   ]
  },
  {
   "cell_type": "code",
   "execution_count": null,
   "metadata": {},
   "outputs": [],
   "source": []
  },
  {
   "cell_type": "markdown",
   "metadata": {},
   "source": [
    "## **MODEL**"
   ]
  },
  {
   "cell_type": "code",
   "execution_count": null,
   "metadata": {},
   "outputs": [],
   "source": []
  },
  {
   "cell_type": "markdown",
   "metadata": {},
   "source": [
    "## **MODEL EVALUATION**"
   ]
  },
  {
   "cell_type": "code",
   "execution_count": null,
   "metadata": {},
   "outputs": [],
   "source": []
  }
 ],
 "metadata": {
  "kernelspec": {
   "display_name": "collegeEnv",
   "language": "python",
   "name": "python3"
  },
  "language_info": {
   "codemirror_mode": {
    "name": "ipython",
    "version": 3
   },
   "file_extension": ".py",
   "mimetype": "text/x-python",
   "name": "python",
   "nbconvert_exporter": "python",
   "pygments_lexer": "ipython3",
   "version": "3.11.5"
  }
 },
 "nbformat": 4,
 "nbformat_minor": 2
}
