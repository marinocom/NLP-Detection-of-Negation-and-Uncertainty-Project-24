{
  "cells": [
    {
      "cell_type": "code",
      "execution_count": 1,
      "metadata": {
        "id": "1I1jsjfnv-FS"
      },
      "outputs": [],
      "source": [
        "# Libraries\n",
        "import os\n",
        "import json\n",
        "import re\n",
        "from langdetect import detect # Library for language detection\n",
        "from spellchecker import SpellChecker\n",
        "import string\n",
        "import spacy\n",
        "from sklearn_crfsuite import CRF\n",
        "from sklearn.model_selection import train_test_split\n",
        "from sklearn.metrics import accuracy_score, classification_report, confusion_matrix\n",
        "import matplotlib.pyplot as plt\n",
        "import seaborn as sns\n",
        "from itertools import chain\n",
        "import spacy\n",
        "import logging\n",
        "from spacy.tokens import Doc\n",
        "\n",
        "from io import StringIO\n",
        "import sys"
      ]
    },
    {
      "cell_type": "code",
      "execution_count": 2,
      "metadata": {
        "id": "lLw_E19Jv-FV"
      },
      "outputs": [],
      "source": [
        "os.chdir('C:\\\\GitHub Repositories\\\\NLP-Detection-of-Negation-and-Uncertainty-Project-24\\\\Data')"
      ]
    },
    {
      "cell_type": "code",
      "execution_count": 3,
      "metadata": {
        "id": "dt3UhmgYv-FV"
      },
      "outputs": [
        {
          "name": "stdout",
          "output_type": "stream",
          "text": [
            "254\n"
          ]
        }
      ],
      "source": [
        "# Loading the json file\n",
        "loading = open(\"negacio_train_v2024.json\")\n",
        "training_data = json.load(loading)\n",
        "print(len(training_data))"
      ]
    },
    {
      "cell_type": "code",
      "execution_count": 4,
      "metadata": {},
      "outputs": [],
      "source": [
        "def split_data(features, labels, test_size=0.2):\n",
        "    return train_test_split(features, labels, test_size=test_size, random_state=42)"
      ]
    },
    {
      "cell_type": "code",
      "execution_count": 5,
      "metadata": {
        "colab": {
          "base_uri": "https://localhost:8080/"
        },
        "collapsed": true,
        "id": "tEwRhU24xx_c",
        "outputId": "feda5902-9b46-4d44-a1a8-22b57c737369"
      },
      "outputs": [
        {
          "name": "stdout",
          "output_type": "stream",
          "text": [
            "Collecting es-core-news-sm==3.7.0\n",
            "  Using cached https://github.com/explosion/spacy-models/releases/download/es_core_news_sm-3.7.0/es_core_news_sm-3.7.0-py3-none-any.whl (12.9 MB)\n",
            "Requirement already satisfied: spacy<3.8.0,>=3.7.0 in c:\\users\\agasc\\appdata\\local\\programs\\python\\python312\\lib\\site-packages (from es-core-news-sm==3.7.0) (3.7.4)\n",
            "Requirement already satisfied: spacy-legacy<3.1.0,>=3.0.11 in c:\\users\\agasc\\appdata\\local\\programs\\python\\python312\\lib\\site-packages (from spacy<3.8.0,>=3.7.0->es-core-news-sm==3.7.0) (3.0.12)\n",
            "Requirement already satisfied: spacy-loggers<2.0.0,>=1.0.0 in c:\\users\\agasc\\appdata\\local\\programs\\python\\python312\\lib\\site-packages (from spacy<3.8.0,>=3.7.0->es-core-news-sm==3.7.0) (1.0.5)\n",
            "Requirement already satisfied: murmurhash<1.1.0,>=0.28.0 in c:\\users\\agasc\\appdata\\local\\programs\\python\\python312\\lib\\site-packages (from spacy<3.8.0,>=3.7.0->es-core-news-sm==3.7.0) (1.0.10)\n",
            "Requirement already satisfied: cymem<2.1.0,>=2.0.2 in c:\\users\\agasc\\appdata\\local\\programs\\python\\python312\\lib\\site-packages (from spacy<3.8.0,>=3.7.0->es-core-news-sm==3.7.0) (2.0.8)\n",
            "Requirement already satisfied: preshed<3.1.0,>=3.0.2 in c:\\users\\agasc\\appdata\\local\\programs\\python\\python312\\lib\\site-packages (from spacy<3.8.0,>=3.7.0->es-core-news-sm==3.7.0) (3.0.9)\n",
            "Requirement already satisfied: thinc<8.3.0,>=8.2.2 in c:\\users\\agasc\\appdata\\local\\programs\\python\\python312\\lib\\site-packages (from spacy<3.8.0,>=3.7.0->es-core-news-sm==3.7.0) (8.2.3)\n",
            "Requirement already satisfied: wasabi<1.2.0,>=0.9.1 in c:\\users\\agasc\\appdata\\local\\programs\\python\\python312\\lib\\site-packages (from spacy<3.8.0,>=3.7.0->es-core-news-sm==3.7.0) (1.1.2)\n",
            "Requirement already satisfied: srsly<3.0.0,>=2.4.3 in c:\\users\\agasc\\appdata\\local\\programs\\python\\python312\\lib\\site-packages (from spacy<3.8.0,>=3.7.0->es-core-news-sm==3.7.0) (2.4.8)\n",
            "Requirement already satisfied: catalogue<2.1.0,>=2.0.6 in c:\\users\\agasc\\appdata\\local\\programs\\python\\python312\\lib\\site-packages (from spacy<3.8.0,>=3.7.0->es-core-news-sm==3.7.0) (2.0.10)\n",
            "Requirement already satisfied: weasel<0.4.0,>=0.1.0 in c:\\users\\agasc\\appdata\\local\\programs\\python\\python312\\lib\\site-packages (from spacy<3.8.0,>=3.7.0->es-core-news-sm==3.7.0) (0.3.4)\n",
            "Requirement already satisfied: typer<0.10.0,>=0.3.0 in c:\\users\\agasc\\appdata\\local\\programs\\python\\python312\\lib\\site-packages (from spacy<3.8.0,>=3.7.0->es-core-news-sm==3.7.0) (0.9.4)\n",
            "Requirement already satisfied: smart-open<7.0.0,>=5.2.1 in c:\\users\\agasc\\appdata\\local\\programs\\python\\python312\\lib\\site-packages (from spacy<3.8.0,>=3.7.0->es-core-news-sm==3.7.0) (6.4.0)\n",
            "Requirement already satisfied: tqdm<5.0.0,>=4.38.0 in c:\\users\\agasc\\appdata\\local\\programs\\python\\python312\\lib\\site-packages (from spacy<3.8.0,>=3.7.0->es-core-news-sm==3.7.0) (4.66.4)\n",
            "Requirement already satisfied: requests<3.0.0,>=2.13.0 in c:\\users\\agasc\\appdata\\local\\programs\\python\\python312\\lib\\site-packages (from spacy<3.8.0,>=3.7.0->es-core-news-sm==3.7.0) (2.31.0)\n",
            "Requirement already satisfied: pydantic!=1.8,!=1.8.1,<3.0.0,>=1.7.4 in c:\\users\\agasc\\appdata\\local\\programs\\python\\python312\\lib\\site-packages (from spacy<3.8.0,>=3.7.0->es-core-news-sm==3.7.0) (2.7.1)\n",
            "Requirement already satisfied: jinja2 in c:\\users\\agasc\\appdata\\local\\programs\\python\\python312\\lib\\site-packages (from spacy<3.8.0,>=3.7.0->es-core-news-sm==3.7.0) (3.1.4)\n",
            "Requirement already satisfied: setuptools in c:\\users\\agasc\\appdata\\local\\programs\\python\\python312\\lib\\site-packages (from spacy<3.8.0,>=3.7.0->es-core-news-sm==3.7.0) (69.5.1)\n",
            "Requirement already satisfied: packaging>=20.0 in c:\\users\\agasc\\appdata\\roaming\\python\\python312\\site-packages (from spacy<3.8.0,>=3.7.0->es-core-news-sm==3.7.0) (24.0)\n",
            "Requirement already satisfied: langcodes<4.0.0,>=3.2.0 in c:\\users\\agasc\\appdata\\local\\programs\\python\\python312\\lib\\site-packages (from spacy<3.8.0,>=3.7.0->es-core-news-sm==3.7.0) (3.4.0)\n",
            "Requirement already satisfied: numpy>=1.19.0 in c:\\users\\agasc\\appdata\\local\\programs\\python\\python312\\lib\\site-packages (from spacy<3.8.0,>=3.7.0->es-core-news-sm==3.7.0) (1.26.4)\n",
            "Requirement already satisfied: language-data>=1.2 in c:\\users\\agasc\\appdata\\local\\programs\\python\\python312\\lib\\site-packages (from langcodes<4.0.0,>=3.2.0->spacy<3.8.0,>=3.7.0->es-core-news-sm==3.7.0) (1.2.0)\n",
            "Requirement already satisfied: annotated-types>=0.4.0 in c:\\users\\agasc\\appdata\\local\\programs\\python\\python312\\lib\\site-packages (from pydantic!=1.8,!=1.8.1,<3.0.0,>=1.7.4->spacy<3.8.0,>=3.7.0->es-core-news-sm==3.7.0) (0.6.0)\n",
            "Requirement already satisfied: pydantic-core==2.18.2 in c:\\users\\agasc\\appdata\\local\\programs\\python\\python312\\lib\\site-packages (from pydantic!=1.8,!=1.8.1,<3.0.0,>=1.7.4->spacy<3.8.0,>=3.7.0->es-core-news-sm==3.7.0) (2.18.2)\n",
            "Requirement already satisfied: typing-extensions>=4.6.1 in c:\\users\\agasc\\appdata\\local\\programs\\python\\python312\\lib\\site-packages (from pydantic!=1.8,!=1.8.1,<3.0.0,>=1.7.4->spacy<3.8.0,>=3.7.0->es-core-news-sm==3.7.0) (4.11.0)\n",
            "Requirement already satisfied: charset-normalizer<4,>=2 in c:\\users\\agasc\\appdata\\local\\programs\\python\\python312\\lib\\site-packages (from requests<3.0.0,>=2.13.0->spacy<3.8.0,>=3.7.0->es-core-news-sm==3.7.0) (3.3.2)\n",
            "Requirement already satisfied: idna<4,>=2.5 in c:\\users\\agasc\\appdata\\local\\programs\\python\\python312\\lib\\site-packages (from requests<3.0.0,>=2.13.0->spacy<3.8.0,>=3.7.0->es-core-news-sm==3.7.0) (3.7)\n",
            "Requirement already satisfied: urllib3<3,>=1.21.1 in c:\\users\\agasc\\appdata\\local\\programs\\python\\python312\\lib\\site-packages (from requests<3.0.0,>=2.13.0->spacy<3.8.0,>=3.7.0->es-core-news-sm==3.7.0) (2.2.1)\n",
            "Requirement already satisfied: certifi>=2017.4.17 in c:\\users\\agasc\\appdata\\local\\programs\\python\\python312\\lib\\site-packages (from requests<3.0.0,>=2.13.0->spacy<3.8.0,>=3.7.0->es-core-news-sm==3.7.0) (2024.2.2)\n",
            "Requirement already satisfied: blis<0.8.0,>=0.7.8 in c:\\users\\agasc\\appdata\\local\\programs\\python\\python312\\lib\\site-packages (from thinc<8.3.0,>=8.2.2->spacy<3.8.0,>=3.7.0->es-core-news-sm==3.7.0) (0.7.11)\n",
            "Requirement already satisfied: confection<1.0.0,>=0.0.1 in c:\\users\\agasc\\appdata\\local\\programs\\python\\python312\\lib\\site-packages (from thinc<8.3.0,>=8.2.2->spacy<3.8.0,>=3.7.0->es-core-news-sm==3.7.0) (0.1.4)\n",
            "Requirement already satisfied: colorama in c:\\users\\agasc\\appdata\\roaming\\python\\python312\\site-packages (from tqdm<5.0.0,>=4.38.0->spacy<3.8.0,>=3.7.0->es-core-news-sm==3.7.0) (0.4.6)\n",
            "Requirement already satisfied: click<9.0.0,>=7.1.1 in c:\\users\\agasc\\appdata\\local\\programs\\python\\python312\\lib\\site-packages (from typer<0.10.0,>=0.3.0->spacy<3.8.0,>=3.7.0->es-core-news-sm==3.7.0) (8.1.7)\n",
            "Requirement already satisfied: cloudpathlib<0.17.0,>=0.7.0 in c:\\users\\agasc\\appdata\\local\\programs\\python\\python312\\lib\\site-packages (from weasel<0.4.0,>=0.1.0->spacy<3.8.0,>=3.7.0->es-core-news-sm==3.7.0) (0.16.0)\n",
            "Requirement already satisfied: MarkupSafe>=2.0 in c:\\users\\agasc\\appdata\\local\\programs\\python\\python312\\lib\\site-packages (from jinja2->spacy<3.8.0,>=3.7.0->es-core-news-sm==3.7.0) (2.1.5)\n",
            "Requirement already satisfied: marisa-trie>=0.7.7 in c:\\users\\agasc\\appdata\\local\\programs\\python\\python312\\lib\\site-packages (from language-data>=1.2->langcodes<4.0.0,>=3.2.0->spacy<3.8.0,>=3.7.0->es-core-news-sm==3.7.0) (1.1.1)\n",
            "\u001b[38;5;2m✔ Download and installation successful\u001b[0m\n",
            "You can now load the package via spacy.load('es_core_news_sm')\n",
            "Collecting ca-core-news-sm==3.7.0\n",
            "  Using cached https://github.com/explosion/spacy-models/releases/download/ca_core_news_sm-3.7.0/ca_core_news_sm-3.7.0-py3-none-any.whl (19.6 MB)\n",
            "Requirement already satisfied: spacy<3.8.0,>=3.7.0 in c:\\users\\agasc\\appdata\\local\\programs\\python\\python312\\lib\\site-packages (from ca-core-news-sm==3.7.0) (3.7.4)\n",
            "Requirement already satisfied: spacy-legacy<3.1.0,>=3.0.11 in c:\\users\\agasc\\appdata\\local\\programs\\python\\python312\\lib\\site-packages (from spacy<3.8.0,>=3.7.0->ca-core-news-sm==3.7.0) (3.0.12)\n",
            "Requirement already satisfied: spacy-loggers<2.0.0,>=1.0.0 in c:\\users\\agasc\\appdata\\local\\programs\\python\\python312\\lib\\site-packages (from spacy<3.8.0,>=3.7.0->ca-core-news-sm==3.7.0) (1.0.5)\n",
            "Requirement already satisfied: murmurhash<1.1.0,>=0.28.0 in c:\\users\\agasc\\appdata\\local\\programs\\python\\python312\\lib\\site-packages (from spacy<3.8.0,>=3.7.0->ca-core-news-sm==3.7.0) (1.0.10)\n",
            "Requirement already satisfied: cymem<2.1.0,>=2.0.2 in c:\\users\\agasc\\appdata\\local\\programs\\python\\python312\\lib\\site-packages (from spacy<3.8.0,>=3.7.0->ca-core-news-sm==3.7.0) (2.0.8)\n",
            "Requirement already satisfied: preshed<3.1.0,>=3.0.2 in c:\\users\\agasc\\appdata\\local\\programs\\python\\python312\\lib\\site-packages (from spacy<3.8.0,>=3.7.0->ca-core-news-sm==3.7.0) (3.0.9)\n",
            "Requirement already satisfied: thinc<8.3.0,>=8.2.2 in c:\\users\\agasc\\appdata\\local\\programs\\python\\python312\\lib\\site-packages (from spacy<3.8.0,>=3.7.0->ca-core-news-sm==3.7.0) (8.2.3)\n",
            "Requirement already satisfied: wasabi<1.2.0,>=0.9.1 in c:\\users\\agasc\\appdata\\local\\programs\\python\\python312\\lib\\site-packages (from spacy<3.8.0,>=3.7.0->ca-core-news-sm==3.7.0) (1.1.2)\n",
            "Requirement already satisfied: srsly<3.0.0,>=2.4.3 in c:\\users\\agasc\\appdata\\local\\programs\\python\\python312\\lib\\site-packages (from spacy<3.8.0,>=3.7.0->ca-core-news-sm==3.7.0) (2.4.8)\n",
            "Requirement already satisfied: catalogue<2.1.0,>=2.0.6 in c:\\users\\agasc\\appdata\\local\\programs\\python\\python312\\lib\\site-packages (from spacy<3.8.0,>=3.7.0->ca-core-news-sm==3.7.0) (2.0.10)\n",
            "Requirement already satisfied: weasel<0.4.0,>=0.1.0 in c:\\users\\agasc\\appdata\\local\\programs\\python\\python312\\lib\\site-packages (from spacy<3.8.0,>=3.7.0->ca-core-news-sm==3.7.0) (0.3.4)\n",
            "Requirement already satisfied: typer<0.10.0,>=0.3.0 in c:\\users\\agasc\\appdata\\local\\programs\\python\\python312\\lib\\site-packages (from spacy<3.8.0,>=3.7.0->ca-core-news-sm==3.7.0) (0.9.4)\n",
            "Requirement already satisfied: smart-open<7.0.0,>=5.2.1 in c:\\users\\agasc\\appdata\\local\\programs\\python\\python312\\lib\\site-packages (from spacy<3.8.0,>=3.7.0->ca-core-news-sm==3.7.0) (6.4.0)\n",
            "Requirement already satisfied: tqdm<5.0.0,>=4.38.0 in c:\\users\\agasc\\appdata\\local\\programs\\python\\python312\\lib\\site-packages (from spacy<3.8.0,>=3.7.0->ca-core-news-sm==3.7.0) (4.66.4)\n",
            "Requirement already satisfied: requests<3.0.0,>=2.13.0 in c:\\users\\agasc\\appdata\\local\\programs\\python\\python312\\lib\\site-packages (from spacy<3.8.0,>=3.7.0->ca-core-news-sm==3.7.0) (2.31.0)\n",
            "Requirement already satisfied: pydantic!=1.8,!=1.8.1,<3.0.0,>=1.7.4 in c:\\users\\agasc\\appdata\\local\\programs\\python\\python312\\lib\\site-packages (from spacy<3.8.0,>=3.7.0->ca-core-news-sm==3.7.0) (2.7.1)\n",
            "Requirement already satisfied: jinja2 in c:\\users\\agasc\\appdata\\local\\programs\\python\\python312\\lib\\site-packages (from spacy<3.8.0,>=3.7.0->ca-core-news-sm==3.7.0) (3.1.4)\n",
            "Requirement already satisfied: setuptools in c:\\users\\agasc\\appdata\\local\\programs\\python\\python312\\lib\\site-packages (from spacy<3.8.0,>=3.7.0->ca-core-news-sm==3.7.0) (69.5.1)\n",
            "Requirement already satisfied: packaging>=20.0 in c:\\users\\agasc\\appdata\\roaming\\python\\python312\\site-packages (from spacy<3.8.0,>=3.7.0->ca-core-news-sm==3.7.0) (24.0)\n",
            "Requirement already satisfied: langcodes<4.0.0,>=3.2.0 in c:\\users\\agasc\\appdata\\local\\programs\\python\\python312\\lib\\site-packages (from spacy<3.8.0,>=3.7.0->ca-core-news-sm==3.7.0) (3.4.0)\n",
            "Requirement already satisfied: numpy>=1.19.0 in c:\\users\\agasc\\appdata\\local\\programs\\python\\python312\\lib\\site-packages (from spacy<3.8.0,>=3.7.0->ca-core-news-sm==3.7.0) (1.26.4)\n",
            "Requirement already satisfied: language-data>=1.2 in c:\\users\\agasc\\appdata\\local\\programs\\python\\python312\\lib\\site-packages (from langcodes<4.0.0,>=3.2.0->spacy<3.8.0,>=3.7.0->ca-core-news-sm==3.7.0) (1.2.0)\n",
            "Requirement already satisfied: annotated-types>=0.4.0 in c:\\users\\agasc\\appdata\\local\\programs\\python\\python312\\lib\\site-packages (from pydantic!=1.8,!=1.8.1,<3.0.0,>=1.7.4->spacy<3.8.0,>=3.7.0->ca-core-news-sm==3.7.0) (0.6.0)\n",
            "Requirement already satisfied: pydantic-core==2.18.2 in c:\\users\\agasc\\appdata\\local\\programs\\python\\python312\\lib\\site-packages (from pydantic!=1.8,!=1.8.1,<3.0.0,>=1.7.4->spacy<3.8.0,>=3.7.0->ca-core-news-sm==3.7.0) (2.18.2)\n",
            "Requirement already satisfied: typing-extensions>=4.6.1 in c:\\users\\agasc\\appdata\\local\\programs\\python\\python312\\lib\\site-packages (from pydantic!=1.8,!=1.8.1,<3.0.0,>=1.7.4->spacy<3.8.0,>=3.7.0->ca-core-news-sm==3.7.0) (4.11.0)\n",
            "Requirement already satisfied: charset-normalizer<4,>=2 in c:\\users\\agasc\\appdata\\local\\programs\\python\\python312\\lib\\site-packages (from requests<3.0.0,>=2.13.0->spacy<3.8.0,>=3.7.0->ca-core-news-sm==3.7.0) (3.3.2)\n",
            "Requirement already satisfied: idna<4,>=2.5 in c:\\users\\agasc\\appdata\\local\\programs\\python\\python312\\lib\\site-packages (from requests<3.0.0,>=2.13.0->spacy<3.8.0,>=3.7.0->ca-core-news-sm==3.7.0) (3.7)\n",
            "Requirement already satisfied: urllib3<3,>=1.21.1 in c:\\users\\agasc\\appdata\\local\\programs\\python\\python312\\lib\\site-packages (from requests<3.0.0,>=2.13.0->spacy<3.8.0,>=3.7.0->ca-core-news-sm==3.7.0) (2.2.1)\n",
            "Requirement already satisfied: certifi>=2017.4.17 in c:\\users\\agasc\\appdata\\local\\programs\\python\\python312\\lib\\site-packages (from requests<3.0.0,>=2.13.0->spacy<3.8.0,>=3.7.0->ca-core-news-sm==3.7.0) (2024.2.2)\n",
            "Requirement already satisfied: blis<0.8.0,>=0.7.8 in c:\\users\\agasc\\appdata\\local\\programs\\python\\python312\\lib\\site-packages (from thinc<8.3.0,>=8.2.2->spacy<3.8.0,>=3.7.0->ca-core-news-sm==3.7.0) (0.7.11)\n",
            "Requirement already satisfied: confection<1.0.0,>=0.0.1 in c:\\users\\agasc\\appdata\\local\\programs\\python\\python312\\lib\\site-packages (from thinc<8.3.0,>=8.2.2->spacy<3.8.0,>=3.7.0->ca-core-news-sm==3.7.0) (0.1.4)\n",
            "Requirement already satisfied: colorama in c:\\users\\agasc\\appdata\\roaming\\python\\python312\\site-packages (from tqdm<5.0.0,>=4.38.0->spacy<3.8.0,>=3.7.0->ca-core-news-sm==3.7.0) (0.4.6)\n",
            "Requirement already satisfied: click<9.0.0,>=7.1.1 in c:\\users\\agasc\\appdata\\local\\programs\\python\\python312\\lib\\site-packages (from typer<0.10.0,>=0.3.0->spacy<3.8.0,>=3.7.0->ca-core-news-sm==3.7.0) (8.1.7)\n",
            "Requirement already satisfied: cloudpathlib<0.17.0,>=0.7.0 in c:\\users\\agasc\\appdata\\local\\programs\\python\\python312\\lib\\site-packages (from weasel<0.4.0,>=0.1.0->spacy<3.8.0,>=3.7.0->ca-core-news-sm==3.7.0) (0.16.0)\n",
            "Requirement already satisfied: MarkupSafe>=2.0 in c:\\users\\agasc\\appdata\\local\\programs\\python\\python312\\lib\\site-packages (from jinja2->spacy<3.8.0,>=3.7.0->ca-core-news-sm==3.7.0) (2.1.5)\n",
            "Requirement already satisfied: marisa-trie>=0.7.7 in c:\\users\\agasc\\appdata\\local\\programs\\python\\python312\\lib\\site-packages (from language-data>=1.2->langcodes<4.0.0,>=3.2.0->spacy<3.8.0,>=3.7.0->ca-core-news-sm==3.7.0) (1.1.1)\n",
            "\u001b[38;5;2m✔ Download and installation successful\u001b[0m\n",
            "You can now load the package via spacy.load('ca_core_news_sm')\n"
          ]
        }
      ],
      "source": [
        "!python -m spacy download es_core_news_sm\n",
        "!python -m spacy download ca_core_news_sm"
      ]
    },
    {
      "cell_type": "code",
      "execution_count": 6,
      "metadata": {
        "id": "PzrC9--iv-FW"
      },
      "outputs": [],
      "source": [
        "# 1 Remove pacient information and redacted entries\n",
        "def remove_pacient_info(text):\n",
        "    # Remove lines starting with \"nº historia clinica:\" and ending with \"motiu d'ingres\"\n",
        "    text = re.sub(r'nº historia clinica:.*?motiu d\\'ingres', '', text, flags=re.DOTALL)\n",
        "    # Remove lines starting with \"nhc\" and ending with \"lopd\"\n",
        "    text = re.sub(r'nhc.*?lopd', '', text, flags=re.DOTALL)\n",
        "    # Remove all asterisks '*'\n",
        "    text = text.replace('*', '')\n",
        "    return text\n",
        "\n",
        "\n",
        "# 2 Remove Punctuation (Able to be turned ON/OFF)\n",
        "def remove_punctuation(text):\n",
        "    # Define a translation table to map punctuation to None\n",
        "    translator = str.maketrans('', '', string.punctuation)\n",
        "    # Remove punctuation using the translation table\n",
        "    text = text.translate(translator)\n",
        "    return text\n",
        "\n",
        "\n",
        "# 3 Spell cheking with language detection (Able to be turned ON/OFF)\n",
        "# Load language models for Spanish and Catalan\n",
        "nlp_es = spacy.load(\"es_core_news_sm\")\n",
        "nlp_ca = spacy.load(\"ca_core_news_sm\")\n",
        "\n",
        "def lemmatize_text(text):\n",
        "    # Detect the language of the text\n",
        "    language = detect(text)\n",
        "\n",
        "    # Tokenize the text using the appropriate language model\n",
        "    if language == 'ca':\n",
        "        doc = nlp_ca(text)\n",
        "    else:\n",
        "        doc = nlp_es(text)\n",
        "\n",
        "    # Lemmatize tokens\n",
        "    lemmatized_tokens = []\n",
        "    for token in doc:\n",
        "        # Check if the token is a punctuation or whitespace\n",
        "        if not token.is_punct and not token.is_space:\n",
        "            # Lemmatize the token\n",
        "            lemmatized_token = token.lemma_ if token.lemma_ != '-PRON-' else token.text\n",
        "            lemmatized_tokens.append(lemmatized_token)\n",
        "        else:\n",
        "            lemmatized_tokens.append(token.text)\n",
        "\n",
        "    # Join the tokens back into text\n",
        "    lemmatized_text = ' '.join(lemmatized_tokens)\n",
        "    return lemmatized_text\n",
        "\n",
        "\n",
        "# 4 Tokenization with coordinates of the original text for (evaluation)\n",
        "def tokenize_with_coordinates(text):\n",
        "    # Tokenize the text while preserving the coordinates\n",
        "    tokens_with_coordinates = []\n",
        "    token_start = 0\n",
        "    for token in re.finditer(r'\\S+', text):\n",
        "        token_text = token.group(0)\n",
        "        token_end = token_start + len(token_text)\n",
        "        tokens_with_coordinates.append((token_text, token_start, token_end))\n",
        "        # Update token start position for the next token\n",
        "        token_start = token_end\n",
        "    return tokens_with_coordinates\n",
        "\n",
        "\n",
        "# Main function to process the text\n",
        "def pre_process_text(text, remove_punctuation_call=True, spell_check_call=True):\n",
        "\n",
        "    # 1 Remove pacient information and redacted entries\n",
        "    preprocessed_text = remove_pacient_info(text)\n",
        "\n",
        "    # 2 Remove punctuation if specified\n",
        "    if remove_punctuation_call:\n",
        "        preprocessed_text = remove_punctuation(preprocessed_text)\n",
        "\n",
        "    # 3 Spell check and lemmatize if specified\n",
        "    if spell_check_call:\n",
        "        preprocessed_text = lemmatize_text(preprocessed_text)\n",
        "\n",
        "    # 4 Tokenize the text with coordinates\n",
        "    tokens_with_coordinates = tokenize_with_coordinates(preprocessed_text)\n",
        "\n",
        "    return tokens_with_coordinates"
      ]
    },
    {
      "cell_type": "markdown",
      "metadata": {},
      "source": [
        "## <span style=\"color:red; font-size:larger;\">**DATA ANNOTATION**</span>\n"
      ]
    },
    {
      "cell_type": "code",
      "execution_count": 7,
      "metadata": {},
      "outputs": [],
      "source": [
        "def strip_tokens(tagged_text):\n",
        "    def find_indices(tokens, start_token, end_token, occurrence=1):\n",
        "        start_index = None\n",
        "        end_index = None\n",
        "        end_token_count = 0\n",
        "        for i, (word, _, _) in enumerate(tokens):\n",
        "            if word == start_token and start_index is None:\n",
        "                start_index = i\n",
        "            if word == end_token:\n",
        "                end_token_count += 1\n",
        "                if end_token_count == occurrence:\n",
        "                    end_index = i\n",
        "                    break\n",
        "        return start_index, end_index\n",
        "\n",
        "    # Remove sections from \"nº\" to the second occurrence of \"d'ingres\"\n",
        "    start1, end1 = find_indices(tagged_text, 'nº', \"d'ingres\", occurrence=2)\n",
        "    if end1 is not None:\n",
        "        end1 += 1  # Include the end token\n",
        "\n",
        "    # If the indices are found, remove the section\n",
        "    new_tagged_text = []\n",
        "    if start1 is not None and end1 is not None:\n",
        "        new_tagged_text = tagged_text[:start1] + tagged_text[end1:]\n",
        "    else:\n",
        "        new_tagged_text = tagged_text[:]\n",
        "\n",
        "    # Continuously find and remove all sections from \"nhc\" to \"lopd\"\n",
        "    while True:\n",
        "        start2, end2 = find_indices(new_tagged_text, 'nhc', 'lopd')\n",
        "        if start2 is not None and end2 is not None:\n",
        "            end2 += 1  # Include the end token\n",
        "            new_tagged_text = new_tagged_text[:start2] + new_tagged_text[end2:]\n",
        "        else:\n",
        "            break\n",
        "\n",
        "    return new_tagged_text\n",
        "\n",
        "def tag_words_from_json(json_data):\n",
        "    # Initialize lists for all tagged texts and counts\n",
        "    all_tagged_texts = []\n",
        "    all_counts = []\n",
        "\n",
        "    # Iterate through each entry in the JSON data\n",
        "    for entry in json_data:\n",
        "        # Extract text and predictions from JSON entry\n",
        "        text = entry['data']['text']\n",
        "        predictions = entry['predictions'][0]['result']\n",
        "\n",
        "        # Initialize counters\n",
        "        counts = {'NEG': 0, 'NSCO': 0, 'UNC': 0, 'USCO': 0}\n",
        "\n",
        "        # Initialize tokens and their coordinates\n",
        "        tokens = []\n",
        "        start_pos = 0\n",
        "\n",
        "        # Split text into tokens while tracking their start and end positions\n",
        "        for word in text.split():\n",
        "            start = text.find(word, start_pos)\n",
        "            end = start + len(word)\n",
        "            tokens.append((word, start, end))\n",
        "            start_pos = end\n",
        "\n",
        "        # Initialize tags list\n",
        "        tags = ['O'] * len(tokens)\n",
        "\n",
        "        # Tag each word\n",
        "        for pred in predictions:\n",
        "            pred_start = pred['value']['start']\n",
        "            pred_end = pred['value']['end']\n",
        "            label = pred['value']['labels'][0]\n",
        "\n",
        "            if label in counts:\n",
        "                counts[label] += 1\n",
        "                for i, (word, start, end) in enumerate(tokens):\n",
        "                    if start < pred_end and end > pred_start:\n",
        "                        tags[i] = label\n",
        "\n",
        "        # Combine tokens with tags\n",
        "        tagged_text = [(token[0], (token[1], token[2]), tags[i]) for i, token in enumerate(tokens)]\n",
        "\n",
        "        # Strip unwanted tokens\n",
        "        stripped_tagged_text = strip_tokens(tagged_text)\n",
        "\n",
        "        # Append the results to the lists\n",
        "        all_tagged_texts.append(stripped_tagged_text)\n",
        "        all_counts.append(counts)\n",
        "\n",
        "    # Return the list of tagged words and counts for all entries\n",
        "    return all_tagged_texts,all_counts"
      ]
    },
    {
      "cell_type": "markdown",
      "metadata": {
        "id": "QNlu5qz0WEjh"
      },
      "source": [
        "## <span style=\"color:red; font-size:larger;\">**FEATURE EXTRACTION FUNCTIONS**</span>\n"
      ]
    },
    {
      "cell_type": "code",
      "execution_count": 8,
      "metadata": {},
      "outputs": [],
      "source": [
        "# Spacy models for preprocessing in catalan or spanish\n",
        "nlp_es = spacy.load(\"es_core_news_sm\")\n",
        "nlp_ca = spacy.load(\"ca_core_news_sm\")\n",
        "\n",
        "#list of negation special words feature\n",
        "special_words = {\"nada\", \"ni\", \"nunca\", \"ningun\", \"ninguno\", \"ninguna\", \"alguna\", \"apenas\", \"para nada\", \"ni siquiera\"}\n",
        "\n",
        "# feature extractor function\n",
        "def word2features(doc, i, sentence_index):\n",
        "    word = doc[i].text\n",
        "\n",
        "    features = {\n",
        "        'WORD': word,                                                       # TOKEN\n",
        "        'POS': doc[i].pos_,                                                 # PART-OF-SPEECH OF THE TOKEN                \n",
        "        'INIT_CAP': word[0].isupper(),                                      # TOKEN BEGGINS WITH UPPERCASE LETTER\n",
        "        'ALPHANUM': word.isalnum(),                                         # TOKEN IS A NUMBER\n",
        "        'HAS_NUM': any(char.isdigit() for char in word),                    # TOKEN CONTAINS A NUMBER\n",
        "        'HAS_CAP': any(char.isupper() for char in word),                    # TOKEN CONTAINS A NUMBER\n",
        "        'HAS_DASH': '-' in word,                                            # TOKEN CONTAINS A DASH\n",
        "        'HAS_US': '_' in word,                                              # TOKEN CONTAINS AN UNDERSCORE\n",
        "        'PUNCTUATION': any(char in string.punctuation for char in word),    # TOKEN CONTAINS PUNCTUATION\n",
        "        'SUF2': word[-2:] if len(word) > 1 else '',                         # LAST TWO LETTERS\n",
        "        'SUF3': word[-3:] if len(word) > 2 else '',                         # LAST THREE LETTERS    \n",
        "        'SUF4': word[-4:] if len(word) > 3 else '',                         # LAST FOUR LETTERS\n",
        "        'PREF2': word[:2] if len(word) > 1 else '',                         # FIRST TWO LETTERS\n",
        "        'PREF3': word[:3] if len(word) > 2 else '',                         # FIRST THREE LETTERS    \n",
        "        'PREF4': word[:4] if len(word) > 3 else '',                         # FIRST FOUR LETTERS\n",
        "        'SPECIAL': word in special_words                                    # IS ONE OF THE SPECIAL WORDS\n",
        "    }\n",
        "\n",
        "    if i > 0:\n",
        "        features.update({\n",
        "            '2GRAMBEFORE': ' '.join([doc[i-1].text, word]),                 # BIGRAM OF THE TOKEN AND THE PREVIOUS ONE\n",
        "            'BEFOREPOS': doc[i-1].pos_,                                  # POS OF THE TOKEN AND THE PREVIOUS ONE\n",
        "            'BEFOREPOS': doc[i-1].pos_\n",
        "        })\n",
        "    else:\n",
        "        features['BOS'] = True  # Mark beginning of sentence\n",
        "\n",
        "    if i < len(doc) - 1:\n",
        "        features.update({\n",
        "            '2GRAMAFTER': ' '.join([word, doc[i+1].text]),                  # BIGRAM OF THE TOKEN AND THE NEXT ONE\n",
        "            'AFTERPOS': doc[i+1].pos_                                       # POS OF THE TOKEN AND THE NEXT ONE\n",
        "        })\n",
        "    else:\n",
        "        features['EOS'] = True  # Mark end of sentence\n",
        "\n",
        "    return features\n",
        "\n",
        "# send text to features\n",
        "def sent2features(sent, lang='es', sentence_index=0):\n",
        "    nlp = nlp_ca if lang == 'ca' else nlp_es\n",
        "    words = [word[0] for word in sent]  # Extract the words from the sent\n",
        "    spaces = [True] * (len(words) - 1) + [False]  # Space after each word except the last\n",
        "\n",
        "    # create a doc from words and spaces to have the same output and input lenght\n",
        "    doc = Doc(nlp.vocab, words=words, spaces=spaces)\n",
        "    \n",
        "    features = []\n",
        "    for i in range(len(doc)):\n",
        "        f = word2features(doc, i, sentence_index) # send the current doc (text) to the feature extractor\n",
        "        if f is not None:\n",
        "            features.append(f) #append features extracted to a list \n",
        "    return features\n",
        "\n",
        "\n",
        "# preprocessing step function \n",
        "def prepare_data_for_crf(json_data):\n",
        "    tagged_texts, counts = tag_words_from_json(json_data)\n",
        "    all_features = []\n",
        "    all_labels = []\n",
        "    for idx, text in enumerate(tagged_texts): #iterate over the the texts\n",
        "    \n",
        "        features = sent2features(text, detect_language(text), idx) #sends a text to sent2features\n",
        "        labels = [token[2] for token in text]\n",
        "        all_features.append(features)\n",
        "        all_labels.append(labels)\n",
        "\n",
        "    return all_features, all_labels\n",
        "\n",
        "def detect_language(text):\n",
        "    return 'es'  # 'es' or 'ca' based on your detection logic"
      ]
    },
    {
      "cell_type": "markdown",
      "metadata": {},
      "source": [
        "## <span style=\"color:red; font-size:larger;\">**MODEL**</span>\n"
      ]
    },
    {
      "cell_type": "code",
      "execution_count": 10,
      "metadata": {},
      "outputs": [],
      "source": [
        "# Prepare features and labels with preprocessing function\n",
        "X_train_full, y_train_full = prepare_data_for_crf(training_data) \n",
        "\n",
        "#data splitting for training and validation\n",
        "X_train, X_val, y_train, y_val = train_test_split(X_train_full, y_train_full, test_size=0.1, random_state=42)"
      ]
    },
    {
      "cell_type": "markdown",
      "metadata": {},
      "source": [
        "## <span style=\"color:red; font-size:larger;\">**MODEL EVALUATION**</span>"
      ]
    },
    {
      "cell_type": "code",
      "execution_count": 19,
      "metadata": {},
      "outputs": [],
      "source": [
        "import json\n",
        "import numpy as np\n",
        "from sklearn_crfsuite import CRF\n",
        "from sklearn.metrics import accuracy_score, classification_report, confusion_matrix\n",
        "from sklearn.model_selection import KFold\n",
        "from itertools import chain\n",
        "import matplotlib.pyplot as plt\n",
        "import seaborn as sns\n",
        "\n",
        "# Assuming the helper functions prepare_data_for_crf, detect_language, tag_words_from_json, and sent2features are defined\n"
      ]
    },
    {
      "cell_type": "markdown",
      "metadata": {},
      "source": [
        "**VALIDATION FUNCTION**"
      ]
    },
    {
      "cell_type": "code",
      "execution_count": 20,
      "metadata": {},
      "outputs": [],
      "source": [
        "def plot_confusion_matrix(y_true, y_pred, labels):\n",
        "    cm = confusion_matrix(y_true, y_pred, labels=labels)\n",
        "    plt.figure(figsize=(10, 7))\n",
        "    sns.heatmap(cm, annot=True, fmt='d', cmap='Blues', xticklabels=labels, yticklabels=labels)\n",
        "    plt.title('Confusion Matrix')\n",
        "    plt.xlabel('Predicted Labels')\n",
        "    plt.ylabel('True Labels')\n",
        "    plt.show()"
      ]
    },
    {
      "cell_type": "code",
      "execution_count": 21,
      "metadata": {},
      "outputs": [
        {
          "name": "stderr",
          "output_type": "stream",
          "text": [
            "loading training data to CRFsuite:   4%|▍         | 9/203 [00:00<00:02, 87.78it/s]"
          ]
        },
        {
          "name": "stdout",
          "output_type": "stream",
          "text": [
            "Training fold 1/5...\n"
          ]
        },
        {
          "name": "stderr",
          "output_type": "stream",
          "text": [
            "loading training data to CRFsuite: 100%|██████████| 203/203 [00:02<00:00, 77.84it/s]\n",
            "loading training data to CRFsuite:   6%|▌         | 12/203 [00:00<00:01, 103.44it/s]"
          ]
        },
        {
          "name": "stdout",
          "output_type": "stream",
          "text": [
            "Fold 1, Iteration 1/50: Validation Accuracy = 0.8959743902093543\n"
          ]
        },
        {
          "name": "stderr",
          "output_type": "stream",
          "text": [
            "loading training data to CRFsuite: 100%|██████████| 203/203 [00:02<00:00, 79.94it/s]\n",
            "loading training data to CRFsuite:   6%|▌         | 12/203 [00:00<00:01, 115.88it/s]"
          ]
        },
        {
          "name": "stdout",
          "output_type": "stream",
          "text": [
            "Fold 1, Iteration 2/50: Validation Accuracy = 0.8959743902093543\n"
          ]
        },
        {
          "name": "stderr",
          "output_type": "stream",
          "text": [
            "loading training data to CRFsuite: 100%|██████████| 203/203 [00:02<00:00, 89.99it/s] \n",
            "loading training data to CRFsuite:   6%|▌         | 12/203 [00:00<00:01, 119.78it/s]"
          ]
        },
        {
          "name": "stdout",
          "output_type": "stream",
          "text": [
            "Fold 1, Iteration 3/50: Validation Accuracy = 0.8959743902093543\n"
          ]
        },
        {
          "name": "stderr",
          "output_type": "stream",
          "text": [
            "loading training data to CRFsuite: 100%|██████████| 203/203 [00:02<00:00, 87.26it/s]\n",
            "loading training data to CRFsuite:   6%|▌         | 12/203 [00:00<00:01, 112.27it/s]"
          ]
        },
        {
          "name": "stdout",
          "output_type": "stream",
          "text": [
            "Fold 1, Iteration 4/50: Validation Accuracy = 0.8959743902093543\n"
          ]
        },
        {
          "name": "stderr",
          "output_type": "stream",
          "text": [
            "loading training data to CRFsuite: 100%|██████████| 203/203 [00:02<00:00, 79.03it/s]\n",
            "loading training data to CRFsuite:   6%|▌         | 12/203 [00:00<00:01, 103.18it/s]"
          ]
        },
        {
          "name": "stdout",
          "output_type": "stream",
          "text": [
            "Fold 1, Iteration 5/50: Validation Accuracy = 0.8959743902093543\n"
          ]
        },
        {
          "name": "stderr",
          "output_type": "stream",
          "text": [
            "loading training data to CRFsuite: 100%|██████████| 203/203 [00:02<00:00, 82.01it/s]\n",
            "loading training data to CRFsuite:  10%|▉         | 20/203 [00:00<00:01, 94.07it/s]"
          ]
        },
        {
          "name": "stdout",
          "output_type": "stream",
          "text": [
            "Fold 1, Iteration 6/50: Validation Accuracy = 0.8959743902093543\n"
          ]
        },
        {
          "name": "stderr",
          "output_type": "stream",
          "text": [
            "loading training data to CRFsuite: 100%|██████████| 203/203 [00:02<00:00, 80.65it/s]\n",
            "loading training data to CRFsuite:  10%|▉         | 20/203 [00:00<00:02, 86.95it/s]"
          ]
        },
        {
          "name": "stdout",
          "output_type": "stream",
          "text": [
            "Fold 1, Iteration 7/50: Validation Accuracy = 0.9033683673758464\n"
          ]
        },
        {
          "name": "stderr",
          "output_type": "stream",
          "text": [
            "loading training data to CRFsuite: 100%|██████████| 203/203 [00:02<00:00, 69.88it/s]\n",
            "loading training data to CRFsuite:  11%|█▏        | 23/203 [00:00<00:02, 81.06it/s] "
          ]
        },
        {
          "name": "stdout",
          "output_type": "stream",
          "text": [
            "Fold 1, Iteration 8/50: Validation Accuracy = 0.8959743902093543\n"
          ]
        },
        {
          "name": "stderr",
          "output_type": "stream",
          "text": [
            "loading training data to CRFsuite: 100%|██████████| 203/203 [00:02<00:00, 80.55it/s]\n",
            "loading training data to CRFsuite:  12%|█▏        | 24/203 [00:00<00:02, 79.92it/s] "
          ]
        },
        {
          "name": "stdout",
          "output_type": "stream",
          "text": [
            "Fold 1, Iteration 9/50: Validation Accuracy = 0.8963710020113884\n"
          ]
        },
        {
          "name": "stderr",
          "output_type": "stream",
          "text": [
            "loading training data to CRFsuite: 100%|██████████| 203/203 [00:02<00:00, 79.98it/s]\n",
            "loading training data to CRFsuite:  10%|▉         | 20/203 [00:00<00:02, 76.86it/s]"
          ]
        },
        {
          "name": "stdout",
          "output_type": "stream",
          "text": [
            "Fold 1, Iteration 10/50: Validation Accuracy = 0.8959743902093543\n"
          ]
        },
        {
          "name": "stderr",
          "output_type": "stream",
          "text": [
            "loading training data to CRFsuite: 100%|██████████| 203/203 [00:03<00:00, 66.63it/s]\n",
            "loading training data to CRFsuite:  11%|█         | 22/203 [00:00<00:02, 83.03it/s] "
          ]
        },
        {
          "name": "stdout",
          "output_type": "stream",
          "text": [
            "Fold 1, Iteration 11/50: Validation Accuracy = 0.9149267684636958\n"
          ]
        },
        {
          "name": "stderr",
          "output_type": "stream",
          "text": [
            "loading training data to CRFsuite: 100%|██████████| 203/203 [00:02<00:00, 74.09it/s]\n",
            "loading training data to CRFsuite:   6%|▌         | 12/203 [00:00<00:01, 101.32it/s]"
          ]
        },
        {
          "name": "stdout",
          "output_type": "stream",
          "text": [
            "Fold 1, Iteration 12/50: Validation Accuracy = 0.9126037564803535\n"
          ]
        },
        {
          "name": "stderr",
          "output_type": "stream",
          "text": [
            "loading training data to CRFsuite: 100%|██████████| 203/203 [00:02<00:00, 78.29it/s]\n",
            "loading training data to CRFsuite:   6%|▌         | 12/203 [00:00<00:01, 104.59it/s]"
          ]
        },
        {
          "name": "stdout",
          "output_type": "stream",
          "text": [
            "Fold 1, Iteration 13/50: Validation Accuracy = 0.9300546757698518\n"
          ]
        },
        {
          "name": "stderr",
          "output_type": "stream",
          "text": [
            "loading training data to CRFsuite: 100%|██████████| 203/203 [00:02<00:00, 77.44it/s]\n",
            "loading training data to CRFsuite:   6%|▌         | 12/203 [00:00<00:01, 113.74it/s]"
          ]
        },
        {
          "name": "stdout",
          "output_type": "stream",
          "text": [
            "Fold 1, Iteration 14/50: Validation Accuracy = 0.9280432873452505\n"
          ]
        },
        {
          "name": "stderr",
          "output_type": "stream",
          "text": [
            "loading training data to CRFsuite: 100%|██████████| 203/203 [00:02<00:00, 77.72it/s]\n",
            "loading training data to CRFsuite:   6%|▌         | 12/203 [00:00<00:01, 111.27it/s]"
          ]
        },
        {
          "name": "stdout",
          "output_type": "stream",
          "text": [
            "Fold 1, Iteration 15/50: Validation Accuracy = 0.9323210289243321\n"
          ]
        },
        {
          "name": "stderr",
          "output_type": "stream",
          "text": [
            "loading training data to CRFsuite: 100%|██████████| 203/203 [00:02<00:00, 81.82it/s]\n",
            "loading training data to CRFsuite:  12%|█▏        | 24/203 [00:00<00:01, 95.01it/s] "
          ]
        },
        {
          "name": "stdout",
          "output_type": "stream",
          "text": [
            "Fold 1, Iteration 16/50: Validation Accuracy = 0.9325476642397802\n"
          ]
        },
        {
          "name": "stderr",
          "output_type": "stream",
          "text": [
            "loading training data to CRFsuite: 100%|██████████| 203/203 [00:02<00:00, 85.15it/s]\n",
            "loading training data to CRFsuite:  11%|█▏        | 23/203 [00:00<00:02, 87.69it/s] "
          ]
        },
        {
          "name": "stdout",
          "output_type": "stream",
          "text": [
            "Fold 1, Iteration 17/50: Validation Accuracy = 0.9398283237485481\n"
          ]
        },
        {
          "name": "stderr",
          "output_type": "stream",
          "text": [
            "loading training data to CRFsuite: 100%|██████████| 203/203 [00:02<00:00, 79.67it/s]\n",
            "loading training data to CRFsuite:  12%|█▏        | 24/203 [00:00<00:01, 92.44it/s] "
          ]
        },
        {
          "name": "stdout",
          "output_type": "stream",
          "text": [
            "Fold 1, Iteration 18/50: Validation Accuracy = 0.9414714297855463\n"
          ]
        },
        {
          "name": "stderr",
          "output_type": "stream",
          "text": [
            "loading training data to CRFsuite: 100%|██████████| 203/203 [00:02<00:00, 88.81it/s]\n",
            "loading training data to CRFsuite:   6%|▌         | 12/203 [00:00<00:01, 110.26it/s]"
          ]
        },
        {
          "name": "stdout",
          "output_type": "stream",
          "text": [
            "Fold 1, Iteration 19/50: Validation Accuracy = 0.9415847474432704\n"
          ]
        },
        {
          "name": "stderr",
          "output_type": "stream",
          "text": [
            "loading training data to CRFsuite: 100%|██████████| 203/203 [00:02<00:00, 91.92it/s] \n",
            "loading training data to CRFsuite:   6%|▋         | 13/203 [00:00<00:01, 129.78it/s]"
          ]
        },
        {
          "name": "stdout",
          "output_type": "stream",
          "text": [
            "Fold 1, Iteration 20/50: Validation Accuracy = 0.9435961358678716\n"
          ]
        },
        {
          "name": "stderr",
          "output_type": "stream",
          "text": [
            "loading training data to CRFsuite: 100%|██████████| 203/203 [00:02<00:00, 94.51it/s] \n",
            "loading training data to CRFsuite:   6%|▋         | 13/203 [00:00<00:01, 128.75it/s]"
          ]
        },
        {
          "name": "stdout",
          "output_type": "stream",
          "text": [
            "Fold 1, Iteration 21/50: Validation Accuracy = 0.9416980651009944\n"
          ]
        },
        {
          "name": "stderr",
          "output_type": "stream",
          "text": [
            "loading training data to CRFsuite: 100%|██████████| 203/203 [00:02<00:00, 78.03it/s]\n",
            "loading training data to CRFsuite:  12%|█▏        | 24/203 [00:00<00:02, 86.70it/s] "
          ]
        },
        {
          "name": "stdout",
          "output_type": "stream",
          "text": [
            "Fold 1, Iteration 22/50: Validation Accuracy = 0.9499985835292785\n"
          ]
        },
        {
          "name": "stderr",
          "output_type": "stream",
          "text": [
            "loading training data to CRFsuite: 100%|██████████| 203/203 [00:02<00:00, 80.01it/s]\n",
            "loading training data to CRFsuite:  10%|▉         | 20/203 [00:00<00:01, 92.95it/s]"
          ]
        },
        {
          "name": "stdout",
          "output_type": "stream",
          "text": [
            "Fold 1, Iteration 23/50: Validation Accuracy = 0.9509051247910706\n"
          ]
        },
        {
          "name": "stderr",
          "output_type": "stream",
          "text": [
            "loading training data to CRFsuite: 100%|██████████| 203/203 [00:02<00:00, 71.37it/s]\n",
            "loading training data to CRFsuite:   5%|▌         | 11/203 [00:00<00:01, 106.53it/s]"
          ]
        },
        {
          "name": "stdout",
          "output_type": "stream",
          "text": [
            "Fold 1, Iteration 24/50: Validation Accuracy = 0.9462591008243859\n"
          ]
        },
        {
          "name": "stderr",
          "output_type": "stream",
          "text": [
            "loading training data to CRFsuite: 100%|██████████| 203/203 [00:02<00:00, 73.62it/s]\n",
            "loading training data to CRFsuite:  10%|▉         | 20/203 [00:00<00:01, 96.01it/s]"
          ]
        },
        {
          "name": "stdout",
          "output_type": "stream",
          "text": [
            "Fold 1, Iteration 25/50: Validation Accuracy = 0.9525765602424998\n"
          ]
        },
        {
          "name": "stderr",
          "output_type": "stream",
          "text": [
            "loading training data to CRFsuite: 100%|██████████| 203/203 [00:02<00:00, 75.54it/s]\n",
            "loading training data to CRFsuite:   9%|▉         | 18/203 [00:00<00:02, 86.05it/s]"
          ]
        },
        {
          "name": "stdout",
          "output_type": "stream",
          "text": [
            "Fold 1, Iteration 26/50: Validation Accuracy = 0.9537380662341709\n"
          ]
        },
        {
          "name": "stderr",
          "output_type": "stream",
          "text": [
            "loading training data to CRFsuite: 100%|██████████| 203/203 [00:03<00:00, 63.23it/s]\n",
            "loading training data to CRFsuite:   4%|▍         | 8/203 [00:00<00:02, 76.57it/s]"
          ]
        },
        {
          "name": "stdout",
          "output_type": "stream",
          "text": [
            "Fold 1, Iteration 27/50: Validation Accuracy = 0.9563160429473923\n"
          ]
        },
        {
          "name": "stderr",
          "output_type": "stream",
          "text": [
            "loading training data to CRFsuite: 100%|██████████| 203/203 [00:02<00:00, 69.86it/s]\n",
            "loading training data to CRFsuite:   7%|▋         | 14/203 [00:00<00:03, 55.21it/s]"
          ]
        },
        {
          "name": "stdout",
          "output_type": "stream",
          "text": [
            "Fold 1, Iteration 28/50: Validation Accuracy = 0.9565993370917023\n"
          ]
        },
        {
          "name": "stderr",
          "output_type": "stream",
          "text": [
            "loading training data to CRFsuite: 100%|██████████| 203/203 [00:02<00:00, 72.06it/s]\n",
            "loading training data to CRFsuite:  11%|█▏        | 23/203 [00:00<00:02, 83.56it/s] "
          ]
        },
        {
          "name": "stdout",
          "output_type": "stream",
          "text": [
            "Fold 1, Iteration 29/50: Validation Accuracy = 0.9568826312360124\n"
          ]
        },
        {
          "name": "stderr",
          "output_type": "stream",
          "text": [
            "loading training data to CRFsuite: 100%|██████████| 203/203 [00:02<00:00, 81.33it/s]\n",
            "loading training data to CRFsuite:  11%|█▏        | 23/203 [00:00<00:02, 82.83it/s] "
          ]
        },
        {
          "name": "stdout",
          "output_type": "stream",
          "text": [
            "Fold 1, Iteration 30/50: Validation Accuracy = 0.9591489843904927\n"
          ]
        },
        {
          "name": "stderr",
          "output_type": "stream",
          "text": [
            "loading training data to CRFsuite: 100%|██████████| 203/203 [00:02<00:00, 77.43it/s]\n",
            "loading training data to CRFsuite:  12%|█▏        | 24/203 [00:00<00:02, 84.55it/s] "
          ]
        },
        {
          "name": "stdout",
          "output_type": "stream",
          "text": [
            "Fold 1, Iteration 31/50: Validation Accuracy = 0.9601121844811468\n"
          ]
        },
        {
          "name": "stderr",
          "output_type": "stream",
          "text": [
            "loading training data to CRFsuite: 100%|██████████| 203/203 [00:02<00:00, 83.57it/s]\n",
            "loading training data to CRFsuite:  11%|█▏        | 23/203 [00:00<00:02, 86.98it/s] "
          ]
        },
        {
          "name": "stdout",
          "output_type": "stream",
          "text": [
            "Fold 1, Iteration 32/50: Validation Accuracy = 0.9591489843904927\n"
          ]
        },
        {
          "name": "stderr",
          "output_type": "stream",
          "text": [
            "loading training data to CRFsuite: 100%|██████████| 203/203 [00:02<00:00, 86.01it/s] \n",
            "loading training data to CRFsuite:   6%|▌         | 12/203 [00:00<00:01, 109.00it/s]"
          ]
        },
        {
          "name": "stdout",
          "output_type": "stream",
          "text": [
            "Fold 1, Iteration 33/50: Validation Accuracy = 0.9607920904274909\n"
          ]
        },
        {
          "name": "stderr",
          "output_type": "stream",
          "text": [
            "loading training data to CRFsuite: 100%|██████████| 203/203 [00:02<00:00, 80.19it/s]\n",
            "loading training data to CRFsuite:  11%|█▏        | 23/203 [00:00<00:02, 73.69it/s] "
          ]
        },
        {
          "name": "stdout",
          "output_type": "stream",
          "text": [
            "Fold 1, Iteration 34/50: Validation Accuracy = 0.961415337544973\n"
          ]
        },
        {
          "name": "stderr",
          "output_type": "stream",
          "text": [
            "loading training data to CRFsuite: 100%|██████████| 203/203 [00:02<00:00, 73.97it/s]\n",
            "loading training data to CRFsuite:  10%|▉         | 20/203 [00:00<00:02, 82.59it/s]"
          ]
        },
        {
          "name": "stdout",
          "output_type": "stream",
          "text": [
            "Fold 1, Iteration 35/50: Validation Accuracy = 0.962265219977903\n"
          ]
        },
        {
          "name": "stderr",
          "output_type": "stream",
          "text": [
            "loading training data to CRFsuite: 100%|██████████| 203/203 [00:02<00:00, 68.56it/s]\n",
            "loading training data to CRFsuite:   5%|▍         | 10/203 [00:00<00:02, 94.96it/s]"
          ]
        },
        {
          "name": "stdout",
          "output_type": "stream",
          "text": [
            "Fold 1, Iteration 36/50: Validation Accuracy = 0.9638799966004703\n"
          ]
        },
        {
          "name": "stderr",
          "output_type": "stream",
          "text": [
            "loading training data to CRFsuite: 100%|██████████| 203/203 [00:02<00:00, 72.59it/s]\n",
            "loading training data to CRFsuite:   6%|▌         | 12/203 [00:00<00:01, 112.01it/s]"
          ]
        },
        {
          "name": "stdout",
          "output_type": "stream",
          "text": [
            "Fold 1, Iteration 37/50: Validation Accuracy = 0.9637383495283153\n"
          ]
        },
        {
          "name": "stderr",
          "output_type": "stream",
          "text": [
            "loading training data to CRFsuite: 100%|██████████| 203/203 [00:02<00:00, 87.74it/s] \n",
            "loading training data to CRFsuite:  12%|█▏        | 24/203 [00:00<00:02, 86.68it/s] "
          ]
        },
        {
          "name": "stdout",
          "output_type": "stream",
          "text": [
            "Fold 1, Iteration 38/50: Validation Accuracy = 0.9595739256069578\n"
          ]
        },
        {
          "name": "stderr",
          "output_type": "stream",
          "text": [
            "loading training data to CRFsuite: 100%|██████████| 203/203 [00:02<00:00, 88.75it/s]\n",
            "loading training data to CRFsuite:   6%|▌         | 12/203 [00:00<00:01, 118.94it/s]"
          ]
        },
        {
          "name": "stdout",
          "output_type": "stream",
          "text": [
            "Fold 1, Iteration 39/50: Validation Accuracy = 0.96161364344599\n"
          ]
        },
        {
          "name": "stderr",
          "output_type": "stream",
          "text": [
            "loading training data to CRFsuite: 100%|██████████| 203/203 [00:02<00:00, 83.48it/s] \n",
            "loading training data to CRFsuite:   6%|▌         | 12/203 [00:00<00:01, 118.58it/s]"
          ]
        },
        {
          "name": "stdout",
          "output_type": "stream",
          "text": [
            "Fold 1, Iteration 40/50: Validation Accuracy = 0.9615003257882659\n"
          ]
        },
        {
          "name": "stderr",
          "output_type": "stream",
          "text": [
            "loading training data to CRFsuite: 100%|██████████| 203/203 [00:02<00:00, 85.65it/s] \n",
            "loading training data to CRFsuite:  10%|▉         | 20/203 [00:00<00:02, 85.09it/s]"
          ]
        },
        {
          "name": "stdout",
          "output_type": "stream",
          "text": [
            "Fold 1, Iteration 41/50: Validation Accuracy = 0.9632567494829882\n"
          ]
        },
        {
          "name": "stderr",
          "output_type": "stream",
          "text": [
            "loading training data to CRFsuite: 100%|██████████| 203/203 [00:02<00:00, 85.02it/s]\n",
            "loading training data to CRFsuite:  12%|█▏        | 24/203 [00:00<00:02, 86.05it/s] "
          ]
        },
        {
          "name": "stdout",
          "output_type": "stream",
          "text": [
            "Fold 1, Iteration 42/50: Validation Accuracy = 0.961103713986232\n"
          ]
        },
        {
          "name": "stderr",
          "output_type": "stream",
          "text": [
            "loading training data to CRFsuite: 100%|██████████| 203/203 [00:02<00:00, 88.44it/s]\n",
            "loading training data to CRFsuite:   6%|▌         | 12/203 [00:00<00:01, 114.04it/s]"
          ]
        },
        {
          "name": "stdout",
          "output_type": "stream",
          "text": [
            "Fold 1, Iteration 43/50: Validation Accuracy = 0.9594322785348027\n"
          ]
        },
        {
          "name": "stderr",
          "output_type": "stream",
          "text": [
            "loading training data to CRFsuite: 100%|██████████| 203/203 [00:02<00:00, 88.25it/s]\n",
            "loading training data to CRFsuite:  12%|█▏        | 24/203 [00:00<00:02, 87.75it/s] "
          ]
        },
        {
          "name": "stdout",
          "output_type": "stream",
          "text": [
            "Fold 1, Iteration 44/50: Validation Accuracy = 0.9607071021841979\n"
          ]
        },
        {
          "name": "stderr",
          "output_type": "stream",
          "text": [
            "loading training data to CRFsuite: 100%|██████████| 203/203 [00:02<00:00, 86.99it/s] \n",
            "loading training data to CRFsuite:   6%|▌         | 12/203 [00:00<00:01, 115.36it/s]"
          ]
        },
        {
          "name": "stdout",
          "output_type": "stream",
          "text": [
            "Fold 1, Iteration 45/50: Validation Accuracy = 0.9579308195699595\n"
          ]
        },
        {
          "name": "stderr",
          "output_type": "stream",
          "text": [
            "loading training data to CRFsuite: 100%|██████████| 203/203 [00:02<00:00, 88.02it/s]\n",
            "loading training data to CRFsuite:   6%|▌         | 12/203 [00:00<00:01, 113.56it/s]"
          ]
        },
        {
          "name": "stdout",
          "output_type": "stream",
          "text": [
            "Fold 1, Iteration 46/50: Validation Accuracy = 0.9584690784441485\n"
          ]
        },
        {
          "name": "stderr",
          "output_type": "stream",
          "text": [
            "loading training data to CRFsuite: 100%|██████████| 203/203 [00:02<00:00, 87.45it/s] \n",
            "loading training data to CRFsuite:  12%|█▏        | 24/203 [00:00<00:02, 83.64it/s] "
          ]
        },
        {
          "name": "stdout",
          "output_type": "stream",
          "text": [
            "Fold 1, Iteration 47/50: Validation Accuracy = 0.9569109606504433\n"
          ]
        },
        {
          "name": "stderr",
          "output_type": "stream",
          "text": [
            "loading training data to CRFsuite: 100%|██████████| 203/203 [00:02<00:00, 89.19it/s]\n",
            "loading training data to CRFsuite:   6%|▌         | 12/203 [00:00<00:01, 116.90it/s]"
          ]
        },
        {
          "name": "stdout",
          "output_type": "stream",
          "text": [
            "Fold 1, Iteration 48/50: Validation Accuracy = 0.9583557607864246\n"
          ]
        },
        {
          "name": "stderr",
          "output_type": "stream",
          "text": [
            "loading training data to CRFsuite: 100%|██████████| 203/203 [00:02<00:00, 88.29it/s] \n",
            "loading training data to CRFsuite:  12%|█▏        | 24/203 [00:00<00:02, 86.73it/s] "
          ]
        },
        {
          "name": "stdout",
          "output_type": "stream",
          "text": [
            "Fold 1, Iteration 49/50: Validation Accuracy = 0.9572792430380465\n"
          ]
        },
        {
          "name": "stderr",
          "output_type": "stream",
          "text": [
            "loading training data to CRFsuite: 100%|██████████| 203/203 [00:02<00:00, 88.65it/s] \n"
          ]
        },
        {
          "name": "stdout",
          "output_type": "stream",
          "text": [
            "Fold 1, Iteration 50/50: Validation Accuracy = 0.9591773138049237\n"
          ]
        },
        {
          "data": {
            "image/png": "[encoded data removed]",
            "text/plain": [
              "<Figure size 1000x700 with 2 Axes>"
            ]
          },
          "metadata": {},
          "output_type": "display_data"
        },
        {
          "name": "stderr",
          "output_type": "stream",
          "text": [
            "loading training data to CRFsuite:  11%|█         | 22/203 [00:00<00:01, 99.66it/s]"
          ]
        },
        {
          "name": "stdout",
          "output_type": "stream",
          "text": [
            "Training fold 2/5...\n"
          ]
        },
        {
          "name": "stderr",
          "output_type": "stream",
          "text": [
            "loading training data to CRFsuite: 100%|██████████| 203/203 [00:02<00:00, 80.72it/s]\n",
            "loading training data to CRFsuite:  12%|█▏        | 25/203 [00:00<00:01, 103.32it/s]"
          ]
        },
        {
          "name": "stdout",
          "output_type": "stream",
          "text": [
            "Fold 2, Iteration 1/50: Validation Accuracy = 0.8905267859991705\n"
          ]
        },
        {
          "name": "stderr",
          "output_type": "stream",
          "text": [
            "loading training data to CRFsuite: 100%|██████████| 203/203 [00:02<00:00, 84.71it/s] \n",
            "loading training data to CRFsuite:   6%|▋         | 13/203 [00:00<00:01, 112.04it/s]"
          ]
        },
        {
          "name": "stdout",
          "output_type": "stream",
          "text": [
            "Fold 2, Iteration 2/50: Validation Accuracy = 0.8905267859991705\n"
          ]
        },
        {
          "name": "stderr",
          "output_type": "stream",
          "text": [
            "loading training data to CRFsuite: 100%|██████████| 203/203 [00:02<00:00, 85.83it/s] \n",
            "loading training data to CRFsuite:  12%|█▏        | 25/203 [00:00<00:01, 102.91it/s]"
          ]
        },
        {
          "name": "stdout",
          "output_type": "stream",
          "text": [
            "Fold 2, Iteration 3/50: Validation Accuracy = 0.8905267859991705\n"
          ]
        },
        {
          "name": "stderr",
          "output_type": "stream",
          "text": [
            "loading training data to CRFsuite: 100%|██████████| 203/203 [00:02<00:00, 86.26it/s]\n",
            "loading training data to CRFsuite:   6%|▋         | 13/203 [00:00<00:01, 115.73it/s]"
          ]
        },
        {
          "name": "stdout",
          "output_type": "stream",
          "text": [
            "Fold 2, Iteration 4/50: Validation Accuracy = 0.8905267859991705\n"
          ]
        },
        {
          "name": "stderr",
          "output_type": "stream",
          "text": [
            "loading training data to CRFsuite: 100%|██████████| 203/203 [00:02<00:00, 85.41it/s]\n",
            "loading training data to CRFsuite:  12%|█▏        | 25/203 [00:00<00:01, 106.57it/s]"
          ]
        },
        {
          "name": "stdout",
          "output_type": "stream",
          "text": [
            "Fold 2, Iteration 5/50: Validation Accuracy = 0.8905267859991705\n"
          ]
        },
        {
          "name": "stderr",
          "output_type": "stream",
          "text": [
            "loading training data to CRFsuite: 100%|██████████| 203/203 [00:02<00:00, 86.71it/s]\n",
            "loading training data to CRFsuite:  12%|█▏        | 25/203 [00:00<00:01, 107.75it/s]"
          ]
        },
        {
          "name": "stdout",
          "output_type": "stream",
          "text": [
            "Fold 2, Iteration 6/50: Validation Accuracy = 0.8905267859991705\n"
          ]
        },
        {
          "name": "stderr",
          "output_type": "stream",
          "text": [
            "loading training data to CRFsuite: 100%|██████████| 203/203 [00:02<00:00, 86.09it/s]\n",
            "loading training data to CRFsuite:  12%|█▏        | 24/203 [00:00<00:01, 102.93it/s]"
          ]
        },
        {
          "name": "stdout",
          "output_type": "stream",
          "text": [
            "Fold 2, Iteration 7/50: Validation Accuracy = 0.8909415781245015\n"
          ]
        },
        {
          "name": "stderr",
          "output_type": "stream",
          "text": [
            "loading training data to CRFsuite: 100%|██████████| 203/203 [00:02<00:00, 84.84it/s]\n",
            "loading training data to CRFsuite:   6%|▋         | 13/203 [00:00<00:01, 111.96it/s]"
          ]
        },
        {
          "name": "stdout",
          "output_type": "stream",
          "text": [
            "Fold 2, Iteration 8/50: Validation Accuracy = 0.8905267859991705\n"
          ]
        },
        {
          "name": "stderr",
          "output_type": "stream",
          "text": [
            "loading training data to CRFsuite: 100%|██████████| 203/203 [00:02<00:00, 83.74it/s]\n",
            "loading training data to CRFsuite:  12%|█▏        | 25/203 [00:00<00:01, 105.19it/s]"
          ]
        },
        {
          "name": "stdout",
          "output_type": "stream",
          "text": [
            "Fold 2, Iteration 9/50: Validation Accuracy = 0.8998117481892728\n"
          ]
        },
        {
          "name": "stderr",
          "output_type": "stream",
          "text": [
            "loading training data to CRFsuite: 100%|██████████| 203/203 [00:02<00:00, 85.73it/s]\n",
            "loading training data to CRFsuite:   6%|▋         | 13/203 [00:00<00:01, 115.93it/s]"
          ]
        },
        {
          "name": "stdout",
          "output_type": "stream",
          "text": [
            "Fold 2, Iteration 10/50: Validation Accuracy = 0.9098624804569094\n"
          ]
        },
        {
          "name": "stderr",
          "output_type": "stream",
          "text": [
            "loading training data to CRFsuite: 100%|██████████| 203/203 [00:02<00:00, 85.79it/s]\n",
            "loading training data to CRFsuite:  12%|█▏        | 25/203 [00:00<00:01, 99.10it/s] "
          ]
        },
        {
          "name": "stdout",
          "output_type": "stream",
          "text": [
            "Fold 2, Iteration 11/50: Validation Accuracy = 0.9320059985322741\n"
          ]
        },
        {
          "name": "stderr",
          "output_type": "stream",
          "text": [
            "loading training data to CRFsuite: 100%|██████████| 203/203 [00:02<00:00, 84.94it/s]\n",
            "loading training data to CRFsuite:  12%|█▏        | 24/203 [00:00<00:01, 105.66it/s]"
          ]
        },
        {
          "name": "stdout",
          "output_type": "stream",
          "text": [
            "Fold 2, Iteration 12/50: Validation Accuracy = 0.9322293481382214\n"
          ]
        },
        {
          "name": "stderr",
          "output_type": "stream",
          "text": [
            "loading training data to CRFsuite: 100%|██████████| 203/203 [00:02<00:00, 84.64it/s]\n",
            "loading training data to CRFsuite:   8%|▊         | 16/203 [00:00<00:02, 69.05it/s]"
          ]
        },
        {
          "name": "stdout",
          "output_type": "stream",
          "text": [
            "Fold 2, Iteration 13/50: Validation Accuracy = 0.9392489071822852\n"
          ]
        },
        {
          "name": "stderr",
          "output_type": "stream",
          "text": [
            "loading training data to CRFsuite: 100%|██████████| 203/203 [00:02<00:00, 72.59it/s]\n",
            "loading training data to CRFsuite:  10%|▉         | 20/203 [00:00<00:01, 92.24it/s]"
          ]
        },
        {
          "name": "stdout",
          "output_type": "stream",
          "text": [
            "Fold 2, Iteration 14/50: Validation Accuracy = 0.9392808142688491\n"
          ]
        },
        {
          "name": "stderr",
          "output_type": "stream",
          "text": [
            "loading training data to CRFsuite: 100%|██████████| 203/203 [00:02<00:00, 74.94it/s]\n",
            "loading training data to CRFsuite:  11%|█         | 22/203 [00:00<00:01, 104.99it/s]"
          ]
        },
        {
          "name": "stdout",
          "output_type": "stream",
          "text": [
            "Fold 2, Iteration 15/50: Validation Accuracy = 0.9427586867043171\n"
          ]
        },
        {
          "name": "stderr",
          "output_type": "stream",
          "text": [
            "loading training data to CRFsuite: 100%|██████████| 203/203 [00:02<00:00, 83.36it/s]\n",
            "loading training data to CRFsuite:  12%|█▏        | 25/203 [00:00<00:01, 104.42it/s]"
          ]
        },
        {
          "name": "stdout",
          "output_type": "stream",
          "text": [
            "Fold 2, Iteration 16/50: Validation Accuracy = 0.9407804473373537\n"
          ]
        },
        {
          "name": "stderr",
          "output_type": "stream",
          "text": [
            "loading training data to CRFsuite: 100%|██████████| 203/203 [00:02<00:00, 84.46it/s]\n",
            "loading training data to CRFsuite:  12%|█▏        | 25/203 [00:00<00:01, 102.88it/s]"
          ]
        },
        {
          "name": "stdout",
          "output_type": "stream",
          "text": [
            "Fold 2, Iteration 17/50: Validation Accuracy = 0.9407804473373537\n"
          ]
        },
        {
          "name": "stderr",
          "output_type": "stream",
          "text": [
            "loading training data to CRFsuite: 100%|██████████| 203/203 [00:02<00:00, 83.29it/s]\n",
            "loading training data to CRFsuite:  12%|█▏        | 25/203 [00:00<00:01, 106.08it/s]"
          ]
        },
        {
          "name": "stdout",
          "output_type": "stream",
          "text": [
            "Fold 2, Iteration 18/50: Validation Accuracy = 0.9405251906448422\n"
          ]
        },
        {
          "name": "stderr",
          "output_type": "stream",
          "text": [
            "loading training data to CRFsuite: 100%|██████████| 203/203 [00:02<00:00, 84.83it/s]\n",
            "loading training data to CRFsuite:  12%|█▏        | 25/203 [00:00<00:01, 100.19it/s]"
          ]
        },
        {
          "name": "stdout",
          "output_type": "stream",
          "text": [
            "Fold 2, Iteration 19/50: Validation Accuracy = 0.9412590536358125\n"
          ]
        },
        {
          "name": "stderr",
          "output_type": "stream",
          "text": [
            "loading training data to CRFsuite: 100%|██████████| 203/203 [00:02<00:00, 84.39it/s]\n",
            "loading training data to CRFsuite:   6%|▌         | 12/203 [00:00<00:01, 117.48it/s]"
          ]
        },
        {
          "name": "stdout",
          "output_type": "stream",
          "text": [
            "Fold 2, Iteration 20/50: Validation Accuracy = 0.9436839922146709\n"
          ]
        },
        {
          "name": "stderr",
          "output_type": "stream",
          "text": [
            "loading training data to CRFsuite: 100%|██████████| 203/203 [00:02<00:00, 81.21it/s]\n",
            "loading training data to CRFsuite:  12%|█▏        | 24/203 [00:00<00:01, 99.34it/s] "
          ]
        },
        {
          "name": "stdout",
          "output_type": "stream",
          "text": [
            "Fold 2, Iteration 21/50: Validation Accuracy = 0.9473214000829584\n"
          ]
        },
        {
          "name": "stderr",
          "output_type": "stream",
          "text": [
            "loading training data to CRFsuite: 100%|██████████| 203/203 [00:02<00:00, 84.43it/s]\n",
            "loading training data to CRFsuite:  13%|█▎        | 26/203 [00:00<00:01, 108.79it/s]"
          ]
        },
        {
          "name": "stdout",
          "output_type": "stream",
          "text": [
            "Fold 2, Iteration 22/50: Validation Accuracy = 0.9491081969305383\n"
          ]
        },
        {
          "name": "stderr",
          "output_type": "stream",
          "text": [
            "loading training data to CRFsuite: 100%|██████████| 203/203 [00:02<00:00, 86.90it/s]\n",
            "loading training data to CRFsuite:  13%|█▎        | 26/203 [00:00<00:01, 107.20it/s]"
          ]
        },
        {
          "name": "stdout",
          "output_type": "stream",
          "text": [
            "Fold 2, Iteration 23/50: Validation Accuracy = 0.9523627197600587\n"
          ]
        },
        {
          "name": "stderr",
          "output_type": "stream",
          "text": [
            "loading training data to CRFsuite: 100%|██████████| 203/203 [00:02<00:00, 85.67it/s] \n",
            "loading training data to CRFsuite:  12%|█▏        | 25/203 [00:00<00:01, 104.43it/s]"
          ]
        },
        {
          "name": "stdout",
          "output_type": "stream",
          "text": [
            "Fold 2, Iteration 24/50: Validation Accuracy = 0.9539899811748189\n"
          ]
        },
        {
          "name": "stderr",
          "output_type": "stream",
          "text": [
            "loading training data to CRFsuite: 100%|██████████| 203/203 [00:02<00:00, 86.13it/s]\n",
            "loading training data to CRFsuite:  12%|█▏        | 24/203 [00:00<00:01, 102.76it/s]"
          ]
        },
        {
          "name": "stdout",
          "output_type": "stream",
          "text": [
            "Fold 2, Iteration 25/50: Validation Accuracy = 0.9577231103027982\n"
          ]
        },
        {
          "name": "stderr",
          "output_type": "stream",
          "text": [
            "loading training data to CRFsuite: 100%|██████████| 203/203 [00:02<00:00, 80.94it/s]\n",
            "loading training data to CRFsuite:  12%|█▏        | 25/203 [00:00<00:01, 102.37it/s]"
          ]
        },
        {
          "name": "stdout",
          "output_type": "stream",
          "text": [
            "Fold 2, Iteration 26/50: Validation Accuracy = 0.9575316677834147\n"
          ]
        },
        {
          "name": "stderr",
          "output_type": "stream",
          "text": [
            "loading training data to CRFsuite: 100%|██████████| 203/203 [00:02<00:00, 85.79it/s]\n",
            "loading training data to CRFsuite:  13%|█▎        | 26/203 [00:00<00:01, 105.78it/s]"
          ]
        },
        {
          "name": "stdout",
          "output_type": "stream",
          "text": [
            "Fold 2, Iteration 27/50: Validation Accuracy = 0.9592546504578667\n"
          ]
        },
        {
          "name": "stderr",
          "output_type": "stream",
          "text": [
            "loading training data to CRFsuite: 100%|██████████| 203/203 [00:02<00:00, 85.93it/s]\n",
            "loading training data to CRFsuite:  13%|█▎        | 26/203 [00:00<00:01, 112.08it/s]"
          ]
        },
        {
          "name": "stdout",
          "output_type": "stream",
          "text": [
            "Fold 2, Iteration 28/50: Validation Accuracy = 0.961679589036725\n"
          ]
        },
        {
          "name": "stderr",
          "output_type": "stream",
          "text": [
            "loading training data to CRFsuite: 100%|██████████| 203/203 [00:02<00:00, 86.05it/s]\n",
            "loading training data to CRFsuite:  13%|█▎        | 26/203 [00:00<00:01, 108.49it/s]"
          ]
        },
        {
          "name": "stdout",
          "output_type": "stream",
          "text": [
            "Fold 2, Iteration 29/50: Validation Accuracy = 0.9627325228933347\n"
          ]
        },
        {
          "name": "stderr",
          "output_type": "stream",
          "text": [
            "loading training data to CRFsuite: 100%|██████████| 203/203 [00:02<00:00, 88.99it/s] \n",
            "loading training data to CRFsuite:  13%|█▎        | 26/203 [00:00<00:01, 108.34it/s]"
          ]
        },
        {
          "name": "stdout",
          "output_type": "stream",
          "text": [
            "Fold 2, Iteration 30/50: Validation Accuracy = 0.9630196866724099\n"
          ]
        },
        {
          "name": "stderr",
          "output_type": "stream",
          "text": [
            "loading training data to CRFsuite: 100%|██████████| 203/203 [00:02<00:00, 85.88it/s]\n",
            "loading training data to CRFsuite:  13%|█▎        | 26/203 [00:00<00:01, 112.59it/s]"
          ]
        },
        {
          "name": "stdout",
          "output_type": "stream",
          "text": [
            "Fold 2, Iteration 31/50: Validation Accuracy = 0.9653169969050126\n"
          ]
        },
        {
          "name": "stderr",
          "output_type": "stream",
          "text": [
            "loading training data to CRFsuite: 100%|██████████| 203/203 [00:02<00:00, 88.48it/s]\n",
            "loading training data to CRFsuite:  12%|█▏        | 25/203 [00:00<00:01, 102.42it/s]"
          ]
        },
        {
          "name": "stdout",
          "output_type": "stream",
          "text": [
            "Fold 2, Iteration 32/50: Validation Accuracy = 0.9669123512332088\n"
          ]
        },
        {
          "name": "stderr",
          "output_type": "stream",
          "text": [
            "loading training data to CRFsuite: 100%|██████████| 203/203 [00:02<00:00, 87.73it/s]\n",
            "loading training data to CRFsuite:  13%|█▎        | 26/203 [00:00<00:01, 105.66it/s]"
          ]
        },
        {
          "name": "stdout",
          "output_type": "stream",
          "text": [
            "Fold 2, Iteration 33/50: Validation Accuracy = 0.9671357008391563\n"
          ]
        },
        {
          "name": "stderr",
          "output_type": "stream",
          "text": [
            "loading training data to CRFsuite: 100%|██████████| 203/203 [00:02<00:00, 86.70it/s] \n",
            "loading training data to CRFsuite:  12%|█▏        | 25/203 [00:00<00:01, 106.12it/s]"
          ]
        },
        {
          "name": "stdout",
          "output_type": "stream",
          "text": [
            "Fold 2, Iteration 34/50: Validation Accuracy = 0.9697520819373983\n"
          ]
        },
        {
          "name": "stderr",
          "output_type": "stream",
          "text": [
            "loading training data to CRFsuite: 100%|██████████| 203/203 [00:02<00:00, 87.08it/s]\n",
            "loading training data to CRFsuite:   6%|▌         | 12/203 [00:00<00:01, 119.83it/s]"
          ]
        },
        {
          "name": "stdout",
          "output_type": "stream",
          "text": [
            "Fold 2, Iteration 35/50: Validation Accuracy = 0.9692415685523755\n"
          ]
        },
        {
          "name": "stderr",
          "output_type": "stream",
          "text": [
            "loading training data to CRFsuite: 100%|██████████| 203/203 [00:02<00:00, 86.11it/s]\n",
            "loading training data to CRFsuite:  11%|█         | 22/203 [00:00<00:01, 99.52it/s]"
          ]
        },
        {
          "name": "stdout",
          "output_type": "stream",
          "text": [
            "Fold 2, Iteration 36/50: Validation Accuracy = 0.9702625953224211\n"
          ]
        },
        {
          "name": "stderr",
          "output_type": "stream",
          "text": [
            "loading training data to CRFsuite: 100%|██████████| 203/203 [00:02<00:00, 86.87it/s]\n",
            "loading training data to CRFsuite:   6%|▋         | 13/203 [00:00<00:01, 115.87it/s]"
          ]
        },
        {
          "name": "stdout",
          "output_type": "stream",
          "text": [
            "Fold 2, Iteration 37/50: Validation Accuracy = 0.9684438913882774\n"
          ]
        },
        {
          "name": "stderr",
          "output_type": "stream",
          "text": [
            "loading training data to CRFsuite: 100%|██████████| 203/203 [00:02<00:00, 87.93it/s] \n",
            "loading training data to CRFsuite:  11%|█▏        | 23/203 [00:00<00:01, 105.25it/s]"
          ]
        },
        {
          "name": "stdout",
          "output_type": "stream",
          "text": [
            "Fold 2, Iteration 38/50: Validation Accuracy = 0.9688267764270444\n"
          ]
        },
        {
          "name": "stderr",
          "output_type": "stream",
          "text": [
            "loading training data to CRFsuite: 100%|██████████| 203/203 [00:02<00:00, 86.13it/s] \n",
            "loading training data to CRFsuite:  12%|█▏        | 24/203 [00:00<00:01, 106.57it/s]"
          ]
        },
        {
          "name": "stdout",
          "output_type": "stream",
          "text": [
            "Fold 2, Iteration 39/50: Validation Accuracy = 0.96732714335854\n"
          ]
        },
        {
          "name": "stderr",
          "output_type": "stream",
          "text": [
            "loading training data to CRFsuite: 100%|██████████| 203/203 [00:02<00:00, 84.99it/s]\n",
            "loading training data to CRFsuite:  13%|█▎        | 26/203 [00:00<00:01, 106.40it/s]"
          ]
        },
        {
          "name": "stdout",
          "output_type": "stream",
          "text": [
            "Fold 2, Iteration 40/50: Validation Accuracy = 0.9678376567435627\n"
          ]
        },
        {
          "name": "stderr",
          "output_type": "stream",
          "text": [
            "loading training data to CRFsuite: 100%|██████████| 203/203 [00:02<00:00, 88.01it/s] \n",
            "loading training data to CRFsuite:  12%|█▏        | 25/203 [00:00<00:01, 100.23it/s]"
          ]
        },
        {
          "name": "stdout",
          "output_type": "stream",
          "text": [
            "Fold 2, Iteration 41/50: Validation Accuracy = 0.9658913244631633\n"
          ]
        },
        {
          "name": "stderr",
          "output_type": "stream",
          "text": [
            "loading training data to CRFsuite: 100%|██████████| 203/203 [00:02<00:00, 85.85it/s]\n",
            "loading training data to CRFsuite:  12%|█▏        | 25/203 [00:00<00:01, 105.27it/s]"
          ]
        },
        {
          "name": "stdout",
          "output_type": "stream",
          "text": [
            "Fold 2, Iteration 42/50: Validation Accuracy = 0.9652531827318848\n"
          ]
        },
        {
          "name": "stderr",
          "output_type": "stream",
          "text": [
            "loading training data to CRFsuite: 100%|██████████| 203/203 [00:02<00:00, 86.72it/s]\n",
            "loading training data to CRFsuite:  12%|█▏        | 25/203 [00:00<00:01, 102.07it/s]"
          ]
        },
        {
          "name": "stdout",
          "output_type": "stream",
          "text": [
            "Fold 2, Iteration 43/50: Validation Accuracy = 0.9659232315497271\n"
          ]
        },
        {
          "name": "stderr",
          "output_type": "stream",
          "text": [
            "loading training data to CRFsuite: 100%|██████████| 203/203 [00:02<00:00, 88.03it/s] \n",
            "loading training data to CRFsuite:  13%|█▎        | 26/203 [00:00<00:01, 110.28it/s]"
          ]
        },
        {
          "name": "stdout",
          "output_type": "stream",
          "text": [
            "Fold 2, Iteration 44/50: Validation Accuracy = 0.9641045276155834\n"
          ]
        },
        {
          "name": "stderr",
          "output_type": "stream",
          "text": [
            "loading training data to CRFsuite: 100%|██████████| 203/203 [00:02<00:00, 85.73it/s]\n",
            "loading training data to CRFsuite:  12%|█▏        | 25/203 [00:00<00:01, 108.48it/s]"
          ]
        },
        {
          "name": "stdout",
          "output_type": "stream",
          "text": [
            "Fold 2, Iteration 45/50: Validation Accuracy = 0.9627006158067707\n"
          ]
        },
        {
          "name": "stderr",
          "output_type": "stream",
          "text": [
            "loading training data to CRFsuite: 100%|██████████| 203/203 [00:02<00:00, 87.26it/s] \n",
            "loading training data to CRFsuite:  12%|█▏        | 25/203 [00:00<00:01, 105.44it/s]"
          ]
        },
        {
          "name": "stdout",
          "output_type": "stream",
          "text": [
            "Fold 2, Iteration 46/50: Validation Accuracy = 0.9635302000574327\n"
          ]
        },
        {
          "name": "stderr",
          "output_type": "stream",
          "text": [
            "loading training data to CRFsuite: 100%|██████████| 203/203 [00:02<00:00, 86.18it/s]\n",
            "loading training data to CRFsuite:  13%|█▎        | 26/203 [00:00<00:01, 107.21it/s]"
          ]
        },
        {
          "name": "stdout",
          "output_type": "stream",
          "text": [
            "Fold 2, Iteration 47/50: Validation Accuracy = 0.9623815449411314\n"
          ]
        },
        {
          "name": "stderr",
          "output_type": "stream",
          "text": [
            "loading training data to CRFsuite: 100%|██████████| 203/203 [00:02<00:00, 87.88it/s]\n",
            "loading training data to CRFsuite:  12%|█▏        | 25/203 [00:00<00:01, 105.02it/s]"
          ]
        },
        {
          "name": "stdout",
          "output_type": "stream",
          "text": [
            "Fold 2, Iteration 48/50: Validation Accuracy = 0.9654446252512683\n"
          ]
        },
        {
          "name": "stderr",
          "output_type": "stream",
          "text": [
            "loading training data to CRFsuite: 100%|██████████| 203/203 [00:02<00:00, 88.59it/s] \n",
            "loading training data to CRFsuite:  11%|█▏        | 23/203 [00:00<00:01, 110.03it/s]"
          ]
        },
        {
          "name": "stdout",
          "output_type": "stream",
          "text": [
            "Fold 2, Iteration 49/50: Validation Accuracy = 0.9648702976931176\n"
          ]
        },
        {
          "name": "stderr",
          "output_type": "stream",
          "text": [
            "loading training data to CRFsuite: 100%|██████████| 203/203 [00:02<00:00, 85.05it/s] \n"
          ]
        },
        {
          "name": "stdout",
          "output_type": "stream",
          "text": [
            "Fold 2, Iteration 50/50: Validation Accuracy = 0.9654765323378323\n"
          ]
        },
        {
          "data": {
            "image/png": "[encoded data removed]",
            "text/plain": [
              "<Figure size 1000x700 with 2 Axes>"
            ]
          },
          "metadata": {},
          "output_type": "display_data"
        },
        {
          "name": "stderr",
          "output_type": "stream",
          "text": [
            "loading training data to CRFsuite:   9%|▉         | 18/203 [00:00<00:02, 88.28it/s]"
          ]
        },
        {
          "name": "stdout",
          "output_type": "stream",
          "text": [
            "Training fold 3/5...\n"
          ]
        },
        {
          "name": "stderr",
          "output_type": "stream",
          "text": [
            "loading training data to CRFsuite: 100%|██████████| 203/203 [00:02<00:00, 85.59it/s] \n",
            "loading training data to CRFsuite:  10%|█         | 21/203 [00:00<00:01, 94.61it/s]"
          ]
        },
        {
          "name": "stdout",
          "output_type": "stream",
          "text": [
            "Fold 3, Iteration 1/50: Validation Accuracy = 0.8838252360191952\n"
          ]
        },
        {
          "name": "stderr",
          "output_type": "stream",
          "text": [
            "loading training data to CRFsuite: 100%|██████████| 203/203 [00:02<00:00, 81.43it/s]\n",
            "loading training data to CRFsuite:  11%|█▏        | 23/203 [00:00<00:01, 102.34it/s]"
          ]
        },
        {
          "name": "stdout",
          "output_type": "stream",
          "text": [
            "Fold 3, Iteration 2/50: Validation Accuracy = 0.8838252360191952\n"
          ]
        },
        {
          "name": "stderr",
          "output_type": "stream",
          "text": [
            "loading training data to CRFsuite: 100%|██████████| 203/203 [00:02<00:00, 86.19it/s] \n",
            "loading training data to CRFsuite:  11%|█         | 22/203 [00:00<00:01, 107.82it/s]"
          ]
        },
        {
          "name": "stdout",
          "output_type": "stream",
          "text": [
            "Fold 3, Iteration 3/50: Validation Accuracy = 0.8838252360191952\n"
          ]
        },
        {
          "name": "stderr",
          "output_type": "stream",
          "text": [
            "loading training data to CRFsuite: 100%|██████████| 203/203 [00:02<00:00, 87.22it/s] \n",
            "loading training data to CRFsuite:  11%|█         | 22/203 [00:00<00:01, 105.76it/s]"
          ]
        },
        {
          "name": "stdout",
          "output_type": "stream",
          "text": [
            "Fold 3, Iteration 4/50: Validation Accuracy = 0.8838252360191952\n"
          ]
        },
        {
          "name": "stderr",
          "output_type": "stream",
          "text": [
            "loading training data to CRFsuite: 100%|██████████| 203/203 [00:02<00:00, 84.64it/s] \n",
            "loading training data to CRFsuite:  11%|█         | 22/203 [00:00<00:01, 101.81it/s]"
          ]
        },
        {
          "name": "stdout",
          "output_type": "stream",
          "text": [
            "Fold 3, Iteration 5/50: Validation Accuracy = 0.8838252360191952\n"
          ]
        },
        {
          "name": "stderr",
          "output_type": "stream",
          "text": [
            "loading training data to CRFsuite: 100%|██████████| 203/203 [00:02<00:00, 85.65it/s] \n",
            "loading training data to CRFsuite:  11%|█         | 22/203 [00:00<00:01, 108.65it/s]"
          ]
        },
        {
          "name": "stdout",
          "output_type": "stream",
          "text": [
            "Fold 3, Iteration 6/50: Validation Accuracy = 0.8838252360191952\n"
          ]
        },
        {
          "name": "stderr",
          "output_type": "stream",
          "text": [
            "loading training data to CRFsuite: 100%|██████████| 203/203 [00:02<00:00, 87.56it/s] \n",
            "loading training data to CRFsuite:  11%|█         | 22/203 [00:00<00:01, 103.53it/s]"
          ]
        },
        {
          "name": "stdout",
          "output_type": "stream",
          "text": [
            "Fold 3, Iteration 7/50: Validation Accuracy = 0.8838252360191952\n"
          ]
        },
        {
          "name": "stderr",
          "output_type": "stream",
          "text": [
            "loading training data to CRFsuite: 100%|██████████| 203/203 [00:02<00:00, 87.18it/s] \n",
            "loading training data to CRFsuite:  10%|█         | 21/203 [00:00<00:01, 109.40it/s]"
          ]
        },
        {
          "name": "stdout",
          "output_type": "stream",
          "text": [
            "Fold 3, Iteration 8/50: Validation Accuracy = 0.8849229997177179\n"
          ]
        },
        {
          "name": "stderr",
          "output_type": "stream",
          "text": [
            "loading training data to CRFsuite: 100%|██████████| 203/203 [00:02<00:00, 86.19it/s] \n",
            "loading training data to CRFsuite:  11%|█         | 22/203 [00:00<00:01, 104.96it/s]"
          ]
        },
        {
          "name": "stdout",
          "output_type": "stream",
          "text": [
            "Fold 3, Iteration 9/50: Validation Accuracy = 0.8838252360191952\n"
          ]
        },
        {
          "name": "stderr",
          "output_type": "stream",
          "text": [
            "loading training data to CRFsuite: 100%|██████████| 203/203 [00:02<00:00, 86.42it/s] \n",
            "loading training data to CRFsuite:  11%|█         | 22/203 [00:00<00:01, 99.66it/s] "
          ]
        },
        {
          "name": "stdout",
          "output_type": "stream",
          "text": [
            "Fold 3, Iteration 10/50: Validation Accuracy = 0.9020481134146724\n"
          ]
        },
        {
          "name": "stderr",
          "output_type": "stream",
          "text": [
            "loading training data to CRFsuite: 100%|██████████| 203/203 [00:02<00:00, 86.37it/s] \n",
            "loading training data to CRFsuite:  11%|█         | 22/203 [00:00<00:01, 106.83it/s]"
          ]
        },
        {
          "name": "stdout",
          "output_type": "stream",
          "text": [
            "Fold 3, Iteration 11/50: Validation Accuracy = 0.8888435843552991\n"
          ]
        },
        {
          "name": "stderr",
          "output_type": "stream",
          "text": [
            "loading training data to CRFsuite: 100%|██████████| 203/203 [00:02<00:00, 85.81it/s] \n",
            "loading training data to CRFsuite:  11%|█         | 22/203 [00:00<00:01, 100.64it/s]"
          ]
        },
        {
          "name": "stdout",
          "output_type": "stream",
          "text": [
            "Fold 3, Iteration 12/50: Validation Accuracy = 0.9104538468776464\n"
          ]
        },
        {
          "name": "stderr",
          "output_type": "stream",
          "text": [
            "loading training data to CRFsuite: 100%|██████████| 203/203 [00:02<00:00, 86.64it/s] \n",
            "loading training data to CRFsuite:  10%|█         | 21/203 [00:00<00:02, 90.21it/s]"
          ]
        },
        {
          "name": "stdout",
          "output_type": "stream",
          "text": [
            "Fold 3, Iteration 13/50: Validation Accuracy = 0.9064391682087632\n"
          ]
        },
        {
          "name": "stderr",
          "output_type": "stream",
          "text": [
            "loading training data to CRFsuite: 100%|██████████| 203/203 [00:02<00:00, 83.29it/s] \n",
            "loading training data to CRFsuite:   5%|▌         | 11/203 [00:00<00:01, 101.84it/s]"
          ]
        },
        {
          "name": "stdout",
          "output_type": "stream",
          "text": [
            "Fold 3, Iteration 14/50: Validation Accuracy = 0.9258852680111658\n"
          ]
        },
        {
          "name": "stderr",
          "output_type": "stream",
          "text": [
            "loading training data to CRFsuite: 100%|██████████| 203/203 [00:02<00:00, 84.26it/s] \n",
            "loading training data to CRFsuite:  11%|█         | 22/203 [00:00<00:01, 103.14it/s]"
          ]
        },
        {
          "name": "stdout",
          "output_type": "stream",
          "text": [
            "Fold 3, Iteration 15/50: Validation Accuracy = 0.9239406580309256\n"
          ]
        },
        {
          "name": "stderr",
          "output_type": "stream",
          "text": [
            "loading training data to CRFsuite: 100%|██████████| 203/203 [00:02<00:00, 86.53it/s] \n",
            "loading training data to CRFsuite:  11%|█         | 22/203 [00:00<00:01, 104.29it/s]"
          ]
        },
        {
          "name": "stdout",
          "output_type": "stream",
          "text": [
            "Fold 3, Iteration 16/50: Validation Accuracy = 0.9318131919831886\n"
          ]
        },
        {
          "name": "stderr",
          "output_type": "stream",
          "text": [
            "loading training data to CRFsuite: 100%|██████████| 203/203 [00:02<00:00, 84.35it/s] \n",
            "loading training data to CRFsuite:  11%|█         | 22/203 [00:00<00:01, 105.41it/s]"
          ]
        },
        {
          "name": "stdout",
          "output_type": "stream",
          "text": [
            "Fold 3, Iteration 17/50: Validation Accuracy = 0.9322522974625976\n"
          ]
        },
        {
          "name": "stderr",
          "output_type": "stream",
          "text": [
            "loading training data to CRFsuite: 100%|██████████| 203/203 [00:02<00:00, 85.78it/s] \n",
            "loading training data to CRFsuite:  11%|█         | 22/203 [00:00<00:01, 102.23it/s]"
          ]
        },
        {
          "name": "stdout",
          "output_type": "stream",
          "text": [
            "Fold 3, Iteration 18/50: Validation Accuracy = 0.934730106953549\n"
          ]
        },
        {
          "name": "stderr",
          "output_type": "stream",
          "text": [
            "loading training data to CRFsuite: 100%|██████████| 203/203 [00:02<00:00, 87.17it/s] \n",
            "loading training data to CRFsuite:  11%|█         | 22/203 [00:00<00:01, 106.98it/s]"
          ]
        },
        {
          "name": "stdout",
          "output_type": "stream",
          "text": [
            "Fold 3, Iteration 19/50: Validation Accuracy = 0.9376156572468086\n"
          ]
        },
        {
          "name": "stderr",
          "output_type": "stream",
          "text": [
            "loading training data to CRFsuite: 100%|██████████| 203/203 [00:02<00:00, 87.29it/s] \n",
            "loading training data to CRFsuite:   5%|▌         | 11/203 [00:00<00:01, 104.61it/s]"
          ]
        },
        {
          "name": "stdout",
          "output_type": "stream",
          "text": [
            "Fold 3, Iteration 20/50: Validation Accuracy = 0.9373961045071041\n"
          ]
        },
        {
          "name": "stderr",
          "output_type": "stream",
          "text": [
            "loading training data to CRFsuite: 100%|██████████| 203/203 [00:02<00:00, 86.08it/s] \n",
            "loading training data to CRFsuite:  11%|█         | 22/203 [00:00<00:01, 105.05it/s]"
          ]
        },
        {
          "name": "stdout",
          "output_type": "stream",
          "text": [
            "Fold 3, Iteration 21/50: Validation Accuracy = 0.9407521249568735\n"
          ]
        },
        {
          "name": "stderr",
          "output_type": "stream",
          "text": [
            "loading training data to CRFsuite: 100%|██████████| 203/203 [00:02<00:00, 87.56it/s] \n",
            "loading training data to CRFsuite:  11%|█         | 22/203 [00:00<00:01, 105.76it/s]"
          ]
        },
        {
          "name": "stdout",
          "output_type": "stream",
          "text": [
            "Fold 3, Iteration 22/50: Validation Accuracy = 0.9368001756421918\n"
          ]
        },
        {
          "name": "stderr",
          "output_type": "stream",
          "text": [
            "loading training data to CRFsuite: 100%|██████████| 203/203 [00:02<00:00, 87.45it/s] \n",
            "loading training data to CRFsuite:  11%|█▏        | 23/203 [00:00<00:01, 103.05it/s]"
          ]
        },
        {
          "name": "stdout",
          "output_type": "stream",
          "text": [
            "Fold 3, Iteration 23/50: Validation Accuracy = 0.9468996016686009\n"
          ]
        },
        {
          "name": "stderr",
          "output_type": "stream",
          "text": [
            "loading training data to CRFsuite: 100%|██████████| 203/203 [00:02<00:00, 86.76it/s] \n",
            "loading training data to CRFsuite:   5%|▌         | 11/203 [00:00<00:01, 106.67it/s]"
          ]
        },
        {
          "name": "stdout",
          "output_type": "stream",
          "text": [
            "Fold 3, Iteration 24/50: Validation Accuracy = 0.9475896245648151\n"
          ]
        },
        {
          "name": "stderr",
          "output_type": "stream",
          "text": [
            "loading training data to CRFsuite: 100%|██████████| 203/203 [00:02<00:00, 87.64it/s] \n",
            "loading training data to CRFsuite:  11%|█         | 22/203 [00:00<00:01, 105.11it/s]"
          ]
        },
        {
          "name": "stdout",
          "output_type": "stream",
          "text": [
            "Fold 3, Iteration 25/50: Validation Accuracy = 0.9468055076372989\n"
          ]
        },
        {
          "name": "stderr",
          "output_type": "stream",
          "text": [
            "loading training data to CRFsuite: 100%|██████████| 203/203 [00:02<00:00, 86.84it/s] \n",
            "loading training data to CRFsuite:  11%|█         | 22/203 [00:00<00:01, 100.32it/s]"
          ]
        },
        {
          "name": "stdout",
          "output_type": "stream",
          "text": [
            "Fold 3, Iteration 26/50: Validation Accuracy = 0.9494401405137534\n"
          ]
        },
        {
          "name": "stderr",
          "output_type": "stream",
          "text": [
            "loading training data to CRFsuite: 100%|██████████| 203/203 [00:02<00:00, 86.42it/s] \n",
            "loading training data to CRFsuite:  11%|█         | 22/203 [00:00<00:01, 101.57it/s]"
          ]
        },
        {
          "name": "stdout",
          "output_type": "stream",
          "text": [
            "Fold 3, Iteration 27/50: Validation Accuracy = 0.952074773390208\n"
          ]
        },
        {
          "name": "stderr",
          "output_type": "stream",
          "text": [
            "loading training data to CRFsuite: 100%|██████████| 203/203 [00:02<00:00, 75.71it/s] \n",
            "loading training data to CRFsuite:  11%|█         | 22/203 [00:00<00:01, 107.02it/s]"
          ]
        },
        {
          "name": "stdout",
          "output_type": "stream",
          "text": [
            "Fold 3, Iteration 28/50: Validation Accuracy = 0.954301665464354\n"
          ]
        },
        {
          "name": "stderr",
          "output_type": "stream",
          "text": [
            "loading training data to CRFsuite: 100%|██████████| 203/203 [00:02<00:00, 71.44it/s]\n",
            "loading training data to CRFsuite:  11%|█         | 22/203 [00:00<00:01, 103.92it/s]"
          ]
        },
        {
          "name": "stdout",
          "output_type": "stream",
          "text": [
            "Fold 3, Iteration 29/50: Validation Accuracy = 0.9562462754445943\n"
          ]
        },
        {
          "name": "stderr",
          "output_type": "stream",
          "text": [
            "loading training data to CRFsuite: 100%|██████████| 203/203 [00:02<00:00, 86.25it/s] \n",
            "loading training data to CRFsuite:  11%|█         | 22/203 [00:00<00:01, 104.23it/s]"
          ]
        },
        {
          "name": "stdout",
          "output_type": "stream",
          "text": [
            "Fold 3, Iteration 30/50: Validation Accuracy = 0.9573754038202177\n"
          ]
        },
        {
          "name": "stderr",
          "output_type": "stream",
          "text": [
            "loading training data to CRFsuite: 100%|██████████| 203/203 [00:02<00:00, 86.41it/s] \n",
            "loading training data to CRFsuite:  11%|█         | 22/203 [00:00<00:01, 94.14it/s] "
          ]
        },
        {
          "name": "stdout",
          "output_type": "stream",
          "text": [
            "Fold 3, Iteration 31/50: Validation Accuracy = 0.9600727660508735\n"
          ]
        },
        {
          "name": "stderr",
          "output_type": "stream",
          "text": [
            "loading training data to CRFsuite: 100%|██████████| 203/203 [00:02<00:00, 84.36it/s] \n",
            "loading training data to CRFsuite:  11%|█▏        | 23/203 [00:00<00:01, 104.35it/s]"
          ]
        },
        {
          "name": "stdout",
          "output_type": "stream",
          "text": [
            "Fold 3, Iteration 32/50: Validation Accuracy = 0.9626133048960261\n"
          ]
        },
        {
          "name": "stderr",
          "output_type": "stream",
          "text": [
            "loading training data to CRFsuite: 100%|██████████| 203/203 [00:02<00:00, 85.44it/s] \n",
            "loading training data to CRFsuite:  11%|█         | 22/203 [00:00<00:01, 101.51it/s]"
          ]
        },
        {
          "name": "stdout",
          "output_type": "stream",
          "text": [
            "Fold 3, Iteration 33/50: Validation Accuracy = 0.9635856098861463\n"
          ]
        },
        {
          "name": "stderr",
          "output_type": "stream",
          "text": [
            "loading training data to CRFsuite: 100%|██████████| 203/203 [00:02<00:00, 85.36it/s] \n",
            "loading training data to CRFsuite:  11%|█         | 22/203 [00:00<00:01, 104.81it/s]"
          ]
        },
        {
          "name": "stdout",
          "output_type": "stream",
          "text": [
            "Fold 3, Iteration 34/50: Validation Accuracy = 0.9639306213342533\n"
          ]
        },
        {
          "name": "stderr",
          "output_type": "stream",
          "text": [
            "loading training data to CRFsuite: 100%|██████████| 203/203 [00:02<00:00, 84.43it/s] \n",
            "loading training data to CRFsuite:  11%|█         | 22/203 [00:00<00:01, 104.49it/s]"
          ]
        },
        {
          "name": "stdout",
          "output_type": "stream",
          "text": [
            "Fold 3, Iteration 35/50: Validation Accuracy = 0.9657184079289903\n"
          ]
        },
        {
          "name": "stderr",
          "output_type": "stream",
          "text": [
            "loading training data to CRFsuite: 100%|██████████| 203/203 [00:02<00:00, 85.59it/s] \n",
            "loading training data to CRFsuite:  10%|█         | 21/203 [00:00<00:01, 97.26it/s]"
          ]
        },
        {
          "name": "stdout",
          "output_type": "stream",
          "text": [
            "Fold 3, Iteration 36/50: Validation Accuracy = 0.9659379606686949\n"
          ]
        },
        {
          "name": "stderr",
          "output_type": "stream",
          "text": [
            "loading training data to CRFsuite: 100%|██████████| 203/203 [00:02<00:00, 84.49it/s] \n",
            "loading training data to CRFsuite:  11%|█         | 22/203 [00:00<00:01, 104.19it/s]"
          ]
        },
        {
          "name": "stdout",
          "output_type": "stream",
          "text": [
            "Fold 3, Iteration 37/50: Validation Accuracy = 0.9678512059718345\n"
          ]
        },
        {
          "name": "stderr",
          "output_type": "stream",
          "text": [
            "loading training data to CRFsuite: 100%|██████████| 203/203 [00:02<00:00, 84.60it/s] \n",
            "loading training data to CRFsuite:  11%|█         | 22/203 [00:00<00:01, 102.44it/s]"
          ]
        },
        {
          "name": "stdout",
          "output_type": "stream",
          "text": [
            "Fold 3, Iteration 38/50: Validation Accuracy = 0.9676943825863312\n"
          ]
        },
        {
          "name": "stderr",
          "output_type": "stream",
          "text": [
            "loading training data to CRFsuite: 100%|██████████| 203/203 [00:02<00:00, 86.74it/s] \n",
            "loading training data to CRFsuite:  11%|█         | 22/203 [00:00<00:01, 106.26it/s]"
          ]
        },
        {
          "name": "stdout",
          "output_type": "stream",
          "text": [
            "Fold 3, Iteration 39/50: Validation Accuracy = 0.9667220775962111\n"
          ]
        },
        {
          "name": "stderr",
          "output_type": "stream",
          "text": [
            "loading training data to CRFsuite: 100%|██████████| 203/203 [00:02<00:00, 86.16it/s] \n",
            "loading training data to CRFsuite:  11%|█         | 22/203 [00:00<00:01, 97.29it/s]"
          ]
        },
        {
          "name": "stdout",
          "output_type": "stream",
          "text": [
            "Fold 3, Iteration 40/50: Validation Accuracy = 0.9634601511777436\n"
          ]
        },
        {
          "name": "stderr",
          "output_type": "stream",
          "text": [
            "loading training data to CRFsuite: 100%|██████████| 203/203 [00:02<00:00, 83.05it/s] \n",
            "loading training data to CRFsuite:  10%|▉         | 20/203 [00:00<00:02, 89.02it/s]"
          ]
        },
        {
          "name": "stdout",
          "output_type": "stream",
          "text": [
            "Fold 3, Iteration 41/50: Validation Accuracy = 0.9659065959915942\n"
          ]
        },
        {
          "name": "stderr",
          "output_type": "stream",
          "text": [
            "loading training data to CRFsuite: 100%|██████████| 203/203 [00:02<00:00, 89.15it/s] \n",
            "loading training data to CRFsuite:  11%|█         | 22/203 [00:00<00:01, 100.34it/s]"
          ]
        },
        {
          "name": "stdout",
          "output_type": "stream",
          "text": [
            "Fold 3, Iteration 42/50: Validation Accuracy = 0.964589279553367\n"
          ]
        },
        {
          "name": "stderr",
          "output_type": "stream",
          "text": [
            "loading training data to CRFsuite: 100%|██████████| 203/203 [00:02<00:00, 83.06it/s]\n",
            "loading training data to CRFsuite:  11%|█         | 22/203 [00:00<00:01, 98.31it/s]"
          ]
        },
        {
          "name": "stdout",
          "output_type": "stream",
          "text": [
            "Fold 3, Iteration 43/50: Validation Accuracy = 0.9648715616472728\n"
          ]
        },
        {
          "name": "stderr",
          "output_type": "stream",
          "text": [
            "loading training data to CRFsuite: 100%|██████████| 203/203 [00:02<00:00, 83.94it/s]\n",
            "loading training data to CRFsuite:   8%|▊         | 16/203 [00:00<00:02, 77.54it/s]"
          ]
        },
        {
          "name": "stdout",
          "output_type": "stream",
          "text": [
            "Fold 3, Iteration 44/50: Validation Accuracy = 0.9631465044067371\n"
          ]
        },
        {
          "name": "stderr",
          "output_type": "stream",
          "text": [
            "loading training data to CRFsuite: 100%|██████████| 203/203 [00:02<00:00, 81.48it/s] \n",
            "loading training data to CRFsuite:   8%|▊         | 16/203 [00:00<00:02, 70.75it/s]"
          ]
        },
        {
          "name": "stdout",
          "output_type": "stream",
          "text": [
            "Fold 3, Iteration 45/50: Validation Accuracy = 0.9624878461876235\n"
          ]
        },
        {
          "name": "stderr",
          "output_type": "stream",
          "text": [
            "loading training data to CRFsuite: 100%|██████████| 203/203 [00:02<00:00, 68.65it/s]\n",
            "loading training data to CRFsuite:  10%|█         | 21/203 [00:00<00:01, 97.18it/s]"
          ]
        },
        {
          "name": "stdout",
          "output_type": "stream",
          "text": [
            "Fold 3, Iteration 46/50: Validation Accuracy = 0.9639306213342533\n"
          ]
        },
        {
          "name": "stderr",
          "output_type": "stream",
          "text": [
            "loading training data to CRFsuite: 100%|██████████| 203/203 [00:02<00:00, 72.10it/s]\n",
            "loading training data to CRFsuite:  10%|█         | 21/203 [00:00<00:01, 97.15it/s]"
          ]
        },
        {
          "name": "stdout",
          "output_type": "stream",
          "text": [
            "Fold 3, Iteration 47/50: Validation Accuracy = 0.9617350939372079\n"
          ]
        },
        {
          "name": "stderr",
          "output_type": "stream",
          "text": [
            "loading training data to CRFsuite: 100%|██████████| 203/203 [00:02<00:00, 75.09it/s]\n",
            "loading training data to CRFsuite:  11%|█         | 22/203 [00:00<00:02, 87.45it/s]"
          ]
        },
        {
          "name": "stdout",
          "output_type": "stream",
          "text": [
            "Fold 3, Iteration 48/50: Validation Accuracy = 0.9630837750525358\n"
          ]
        },
        {
          "name": "stderr",
          "output_type": "stream",
          "text": [
            "loading training data to CRFsuite: 100%|██████████| 203/203 [00:02<00:00, 76.94it/s]\n",
            "loading training data to CRFsuite:  11%|█         | 22/203 [00:00<00:01, 98.32it/s]"
          ]
        },
        {
          "name": "stdout",
          "output_type": "stream",
          "text": [
            "Fold 3, Iteration 49/50: Validation Accuracy = 0.9629583163441332\n"
          ]
        },
        {
          "name": "stderr",
          "output_type": "stream",
          "text": [
            "loading training data to CRFsuite: 100%|██████████| 203/203 [00:02<00:00, 80.63it/s]\n"
          ]
        },
        {
          "name": "stdout",
          "output_type": "stream",
          "text": [
            "Fold 3, Iteration 50/50: Validation Accuracy = 0.9653106671266819\n"
          ]
        },
        {
          "data": {
            "image/png": "[encoded data removed]",
            "text/plain": [
              "<Figure size 1000x700 with 2 Axes>"
            ]
          },
          "metadata": {},
          "output_type": "display_data"
        },
        {
          "name": "stderr",
          "output_type": "stream",
          "text": [
            "loading training data to CRFsuite:  10%|▉         | 20/203 [00:00<00:02, 87.85it/s]"
          ]
        },
        {
          "name": "stdout",
          "output_type": "stream",
          "text": [
            "Training fold 4/5...\n"
          ]
        },
        {
          "name": "stderr",
          "output_type": "stream",
          "text": [
            "loading training data to CRFsuite: 100%|██████████| 203/203 [00:02<00:00, 85.30it/s] \n",
            "loading training data to CRFsuite:  10%|█         | 21/203 [00:00<00:02, 83.86it/s]"
          ]
        },
        {
          "name": "stdout",
          "output_type": "stream",
          "text": [
            "Fold 4, Iteration 1/50: Validation Accuracy = 0.8697037772321196\n"
          ]
        },
        {
          "name": "stderr",
          "output_type": "stream",
          "text": [
            "loading training data to CRFsuite: 100%|██████████| 203/203 [00:02<00:00, 83.09it/s] \n",
            "loading training data to CRFsuite:  10%|▉         | 20/203 [00:00<00:02, 84.45it/s]"
          ]
        },
        {
          "name": "stdout",
          "output_type": "stream",
          "text": [
            "Fold 4, Iteration 2/50: Validation Accuracy = 0.8697037772321196\n"
          ]
        },
        {
          "name": "stderr",
          "output_type": "stream",
          "text": [
            "loading training data to CRFsuite: 100%|██████████| 203/203 [00:02<00:00, 83.79it/s] \n",
            "loading training data to CRFsuite:   6%|▌         | 12/203 [00:00<00:01, 115.86it/s]"
          ]
        },
        {
          "name": "stdout",
          "output_type": "stream",
          "text": [
            "Fold 4, Iteration 3/50: Validation Accuracy = 0.8697037772321196\n"
          ]
        },
        {
          "name": "stderr",
          "output_type": "stream",
          "text": [
            "loading training data to CRFsuite: 100%|██████████| 203/203 [00:02<00:00, 84.13it/s]\n",
            "loading training data to CRFsuite:  12%|█▏        | 24/203 [00:00<00:02, 85.46it/s] "
          ]
        },
        {
          "name": "stdout",
          "output_type": "stream",
          "text": [
            "Fold 4, Iteration 4/50: Validation Accuracy = 0.8697037772321196\n"
          ]
        },
        {
          "name": "stderr",
          "output_type": "stream",
          "text": [
            "loading training data to CRFsuite: 100%|██████████| 203/203 [00:02<00:00, 87.08it/s] \n",
            "loading training data to CRFsuite:   5%|▌         | 11/203 [00:00<00:01, 100.92it/s]"
          ]
        },
        {
          "name": "stdout",
          "output_type": "stream",
          "text": [
            "Fold 4, Iteration 5/50: Validation Accuracy = 0.8697037772321196\n"
          ]
        },
        {
          "name": "stderr",
          "output_type": "stream",
          "text": [
            "loading training data to CRFsuite: 100%|██████████| 203/203 [00:02<00:00, 83.55it/s]\n",
            "loading training data to CRFsuite:   8%|▊         | 17/203 [00:00<00:02, 82.37it/s]"
          ]
        },
        {
          "name": "stdout",
          "output_type": "stream",
          "text": [
            "Fold 4, Iteration 6/50: Validation Accuracy = 0.8697037772321196\n"
          ]
        },
        {
          "name": "stderr",
          "output_type": "stream",
          "text": [
            "loading training data to CRFsuite: 100%|██████████| 203/203 [00:02<00:00, 80.98it/s] \n",
            "loading training data to CRFsuite:  11%|█         | 22/203 [00:00<00:01, 93.49it/s] "
          ]
        },
        {
          "name": "stdout",
          "output_type": "stream",
          "text": [
            "Fold 4, Iteration 7/50: Validation Accuracy = 0.8697037772321196\n"
          ]
        },
        {
          "name": "stderr",
          "output_type": "stream",
          "text": [
            "loading training data to CRFsuite: 100%|██████████| 203/203 [00:02<00:00, 83.61it/s] \n",
            "loading training data to CRFsuite:  10%|█         | 21/203 [00:00<00:02, 90.56it/s]"
          ]
        },
        {
          "name": "stdout",
          "output_type": "stream",
          "text": [
            "Fold 4, Iteration 8/50: Validation Accuracy = 0.8704090695365968\n"
          ]
        },
        {
          "name": "stderr",
          "output_type": "stream",
          "text": [
            "loading training data to CRFsuite: 100%|██████████| 203/203 [00:02<00:00, 82.87it/s]\n",
            "loading training data to CRFsuite:  11%|█         | 22/203 [00:00<00:02, 87.86it/s] "
          ]
        },
        {
          "name": "stdout",
          "output_type": "stream",
          "text": [
            "Fold 4, Iteration 9/50: Validation Accuracy = 0.8699127527297424\n"
          ]
        },
        {
          "name": "stderr",
          "output_type": "stream",
          "text": [
            "loading training data to CRFsuite: 100%|██████████| 203/203 [00:02<00:00, 81.99it/s] \n",
            "loading training data to CRFsuite:  11%|█         | 22/203 [00:00<00:01, 92.33it/s] "
          ]
        },
        {
          "name": "stdout",
          "output_type": "stream",
          "text": [
            "Fold 4, Iteration 10/50: Validation Accuracy = 0.905072880204796\n"
          ]
        },
        {
          "name": "stderr",
          "output_type": "stream",
          "text": [
            "loading training data to CRFsuite: 100%|██████████| 203/203 [00:02<00:00, 81.82it/s]\n",
            "loading training data to CRFsuite:  10%|▉         | 20/203 [00:00<00:02, 73.49it/s]"
          ]
        },
        {
          "name": "stdout",
          "output_type": "stream",
          "text": [
            "Fold 4, Iteration 11/50: Validation Accuracy = 0.9012851993103809\n"
          ]
        },
        {
          "name": "stderr",
          "output_type": "stream",
          "text": [
            "loading training data to CRFsuite: 100%|██████████| 203/203 [00:03<00:00, 64.89it/s]\n",
            "loading training data to CRFsuite:   5%|▌         | 11/203 [00:00<00:01, 105.88it/s]"
          ]
        },
        {
          "name": "stdout",
          "output_type": "stream",
          "text": [
            "Fold 4, Iteration 12/50: Validation Accuracy = 0.9252128937882034\n"
          ]
        },
        {
          "name": "stderr",
          "output_type": "stream",
          "text": [
            "loading training data to CRFsuite: 100%|██████████| 203/203 [00:02<00:00, 80.67it/s]\n",
            "loading training data to CRFsuite:  11%|█         | 22/203 [00:00<00:02, 89.65it/s] "
          ]
        },
        {
          "name": "stdout",
          "output_type": "stream",
          "text": [
            "Fold 4, Iteration 13/50: Validation Accuracy = 0.9251867718510005\n"
          ]
        },
        {
          "name": "stderr",
          "output_type": "stream",
          "text": [
            "loading training data to CRFsuite: 100%|██████████| 203/203 [00:02<00:00, 81.80it/s]\n",
            "loading training data to CRFsuite:  10%|█         | 21/203 [00:00<00:01, 96.01it/s]"
          ]
        },
        {
          "name": "stdout",
          "output_type": "stream",
          "text": [
            "Fold 4, Iteration 14/50: Validation Accuracy = 0.9282169165665326\n"
          ]
        },
        {
          "name": "stderr",
          "output_type": "stream",
          "text": [
            "loading training data to CRFsuite: 100%|██████████| 203/203 [00:02<00:00, 80.33it/s]\n",
            "loading training data to CRFsuite:   6%|▌         | 12/203 [00:00<00:01, 117.22it/s]"
          ]
        },
        {
          "name": "stdout",
          "output_type": "stream",
          "text": [
            "Fold 4, Iteration 15/50: Validation Accuracy = 0.9285826236873727\n"
          ]
        },
        {
          "name": "stderr",
          "output_type": "stream",
          "text": [
            "loading training data to CRFsuite: 100%|██████████| 203/203 [00:02<00:00, 79.31it/s]\n",
            "loading training data to CRFsuite:  10%|█         | 21/203 [00:00<00:02, 84.19it/s]"
          ]
        },
        {
          "name": "stdout",
          "output_type": "stream",
          "text": [
            "Fold 4, Iteration 16/50: Validation Accuracy = 0.9330233530118593\n"
          ]
        },
        {
          "name": "stderr",
          "output_type": "stream",
          "text": [
            "loading training data to CRFsuite: 100%|██████████| 203/203 [00:02<00:00, 74.84it/s]\n",
            "loading training data to CRFsuite:  11%|█         | 22/203 [00:00<00:02, 87.35it/s] "
          ]
        },
        {
          "name": "stdout",
          "output_type": "stream",
          "text": [
            "Fold 4, Iteration 17/50: Validation Accuracy = 0.9345384253696254\n"
          ]
        },
        {
          "name": "stderr",
          "output_type": "stream",
          "text": [
            "loading training data to CRFsuite: 100%|██████████| 203/203 [00:02<00:00, 75.70it/s]\n",
            "loading training data to CRFsuite:  10%|█         | 21/203 [00:00<00:01, 94.49it/s]"
          ]
        },
        {
          "name": "stdout",
          "output_type": "stream",
          "text": [
            "Fold 4, Iteration 18/50: Validation Accuracy = 0.9374379603991432\n"
          ]
        },
        {
          "name": "stderr",
          "output_type": "stream",
          "text": [
            "loading training data to CRFsuite: 100%|██████████| 203/203 [00:02<00:00, 81.28it/s] \n",
            "loading training data to CRFsuite:  10%|█         | 21/203 [00:00<00:01, 96.19it/s]"
          ]
        },
        {
          "name": "stdout",
          "output_type": "stream",
          "text": [
            "Fold 4, Iteration 19/50: Validation Accuracy = 0.9396583250613866\n"
          ]
        },
        {
          "name": "stderr",
          "output_type": "stream",
          "text": [
            "loading training data to CRFsuite: 100%|██████████| 203/203 [00:02<00:00, 89.83it/s] \n",
            "loading training data to CRFsuite:  10%|▉         | 20/203 [00:00<00:02, 79.40it/s]"
          ]
        },
        {
          "name": "stdout",
          "output_type": "stream",
          "text": [
            "Fold 4, Iteration 20/50: Validation Accuracy = 0.9411472754819498\n"
          ]
        },
        {
          "name": "stderr",
          "output_type": "stream",
          "text": [
            "loading training data to CRFsuite: 100%|██████████| 203/203 [00:02<00:00, 83.42it/s] \n",
            "loading training data to CRFsuite:  10%|█         | 21/203 [00:00<00:01, 92.06it/s]"
          ]
        },
        {
          "name": "stdout",
          "output_type": "stream",
          "text": [
            "Fold 4, Iteration 21/50: Validation Accuracy = 0.9420092994096442\n"
          ]
        },
        {
          "name": "stderr",
          "output_type": "stream",
          "text": [
            "loading training data to CRFsuite: 100%|██████████| 203/203 [00:02<00:00, 84.11it/s]\n",
            "loading training data to CRFsuite:   5%|▍         | 10/203 [00:00<00:02, 89.28it/s]"
          ]
        },
        {
          "name": "stdout",
          "output_type": "stream",
          "text": [
            "Fold 4, Iteration 22/50: Validation Accuracy = 0.9442557860090904\n"
          ]
        },
        {
          "name": "stderr",
          "output_type": "stream",
          "text": [
            "loading training data to CRFsuite: 100%|██████████| 203/203 [00:03<00:00, 59.11it/s]\n",
            "loading training data to CRFsuite:  11%|█         | 22/203 [00:00<00:01, 92.01it/s] "
          ]
        },
        {
          "name": "stdout",
          "output_type": "stream",
          "text": [
            "Fold 4, Iteration 23/50: Validation Accuracy = 0.9449349563763648\n"
          ]
        },
        {
          "name": "stderr",
          "output_type": "stream",
          "text": [
            "loading training data to CRFsuite: 100%|██████████| 203/203 [00:02<00:00, 84.13it/s] \n",
            "loading training data to CRFsuite:   5%|▌         | 11/203 [00:00<00:01, 102.80it/s]"
          ]
        },
        {
          "name": "stdout",
          "output_type": "stream",
          "text": [
            "Fold 4, Iteration 24/50: Validation Accuracy = 0.9472075649130139\n"
          ]
        },
        {
          "name": "stderr",
          "output_type": "stream",
          "text": [
            "loading training data to CRFsuite: 100%|██████████| 203/203 [00:02<00:00, 88.41it/s] \n",
            "loading training data to CRFsuite:   6%|▌         | 12/203 [00:00<00:01, 119.48it/s]"
          ]
        },
        {
          "name": "stdout",
          "output_type": "stream",
          "text": [
            "Fold 4, Iteration 25/50: Validation Accuracy = 0.9415391045399927\n"
          ]
        },
        {
          "name": "stderr",
          "output_type": "stream",
          "text": [
            "loading training data to CRFsuite: 100%|██████████| 203/203 [00:02<00:00, 91.76it/s] \n",
            "loading training data to CRFsuite:   6%|▌         | 12/203 [00:00<00:01, 119.95it/s]"
          ]
        },
        {
          "name": "stdout",
          "output_type": "stream",
          "text": [
            "Fold 4, Iteration 26/50: Validation Accuracy = 0.9492711979520401\n"
          ]
        },
        {
          "name": "stderr",
          "output_type": "stream",
          "text": [
            "loading training data to CRFsuite: 100%|██████████| 203/203 [00:02<00:00, 79.95it/s]\n",
            "loading training data to CRFsuite:   5%|▌         | 11/203 [00:00<00:01, 102.60it/s]"
          ]
        },
        {
          "name": "stdout",
          "output_type": "stream",
          "text": [
            "Fold 4, Iteration 27/50: Validation Accuracy = 0.948147954652317\n"
          ]
        },
        {
          "name": "stderr",
          "output_type": "stream",
          "text": [
            "loading training data to CRFsuite: 100%|██████████| 203/203 [00:02<00:00, 80.36it/s]\n",
            "loading training data to CRFsuite:  10%|█         | 21/203 [00:00<00:01, 92.11it/s]"
          ]
        },
        {
          "name": "stdout",
          "output_type": "stream",
          "text": [
            "Fold 4, Iteration 28/50: Validation Accuracy = 0.9514131968026749\n"
          ]
        },
        {
          "name": "stderr",
          "output_type": "stream",
          "text": [
            "loading training data to CRFsuite: 100%|██████████| 203/203 [00:02<00:00, 78.46it/s]\n",
            "loading training data to CRFsuite:  10%|█         | 21/203 [00:00<00:02, 86.92it/s]"
          ]
        },
        {
          "name": "stdout",
          "output_type": "stream",
          "text": [
            "Fold 4, Iteration 29/50: Validation Accuracy = 0.9414607387283841\n"
          ]
        },
        {
          "name": "stderr",
          "output_type": "stream",
          "text": [
            "loading training data to CRFsuite: 100%|██████████| 203/203 [00:02<00:00, 75.10it/s]\n",
            "loading training data to CRFsuite:   8%|▊         | 16/203 [00:00<00:02, 72.30it/s]"
          ]
        },
        {
          "name": "stdout",
          "output_type": "stream",
          "text": [
            "Fold 4, Iteration 30/50: Validation Accuracy = 0.9530588788464552\n"
          ]
        },
        {
          "name": "stderr",
          "output_type": "stream",
          "text": [
            "loading training data to CRFsuite: 100%|██████████| 203/203 [00:02<00:00, 70.54it/s]\n",
            "loading training data to CRFsuite:  10%|█         | 21/203 [00:00<00:02, 81.12it/s]"
          ]
        },
        {
          "name": "stdout",
          "output_type": "stream",
          "text": [
            "Fold 4, Iteration 31/50: Validation Accuracy = 0.9536074395277154\n"
          ]
        },
        {
          "name": "stderr",
          "output_type": "stream",
          "text": [
            "loading training data to CRFsuite: 100%|██████████| 203/203 [00:02<00:00, 82.95it/s] \n",
            "loading training data to CRFsuite:   5%|▌         | 11/203 [00:00<00:01, 106.30it/s]"
          ]
        },
        {
          "name": "stdout",
          "output_type": "stream",
          "text": [
            "Fold 4, Iteration 32/50: Validation Accuracy = 0.9555665848179301\n"
          ]
        },
        {
          "name": "stderr",
          "output_type": "stream",
          "text": [
            "loading training data to CRFsuite: 100%|██████████| 203/203 [00:02<00:00, 86.82it/s] \n",
            "loading training data to CRFsuite:  12%|█▏        | 24/203 [00:00<00:02, 83.26it/s] "
          ]
        },
        {
          "name": "stdout",
          "output_type": "stream",
          "text": [
            "Fold 4, Iteration 33/50: Validation Accuracy = 0.9430802988349616\n"
          ]
        },
        {
          "name": "stderr",
          "output_type": "stream",
          "text": [
            "loading training data to CRFsuite: 100%|██████████| 203/203 [00:02<00:00, 82.38it/s]\n",
            "loading training data to CRFsuite:   5%|▌         | 11/203 [00:00<00:01, 99.09it/s]"
          ]
        },
        {
          "name": "stdout",
          "output_type": "stream",
          "text": [
            "Fold 4, Iteration 34/50: Validation Accuracy = 0.9576302178569562\n"
          ]
        },
        {
          "name": "stderr",
          "output_type": "stream",
          "text": [
            "loading training data to CRFsuite: 100%|██████████| 203/203 [00:02<00:00, 81.49it/s] \n",
            "loading training data to CRFsuite:  12%|█▏        | 24/203 [00:00<00:01, 93.28it/s] "
          ]
        },
        {
          "name": "stdout",
          "output_type": "stream",
          "text": [
            "Fold 4, Iteration 35/50: Validation Accuracy = 0.9597983386447939\n"
          ]
        },
        {
          "name": "stderr",
          "output_type": "stream",
          "text": [
            "loading training data to CRFsuite: 100%|██████████| 203/203 [00:02<00:00, 88.83it/s] \n",
            "loading training data to CRFsuite:   6%|▌         | 12/203 [00:00<00:01, 113.96it/s]"
          ]
        },
        {
          "name": "stdout",
          "output_type": "stream",
          "text": [
            "Fold 4, Iteration 36/50: Validation Accuracy = 0.9515960503630949\n"
          ]
        },
        {
          "name": "stderr",
          "output_type": "stream",
          "text": [
            "loading training data to CRFsuite: 100%|██████████| 203/203 [00:02<00:00, 87.10it/s] \n",
            "loading training data to CRFsuite:  10%|▉         | 20/203 [00:00<00:02, 79.55it/s]"
          ]
        },
        {
          "name": "stdout",
          "output_type": "stream",
          "text": [
            "Fold 4, Iteration 37/50: Validation Accuracy = 0.9574996081709419\n"
          ]
        },
        {
          "name": "stderr",
          "output_type": "stream",
          "text": [
            "loading training data to CRFsuite: 100%|██████████| 203/203 [00:02<00:00, 76.86it/s]\n",
            "loading training data to CRFsuite:  10%|█         | 21/203 [00:00<00:02, 87.88it/s]"
          ]
        },
        {
          "name": "stdout",
          "output_type": "stream",
          "text": [
            "Fold 4, Iteration 38/50: Validation Accuracy = 0.9588579489054908\n"
          ]
        },
        {
          "name": "stderr",
          "output_type": "stream",
          "text": [
            "loading training data to CRFsuite: 100%|██████████| 203/203 [00:02<00:00, 81.10it/s] \n",
            "loading training data to CRFsuite:   6%|▌         | 12/203 [00:00<00:01, 114.50it/s]"
          ]
        },
        {
          "name": "stdout",
          "output_type": "stream",
          "text": [
            "Fold 4, Iteration 39/50: Validation Accuracy = 0.9575257301081448\n"
          ]
        },
        {
          "name": "stderr",
          "output_type": "stream",
          "text": [
            "loading training data to CRFsuite: 100%|██████████| 203/203 [00:02<00:00, 83.83it/s]\n",
            "loading training data to CRFsuite:   4%|▍         | 9/203 [00:00<00:02, 86.57it/s]"
          ]
        },
        {
          "name": "stdout",
          "output_type": "stream",
          "text": [
            "Fold 4, Iteration 40/50: Validation Accuracy = 0.9571861449245076\n"
          ]
        },
        {
          "name": "stderr",
          "output_type": "stream",
          "text": [
            "loading training data to CRFsuite: 100%|██████████| 203/203 [00:02<00:00, 79.64it/s]\n",
            "loading training data to CRFsuite:   6%|▌         | 12/203 [00:00<00:01, 119.24it/s]"
          ]
        },
        {
          "name": "stdout",
          "output_type": "stream",
          "text": [
            "Fold 4, Iteration 41/50: Validation Accuracy = 0.9573428765477248\n"
          ]
        },
        {
          "name": "stderr",
          "output_type": "stream",
          "text": [
            "loading training data to CRFsuite: 100%|██████████| 203/203 [00:02<00:00, 84.57it/s] \n",
            "loading training data to CRFsuite:  11%|█         | 22/203 [00:00<00:02, 87.78it/s] "
          ]
        },
        {
          "name": "stdout",
          "output_type": "stream",
          "text": [
            "Fold 4, Iteration 42/50: Validation Accuracy = 0.9577608275429705\n"
          ]
        },
        {
          "name": "stderr",
          "output_type": "stream",
          "text": [
            "loading training data to CRFsuite: 100%|██████████| 203/203 [00:02<00:00, 80.69it/s]\n",
            "loading training data to CRFsuite:  11%|█         | 22/203 [00:00<00:02, 86.34it/s] "
          ]
        },
        {
          "name": "stdout",
          "output_type": "stream",
          "text": [
            "Fold 4, Iteration 43/50: Validation Accuracy = 0.9516744161747035\n"
          ]
        },
        {
          "name": "stderr",
          "output_type": "stream",
          "text": [
            "loading training data to CRFsuite: 100%|██████████| 203/203 [00:02<00:00, 77.59it/s]\n",
            "loading training data to CRFsuite:  10%|▉         | 20/203 [00:00<00:02, 81.02it/s]"
          ]
        },
        {
          "name": "stdout",
          "output_type": "stream",
          "text": [
            "Fold 4, Iteration 44/50: Validation Accuracy = 0.9556710725667416\n"
          ]
        },
        {
          "name": "stderr",
          "output_type": "stream",
          "text": [
            "loading training data to CRFsuite: 100%|██████████| 203/203 [00:03<00:00, 66.51it/s]\n",
            "loading training data to CRFsuite:  10%|▉         | 20/203 [00:00<00:02, 77.50it/s]"
          ]
        },
        {
          "name": "stdout",
          "output_type": "stream",
          "text": [
            "Fold 4, Iteration 45/50: Validation Accuracy = 0.9545478292670184\n"
          ]
        },
        {
          "name": "stderr",
          "output_type": "stream",
          "text": [
            "loading training data to CRFsuite: 100%|██████████| 203/203 [00:02<00:00, 69.39it/s]\n",
            "loading training data to CRFsuite:  11%|█         | 22/203 [00:00<00:01, 98.21it/s] "
          ]
        },
        {
          "name": "stdout",
          "output_type": "stream",
          "text": [
            "Fold 4, Iteration 46/50: Validation Accuracy = 0.9527454156000209\n"
          ]
        },
        {
          "name": "stderr",
          "output_type": "stream",
          "text": [
            "loading training data to CRFsuite: 100%|██████████| 203/203 [00:02<00:00, 82.04it/s]\n",
            "loading training data to CRFsuite:  11%|█         | 22/203 [00:00<00:01, 93.31it/s] "
          ]
        },
        {
          "name": "stdout",
          "output_type": "stream",
          "text": [
            "Fold 4, Iteration 47/50: Validation Accuracy = 0.9547045608902356\n"
          ]
        },
        {
          "name": "stderr",
          "output_type": "stream",
          "text": [
            "loading training data to CRFsuite: 100%|██████████| 203/203 [00:02<00:00, 82.30it/s]\n",
            "loading training data to CRFsuite:   9%|▉         | 19/203 [00:00<00:02, 91.15it/s]"
          ]
        },
        {
          "name": "stdout",
          "output_type": "stream",
          "text": [
            "Fold 4, Iteration 48/50: Validation Accuracy = 0.9527976594744266\n"
          ]
        },
        {
          "name": "stderr",
          "output_type": "stream",
          "text": [
            "loading training data to CRFsuite: 100%|██████████| 203/203 [00:02<00:00, 78.67it/s]\n",
            "loading training data to CRFsuite:  11%|█         | 22/203 [00:00<00:02, 85.34it/s] "
          ]
        },
        {
          "name": "stdout",
          "output_type": "stream",
          "text": [
            "Fold 4, Iteration 49/50: Validation Accuracy = 0.9539992685857583\n"
          ]
        },
        {
          "name": "stderr",
          "output_type": "stream",
          "text": [
            "loading training data to CRFsuite: 100%|██████████| 203/203 [00:02<00:00, 73.50it/s]\n"
          ]
        },
        {
          "name": "stdout",
          "output_type": "stream",
          "text": [
            "Fold 4, Iteration 50/50: Validation Accuracy = 0.9519356355467321\n"
          ]
        },
        {
          "data": {
            "image/png": "[encoded data removed]",
            "text/plain": [
              "<Figure size 1000x700 with 2 Axes>"
            ]
          },
          "metadata": {},
          "output_type": "display_data"
        },
        {
          "name": "stderr",
          "output_type": "stream",
          "text": [
            "loading training data to CRFsuite:   3%|▎         | 7/204 [00:00<00:02, 68.32it/s]"
          ]
        },
        {
          "name": "stdout",
          "output_type": "stream",
          "text": [
            "Training fold 5/5...\n"
          ]
        },
        {
          "name": "stderr",
          "output_type": "stream",
          "text": [
            "loading training data to CRFsuite: 100%|██████████| 204/204 [00:02<00:00, 72.75it/s]\n",
            "loading training data to CRFsuite:  10%|▉         | 20/204 [00:00<00:01, 92.44it/s]"
          ]
        },
        {
          "name": "stdout",
          "output_type": "stream",
          "text": [
            "Fold 5, Iteration 1/50: Validation Accuracy = 0.8863537185960975\n"
          ]
        },
        {
          "name": "stderr",
          "output_type": "stream",
          "text": [
            "loading training data to CRFsuite: 100%|██████████| 204/204 [00:02<00:00, 77.99it/s]\n",
            "loading training data to CRFsuite:  10%|█         | 21/204 [00:00<00:01, 102.70it/s]"
          ]
        },
        {
          "name": "stdout",
          "output_type": "stream",
          "text": [
            "Fold 5, Iteration 2/50: Validation Accuracy = 0.8863537185960975\n"
          ]
        },
        {
          "name": "stderr",
          "output_type": "stream",
          "text": [
            "loading training data to CRFsuite: 100%|██████████| 204/204 [00:02<00:00, 72.30it/s]\n",
            "loading training data to CRFsuite:  10%|█         | 21/204 [00:00<00:01, 94.75it/s]"
          ]
        },
        {
          "name": "stdout",
          "output_type": "stream",
          "text": [
            "Fold 5, Iteration 3/50: Validation Accuracy = 0.8863537185960975\n"
          ]
        },
        {
          "name": "stderr",
          "output_type": "stream",
          "text": [
            "loading training data to CRFsuite: 100%|██████████| 204/204 [00:02<00:00, 80.76it/s]\n",
            "loading training data to CRFsuite:  12%|█▏        | 24/204 [00:00<00:01, 106.26it/s]"
          ]
        },
        {
          "name": "stdout",
          "output_type": "stream",
          "text": [
            "Fold 5, Iteration 4/50: Validation Accuracy = 0.8863537185960975\n"
          ]
        },
        {
          "name": "stderr",
          "output_type": "stream",
          "text": [
            "loading training data to CRFsuite: 100%|██████████| 204/204 [00:02<00:00, 87.10it/s] \n",
            "loading training data to CRFsuite:  11%|█         | 22/204 [00:00<00:01, 92.38it/s] "
          ]
        },
        {
          "name": "stdout",
          "output_type": "stream",
          "text": [
            "Fold 5, Iteration 5/50: Validation Accuracy = 0.8863537185960975\n"
          ]
        },
        {
          "name": "stderr",
          "output_type": "stream",
          "text": [
            "loading training data to CRFsuite: 100%|██████████| 204/204 [00:02<00:00, 73.18it/s]\n",
            "loading training data to CRFsuite:  11%|█         | 22/204 [00:00<00:01, 103.94it/s]"
          ]
        },
        {
          "name": "stdout",
          "output_type": "stream",
          "text": [
            "Fold 5, Iteration 6/50: Validation Accuracy = 0.8863537185960975\n"
          ]
        },
        {
          "name": "stderr",
          "output_type": "stream",
          "text": [
            "loading training data to CRFsuite: 100%|██████████| 204/204 [00:02<00:00, 85.89it/s] \n",
            "loading training data to CRFsuite:   3%|▎         | 7/204 [00:00<00:03, 64.95it/s]"
          ]
        },
        {
          "name": "stdout",
          "output_type": "stream",
          "text": [
            "Fold 5, Iteration 7/50: Validation Accuracy = 0.8863537185960975\n"
          ]
        },
        {
          "name": "stderr",
          "output_type": "stream",
          "text": [
            "loading training data to CRFsuite: 100%|██████████| 204/204 [00:02<00:00, 73.94it/s]\n",
            "loading training data to CRFsuite:   5%|▍         | 10/204 [00:00<00:02, 83.57it/s]"
          ]
        },
        {
          "name": "stdout",
          "output_type": "stream",
          "text": [
            "Fold 5, Iteration 8/50: Validation Accuracy = 0.8873823327722711\n"
          ]
        },
        {
          "name": "stderr",
          "output_type": "stream",
          "text": [
            "loading training data to CRFsuite: 100%|██████████| 204/204 [00:02<00:00, 76.43it/s]\n",
            "loading training data to CRFsuite:  11%|█▏        | 23/204 [00:00<00:01, 110.55it/s]"
          ]
        },
        {
          "name": "stdout",
          "output_type": "stream",
          "text": [
            "Fold 5, Iteration 9/50: Validation Accuracy = 0.8863537185960975\n"
          ]
        },
        {
          "name": "stderr",
          "output_type": "stream",
          "text": [
            "loading training data to CRFsuite: 100%|██████████| 204/204 [00:02<00:00, 88.11it/s] \n",
            "loading training data to CRFsuite:  11%|█         | 22/204 [00:00<00:01, 94.78it/s]"
          ]
        },
        {
          "name": "stdout",
          "output_type": "stream",
          "text": [
            "Fold 5, Iteration 10/50: Validation Accuracy = 0.9010660183280345\n"
          ]
        },
        {
          "name": "stderr",
          "output_type": "stream",
          "text": [
            "loading training data to CRFsuite: 100%|██████████| 204/204 [00:02<00:00, 77.80it/s]\n",
            "loading training data to CRFsuite:  10%|▉         | 20/204 [00:00<00:02, 90.93it/s]"
          ]
        },
        {
          "name": "stdout",
          "output_type": "stream",
          "text": [
            "Fold 5, Iteration 11/50: Validation Accuracy = 0.8905928558069945\n"
          ]
        },
        {
          "name": "stderr",
          "output_type": "stream",
          "text": [
            "loading training data to CRFsuite: 100%|██████████| 204/204 [00:02<00:00, 81.70it/s] \n",
            "loading training data to CRFsuite:  10%|█         | 21/204 [00:00<00:01, 96.80it/s]"
          ]
        },
        {
          "name": "stdout",
          "output_type": "stream",
          "text": [
            "Fold 5, Iteration 12/50: Validation Accuracy = 0.9097313135091328\n"
          ]
        },
        {
          "name": "stderr",
          "output_type": "stream",
          "text": [
            "loading training data to CRFsuite: 100%|██████████| 204/204 [00:02<00:00, 79.72it/s]\n",
            "loading training data to CRFsuite:  12%|█▏        | 24/204 [00:00<00:01, 107.55it/s]"
          ]
        },
        {
          "name": "stdout",
          "output_type": "stream",
          "text": [
            "Fold 5, Iteration 13/50: Validation Accuracy = 0.9057103671840908\n"
          ]
        },
        {
          "name": "stderr",
          "output_type": "stream",
          "text": [
            "loading training data to CRFsuite: 100%|██████████| 204/204 [00:02<00:00, 87.44it/s] \n",
            "loading training data to CRFsuite:  11%|█         | 22/204 [00:00<00:01, 106.43it/s]"
          ]
        },
        {
          "name": "stdout",
          "output_type": "stream",
          "text": [
            "Fold 5, Iteration 14/50: Validation Accuracy = 0.9224798952683748\n"
          ]
        },
        {
          "name": "stderr",
          "output_type": "stream",
          "text": [
            "loading training data to CRFsuite: 100%|██████████| 204/204 [00:02<00:00, 89.41it/s] \n",
            "loading training data to CRFsuite:   5%|▌         | 11/204 [00:00<00:01, 103.44it/s]"
          ]
        },
        {
          "name": "stdout",
          "output_type": "stream",
          "text": [
            "Fold 5, Iteration 15/50: Validation Accuracy = 0.9219500031170127\n"
          ]
        },
        {
          "name": "stderr",
          "output_type": "stream",
          "text": [
            "loading training data to CRFsuite: 100%|██████████| 204/204 [00:02<00:00, 86.66it/s] \n",
            "loading training data to CRFsuite:   8%|▊         | 16/204 [00:00<00:02, 72.78it/s]"
          ]
        },
        {
          "name": "stdout",
          "output_type": "stream",
          "text": [
            "Fold 5, Iteration 16/50: Validation Accuracy = 0.9284333894395611\n"
          ]
        },
        {
          "name": "stderr",
          "output_type": "stream",
          "text": [
            "loading training data to CRFsuite: 100%|██████████| 204/204 [00:02<00:00, 74.87it/s]\n",
            "loading training data to CRFsuite:  10%|█         | 21/204 [00:00<00:01, 99.49it/s]"
          ]
        },
        {
          "name": "stdout",
          "output_type": "stream",
          "text": [
            "Fold 5, Iteration 17/50: Validation Accuracy = 0.9307399788043139\n"
          ]
        },
        {
          "name": "stderr",
          "output_type": "stream",
          "text": [
            "loading training data to CRFsuite: 100%|██████████| 204/204 [00:02<00:00, 77.79it/s]\n",
            "loading training data to CRFsuite:   3%|▎         | 6/204 [00:00<00:04, 45.32it/s]"
          ]
        },
        {
          "name": "stdout",
          "output_type": "stream",
          "text": [
            "Fold 5, Iteration 18/50: Validation Accuracy = 0.9323919955115018\n"
          ]
        },
        {
          "name": "stderr",
          "output_type": "stream",
          "text": [
            "loading training data to CRFsuite: 100%|██████████| 204/204 [00:03<00:00, 66.03it/s]\n",
            "loading training data to CRFsuite:   9%|▉         | 19/204 [00:00<00:02, 78.79it/s]"
          ]
        },
        {
          "name": "stdout",
          "output_type": "stream",
          "text": [
            "Fold 5, Iteration 19/50: Validation Accuracy = 0.9378155975313259\n"
          ]
        },
        {
          "name": "stderr",
          "output_type": "stream",
          "text": [
            "loading training data to CRFsuite: 100%|██████████| 204/204 [00:02<00:00, 72.26it/s]\n",
            "loading training data to CRFsuite:  10%|█         | 21/204 [00:00<00:01, 102.59it/s]"
          ]
        },
        {
          "name": "stdout",
          "output_type": "stream",
          "text": [
            "Fold 5, Iteration 20/50: Validation Accuracy = 0.9341063524717911\n"
          ]
        },
        {
          "name": "stderr",
          "output_type": "stream",
          "text": [
            "loading training data to CRFsuite: 100%|██████████| 204/204 [00:02<00:00, 82.43it/s] \n",
            "loading training data to CRFsuite:   5%|▌         | 11/204 [00:00<00:01, 105.81it/s]"
          ]
        },
        {
          "name": "stdout",
          "output_type": "stream",
          "text": [
            "Fold 5, Iteration 21/50: Validation Accuracy = 0.9393117636057602\n"
          ]
        },
        {
          "name": "stderr",
          "output_type": "stream",
          "text": [
            "loading training data to CRFsuite: 100%|██████████| 204/204 [00:02<00:00, 75.41it/s]\n",
            "loading training data to CRFsuite:   5%|▍         | 10/204 [00:00<00:02, 82.70it/s]"
          ]
        },
        {
          "name": "stdout",
          "output_type": "stream",
          "text": [
            "Fold 5, Iteration 22/50: Validation Accuracy = 0.9230721276728383\n"
          ]
        },
        {
          "name": "stderr",
          "output_type": "stream",
          "text": [
            "loading training data to CRFsuite: 100%|██████████| 204/204 [00:02<00:00, 77.72it/s]\n",
            "loading training data to CRFsuite:  11%|█▏        | 23/204 [00:00<00:01, 110.37it/s]"
          ]
        },
        {
          "name": "stdout",
          "output_type": "stream",
          "text": [
            "Fold 5, Iteration 23/50: Validation Accuracy = 0.9423976061342809\n"
          ]
        },
        {
          "name": "stderr",
          "output_type": "stream",
          "text": [
            "loading training data to CRFsuite: 100%|██████████| 204/204 [00:02<00:00, 76.42it/s]\n",
            "loading training data to CRFsuite:  11%|█         | 22/204 [00:00<00:01, 108.04it/s]"
          ]
        },
        {
          "name": "stdout",
          "output_type": "stream",
          "text": [
            "Fold 5, Iteration 24/50: Validation Accuracy = 0.9427093073997881\n"
          ]
        },
        {
          "name": "stderr",
          "output_type": "stream",
          "text": [
            "loading training data to CRFsuite: 100%|██████████| 204/204 [00:02<00:00, 89.29it/s] \n",
            "loading training data to CRFsuite:  12%|█▏        | 24/204 [00:00<00:01, 112.03it/s]"
          ]
        },
        {
          "name": "stdout",
          "output_type": "stream",
          "text": [
            "Fold 5, Iteration 25/50: Validation Accuracy = 0.9420859048687737\n"
          ]
        },
        {
          "name": "stderr",
          "output_type": "stream",
          "text": [
            "loading training data to CRFsuite: 100%|██████████| 204/204 [00:02<00:00, 92.83it/s] \n",
            "loading training data to CRFsuite:  11%|█         | 22/204 [00:00<00:01, 110.02it/s]"
          ]
        },
        {
          "name": "stdout",
          "output_type": "stream",
          "text": [
            "Fold 5, Iteration 26/50: Validation Accuracy = 0.9454834486628015\n"
          ]
        },
        {
          "name": "stderr",
          "output_type": "stream",
          "text": [
            "loading training data to CRFsuite: 100%|██████████| 204/204 [00:02<00:00, 90.84it/s] \n",
            "loading training data to CRFsuite:  12%|█▏        | 24/204 [00:00<00:01, 111.13it/s]"
          ]
        },
        {
          "name": "stdout",
          "output_type": "stream",
          "text": [
            "Fold 5, Iteration 27/50: Validation Accuracy = 0.9451717473972945\n"
          ]
        },
        {
          "name": "stderr",
          "output_type": "stream",
          "text": [
            "loading training data to CRFsuite: 100%|██████████| 204/204 [00:02<00:00, 92.53it/s] \n",
            "loading training data to CRFsuite:  12%|█▏        | 24/204 [00:00<00:01, 110.24it/s]"
          ]
        },
        {
          "name": "stdout",
          "output_type": "stream",
          "text": [
            "Fold 5, Iteration 28/50: Validation Accuracy = 0.9520291752384514\n"
          ]
        },
        {
          "name": "stderr",
          "output_type": "stream",
          "text": [
            "loading training data to CRFsuite: 100%|██████████| 204/204 [00:02<00:00, 91.49it/s] \n",
            "loading training data to CRFsuite:  12%|█▏        | 24/204 [00:00<00:01, 113.98it/s]"
          ]
        },
        {
          "name": "stdout",
          "output_type": "stream",
          "text": [
            "Fold 5, Iteration 29/50: Validation Accuracy = 0.9531824699208279\n"
          ]
        },
        {
          "name": "stderr",
          "output_type": "stream",
          "text": [
            "loading training data to CRFsuite: 100%|██████████| 204/204 [00:02<00:00, 90.85it/s] \n",
            "loading training data to CRFsuite:  12%|█▏        | 24/204 [00:00<00:01, 113.31it/s]"
          ]
        },
        {
          "name": "stdout",
          "output_type": "stream",
          "text": [
            "Fold 5, Iteration 30/50: Validation Accuracy = 0.955676080044885\n"
          ]
        },
        {
          "name": "stderr",
          "output_type": "stream",
          "text": [
            "loading training data to CRFsuite: 100%|██████████| 204/204 [00:02<00:00, 91.35it/s] \n",
            "loading training data to CRFsuite:  12%|█▏        | 24/204 [00:00<00:01, 113.37it/s]"
          ]
        },
        {
          "name": "stdout",
          "output_type": "stream",
          "text": [
            "Fold 5, Iteration 31/50: Validation Accuracy = 0.9569540552334642\n"
          ]
        },
        {
          "name": "stderr",
          "output_type": "stream",
          "text": [
            "loading training data to CRFsuite: 100%|██████████| 204/204 [00:02<00:00, 92.48it/s] \n",
            "loading training data to CRFsuite:   3%|▎         | 7/204 [00:00<00:02, 69.00it/s]"
          ]
        },
        {
          "name": "stdout",
          "output_type": "stream",
          "text": [
            "Fold 5, Iteration 32/50: Validation Accuracy = 0.9578891590299856\n"
          ]
        },
        {
          "name": "stderr",
          "output_type": "stream",
          "text": [
            "loading training data to CRFsuite: 100%|██████████| 204/204 [00:02<00:00, 71.16it/s]\n",
            "loading training data to CRFsuite:  11%|█         | 22/204 [00:00<00:02, 88.40it/s] "
          ]
        },
        {
          "name": "stdout",
          "output_type": "stream",
          "text": [
            "Fold 5, Iteration 33/50: Validation Accuracy = 0.9582320304220435\n"
          ]
        },
        {
          "name": "stderr",
          "output_type": "stream",
          "text": [
            "loading training data to CRFsuite: 100%|██████████| 204/204 [00:02<00:00, 80.89it/s]\n",
            "loading training data to CRFsuite:   5%|▍         | 10/204 [00:00<00:02, 88.92it/s]"
          ]
        },
        {
          "name": "stdout",
          "output_type": "stream",
          "text": [
            "Fold 5, Iteration 34/50: Validation Accuracy = 0.9599152172557821\n"
          ]
        },
        {
          "name": "stderr",
          "output_type": "stream",
          "text": [
            "loading training data to CRFsuite: 100%|██████████| 204/204 [00:02<00:00, 79.99it/s]\n",
            "loading training data to CRFsuite:  11%|█         | 22/204 [00:00<00:01, 102.19it/s]"
          ]
        },
        {
          "name": "stdout",
          "output_type": "stream",
          "text": [
            "Fold 5, Iteration 35/50: Validation Accuracy = 0.9598217068761299\n"
          ]
        },
        {
          "name": "stderr",
          "output_type": "stream",
          "text": [
            "loading training data to CRFsuite: 100%|██████████| 204/204 [00:02<00:00, 80.31it/s] \n",
            "loading training data to CRFsuite:  11%|█         | 22/204 [00:00<00:01, 93.50it/s] "
          ]
        },
        {
          "name": "stdout",
          "output_type": "stream",
          "text": [
            "Fold 5, Iteration 36/50: Validation Accuracy = 0.9613178729505641\n"
          ]
        },
        {
          "name": "stderr",
          "output_type": "stream",
          "text": [
            "loading training data to CRFsuite: 100%|██████████| 204/204 [00:02<00:00, 80.91it/s]\n",
            "loading training data to CRFsuite:  11%|█         | 22/204 [00:00<00:01, 97.07it/s] "
          ]
        },
        {
          "name": "stdout",
          "output_type": "stream",
          "text": [
            "Fold 5, Iteration 37/50: Validation Accuracy = 0.9641855245932298\n"
          ]
        },
        {
          "name": "stderr",
          "output_type": "stream",
          "text": [
            "loading training data to CRFsuite: 100%|██████████| 204/204 [00:02<00:00, 82.36it/s]\n",
            "loading training data to CRFsuite:  11%|█         | 22/204 [00:00<00:01, 96.59it/s] "
          ]
        },
        {
          "name": "stdout",
          "output_type": "stream",
          "text": [
            "Fold 5, Iteration 38/50: Validation Accuracy = 0.9609438314319556\n"
          ]
        },
        {
          "name": "stderr",
          "output_type": "stream",
          "text": [
            "loading training data to CRFsuite: 100%|██████████| 204/204 [00:02<00:00, 84.06it/s]\n",
            "loading training data to CRFsuite:  11%|█         | 22/204 [00:00<00:01, 93.46it/s] "
          ]
        },
        {
          "name": "stdout",
          "output_type": "stream",
          "text": [
            "Fold 5, Iteration 39/50: Validation Accuracy = 0.9630322299108535\n"
          ]
        },
        {
          "name": "stderr",
          "output_type": "stream",
          "text": [
            "loading training data to CRFsuite: 100%|██████████| 204/204 [00:02<00:00, 81.66it/s]\n",
            "loading training data to CRFsuite:  11%|█         | 22/204 [00:00<00:01, 95.93it/s] "
          ]
        },
        {
          "name": "stdout",
          "output_type": "stream",
          "text": [
            "Fold 5, Iteration 40/50: Validation Accuracy = 0.962751698771897\n"
          ]
        },
        {
          "name": "stderr",
          "output_type": "stream",
          "text": [
            "loading training data to CRFsuite: 100%|██████████| 204/204 [00:02<00:00, 83.08it/s] \n",
            "loading training data to CRFsuite:   5%|▌         | 11/204 [00:00<00:01, 106.09it/s]"
          ]
        },
        {
          "name": "stdout",
          "output_type": "stream",
          "text": [
            "Fold 5, Iteration 41/50: Validation Accuracy = 0.9602892587743906\n"
          ]
        },
        {
          "name": "stderr",
          "output_type": "stream",
          "text": [
            "loading training data to CRFsuite: 100%|██████████| 204/204 [00:02<00:00, 82.40it/s] \n",
            "loading training data to CRFsuite:   5%|▌         | 11/204 [00:00<00:01, 106.29it/s]"
          ]
        },
        {
          "name": "stdout",
          "output_type": "stream",
          "text": [
            "Fold 5, Iteration 42/50: Validation Accuracy = 0.9617230845957234\n"
          ]
        },
        {
          "name": "stderr",
          "output_type": "stream",
          "text": [
            "loading training data to CRFsuite: 100%|██████████| 204/204 [00:02<00:00, 81.32it/s]\n",
            "loading training data to CRFsuite:  11%|█         | 22/204 [00:00<00:01, 102.60it/s]"
          ]
        },
        {
          "name": "stdout",
          "output_type": "stream",
          "text": [
            "Fold 5, Iteration 43/50: Validation Accuracy = 0.9597281964964778\n"
          ]
        },
        {
          "name": "stderr",
          "output_type": "stream",
          "text": [
            "loading training data to CRFsuite: 100%|██████████| 204/204 [00:02<00:00, 85.09it/s] \n",
            "loading training data to CRFsuite:  12%|█▏        | 24/204 [00:00<00:01, 109.26it/s]"
          ]
        },
        {
          "name": "stdout",
          "output_type": "stream",
          "text": [
            "Fold 5, Iteration 44/50: Validation Accuracy = 0.9596658562433763\n"
          ]
        },
        {
          "name": "stderr",
          "output_type": "stream",
          "text": [
            "loading training data to CRFsuite: 100%|██████████| 204/204 [00:02<00:00, 89.91it/s] \n",
            "loading training data to CRFsuite:  11%|█▏        | 23/204 [00:00<00:01, 103.37it/s]"
          ]
        },
        {
          "name": "stdout",
          "output_type": "stream",
          "text": [
            "Fold 5, Iteration 45/50: Validation Accuracy = 0.9627828688984478\n"
          ]
        },
        {
          "name": "stderr",
          "output_type": "stream",
          "text": [
            "loading training data to CRFsuite: 100%|██████████| 204/204 [00:02<00:00, 90.31it/s] \n",
            "loading training data to CRFsuite:   6%|▌         | 12/204 [00:00<00:01, 110.85it/s]"
          ]
        },
        {
          "name": "stdout",
          "output_type": "stream",
          "text": [
            "Fold 5, Iteration 46/50: Validation Accuracy = 0.9596035159902749\n"
          ]
        },
        {
          "name": "stderr",
          "output_type": "stream",
          "text": [
            "loading training data to CRFsuite: 100%|██████████| 204/204 [00:02<00:00, 91.14it/s] \n",
            "loading training data to CRFsuite:  11%|█         | 22/204 [00:00<00:01, 107.14it/s]"
          ]
        },
        {
          "name": "stdout",
          "output_type": "stream",
          "text": [
            "Fold 5, Iteration 47/50: Validation Accuracy = 0.9586684121937535\n"
          ]
        },
        {
          "name": "stderr",
          "output_type": "stream",
          "text": [
            "loading training data to CRFsuite: 100%|██████████| 204/204 [00:02<00:00, 89.81it/s] \n",
            "loading training data to CRFsuite:   5%|▌         | 11/204 [00:00<00:01, 105.36it/s]"
          ]
        },
        {
          "name": "stdout",
          "output_type": "stream",
          "text": [
            "Fold 5, Iteration 48/50: Validation Accuracy = 0.9609750015585063\n"
          ]
        },
        {
          "name": "stderr",
          "output_type": "stream",
          "text": [
            "loading training data to CRFsuite: 100%|██████████| 204/204 [00:02<00:00, 89.77it/s] \n",
            "loading training data to CRFsuite:  12%|█▏        | 24/204 [00:00<00:01, 106.20it/s]"
          ]
        },
        {
          "name": "stdout",
          "output_type": "stream",
          "text": [
            "Fold 5, Iteration 49/50: Validation Accuracy = 0.9590424537123621\n"
          ]
        },
        {
          "name": "stderr",
          "output_type": "stream",
          "text": [
            "loading training data to CRFsuite: 100%|██████████| 204/204 [00:02<00:00, 88.60it/s]\n"
          ]
        },
        {
          "name": "stdout",
          "output_type": "stream",
          "text": [
            "Fold 5, Iteration 50/50: Validation Accuracy = 0.9605697899133471\n"
          ]
        },
        {
          "data": {
            "image/png": "[encoded data removed]",
            "text/plain": [
              "<Figure size 1000x700 with 2 Axes>"
            ]
          },
          "metadata": {},
          "output_type": "display_data"
        }
      ],
      "source": [
        "def capture_loss_from_log(log_contents):\n",
        "    loss_values = [float(match.group(1)) for match in re.finditer(r'loss=(\\d+\\.\\d+)', log_contents)]\n",
        "    return loss_values\n",
        "\n",
        "def train_crf_with_cross_validation(X, y, k_folds=5, max_iterations=50):\n",
        "    kf = KFold(n_splits=k_folds, shuffle=True, random_state=42)\n",
        "    fold_accuracies = []\n",
        "    fold_loss_values = []\n",
        "\n",
        "    for fold, (train_index, val_index) in enumerate(kf.split(X)):\n",
        "        print(f\"Training fold {fold + 1}/{k_folds}...\")  # Debug print\n",
        "        X_train = [X[i] for i in train_index]\n",
        "        y_train = [y[i] for i in train_index]\n",
        "        X_val = [X[i] for i in val_index]\n",
        "        y_val = [y[i] for i in val_index]\n",
        "\n",
        "        crf = CRF(\n",
        "            algorithm='lbfgs',\n",
        "            c1=0.01,\n",
        "            c2=0.01,\n",
        "            max_iterations=1,  # We'll manually control the iterations\n",
        "            all_possible_transitions=True,\n",
        "            verbose=True\n",
        "        )\n",
        "\n",
        "        val_accuracies = []\n",
        "        iteration_loss_values = []\n",
        "\n",
        "        for i in range(1, max_iterations + 1):\n",
        "            # Capture the log output\n",
        "            log_stream = StringIO()\n",
        "            original_stdout = sys.stdout\n",
        "            sys.stdout = log_stream\n",
        "\n",
        "            try:\n",
        "                # Set the number of iterations\n",
        "                crf.max_iterations = i\n",
        "\n",
        "                # Fit the model\n",
        "                crf.fit(X_train, y_train)\n",
        "\n",
        "            finally:\n",
        "                sys.stdout = original_stdout\n",
        "\n",
        "            # Extract loss values\n",
        "            log_contents = log_stream.getvalue()\n",
        "            loss_values = capture_loss_from_log(log_contents)\n",
        "            if loss_values:\n",
        "                iteration_loss_values.append(loss_values[-1])\n",
        "\n",
        "            # Evaluate on the validation set\n",
        "            val_predictions = crf.predict(X_val)\n",
        "            y_val_flat = list(chain.from_iterable(y_val))\n",
        "            val_predictions_flat = list(chain.from_iterable(val_predictions))\n",
        "            val_accuracy = accuracy_score(y_val_flat, val_predictions_flat)\n",
        "\n",
        "            # Store validation accuracy\n",
        "            val_accuracies.append(val_accuracy)\n",
        "\n",
        "            # Print progress\n",
        "            print(f\"Fold {fold + 1}, Iteration {i}/{max_iterations}: Validation Accuracy = {val_accuracy}\")\n",
        "\n",
        "            # Plot confusion matrix for the last iteration of the fold\n",
        "            if i == max_iterations:\n",
        "                unique_labels = sorted(set(y_val_flat))\n",
        "                plot_confusion_matrix(y_val_flat, val_predictions_flat, unique_labels)\n",
        "\n",
        "        fold_accuracies.append(val_accuracies)\n",
        "        fold_loss_values.append(iteration_loss_values)\n",
        "\n",
        "    return fold_accuracies, fold_loss_values\n",
        "\n",
        "# Perform k-fold cross-validation with validation accuracy and loss tracking\n",
        "k_folds = 5\n",
        "max_iterations = 50\n",
        "fold_accuracies, fold_loss_values = train_crf_with_cross_validation(X_train_full, y_train_full, k_folds, max_iterations)\n"
      ]
    },
    {
      "cell_type": "code",
      "execution_count": 22,
      "metadata": {},
      "outputs": [
        {
          "data": {
            "image/png": "[encoded data removed]",
            "text/plain": [
              "<Figure size 1000x600 with 1 Axes>"
            ]
          },
          "metadata": {},
          "output_type": "display_data"
        }
      ],
      "source": [
        "# Calculate average validation accuracy for each iteration\n",
        "average_accuracies = np.mean(fold_accuracies, axis=0)\n",
        "\n",
        "# Plot the average validation accuracies over iterations\n",
        "plt.figure(figsize=(10, 6))\n",
        "plt.plot(range(1, max_iterations + 1), average_accuracies, label='Average Validation Accuracy')\n",
        "plt.xlabel('Iteration')\n",
        "plt.ylabel('Accuracy')\n",
        "plt.title(f'Average Validation Accuracy over Iterations ({k_folds}-Fold Cross-Validation)')\n",
        "plt.legend()\n",
        "plt.show()"
      ]
    },
    {
      "cell_type": "code",
      "execution_count": 23,
      "metadata": {},
      "outputs": [
        {
          "data": {
            "image/png": "[encoded data removed]",
            "text/plain": [
              "<Figure size 1000x600 with 1 Axes>"
            ]
          },
          "metadata": {},
          "output_type": "display_data"
        }
      ],
      "source": [
        "# Calculate average loss for each iteration\n",
        "average_loss = np.mean(fold_loss_values, axis=0)\n",
        "\n",
        "# Plot the average loss over iterations\n",
        "plt.figure(figsize=(10, 6))\n",
        "plt.plot(range(1, max_iterations + 1), average_loss, label='Average Loss')\n",
        "plt.xlabel('Iteration')\n",
        "plt.ylabel('Loss')\n",
        "plt.title(f'Average Loss over Iterations ({k_folds}-Fold Cross-Validation)')\n",
        "plt.legend()\n",
        "plt.show()\n"
      ]
    },
    {
      "cell_type": "markdown",
      "metadata": {},
      "source": [
        "**TEST SET**"
      ]
    },
    {
      "cell_type": "code",
      "execution_count": 24,
      "metadata": {},
      "outputs": [],
      "source": [
        "def evaluate_crf_on_test_data(test_data, crf_model):\n",
        "    # Prepare the data for CRF\n",
        "    # Assume `prepare_data_for_crf` returns features and labels suitable for testing\n",
        "    X_test, y_test = prepare_data_for_crf(test_data)\n",
        "\n",
        "    # Use the trained CRF model to predict on the test data\n",
        "    test_predictions = crf_model.predict(X_test)\n",
        "\n",
        "    # Flatten the label sequences for the test set\n",
        "    y_test_flat = list(chain.from_iterable(y_test))\n",
        "    predictions_flat = list(chain.from_iterable(test_predictions))\n",
        "\n",
        "    # Calculate the accuracy\n",
        "    test_accuracy = accuracy_score(y_test_flat, predictions_flat)\n",
        "    unique_labels = sorted(set(y_test_flat))\n",
        "    plot_confusion_matrix(y_test_flat, predictions_flat, unique_labels)\n",
        "\n",
        "    return test_accuracy, predictions_flat"
      ]
    },
    {
      "cell_type": "code",
      "execution_count": 25,
      "metadata": {},
      "outputs": [
        {
          "name": "stdout",
          "output_type": "stream",
          "text": [
            "254\n"
          ]
        }
      ],
      "source": [
        "# Loading the json file\n",
        "loading = open(\"negacio_test_v2024.json\")\n",
        "test_data = json.load(loading)\n",
        "print(len(training_data))"
      ]
    },
    {
      "cell_type": "code",
      "execution_count": 26,
      "metadata": {},
      "outputs": [
        {
          "ename": "AttributeError",
          "evalue": "'NoneType' object has no attribute 'tag'",
          "output_type": "error",
          "traceback": [
            "\u001b[1;31m---------------------------------------------------------------------------\u001b[0m",
            "\u001b[1;31mAttributeError\u001b[0m                            Traceback (most recent call last)",
            "Cell \u001b[1;32mIn[26], line 1\u001b[0m\n\u001b[1;32m----> 1\u001b[0m test_accuracy ,predictions_flat \u001b[38;5;241m=\u001b[39m \u001b[43mevaluate_crf_on_test_data\u001b[49m\u001b[43m(\u001b[49m\u001b[43mtest_data\u001b[49m\u001b[43m,\u001b[49m\u001b[43m \u001b[49m\u001b[43mcrf\u001b[49m\u001b[43m)\u001b[49m\n",
            "Cell \u001b[1;32mIn[24], line 7\u001b[0m, in \u001b[0;36mevaluate_crf_on_test_data\u001b[1;34m(test_data, crf_model)\u001b[0m\n\u001b[0;32m      4\u001b[0m X_test, y_test \u001b[38;5;241m=\u001b[39m prepare_data_for_crf(test_data)\n\u001b[0;32m      6\u001b[0m \u001b[38;5;66;03m# Use the trained CRF model to predict on the test data\u001b[39;00m\n\u001b[1;32m----> 7\u001b[0m test_predictions \u001b[38;5;241m=\u001b[39m \u001b[43mcrf_model\u001b[49m\u001b[38;5;241;43m.\u001b[39;49m\u001b[43mpredict\u001b[49m\u001b[43m(\u001b[49m\u001b[43mX_test\u001b[49m\u001b[43m)\u001b[49m\n\u001b[0;32m      9\u001b[0m \u001b[38;5;66;03m# Flatten the label sequences for the test set\u001b[39;00m\n\u001b[0;32m     10\u001b[0m y_test_flat \u001b[38;5;241m=\u001b[39m \u001b[38;5;28mlist\u001b[39m(chain\u001b[38;5;241m.\u001b[39mfrom_iterable(y_test))\n",
            "File \u001b[1;32mc:\\Users\\agasc\\AppData\\Local\\Programs\\Python\\Python312\\Lib\\site-packages\\sklearn_crfsuite\\estimator.py:350\u001b[0m, in \u001b[0;36mCRF.predict\u001b[1;34m(self, X)\u001b[0m\n\u001b[0;32m    335\u001b[0m \u001b[38;5;28;01mdef\u001b[39;00m \u001b[38;5;21mpredict\u001b[39m(\u001b[38;5;28mself\u001b[39m, X):\n\u001b[0;32m    336\u001b[0m \u001b[38;5;250m    \u001b[39m\u001b[38;5;124;03m\"\"\"\u001b[39;00m\n\u001b[0;32m    337\u001b[0m \u001b[38;5;124;03m    Make a prediction.\u001b[39;00m\n\u001b[0;32m    338\u001b[0m \n\u001b[1;32m   (...)\u001b[0m\n\u001b[0;32m    348\u001b[0m \n\u001b[0;32m    349\u001b[0m \u001b[38;5;124;03m    \"\"\"\u001b[39;00m\n\u001b[1;32m--> 350\u001b[0m     \u001b[38;5;28;01mreturn\u001b[39;00m \u001b[38;5;28;43mlist\u001b[39;49m\u001b[43m(\u001b[49m\u001b[38;5;28;43mmap\u001b[39;49m\u001b[43m(\u001b[49m\u001b[38;5;28;43mself\u001b[39;49m\u001b[38;5;241;43m.\u001b[39;49m\u001b[43mpredict_single\u001b[49m\u001b[43m,\u001b[49m\u001b[43m \u001b[49m\u001b[43mX\u001b[49m\u001b[43m)\u001b[49m\u001b[43m)\u001b[49m\n",
            "File \u001b[1;32mc:\\Users\\agasc\\AppData\\Local\\Programs\\Python\\Python312\\Lib\\site-packages\\sklearn_crfsuite\\estimator.py:367\u001b[0m, in \u001b[0;36mCRF.predict_single\u001b[1;34m(self, xseq)\u001b[0m\n\u001b[0;32m    352\u001b[0m \u001b[38;5;28;01mdef\u001b[39;00m \u001b[38;5;21mpredict_single\u001b[39m(\u001b[38;5;28mself\u001b[39m, xseq):\n\u001b[0;32m    353\u001b[0m \u001b[38;5;250m    \u001b[39m\u001b[38;5;124;03m\"\"\"\u001b[39;00m\n\u001b[0;32m    354\u001b[0m \u001b[38;5;124;03m    Make a prediction.\u001b[39;00m\n\u001b[0;32m    355\u001b[0m \n\u001b[1;32m   (...)\u001b[0m\n\u001b[0;32m    365\u001b[0m \n\u001b[0;32m    366\u001b[0m \u001b[38;5;124;03m    \"\"\"\u001b[39;00m\n\u001b[1;32m--> 367\u001b[0m     \u001b[38;5;28;01mreturn\u001b[39;00m \u001b[38;5;28;43mself\u001b[39;49m\u001b[38;5;241;43m.\u001b[39;49m\u001b[43mtagger_\u001b[49m\u001b[38;5;241;43m.\u001b[39;49m\u001b[43mtag\u001b[49m(xseq)\n",
            "\u001b[1;31mAttributeError\u001b[0m: 'NoneType' object has no attribute 'tag'"
          ]
        }
      ],
      "source": [
        "test_accuracy ,predictions_flat = evaluate_crf_on_test_data(test_data, crf)"
      ]
    },
    {
      "cell_type": "code",
      "execution_count": null,
      "metadata": {},
      "outputs": [],
      "source": [
        "print(\"Test Accuracy:\", test_accuracy)"
      ]
    }
  ],
  "metadata": {
    "colab": {
      "provenance": []
    },
    "kernelspec": {
      "display_name": "Python 3",
      "language": "python",
      "name": "python3"
    },
    "language_info": {
      "codemirror_mode": {
        "name": "ipython",
        "version": 3
      },
      "file_extension": ".py",
      "mimetype": "text/x-python",
      "name": "python",
      "nbconvert_exporter": "python",
      "pygments_lexer": "ipython3",
      "version": "3.12.3"
    }
  },
  "nbformat": 4,
  "nbformat_minor": 0
}
