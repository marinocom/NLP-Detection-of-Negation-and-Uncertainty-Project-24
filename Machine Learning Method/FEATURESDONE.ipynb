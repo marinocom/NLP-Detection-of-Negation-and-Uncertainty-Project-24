{
  "cells": [
    {
      "cell_type": "code",
      "execution_count": 1,
      "metadata": {
        "id": "1I1jsjfnv-FS"
      },
      "outputs": [
        {
          "name": "stdout",
          "output_type": "stream",
          "text": [
            "Requirement already satisfied: sklearn_crfsuite in c:\\anaconda\\lib\\site-packages (0.3.6)\n",
            "Requirement already satisfied: python-crfsuite>=0.8.3 in c:\\anaconda\\lib\\site-packages (from sklearn_crfsuite) (0.9.10)\n",
            "Requirement already satisfied: six in c:\\anaconda\\lib\\site-packages (from sklearn_crfsuite) (1.16.0)\n",
            "Requirement already satisfied: tabulate in c:\\anaconda\\lib\\site-packages (from sklearn_crfsuite) (0.9.0)\n",
            "Requirement already satisfied: tqdm>=2.0 in c:\\anaconda\\lib\\site-packages (from sklearn_crfsuite) (4.65.0)\n",
            "Requirement already satisfied: colorama in c:\\anaconda\\lib\\site-packages (from tqdm>=2.0->sklearn_crfsuite) (0.4.6)\n"
          ]
        }
      ],
      "source": [
        "# Libraries\n",
        "import os\n",
        "import json\n",
        "import re\n",
        "!pip install sklearn_crfsuite\n",
        "from langdetect import detect # Library for language detection\n",
        "from spellchecker import SpellChecker\n",
        "import string\n",
        "import spacy\n",
        "from sklearn_crfsuite import CRF\n",
        "from sklearn_crfsuite.metrics import flat_classification_report\n",
        "from sklearn.preprocessing import LabelEncoder\n",
        "import numpy as np"
      ]
    },
    {
      "cell_type": "code",
      "execution_count": 42,
      "metadata": {
        "id": "lLw_E19Jv-FV"
      },
      "outputs": [],
      "source": [
        "#os.chdir('C:\\\\GitHub Repositories\\\\NLP-Detection-of-Negation-and-Uncertainty-Project-24\\\\Data')"
      ]
    },
    {
      "cell_type": "code",
      "execution_count": 2,
      "metadata": {
        "id": "dt3UhmgYv-FV"
      },
      "outputs": [
        {
          "name": "stdout",
          "output_type": "stream",
          "text": [
            "254\n"
          ]
        }
      ],
      "source": [
        "# Loading the json file\n",
        "loading = open(\"negacio_train_v2024.json\")\n",
        "training_data = json.load(loading)\n",
        "print(len(training_data))"
      ]
    },
    {
      "cell_type": "code",
      "execution_count": 3,
      "metadata": {
        "colab": {
          "base_uri": "https://localhost:8080/"
        },
        "collapsed": true,
        "id": "tEwRhU24xx_c",
        "outputId": "feda5902-9b46-4d44-a1a8-22b57c737369"
      },
      "outputs": [
        {
          "name": "stdout",
          "output_type": "stream",
          "text": [
            "Collecting es-core-news-sm==3.7.0\n",
            "  Downloading https://github.com/explosion/spacy-models/releases/download/es_core_news_sm-3.7.0/es_core_news_sm-3.7.0-py3-none-any.whl (12.9 MB)\n",
            "     ---------------------------------------- 0.0/12.9 MB ? eta -:--:--\n",
            "     ---------------------------------------- 0.0/12.9 MB ? eta -:--:--\n",
            "      --------------------------------------- 0.2/12.9 MB 2.1 MB/s eta 0:00:07\n",
            "     -- ------------------------------------- 0.7/12.9 MB 5.2 MB/s eta 0:00:03\n",
            "     --- ------------------------------------ 1.2/12.9 MB 7.6 MB/s eta 0:00:02\n",
            "     ----- ---------------------------------- 1.8/12.9 MB 9.0 MB/s eta 0:00:02\n",
            "     ------- -------------------------------- 2.5/12.9 MB 10.8 MB/s eta 0:00:01\n",
            "     ---------- ----------------------------- 3.3/12.9 MB 11.7 MB/s eta 0:00:01\n",
            "     ------------ --------------------------- 4.1/12.9 MB 12.5 MB/s eta 0:00:01\n",
            "     --------------- ------------------------ 4.9/12.9 MB 13.0 MB/s eta 0:00:01\n",
            "     ----------------- ---------------------- 5.5/12.9 MB 13.1 MB/s eta 0:00:01\n",
            "     ------------------ --------------------- 6.0/12.9 MB 13.3 MB/s eta 0:00:01\n",
            "     ------------------- -------------------- 6.3/12.9 MB 13.0 MB/s eta 0:00:01\n",
            "     --------------------- ------------------ 7.0/12.9 MB 13.2 MB/s eta 0:00:01\n",
            "     ----------------------- ---------------- 7.6/12.9 MB 13.1 MB/s eta 0:00:01\n",
            "     ------------------------ --------------- 8.0/12.9 MB 12.8 MB/s eta 0:00:01\n",
            "     -------------------------- ------------- 8.4/12.9 MB 12.8 MB/s eta 0:00:01\n",
            "     --------------------------- ------------ 8.8/12.9 MB 12.6 MB/s eta 0:00:01\n",
            "     ---------------------------- ----------- 9.2/12.9 MB 12.5 MB/s eta 0:00:01\n",
            "     ----------------------------- ---------- 9.6/12.9 MB 12.0 MB/s eta 0:00:01\n",
            "     ------------------------------ --------- 9.9/12.9 MB 11.9 MB/s eta 0:00:01\n",
            "     ------------------------------ -------- 10.1/12.9 MB 11.6 MB/s eta 0:00:01\n",
            "     ------------------------------- ------- 10.5/12.9 MB 12.4 MB/s eta 0:00:01\n",
            "     -------------------------------- ------ 10.8/12.9 MB 12.1 MB/s eta 0:00:01\n",
            "     --------------------------------- ----- 11.0/12.9 MB 11.7 MB/s eta 0:00:01\n",
            "     --------------------------------- ----- 11.1/12.9 MB 11.5 MB/s eta 0:00:01\n",
            "     ---------------------------------- ---- 11.3/12.9 MB 10.9 MB/s eta 0:00:01\n",
            "     ---------------------------------- ---- 11.4/12.9 MB 10.6 MB/s eta 0:00:01\n",
            "     ---------------------------------- ---- 11.5/12.9 MB 10.2 MB/s eta 0:00:01\n",
            "     ------------------------------------ --- 11.6/12.9 MB 9.8 MB/s eta 0:00:01\n",
            "     ------------------------------------ --- 11.8/12.9 MB 9.5 MB/s eta 0:00:01\n",
            "     ------------------------------------- -- 11.9/12.9 MB 9.2 MB/s eta 0:00:01\n",
            "     ------------------------------------- -- 12.1/12.9 MB 9.0 MB/s eta 0:00:01\n",
            "     ------------------------------------- -- 12.2/12.9 MB 8.6 MB/s eta 0:00:01\n",
            "     -------------------------------------- - 12.2/12.9 MB 8.4 MB/s eta 0:00:01\n",
            "     -------------------------------------- - 12.4/12.9 MB 8.2 MB/s eta 0:00:01\n",
            "     -------------------------------------- - 12.4/12.9 MB 7.9 MB/s eta 0:00:01\n",
            "     -------------------------------------- - 12.5/12.9 MB 7.7 MB/s eta 0:00:01\n",
            "     ---------------------------------------  12.6/12.9 MB 7.5 MB/s eta 0:00:01\n",
            "     ---------------------------------------  12.7/12.9 MB 7.3 MB/s eta 0:00:01\n",
            "     ---------------------------------------  12.8/12.9 MB 7.2 MB/s eta 0:00:01\n",
            "     ---------------------------------------  12.9/12.9 MB 7.0 MB/s eta 0:00:01\n",
            "     ---------------------------------------  12.9/12.9 MB 6.9 MB/s eta 0:00:01\n",
            "     ---------------------------------------- 12.9/12.9 MB 6.7 MB/s eta 0:00:00\n",
            "Requirement already satisfied: spacy<3.8.0,>=3.7.0 in c:\\anaconda\\lib\\site-packages (from es-core-news-sm==3.7.0) (3.7.4)\n",
            "Requirement already satisfied: spacy-legacy<3.1.0,>=3.0.11 in c:\\anaconda\\lib\\site-packages (from spacy<3.8.0,>=3.7.0->es-core-news-sm==3.7.0) (3.0.12)\n",
            "Requirement already satisfied: spacy-loggers<2.0.0,>=1.0.0 in c:\\anaconda\\lib\\site-packages (from spacy<3.8.0,>=3.7.0->es-core-news-sm==3.7.0) (1.0.5)\n",
            "Requirement already satisfied: murmurhash<1.1.0,>=0.28.0 in c:\\anaconda\\lib\\site-packages (from spacy<3.8.0,>=3.7.0->es-core-news-sm==3.7.0) (1.0.10)\n",
            "Requirement already satisfied: cymem<2.1.0,>=2.0.2 in c:\\anaconda\\lib\\site-packages (from spacy<3.8.0,>=3.7.0->es-core-news-sm==3.7.0) (2.0.8)\n",
            "Requirement already satisfied: preshed<3.1.0,>=3.0.2 in c:\\anaconda\\lib\\site-packages (from spacy<3.8.0,>=3.7.0->es-core-news-sm==3.7.0) (3.0.9)\n",
            "Requirement already satisfied: thinc<8.3.0,>=8.2.2 in c:\\anaconda\\lib\\site-packages (from spacy<3.8.0,>=3.7.0->es-core-news-sm==3.7.0) (8.2.3)\n",
            "Requirement already satisfied: wasabi<1.2.0,>=0.9.1 in c:\\anaconda\\lib\\site-packages (from spacy<3.8.0,>=3.7.0->es-core-news-sm==3.7.0) (1.1.2)\n",
            "Requirement already satisfied: srsly<3.0.0,>=2.4.3 in c:\\anaconda\\lib\\site-packages (from spacy<3.8.0,>=3.7.0->es-core-news-sm==3.7.0) (2.4.8)\n",
            "Requirement already satisfied: catalogue<2.1.0,>=2.0.6 in c:\\anaconda\\lib\\site-packages (from spacy<3.8.0,>=3.7.0->es-core-news-sm==3.7.0) (2.0.10)\n",
            "Requirement already satisfied: weasel<0.4.0,>=0.1.0 in c:\\anaconda\\lib\\site-packages (from spacy<3.8.0,>=3.7.0->es-core-news-sm==3.7.0) (0.3.4)\n",
            "Requirement already satisfied: typer<0.10.0,>=0.3.0 in c:\\anaconda\\lib\\site-packages (from spacy<3.8.0,>=3.7.0->es-core-news-sm==3.7.0) (0.9.4)\n",
            "Requirement already satisfied: smart-open<7.0.0,>=5.2.1 in c:\\anaconda\\lib\\site-packages (from spacy<3.8.0,>=3.7.0->es-core-news-sm==3.7.0) (5.2.1)\n",
            "Requirement already satisfied: tqdm<5.0.0,>=4.38.0 in c:\\anaconda\\lib\\site-packages (from spacy<3.8.0,>=3.7.0->es-core-news-sm==3.7.0) (4.65.0)\n",
            "Requirement already satisfied: requests<3.0.0,>=2.13.0 in c:\\anaconda\\lib\\site-packages (from spacy<3.8.0,>=3.7.0->es-core-news-sm==3.7.0) (2.31.0)\n",
            "Requirement already satisfied: pydantic!=1.8,!=1.8.1,<3.0.0,>=1.7.4 in c:\\anaconda\\lib\\site-packages (from spacy<3.8.0,>=3.7.0->es-core-news-sm==3.7.0) (1.10.12)\n",
            "Requirement already satisfied: jinja2 in c:\\anaconda\\lib\\site-packages (from spacy<3.8.0,>=3.7.0->es-core-news-sm==3.7.0) (3.1.3)\n",
            "Requirement already satisfied: setuptools in c:\\anaconda\\lib\\site-packages (from spacy<3.8.0,>=3.7.0->es-core-news-sm==3.7.0) (68.0.0)\n",
            "Requirement already satisfied: packaging>=20.0 in c:\\anaconda\\lib\\site-packages (from spacy<3.8.0,>=3.7.0->es-core-news-sm==3.7.0) (23.1)\n",
            "Requirement already satisfied: langcodes<4.0.0,>=3.2.0 in c:\\anaconda\\lib\\site-packages (from spacy<3.8.0,>=3.7.0->es-core-news-sm==3.7.0) (3.4.0)\n",
            "Requirement already satisfied: numpy>=1.19.0 in c:\\anaconda\\lib\\site-packages (from spacy<3.8.0,>=3.7.0->es-core-news-sm==3.7.0) (1.26.4)\n",
            "Requirement already satisfied: language-data>=1.2 in c:\\anaconda\\lib\\site-packages (from langcodes<4.0.0,>=3.2.0->spacy<3.8.0,>=3.7.0->es-core-news-sm==3.7.0) (1.2.0)\n",
            "Requirement already satisfied: typing-extensions>=4.2.0 in c:\\anaconda\\lib\\site-packages (from pydantic!=1.8,!=1.8.1,<3.0.0,>=1.7.4->spacy<3.8.0,>=3.7.0->es-core-news-sm==3.7.0) (4.9.0)\n",
            "Requirement already satisfied: charset-normalizer<4,>=2 in c:\\anaconda\\lib\\site-packages (from requests<3.0.0,>=2.13.0->spacy<3.8.0,>=3.7.0->es-core-news-sm==3.7.0) (2.0.4)\n",
            "Requirement already satisfied: idna<4,>=2.5 in c:\\anaconda\\lib\\site-packages (from requests<3.0.0,>=2.13.0->spacy<3.8.0,>=3.7.0->es-core-news-sm==3.7.0) (3.4)\n",
            "Requirement already satisfied: urllib3<3,>=1.21.1 in c:\\anaconda\\lib\\site-packages (from requests<3.0.0,>=2.13.0->spacy<3.8.0,>=3.7.0->es-core-news-sm==3.7.0) (2.0.7)\n",
            "Requirement already satisfied: certifi>=2017.4.17 in c:\\anaconda\\lib\\site-packages (from requests<3.0.0,>=2.13.0->spacy<3.8.0,>=3.7.0->es-core-news-sm==3.7.0) (2024.2.2)\n",
            "Requirement already satisfied: blis<0.8.0,>=0.7.8 in c:\\anaconda\\lib\\site-packages (from thinc<8.3.0,>=8.2.2->spacy<3.8.0,>=3.7.0->es-core-news-sm==3.7.0) (0.7.11)\n",
            "Requirement already satisfied: confection<1.0.0,>=0.0.1 in c:\\anaconda\\lib\\site-packages (from thinc<8.3.0,>=8.2.2->spacy<3.8.0,>=3.7.0->es-core-news-sm==3.7.0) (0.1.4)\n",
            "Requirement already satisfied: colorama in c:\\anaconda\\lib\\site-packages (from tqdm<5.0.0,>=4.38.0->spacy<3.8.0,>=3.7.0->es-core-news-sm==3.7.0) (0.4.6)\n",
            "Requirement already satisfied: click<9.0.0,>=7.1.1 in c:\\anaconda\\lib\\site-packages (from typer<0.10.0,>=0.3.0->spacy<3.8.0,>=3.7.0->es-core-news-sm==3.7.0) (8.1.7)\n",
            "Requirement already satisfied: cloudpathlib<0.17.0,>=0.7.0 in c:\\anaconda\\lib\\site-packages (from weasel<0.4.0,>=0.1.0->spacy<3.8.0,>=3.7.0->es-core-news-sm==3.7.0) (0.16.0)\n",
            "Requirement already satisfied: MarkupSafe>=2.0 in c:\\anaconda\\lib\\site-packages (from jinja2->spacy<3.8.0,>=3.7.0->es-core-news-sm==3.7.0) (2.1.3)\n",
            "Requirement already satisfied: marisa-trie>=0.7.7 in c:\\anaconda\\lib\\site-packages (from language-data>=1.2->langcodes<4.0.0,>=3.2.0->spacy<3.8.0,>=3.7.0->es-core-news-sm==3.7.0) (1.1.0)\n",
            "\u001b[38;5;2m✔ Download and installation successful\u001b[0m\n",
            "You can now load the package via spacy.load('es_core_news_sm')\n",
            "Collecting ca-core-news-sm==3.7.0\n",
            "  Downloading https://github.com/explosion/spacy-models/releases/download/ca_core_news_sm-3.7.0/ca_core_news_sm-3.7.0-py3-none-any.whl (19.6 MB)\n",
            "     ---------------------------------------- 0.0/19.6 MB ? eta -:--:--\n",
            "     --------------------------------------- 0.0/19.6 MB 445.2 kB/s eta 0:00:44\n",
            "     ---------------------------------------- 0.1/19.6 MB 1.4 MB/s eta 0:00:14\n",
            "      --------------------------------------- 0.4/19.6 MB 3.2 MB/s eta 0:00:06\n",
            "     - -------------------------------------- 0.7/19.6 MB 4.3 MB/s eta 0:00:05\n",
            "     -- ------------------------------------- 1.2/19.6 MB 5.4 MB/s eta 0:00:04\n",
            "     --- ------------------------------------ 1.6/19.6 MB 6.1 MB/s eta 0:00:03\n",
            "     --- ------------------------------------ 1.9/19.6 MB 6.3 MB/s eta 0:00:03\n",
            "     --- ------------------------------------ 1.9/19.6 MB 6.3 MB/s eta 0:00:03\n",
            "     ---- ----------------------------------- 2.2/19.6 MB 6.0 MB/s eta 0:00:03\n",
            "     ---- ----------------------------------- 2.2/19.6 MB 6.0 MB/s eta 0:00:03\n",
            "     ---- ----------------------------------- 2.2/19.6 MB 6.0 MB/s eta 0:00:03\n",
            "     ---- ----------------------------------- 2.2/19.6 MB 6.0 MB/s eta 0:00:03\n",
            "     ---- ----------------------------------- 2.2/19.6 MB 6.0 MB/s eta 0:00:03\n",
            "     ---- ----------------------------------- 2.2/19.6 MB 6.0 MB/s eta 0:00:03\n",
            "     ---- ----------------------------------- 2.2/19.6 MB 6.0 MB/s eta 0:00:03\n",
            "     ---- ----------------------------------- 2.2/19.6 MB 6.0 MB/s eta 0:00:03\n",
            "     ---- ----------------------------------- 2.2/19.6 MB 6.0 MB/s eta 0:00:03\n",
            "     ---- ----------------------------------- 2.2/19.6 MB 6.0 MB/s eta 0:00:03\n",
            "     ---- ----------------------------------- 2.2/19.6 MB 6.0 MB/s eta 0:00:03\n",
            "     ---- ----------------------------------- 2.2/19.6 MB 2.4 MB/s eta 0:00:08\n",
            "     ---- ----------------------------------- 2.2/19.6 MB 2.4 MB/s eta 0:00:08\n",
            "     ---- ----------------------------------- 2.3/19.6 MB 2.3 MB/s eta 0:00:08\n",
            "     ----- ---------------------------------- 2.5/19.6 MB 2.4 MB/s eta 0:00:08\n",
            "     ----- ---------------------------------- 2.7/19.6 MB 2.5 MB/s eta 0:00:07\n",
            "     ------ --------------------------------- 3.0/19.6 MB 2.7 MB/s eta 0:00:07\n",
            "     ------ --------------------------------- 3.4/19.6 MB 2.9 MB/s eta 0:00:06\n",
            "     ------- -------------------------------- 3.7/19.6 MB 3.1 MB/s eta 0:00:06\n",
            "     -------- ------------------------------- 4.1/19.6 MB 3.2 MB/s eta 0:00:05\n",
            "     --------- ------------------------------ 4.5/19.6 MB 3.4 MB/s eta 0:00:05\n",
            "     --------- ------------------------------ 4.8/19.6 MB 3.5 MB/s eta 0:00:05\n",
            "     ---------- ----------------------------- 5.3/19.6 MB 3.7 MB/s eta 0:00:04\n",
            "     ----------- ---------------------------- 5.6/19.6 MB 3.8 MB/s eta 0:00:04\n",
            "     ------------ --------------------------- 5.9/19.6 MB 3.9 MB/s eta 0:00:04\n",
            "     ------------ --------------------------- 6.3/19.6 MB 4.1 MB/s eta 0:00:04\n",
            "     ------------- -------------------------- 6.8/19.6 MB 4.2 MB/s eta 0:00:04\n",
            "     -------------- ------------------------- 7.0/19.6 MB 4.3 MB/s eta 0:00:03\n",
            "     -------------- ------------------------- 7.3/19.6 MB 4.3 MB/s eta 0:00:03\n",
            "     --------------- ------------------------ 7.5/19.6 MB 4.4 MB/s eta 0:00:03\n",
            "     --------------- ------------------------ 7.8/19.6 MB 4.4 MB/s eta 0:00:03\n",
            "     ---------------- ----------------------- 8.0/19.6 MB 4.4 MB/s eta 0:00:03\n",
            "     ---------------- ----------------------- 8.2/19.6 MB 4.4 MB/s eta 0:00:03\n",
            "     ----------------- ---------------------- 8.5/19.6 MB 4.5 MB/s eta 0:00:03\n",
            "     ------------------ --------------------- 8.8/19.6 MB 4.5 MB/s eta 0:00:03\n",
            "     ------------------ --------------------- 9.2/19.6 MB 4.6 MB/s eta 0:00:03\n",
            "     ------------------- -------------------- 9.5/19.6 MB 4.6 MB/s eta 0:00:03\n",
            "     -------------------- ------------------- 9.9/19.6 MB 4.7 MB/s eta 0:00:03\n",
            "     -------------------- ------------------- 10.2/19.6 MB 4.8 MB/s eta 0:00:02\n",
            "     --------------------- ------------------ 10.6/19.6 MB 5.0 MB/s eta 0:00:02\n",
            "     ---------------------- ----------------- 11.0/19.6 MB 5.0 MB/s eta 0:00:02\n",
            "     ----------------------- ---------------- 11.4/19.6 MB 5.0 MB/s eta 0:00:02\n",
            "     ------------------------ --------------- 11.8/19.6 MB 5.0 MB/s eta 0:00:02\n",
            "     ------------------------ --------------- 12.1/19.6 MB 5.0 MB/s eta 0:00:02\n",
            "     ------------------------- -------------- 12.5/19.6 MB 7.0 MB/s eta 0:00:02\n",
            "     -------------------------- ------------- 12.7/19.6 MB 7.2 MB/s eta 0:00:01\n",
            "     -------------------------- ------------- 12.9/19.6 MB 7.3 MB/s eta 0:00:01\n",
            "     -------------------------- ------------- 13.1/19.6 MB 7.2 MB/s eta 0:00:01\n",
            "     --------------------------- ------------ 13.3/19.6 MB 7.0 MB/s eta 0:00:01\n",
            "     --------------------------- ------------ 13.5/19.6 MB 6.9 MB/s eta 0:00:01\n",
            "     --------------------------- ------------ 13.6/19.6 MB 6.8 MB/s eta 0:00:01\n",
            "     ---------------------------- ----------- 13.8/19.6 MB 6.8 MB/s eta 0:00:01\n",
            "     ---------------------------- ----------- 14.0/19.6 MB 6.6 MB/s eta 0:00:01\n",
            "     ---------------------------- ----------- 14.2/19.6 MB 6.5 MB/s eta 0:00:01\n",
            "     ----------------------------- ---------- 14.3/19.6 MB 6.5 MB/s eta 0:00:01\n",
            "     ----------------------------- ---------- 14.5/19.6 MB 6.4 MB/s eta 0:00:01\n",
            "     ------------------------------ --------- 14.7/19.6 MB 6.4 MB/s eta 0:00:01\n",
            "     ------------------------------ --------- 14.9/19.6 MB 6.3 MB/s eta 0:00:01\n",
            "     ------------------------------- -------- 15.2/19.6 MB 6.2 MB/s eta 0:00:01\n",
            "     ------------------------------- -------- 15.4/19.6 MB 6.2 MB/s eta 0:00:01\n",
            "     -------------------------------- ------- 15.7/19.6 MB 6.1 MB/s eta 0:00:01\n",
            "     -------------------------------- ------- 16.0/19.6 MB 6.1 MB/s eta 0:00:01\n",
            "     --------------------------------- ------ 16.3/19.6 MB 6.0 MB/s eta 0:00:01\n",
            "     --------------------------------- ------ 16.5/19.6 MB 6.0 MB/s eta 0:00:01\n",
            "     ---------------------------------- ----- 16.7/19.6 MB 6.0 MB/s eta 0:00:01\n",
            "     ---------------------------------- ----- 17.0/19.6 MB 5.9 MB/s eta 0:00:01\n",
            "     ----------------------------------- ---- 17.3/19.6 MB 5.9 MB/s eta 0:00:01\n",
            "     ------------------------------------ --- 17.6/19.6 MB 5.8 MB/s eta 0:00:01\n",
            "     ------------------------------------ --- 17.9/19.6 MB 5.9 MB/s eta 0:00:01\n",
            "     ------------------------------------- -- 18.2/19.6 MB 6.0 MB/s eta 0:00:01\n",
            "     ------------------------------------- -- 18.6/19.6 MB 6.0 MB/s eta 0:00:01\n",
            "     -------------------------------------- - 18.9/19.6 MB 6.0 MB/s eta 0:00:01\n",
            "     ---------------------------------------  19.1/19.6 MB 6.0 MB/s eta 0:00:01\n",
            "     ---------------------------------------  19.4/19.6 MB 6.0 MB/s eta 0:00:01\n",
            "     ---------------------------------------  19.6/19.6 MB 5.9 MB/s eta 0:00:01\n",
            "     ---------------------------------------- 19.6/19.6 MB 5.7 MB/s eta 0:00:00\n",
            "Requirement already satisfied: spacy<3.8.0,>=3.7.0 in c:\\anaconda\\lib\\site-packages (from ca-core-news-sm==3.7.0) (3.7.4)\n",
            "Requirement already satisfied: spacy-legacy<3.1.0,>=3.0.11 in c:\\anaconda\\lib\\site-packages (from spacy<3.8.0,>=3.7.0->ca-core-news-sm==3.7.0) (3.0.12)\n",
            "Requirement already satisfied: spacy-loggers<2.0.0,>=1.0.0 in c:\\anaconda\\lib\\site-packages (from spacy<3.8.0,>=3.7.0->ca-core-news-sm==3.7.0) (1.0.5)\n",
            "Requirement already satisfied: murmurhash<1.1.0,>=0.28.0 in c:\\anaconda\\lib\\site-packages (from spacy<3.8.0,>=3.7.0->ca-core-news-sm==3.7.0) (1.0.10)\n",
            "Requirement already satisfied: cymem<2.1.0,>=2.0.2 in c:\\anaconda\\lib\\site-packages (from spacy<3.8.0,>=3.7.0->ca-core-news-sm==3.7.0) (2.0.8)\n",
            "Requirement already satisfied: preshed<3.1.0,>=3.0.2 in c:\\anaconda\\lib\\site-packages (from spacy<3.8.0,>=3.7.0->ca-core-news-sm==3.7.0) (3.0.9)\n",
            "Requirement already satisfied: thinc<8.3.0,>=8.2.2 in c:\\anaconda\\lib\\site-packages (from spacy<3.8.0,>=3.7.0->ca-core-news-sm==3.7.0) (8.2.3)\n",
            "Requirement already satisfied: wasabi<1.2.0,>=0.9.1 in c:\\anaconda\\lib\\site-packages (from spacy<3.8.0,>=3.7.0->ca-core-news-sm==3.7.0) (1.1.2)\n",
            "Requirement already satisfied: srsly<3.0.0,>=2.4.3 in c:\\anaconda\\lib\\site-packages (from spacy<3.8.0,>=3.7.0->ca-core-news-sm==3.7.0) (2.4.8)\n",
            "Requirement already satisfied: catalogue<2.1.0,>=2.0.6 in c:\\anaconda\\lib\\site-packages (from spacy<3.8.0,>=3.7.0->ca-core-news-sm==3.7.0) (2.0.10)\n",
            "Requirement already satisfied: weasel<0.4.0,>=0.1.0 in c:\\anaconda\\lib\\site-packages (from spacy<3.8.0,>=3.7.0->ca-core-news-sm==3.7.0) (0.3.4)\n",
            "Requirement already satisfied: typer<0.10.0,>=0.3.0 in c:\\anaconda\\lib\\site-packages (from spacy<3.8.0,>=3.7.0->ca-core-news-sm==3.7.0) (0.9.4)\n",
            "Requirement already satisfied: smart-open<7.0.0,>=5.2.1 in c:\\anaconda\\lib\\site-packages (from spacy<3.8.0,>=3.7.0->ca-core-news-sm==3.7.0) (5.2.1)\n",
            "Requirement already satisfied: tqdm<5.0.0,>=4.38.0 in c:\\anaconda\\lib\\site-packages (from spacy<3.8.0,>=3.7.0->ca-core-news-sm==3.7.0) (4.65.0)\n",
            "Requirement already satisfied: requests<3.0.0,>=2.13.0 in c:\\anaconda\\lib\\site-packages (from spacy<3.8.0,>=3.7.0->ca-core-news-sm==3.7.0) (2.31.0)\n",
            "Requirement already satisfied: pydantic!=1.8,!=1.8.1,<3.0.0,>=1.7.4 in c:\\anaconda\\lib\\site-packages (from spacy<3.8.0,>=3.7.0->ca-core-news-sm==3.7.0) (1.10.12)\n",
            "Requirement already satisfied: jinja2 in c:\\anaconda\\lib\\site-packages (from spacy<3.8.0,>=3.7.0->ca-core-news-sm==3.7.0) (3.1.3)\n",
            "Requirement already satisfied: setuptools in c:\\anaconda\\lib\\site-packages (from spacy<3.8.0,>=3.7.0->ca-core-news-sm==3.7.0) (68.0.0)\n",
            "Requirement already satisfied: packaging>=20.0 in c:\\anaconda\\lib\\site-packages (from spacy<3.8.0,>=3.7.0->ca-core-news-sm==3.7.0) (23.1)\n",
            "Requirement already satisfied: langcodes<4.0.0,>=3.2.0 in c:\\anaconda\\lib\\site-packages (from spacy<3.8.0,>=3.7.0->ca-core-news-sm==3.7.0) (3.4.0)\n",
            "Requirement already satisfied: numpy>=1.19.0 in c:\\anaconda\\lib\\site-packages (from spacy<3.8.0,>=3.7.0->ca-core-news-sm==3.7.0) (1.26.4)\n",
            "Requirement already satisfied: language-data>=1.2 in c:\\anaconda\\lib\\site-packages (from langcodes<4.0.0,>=3.2.0->spacy<3.8.0,>=3.7.0->ca-core-news-sm==3.7.0) (1.2.0)\n",
            "Requirement already satisfied: typing-extensions>=4.2.0 in c:\\anaconda\\lib\\site-packages (from pydantic!=1.8,!=1.8.1,<3.0.0,>=1.7.4->spacy<3.8.0,>=3.7.0->ca-core-news-sm==3.7.0) (4.9.0)\n",
            "Requirement already satisfied: charset-normalizer<4,>=2 in c:\\anaconda\\lib\\site-packages (from requests<3.0.0,>=2.13.0->spacy<3.8.0,>=3.7.0->ca-core-news-sm==3.7.0) (2.0.4)\n",
            "Requirement already satisfied: idna<4,>=2.5 in c:\\anaconda\\lib\\site-packages (from requests<3.0.0,>=2.13.0->spacy<3.8.0,>=3.7.0->ca-core-news-sm==3.7.0) (3.4)\n",
            "Requirement already satisfied: urllib3<3,>=1.21.1 in c:\\anaconda\\lib\\site-packages (from requests<3.0.0,>=2.13.0->spacy<3.8.0,>=3.7.0->ca-core-news-sm==3.7.0) (2.0.7)\n",
            "Requirement already satisfied: certifi>=2017.4.17 in c:\\anaconda\\lib\\site-packages (from requests<3.0.0,>=2.13.0->spacy<3.8.0,>=3.7.0->ca-core-news-sm==3.7.0) (2024.2.2)\n",
            "Requirement already satisfied: blis<0.8.0,>=0.7.8 in c:\\anaconda\\lib\\site-packages (from thinc<8.3.0,>=8.2.2->spacy<3.8.0,>=3.7.0->ca-core-news-sm==3.7.0) (0.7.11)\n",
            "Requirement already satisfied: confection<1.0.0,>=0.0.1 in c:\\anaconda\\lib\\site-packages (from thinc<8.3.0,>=8.2.2->spacy<3.8.0,>=3.7.0->ca-core-news-sm==3.7.0) (0.1.4)\n",
            "Requirement already satisfied: colorama in c:\\anaconda\\lib\\site-packages (from tqdm<5.0.0,>=4.38.0->spacy<3.8.0,>=3.7.0->ca-core-news-sm==3.7.0) (0.4.6)\n",
            "Requirement already satisfied: click<9.0.0,>=7.1.1 in c:\\anaconda\\lib\\site-packages (from typer<0.10.0,>=0.3.0->spacy<3.8.0,>=3.7.0->ca-core-news-sm==3.7.0) (8.1.7)\n",
            "Requirement already satisfied: cloudpathlib<0.17.0,>=0.7.0 in c:\\anaconda\\lib\\site-packages (from weasel<0.4.0,>=0.1.0->spacy<3.8.0,>=3.7.0->ca-core-news-sm==3.7.0) (0.16.0)\n",
            "Requirement already satisfied: MarkupSafe>=2.0 in c:\\anaconda\\lib\\site-packages (from jinja2->spacy<3.8.0,>=3.7.0->ca-core-news-sm==3.7.0) (2.1.3)\n",
            "Requirement already satisfied: marisa-trie>=0.7.7 in c:\\anaconda\\lib\\site-packages (from language-data>=1.2->langcodes<4.0.0,>=3.2.0->spacy<3.8.0,>=3.7.0->ca-core-news-sm==3.7.0) (1.1.0)\n",
            "\u001b[38;5;2m✔ Download and installation successful\u001b[0m\n",
            "You can now load the package via spacy.load('ca_core_news_sm')\n"
          ]
        }
      ],
      "source": [
        "!python -m spacy download es_core_news_sm\n",
        "!python -m spacy download ca_core_news_sm"
      ]
    },
    {
      "cell_type": "code",
      "execution_count": 4,
      "metadata": {
        "id": "PzrC9--iv-FW"
      },
      "outputs": [],
      "source": [
        "# 1 Remove pacient information and redacted entries\n",
        "def remove_pacient_info(text):\n",
        "    # Remove lines starting with \"nº historia clinica:\" and ending with \"motiu d'ingres\"\n",
        "    text = re.sub(r'nº historia clinica:.*?motiu d\\'ingres', '', text, flags=re.DOTALL)\n",
        "    # Remove lines starting with \"nhc\" and ending with \"lopd\"\n",
        "    text = re.sub(r'nhc.*?lopd', '', text, flags=re.DOTALL)\n",
        "    # Remove all asterisks '*'\n",
        "    text = text.replace('*', '')\n",
        "    return text\n",
        "\n",
        "\n",
        "# 2 Remove Punctuation (Able to be turned ON/OFF)\n",
        "def remove_punctuation(text):\n",
        "    # Define a translation table to map punctuation to None\n",
        "    translator = str.maketrans('', '', string.punctuation)\n",
        "    # Remove punctuation using the translation table\n",
        "    text = text.translate(translator)\n",
        "    return text\n",
        "\n",
        "\n",
        "# 3 Spell cheking with language detection (Able to be turned ON/OFF)\n",
        "# Load language models for Spanish and Catalan\n",
        "nlp_es = spacy.load(\"es_core_news_sm\")\n",
        "nlp_ca = spacy.load(\"ca_core_news_sm\")\n",
        "\n",
        "def lemmatize_text(text):\n",
        "    # Detect the language of the text\n",
        "    language = detect(text)\n",
        "\n",
        "    # Tokenize the text using the appropriate language model\n",
        "    if language == 'ca':\n",
        "        doc = nlp_ca(text)\n",
        "    else:\n",
        "        doc = nlp_es(text)\n",
        "\n",
        "    # Lemmatize tokens\n",
        "    lemmatized_tokens = []\n",
        "    for token in doc:\n",
        "        # Check if the token is a punctuation or whitespace\n",
        "        if not token.is_punct and not token.is_space:\n",
        "            # Lemmatize the token\n",
        "            lemmatized_token = token.lemma_ if token.lemma_ != '-PRON-' else token.text\n",
        "            lemmatized_tokens.append(lemmatized_token)\n",
        "        else:\n",
        "            lemmatized_tokens.append(token.text)\n",
        "\n",
        "    # Join the tokens back into text\n",
        "    lemmatized_text = ' '.join(lemmatized_tokens)\n",
        "    return lemmatized_text\n",
        "\n",
        "\n",
        "# 4 Tokenization with coordinates of the original text for (evaluation)\n",
        "def tokenize_with_coordinates(text):\n",
        "    # Tokenize the text while preserving the coordinates\n",
        "    tokens_with_coordinates = []\n",
        "    token_start = 0\n",
        "    for token in re.finditer(r'\\S+', text):\n",
        "        token_text = token.group(0)\n",
        "        token_end = token_start + len(token_text)\n",
        "        tokens_with_coordinates.append((token_text, token_start, token_end))\n",
        "        # Update token start position for the next token\n",
        "        token_start = token_end\n",
        "    return tokens_with_coordinates\n",
        "\n",
        "\n",
        "# Main function to process the text\n",
        "def pre_process_text(text, remove_punctuation_call=True, spell_check_call=True):\n",
        "\n",
        "    # 1 Remove pacient information and redacted entries\n",
        "    preprocessed_text = remove_pacient_info(text)\n",
        "\n",
        "    # 2 Remove punctuation if specified\n",
        "    if remove_punctuation_call:\n",
        "        preprocessed_text = remove_punctuation(preprocessed_text)\n",
        "\n",
        "    # 3 Spell check and lemmatize if specified\n",
        "    if spell_check_call:\n",
        "        preprocessed_text = lemmatize_text(preprocessed_text)\n",
        "\n",
        "    # 4 Tokenize the text with coordinates\n",
        "    tokens_with_coordinates = tokenize_with_coordinates(preprocessed_text)\n",
        "\n",
        "    return tokens_with_coordinates"
      ]
    },
    {
      "cell_type": "markdown",
      "metadata": {},
      "source": [
        "## <span style=\"color:red; font-size:larger;\">**DATA ANNOTATION**</span>\n"
      ]
    },
    {
      "cell_type": "code",
      "execution_count": 5,
      "metadata": {},
      "outputs": [],
      "source": [
        "#EXTRACTED FROM THE TRAINING SET\n",
        "neg_pre = ['impide', 'exfumador', 'negativo', 'desaparecen', 'asintomatica', 'afebril', 'se desestimo', 'negativos', 'ninguno', 'asintomatico', 'desorientado', 'inestabilidad', 'atipicos', 'ausencia de', 'ceden', 'negativa', 'negativas', 'excepto', 'desorientacion', 'inespecificos', 'se suspende','inespecifico', 'ex', 'arritmicos', 'cede', 'se retira', 'ex fumador', 'niegan', 'negatiu', 'negaitvo', 'indetectable',' negativo', 'suspendido']\n",
        "neg_pos = ['retirar','ni' 'desaparicion de', 'descarta', 'ausencia', 'descartada', 'niega', 'nega', 'rechaza', 'desaparicion del', 'imposibilidad', 'retiro', 'irregulares', 'negatividad', 'tampoco', 'sin', 'imposibilidad de', 'en ninguna', 'incapacidad para', ' no', 'neg', ' afebril', 'sense', 'falta de', 'negatividad de', 'negatividad del', 'no']\n",
        "#EXTRACTED FROM THE GITHUB\n",
        "neg_pre_filtered= ['gobierna al paciente', 'ninguna otra evidencia', 'la van descartar per', 'no aparece', 'descartaron al paciente por', 'adecuado para descartarla', 'excluir', 'excloure', 'descartar al pacient per', 'sin ninguna evidencia de', 'descartarlo por', 'no tenía', 'lo descartó', 'sin signo de', 'sense indicació de', 'pot descartar', 'excluye', 'ho descarta', 'ninguna evidencia radiográfica de', 'descartarlo', 'negando', 'sense troballes de', 'adequat per a descartar-lo', 'cap senyal de', 'no em queixo de', 'ninguna señal de', 'nunca tuve', 'ho va descartar', 'descartar', 'lo descartaron por', 'la va descartar contra', 'pot descartar-ho', 'lo descartaron en contra', 'libre de', 'pot descartar al pacient', 'no tinc', 'absència de', 'sin quejas de', 'van descartar contra', 'la va descartar', 'no tenia', 'descartado contra', 'ho va descartar contra', 'no me quejo de', 'puede descartar', 'no significativo', 'resuelto', 'puede descartar al paciente', 'no sospitós', 'gens especial per a', 'pot descartar-ho per', 'exclou', 'r / o', 'resolt', 'van descartar per a', 'descartó', 'va descartar', 'puede descartarla contra', 'sin evidencia', 'descartar per a', 'no apareix', 'pot descartar-la per', 'la descartó', 'va descartar al pacient', 'descartar-ho', 'cap altra evidència', 'no saber de', 'ninguna nueva evidencia', 'sin indicación de', 'mai desenvolupat', 'sense queixes de', \"l'exclou\", 'lo descarta', 'cap suggeriment de', 'cap evidència radiogràfica de', 'sense cap evidència de', 'puede descartarlo', 'pacient no era', 'no apreciar', 'con ningún', 'cap causa de', 'adecuado para descartarlo', 'no associat amb', 'descartarla', 'nunca desarrollado', 'adecuado para descartarla por', 'no poden veure', 'ro', 'ninguna evidencia para sugerir', 'sin hallazgos de', 'no pueden ver', 'pot descartar-la', 'la excluye', 'governa al pacient', 'amb cap', 'descartar al paciente por', 'expulsó al paciente por', 'no anormal', 'no sospechoso', 'pot descartar-la contra', 'nada nuevo', 'paciente no era', 'descartaron para', 'no poder', 'evaluar por', 'suficiente para descartarlo por', 'no exhibir', 'més aviat que', 'fer una prova per', 'puede descartarla por', 'ninguna causa de', 'lliure de', 'mai vaig tenir', 'no tengo', 'descartaron contra', 'puede descartarla', 'adecuado para descartarlo por', 'descartat contra', 'descartar-la', 'adequat per a descartar-la', 'no significatiu', 'negatiu per a', 'sense evidència', 'ho van descartar per', 'descartar al pacient', 'cap nova evidència', 'descartarla por', 'nada especial para', 'ninguna sugerencia de', 'sense signe de', 'no sentir', 'descartar al paciente', 'descartar-ho per', 'puede descartarlo en contra', 'puede descartarlo por', 'más bien que', 'res nou', 'descartó al paciente', 'negant', 'avaluar per', 'no demostrar', 'descartar para', 'no revela', 'no revelar', 'descartó al paciente contra', 'puede descartar contra', 'descartar-la per', 'suficiente para descartar', 'negativo para', 'la descartó contra', 'revisado para', 'suficient per a descartar', 'revisat per a', 'hacer una prueba por', 'pot descartar-ho en contra', 'pot descartar contra', 'la descartaron por', 'descartaron al paciente contra', 'no asociado con', 'suficiente para descartarla por', 'lo descartó contra']\n",
        "neg_pos_filtered= ['libre', 'podría ser descartado', 'fue descartado', 'rechazado', 'ha de ser descartat', 'lliure', 'rebutjat', 'puede ser descartado', 'ser descartat', 'adecuado para descartar', 'están descartadas', 'podria ser descartat', 'improbable', 'podría ser descartado por', 'debe ser descartado por', 'suficient per a descartar-ho', 'serà descartat per', 'podria descartar-se', 'suficient per a descartar-la', 'va ser descartat', 'han estat descartades', 'ser descartado por', 'declina', 'adequat per a descartar', 'siendo descartado', 'suficiente para descartarla', 'no ver', 'sent descartat', 'està descartat', 'se puede descartar por', 'pot ser descartat', 'ha estat descartat', 'puede ser descartado para', 'ha de descartar-se', 'suficiente para descartarlo', 'es descarta', 'ha sido descartado', 'será descartado', 'ser descartado', 'no veure', 'ser descartat per', 'debe ser descartado', 'serà descartat', 'debe descartarse para', 'debe ser descartado para', 'es pot descartar per', 'negado', 'se descarta', 'lo descartaron', 'no ser', 'se puede descartar', 'está descartado', 'negat', 'podría descartarse', 'es pot descartar', 'ho van descartar', 'podria ser descartat per', 'han sido descartadas', 'será descartado por', 'estan descartades', 'debe descartarse']\n",
        "neg_pre.extend(neg_pre_filtered)\n",
        "neg_pos.extend(neg_pos_filtered)\n",
        "\n",
        "#NOSE COM EMFOCAR: SIN, NO, DESCARTAR\n",
        "unc_pre = [ 'al parecer' , 'vs', 'dudosamente', 'indeterminado', 'sospecha', 'pudieran', 'aparentes', 'dubtos','permite descartar', 'parece', 'atribuida', 'clara', 'no clara', 'desconocido']\n",
        "unc_pos = ['compatible amb', 'desconoce', 'indiquen', 'sin aparente', 'sugieren', 'ssospechosas de', 'probablemente', 'posible', 'sugestivo de', 'falsa', 'sospechan de', 'posibilidad de', 'sugiriendo', 'orienta', 'sospechosos de', 'sugestivos de', 'se orienta', 'plantea', 'podria', 'puede', 'podrian', 'probables', 'no', 'sugiere', 'parecen', 'sin', 'sospechosa de', 'sugestivas de', 'orientan como', 'dudosa', 'interpreta', 'compatible con', 'valorar', 'dudosos', 'probable', 'poco porque', 'sugieran', 'sin clara', 'no permite descartar', 'se desconoce', 'impresiona de', 'sugestiva de', 'orienta como', 'orientan', 'sin poder descartar', 'no parece', 'sospitosa de', 'sugestivos con', 'impresiona', 'aparentemente', 'sospecha de', 'no es posible descartar', 'compatibles con', 'compatible', 'aparente', 'sugestiva como', 'posiblemente', 'posibles', 'sugiera de', 'descartar', 'dudoso', 'se orientan', 'sospechosas de', 'sin aparentes', 'sin claras']\n",
        "#DEMA HO AFEGEIXO\n",
        "unc_pre_filtered = ['como una causa secundaria para', 'como el origen secundario de', 'secundario a', 'como la causa de', 'como la causa secundaria de', 'como una razón de', 'como una causa secundaria de', 'como una etiología secundaria para', 'excepto', 'aunque', 'como la fuente secundaria para', 'como una etilogía para', 'como la fuente de', 'como el origen secundario para', 'com la font secundària de', 'como una razón secundaria para', 'com una raó secundària per a', 'com la font secundària per a', 'com una etiologia de', 'como una etiología secundaria de', 'secundari a', 'encara que', 'como una razón secundaria de', 'como la razón secundaria de', 'como la fuente secundaria de', 'com la causa secundària de', 'a pesar que', 'como una razón para', 'como la etilogía de', \"com l'etiologia de\", 'como la razón secundaria para', 'como un origen secundario para', 'com una font secundària per a', 'como una etilogía de', 'como fuente de', \"com l'etiologia secundària per a\", \"com l'origen secundari per a\", \"com l'origen secundari de\", 'però', 'com a causa de', 'com una etiologia secundària per a', 'como la razón de', 'com un origen secundari per a', 'com una raó secundària de', 'no obstant això', 'com una font secundària de', 'com una raó per a', 'pero', 'com la raó secundària de', 'como la etilogía secundaria para', 'a pesar de que', 'sin embargo', \"com l'etiologia secundària de\", 'com la causa de', 'com una causa secundària per a', 'com la raó de', 'a part de', 'como una fuente secundaria de', 'com una causa secundària de', 'aparte de', 'com a font de', 'como una fuente secundaria para', \"com l'origen de\", 'com una etiologia per a', 'com la raó secundària per a', 'como el origen de', 'com un origen secundari de', 'com una raó de', 'como un origen secundario de', 'excepte', 'como causa de', 'encara', 'todavía', 'com una etiologia secundària de', 'como la etilogía secundaria de']\n",
        "unc_post_filtered =['origens de', 'raons de', 'altres possibilitats de', 'font per a', 'desencadenar evento para', 'origen para', 'raons per a', 'fuente para', 'causes de', 'fuentes de', 'causa de', 'etilogia de', 'etilogía para', 'origen per a', 'motivo de', 'fuentes para', 'otras posibilidades de', 'razones de', 'causas de', 'font de', 'razones para', 'etilogía de', 'fonts per a', 'fonts de', 'raó per a', 'razón de', 'orígenes para', 'razón para', 'motiu de', 'desencadenar esdeveniment per a', 'fuente de', 'orígenes de', 'origen de', 'raó de', 'etilogia per a', 'origens per a']\n",
        "unc_pre.extend(unc_pre_filtered)\n",
        "unc_pos.extend(unc_post_filtered)   "
      ]
    },
    {
      "cell_type": "code",
      "execution_count": 6,
      "metadata": {},
      "outputs": [],
      "source": [
        "def annotate_text(text):\n",
        "    # Define negation and uncertainty cues\n",
        "    # Tokenize the text\n",
        "    tokens = text.split()\n",
        "\n",
        "    # Initialize labels list\n",
        "    labels = []\n",
        "\n",
        "    # Iterate through tokens and annotate\n",
        "    for token in tokens:\n",
        "        # Check if token is a negation cue\n",
        "        if token.lower() in neg_pre:\n",
        "            labels.append(\"NEG-PRE\")\n",
        "        elif token.lower() in neg_pos:\n",
        "            labels.append(\"NEG-POS\")\n",
        "        \n",
        "        # Check if token is an uncertainty cue\n",
        "        elif token.lower() in unc_pre:\n",
        "            labels.append(\"UNC-PRE\")\n",
        "        elif token.lower() in unc_pos:\n",
        "            labels.append(\"UNC-POS\")\n",
        "\n",
        "        else:\n",
        "            labels.append(\"O\")  # Not negation or uncertainty\n",
        "\n",
        "    return labels"
      ]
    },
    {
      "cell_type": "markdown",
      "metadata": {
        "id": "QNlu5qz0WEjh"
      },
      "source": [
        "## <span style=\"color:red; font-size:larger;\">**FEATURE EXTRACTION FUNCTIONS**</span>\n"
      ]
    },
    {
      "cell_type": "markdown",
      "metadata": {
        "id": "kCX9PVxyMyqh"
      },
      "source": [
        "1. WORD OF THE VOCABULARY"
      ]
    },
    {
      "cell_type": "code",
      "execution_count": 7,
      "metadata": {
        "id": "nErOI-zzL5PO"
      },
      "outputs": [],
      "source": [
        "def text_to_numbers(text):\n",
        "    lut = {}\n",
        "    numbers = []\n",
        "    current_id = 1\n",
        "\n",
        "    for word in text:\n",
        "        if word not in lut:\n",
        "            lut[word] = current_id\n",
        "            current_id += 1\n",
        "        numbers.append(lut[word])\n",
        "\n",
        "    return numbers, lut"
      ]
    },
    {
      "cell_type": "markdown",
      "metadata": {
        "id": "07_YVGa2NtqA"
      },
      "source": [
        "2. INITIATES WITH CAPITALIZATION"
      ]
    },
    {
      "cell_type": "code",
      "execution_count": 8,
      "metadata": {
        "id": "2cTuWby5NzIN"
      },
      "outputs": [],
      "source": [
        "def init_cap(text):\n",
        "    capitalized_words = []\n",
        "    for word in text:\n",
        "        if word.istitle():\n",
        "            capitalized_words.append(1)\n",
        "        else:\n",
        "            capitalized_words.append(0)\n",
        "    return capitalized_words"
      ]
    },
    {
      "cell_type": "markdown",
      "metadata": {
        "id": "g9t-bo3uWRT1"
      },
      "source": [
        "CONTAINS CAPITALIZATION"
      ]
    },
    {
      "cell_type": "code",
      "execution_count": 9,
      "metadata": {
        "id": "6xH7toeaWTYs"
      },
      "outputs": [],
      "source": [
        "def contains_cap(text):\n",
        "    contain_cap_words = []\n",
        "    for word in text:\n",
        "        word = word.split()\n",
        "        if any(char.isupper() for char in word):\n",
        "            contain_cap_words.append(1)\n",
        "        else:\n",
        "            contain_cap_words.append(0)\n",
        "    return contain_cap_words"
      ]
    },
    {
      "cell_type": "markdown",
      "metadata": {
        "id": "-NXPu52yRDuq"
      },
      "source": [
        "3. IS A NUMBER"
      ]
    },
    {
      "cell_type": "code",
      "execution_count": 10,
      "metadata": {
        "id": "EfImbGGsOxG1"
      },
      "outputs": [],
      "source": [
        "def is_a_number(text):\n",
        "    is_num = []\n",
        "    for word in text:\n",
        "        try:\n",
        "            float(word)\n",
        "            is_num.append(1)\n",
        "        except ValueError:\n",
        "            is_num.append(0)\n",
        "    return is_num"
      ]
    },
    {
      "cell_type": "markdown",
      "metadata": {
        "id": "Eg6K4bw9RE7Q"
      },
      "source": [
        "4. CONTAINS A NUMBER"
      ]
    },
    {
      "cell_type": "code",
      "execution_count": 11,
      "metadata": {
        "id": "KimV5ZNUUhtR"
      },
      "outputs": [],
      "source": [
        "def contains_number(text):\n",
        "    contains_num = []\n",
        "    for word in text:\n",
        "        if any(char.isdigit() for char in word):\n",
        "            contains_num.append(1)\n",
        "        else:\n",
        "            contains_num.append(0)\n",
        "    return contains_num"
      ]
    },
    {
      "cell_type": "markdown",
      "metadata": {
        "id": "ZtP8LKOKHXZl"
      },
      "source": [
        "HAS DASH (-)"
      ]
    },
    {
      "cell_type": "code",
      "execution_count": 12,
      "metadata": {
        "id": "u8xWYhUEWNtJ"
      },
      "outputs": [],
      "source": [
        "def contains_dash(text):\n",
        "    contain_dash_words = []\n",
        "    for word in text:\n",
        "        word= word.split()\n",
        "        if '-' in word:\n",
        "            contain_dash_words.append(1)\n",
        "        else:\n",
        "            contain_dash_words.append(0)\n",
        "    return contain_dash_words"
      ]
    },
    {
      "cell_type": "code",
      "execution_count": 13,
      "metadata": {
        "id": "urRoXlNgNu2i"
      },
      "outputs": [],
      "source": [
        "def contains_underscore(text):\n",
        "    contain_dash_words = []\n",
        "    for word in text:\n",
        "        word = word.split()\n",
        "        if '_' in word:\n",
        "            contain_dash_words.append(1)\n",
        "        else:\n",
        "            contain_dash_words.append(0)\n",
        "    return contain_dash_words"
      ]
    },
    {
      "cell_type": "code",
      "execution_count": 14,
      "metadata": {
        "id": "6Qf4IhCLORzC"
      },
      "outputs": [],
      "source": [
        "def contains_punctuation(text):\n",
        "    contain_punct_words = []\n",
        "    for word in text:\n",
        "        if any(char in string.punctuation for char in word):\n",
        "            contain_punct_words.append(1)\n",
        "        else:\n",
        "            contain_punct_words.append(0)\n",
        "    return contain_punct_words"
      ]
    },
    {
      "cell_type": "code",
      "execution_count": 15,
      "metadata": {
        "id": "xGaDdS6zW3Eo"
      },
      "outputs": [],
      "source": [
        "def pos_tag_words(text):\n",
        "\n",
        "    chunk_size = 10000\n",
        "\n",
        "    tagged_words = []\n",
        "\n",
        "    for i in range(0, len(text), chunk_size):\n",
        "        chunk = ' '.join(text[i:i+chunk_size])\n",
        "        # Tokenize the chunk\n",
        "        doc = nlp_es(chunk)\n",
        "        # Extract POS tags\n",
        "        tagged_words.extend([(token.text, token.pos_) for token in doc])\n",
        "    return tagged_words"
      ]
    },
    {
      "cell_type": "code",
      "execution_count": 16,
      "metadata": {
        "id": "bNt_WHB2Q_zZ"
      },
      "outputs": [],
      "source": [
        "def beforepos(pos_tags, vocabulary_words):\n",
        "    features = []\n",
        "    # Iterate over each word and its corresponding POS tag\n",
        "    for i, (word, pos_tag) in enumerate(zip(vocabulary_words, pos_tags)):\n",
        "        # Extract POS tags of the previous 6 words (or less if near the beginning)\n",
        "        prev_pos_tags = pos_tags[max(0, i - 6):i]\n",
        "        # Pad with empty strings if less than 6 previous words\n",
        "        prev_pos_tags = [''] * (6 - len(prev_pos_tags)) + prev_pos_tags\n",
        "        # Add the feature for the current word\n",
        "        features.append((word, pos_tag, prev_pos_tags))\n",
        "\n",
        "    return features"
      ]
    },
    {
      "cell_type": "code",
      "execution_count": 17,
      "metadata": {
        "id": "EjpKk4WCVCQX"
      },
      "outputs": [],
      "source": [
        "def afterpos(pos_tags, vocabulary_words):\n",
        "    features = []\n",
        "    # Iterate over each word and its corresponding POS tag\n",
        "    for i, (word, pos_tag) in enumerate(zip(vocabulary_words, pos_tags)):\n",
        "        # If it's not the last word\n",
        "        if i < len(pos_tags) - 1:\n",
        "            # Extract POS tags of the following word\n",
        "            next_pos_tag = pos_tags[i + 1]\n",
        "            # Add the feature for the current word\n",
        "            features.append((vocabulary_words[i], next_pos_tag))\n",
        "        else:\n",
        "            # If it's the last word, add a placeholder feature\n",
        "            features.append((vocabulary_words[i], 'END'))  # Placeholder for end of text\n",
        "    return features\n"
      ]
    },
    {
      "cell_type": "code",
      "execution_count": 59,
      "metadata": {
        "id": "JWStJH8Sc8mG"
      },
      "outputs": [],
      "source": [
        "def beforegram (text):\n",
        "\n",
        "    gram = []\n",
        "\n",
        "    for i, word in enumerate(text):\n",
        "\n",
        "        prev_pos_tags = text[max(0, i - 7):i]\n",
        "\n",
        "        features = []\n",
        "\n",
        "        for j in range(len(prev_pos_tags) - 1):\n",
        "\n",
        "            features.append(prev_pos_tags[j:j+2])\n",
        "\n",
        "        gram.append((word, features))\n",
        "\n",
        "    return gram"
      ]
    },
    {
      "cell_type": "code",
      "execution_count": 18,
      "metadata": {
        "id": "6_Cg6RQ0q_4B"
      },
      "outputs": [],
      "source": [
        "def aftergram (text):\n",
        "\n",
        "    gram = []\n",
        "    for i, word in enumerate(text):\n",
        "        features = []\n",
        "        features.append(text[i:i+2])\n",
        "\n",
        "        gram.append((word, features))\n",
        "\n",
        "    return gram"
      ]
    },
    {
      "cell_type": "code",
      "execution_count": 20,
      "metadata": {},
      "outputs": [],
      "source": [
        "possible_suf = ['al', 'ar', 'ble', 'ción', 'dad', 'do', 'er', 'ez', 'ico', 'il', 'io', 'ir', 'ita', 'l', 'o', 'or', 'oso', 'oso', 're', 'to', 'za', 'able', 'ació', 'ada', 'al', 'ar', 'at', 'cia', 'dad', 'dor', 'eza', 'ico', 'idad', 'idad', 'iento', 'il', 'ismo', 'ista', 'izar', 'mento', 'or', 'oso', 'ote', 'ura', 'ació', 'ada', 'al', 'ar', 'at', 'ència', 'enca', 'er', 'eria', 'esc', 'i', 'isme', 'ista', 'ment', 'or', 'òria', 're', 'ssa', 'tat', 'uda', 'ura', 'ver', 'vi', 'xo']\n",
        "\n",
        "def SUFn(text, suffix_list):\n",
        "    found_suffixes = []\n",
        "    for word in text:\n",
        "        if any(word.endswith(s) for s in suffix_list):\n",
        "            found_suffixes.append(1) # Break to avoid appending the same word multiple times if it has multiple suffixes\n",
        "        else:\n",
        "            found_suffixes.append(0)\n",
        "\n",
        "    return found_suffixes"
      ]
    },
    {
      "cell_type": "code",
      "execution_count": 21,
      "metadata": {},
      "outputs": [],
      "source": [
        "possible_prefixes = ['an', 'bi', 'co', 'di', 'en', 'ex', 'in', 'ir', 'mal', 'no', 'ob', 're', 'un', 'a', 'bi', 'ex', 'im', 'in', 'no', 're', 'sobre', 'sub', 'super', 'tele', 'trans', 'ultra', 'un', 'an', 'bi', 'di', 'dis', 'en', 'ex', 'in', 'intra', 'ir', 'mal', 'mi', 'ne', 'no', 'ob', 'pa', 'pe', 're', 'su', 'ta', 'te', 'to', 'an', 'en', 'in', 'ir', 'se', 'ta', 'te', 'to']\n",
        "\n",
        "def PREFn(text, pref_list):\n",
        "    found_pref = []\n",
        "    for word in text:\n",
        "        if any(word.endswith(p) for p in pref_list):\n",
        "            found_pref.append(1) # Break to avoid appending the same word multiple times if it has multiple suffixes\n",
        "        else:\n",
        "            found_pref.append(0)\n",
        "\n",
        "    return found_pref"
      ]
    },
    {
      "cell_type": "code",
      "execution_count": 22,
      "metadata": {},
      "outputs": [],
      "source": [
        "special_words = [\"nada\", \"ni\", \"nunca\", \"ningun\", \"ninguno\", \"ninguna\", \"alguna\", \"apenas\",\"res\", \"mai\", \"cap\", \"ningu\", \"alguna\", \"només\", \"parece\",\"sembla\",\"veces\", \"vegades\"]\n",
        "def special(text, special_words):\n",
        "    def_special = []\n",
        "    for word in text:\n",
        "        if any(word == words for words in special_words):\n",
        "            def_special.append(1) # Break to avoid appending the same word multiple times if it has multiple suffixes\n",
        "        else:\n",
        "            def_special.append(0)\n",
        "\n",
        "    return def_special"
      ]
    },
    {
      "cell_type": "code",
      "execution_count": 23,
      "metadata": {
        "colab": {
          "base_uri": "https://localhost:8080/"
        },
        "id": "Vi4SIyYpv-FX",
        "outputId": "0934235e-2fcc-4113-f1d2-4c3e11827f5e"
      },
      "outputs": [],
      "source": [
        "vocabulary_words = []\n",
        "\n",
        "for entry in training_data:\n",
        "\n",
        "    text = entry[\"data\"][\"text\"]  # Extract the text from the JSON object\n",
        "\n",
        "    labels = annotate_text(text)\n",
        "\n",
        "\n",
        "    processed_text = pre_process_text(text, remove_punctuation_call=True, spell_check_call=False)\n",
        "\n",
        "    for token, start, end in processed_text:\n",
        "\n",
        "        vocabulary_words.append(token)"
      ]
    },
    {
      "cell_type": "code",
      "execution_count": 62,
      "metadata": {},
      "outputs": [],
      "source": [
        "def extract_features(entry):\n",
        "    if isinstance(entry, dict):\n",
        "        text = entry[\"data\"][\"text\"]  # Extract the text from the JSON object\n",
        "    else:\n",
        "        text = entry  # If entry is already the text string\n",
        "    \n",
        "    # Obtain labels using the annotate_text function\n",
        "    labels = annotate_text(text)\n",
        "\n",
        "    processed_text = pre_process_text(text, remove_punctuation_call=True, spell_check_call=False)\n",
        "\n",
        "    vocabulary_words = []\n",
        "    feature1_raw = []\n",
        "    feature2 = []\n",
        "    feature3 = []\n",
        "    feature4 = []\n",
        "    feature5 = []\n",
        "    feature6 = []\n",
        "    feature7 = []\n",
        "    feature8 = []\n",
        "    before_pos = []\n",
        "    after_pos = []\n",
        "    before_gram = []\n",
        "    after_gram = []\n",
        "\n",
        "    for token, start, end in processed_text:\n",
        "        vocabulary_words.append(token)\n",
        "\n",
        "        # Extract features\n",
        "        feature1_raw.append(token)\n",
        "        feature2.append(int(token.istitle()))\n",
        "        feature3.append(int(any(char.isupper() for char in token)))\n",
        "        try:\n",
        "            float(token)\n",
        "            feature4.append(1)\n",
        "        except ValueError:\n",
        "            feature4.append(0)\n",
        "        feature5.append(int(any(char.isdigit() for char in token)))\n",
        "        feature6.append(int('-' in token))\n",
        "        feature7.append(int('_' in token))\n",
        "\n",
        "    # POS tagging\n",
        "    tagged_words = pos_tag_words(vocabulary_words)\n",
        "    pos_tags = [tag for word, tag in tagged_words]\n",
        "    feature8,_ = text_to_numbers(pos_tags)\n",
        "\n",
        "    # Features related to POS tagging\n",
        "    before_pos = beforepos(pos_tags, vocabulary_words)\n",
        "    after_pos = afterpos(pos_tags, vocabulary_words)\n",
        "\n",
        "    # Features related to n-gram contexts\n",
        "    before_gram = beforegram(vocabulary_words)\n",
        "    after_gram = aftergram(vocabulary_words)\n",
        "\n",
        "    #Related to sufixes and prefixes.\n",
        "    pref = PREFn(vocabulary_words, possible_prefixes)\n",
        "    suf = SUFn(vocabulary_words, possible_suf)\n",
        "    \n",
        "    #Relevant words for what we need to find.\n",
        "    spec = special(vocabulary_words,special_words)\n",
        "\n",
        "    # Combine all features into one list\n",
        "    all_features = [feature1_raw, feature2, feature3, feature4, feature5, feature6, feature7, feature8,\n",
        "                    before_pos, after_pos, before_gram, after_gram, suf, pref, spec]\n",
        "    \n",
        "\n",
        "    # Transpose the feature matrix so each sublist corresponds to features for one token\n",
        "    features = list(map(list, zip(*all_features)))\n",
        "    \n",
        "    if labels is not None:\n",
        "        return features, labels\n",
        "    else:\n",
        "        return features, None\n",
        "\n",
        "# Example usage:\n",
        "X_train = []\n",
        "y_train = []\n",
        "\n",
        "for entry in training_data:\n",
        "    features, labels = extract_features(entry)\n",
        "    if features is not None:\n",
        "        X_train.append(features)\n",
        "        y_train.append(labels)"
      ]
    },
    {
      "cell_type": "code",
      "execution_count": 63,
      "metadata": {},
      "outputs": [
        {
          "name": "stdout",
          "output_type": "stream",
          "text": [
            "[['paciente', 0, 0, 0, 0, 0, 0, 1, ('paciente', 'NOUN', ['', '', '', '', '', '']), ('paciente', 'PRON'), ('paciente', []), ('paciente', [['paciente', 'que']])], ['que', 0, 0, 0, 0, 0, 0, 2, ('que', 'PRON', ['', '', '', '', '', 'NOUN']), ('que', 'VERB'), ('que', []), ('que', [['que', 'ingresa']])], ['ingresa', 0, 0, 0, 0, 0, 0, 3, ('ingresa', 'VERB', ['', '', '', '', 'NOUN', 'PRON']), ('ingresa', 'ADP'), ('ingresa', [['paciente', 'que']]), ('ingresa', [['ingresa', 'de']])], ['de', 0, 0, 0, 0, 0, 0, 4, ('de', 'ADP', ['', '', '', 'NOUN', 'PRON', 'VERB']), ('de', 'NOUN'), ('de', [['paciente', 'que'], ['que', 'ingresa']]), ('de', [['de', 'forma']])], ['forma', 0, 0, 0, 0, 0, 0, 1, ('forma', 'NOUN', ['', '', 'NOUN', 'PRON', 'VERB', 'ADP']), ('forma', 'ADJ'), ('forma', [['paciente', 'que'], ['que', 'ingresa'], ['ingresa', 'de']]), ('forma', [['forma', 'programada']])], ['programada', 0, 0, 0, 0, 0, 0, 5, ('programada', 'ADJ', ['', 'NOUN', 'PRON', 'VERB', 'ADP', 'NOUN']), ('programada', 'ADP'), ('programada', [['paciente', 'que'], ['que', 'ingresa'], ['ingresa', 'de'], ['de', 'forma']]), ('programada', [['programada', 'para']])], ['para', 0, 0, 0, 0, 0, 0, 4, ('para', 'ADP', ['NOUN', 'PRON', 'VERB', 'ADP', 'NOUN', 'ADJ']), ('para', 'PROPN'), ('para', [['paciente', 'que'], ['que', 'ingresa'], ['ingresa', 'de'], ['de', 'forma'], ['forma', 'programada']]), ('para', [['para', 'realizacion']])], ['realizacion', 0, 0, 0, 0, 0, 0, 6, ('realizacion', 'PROPN', ['PRON', 'VERB', 'ADP', 'NOUN', 'ADJ', 'ADP']), ('realizacion', 'ADP'), ('realizacion', [['paciente', 'que'], ['que', 'ingresa'], ['ingresa', 'de'], ['de', 'forma'], ['forma', 'programada'], ['programada', 'para']]), ('realizacion', [['realizacion', 'de']])], ['de', 0, 0, 0, 0, 0, 0, 4, ('de', 'ADP', ['VERB', 'ADP', 'NOUN', 'ADJ', 'ADP', 'PROPN']), ('de', 'NOUN'), ('de', [['que', 'ingresa'], ['ingresa', 'de'], ['de', 'forma'], ['forma', 'programada'], ['programada', 'para'], ['para', 'realizacion']]), ('de', [['de', 'uretrotomia']])], ['uretrotomia', 0, 0, 0, 0, 0, 0, 1, ('uretrotomia', 'NOUN', ['ADP', 'NOUN', 'ADJ', 'ADP', 'PROPN', 'ADP']), ('uretrotomia', 'ADJ'), ('uretrotomia', [['ingresa', 'de'], ['de', 'forma'], ['forma', 'programada'], ['programada', 'para'], ['para', 'realizacion'], ['realizacion', 'de']]), ('uretrotomia', [['uretrotomia', 'interna']])], ['interna', 0, 0, 0, 0, 0, 0, 5, ('interna', 'ADJ', ['NOUN', 'ADJ', 'ADP', 'PROPN', 'ADP', 'NOUN']), ('interna', 'NOUN'), ('interna', [['de', 'forma'], ['forma', 'programada'], ['programada', 'para'], ['para', 'realizacion'], ['realizacion', 'de'], ['de', 'uretrotomia']]), ('interna', [['interna', 'antecedents']])], ['antecedents', 0, 0, 0, 0, 0, 0, 1, ('antecedents', 'NOUN', ['ADJ', 'ADP', 'PROPN', 'ADP', 'NOUN', 'ADJ']), ('antecedents', 'VERB'), ('antecedents', [['forma', 'programada'], ['programada', 'para'], ['para', 'realizacion'], ['realizacion', 'de'], ['de', 'uretrotomia'], ['uretrotomia', 'interna']]), ('antecedents', [['antecedents', 'alergia']])], ['alergia', 0, 0, 0, 0, 0, 0, 3, ('alergia', 'VERB', ['ADP', 'PROPN', 'ADP', 'NOUN', 'ADJ', 'NOUN']), ('alergia', 'ADP'), ('alergia', [['programada', 'para'], ['para', 'realizacion'], ['realizacion', 'de'], ['de', 'uretrotomia'], ['uretrotomia', 'interna'], ['interna', 'antecedents']]), ('alergia', [['alergia', 'a']])], ['a', 0, 0, 0, 0, 0, 0, 4, ('a', 'ADP', ['PROPN', 'ADP', 'NOUN', 'ADJ', 'NOUN', 'VERB']), ('a', 'NOUN'), ('a', [['para', 'realizacion'], ['realizacion', 'de'], ['de', 'uretrotomia'], ['uretrotomia', 'interna'], ['interna', 'antecedents'], ['antecedents', 'alergia']]), ('a', [['a', 'penicilina']])], ['penicilina', 0, 0, 0, 0, 0, 0, 1, ('penicilina', 'NOUN', ['ADP', 'NOUN', 'ADJ', 'NOUN', 'VERB', 'ADP']), ('penicilina', 'CCONJ'), ('penicilina', [['realizacion', 'de'], ['de', 'uretrotomia'], ['uretrotomia', 'interna'], ['interna', 'antecedents'], ['antecedents', 'alergia'], ['alergia', 'a']]), ('penicilina', [['penicilina', 'y']])], ['y', 0, 0, 0, 0, 0, 0, 7, ('y', 'CCONJ', ['NOUN', 'ADJ', 'NOUN', 'VERB', 'ADP', 'NOUN']), ('y', 'VERB'), ('y', [['de', 'uretrotomia'], ['uretrotomia', 'interna'], ['interna', 'antecedents'], ['antecedents', 'alergia'], ['alergia', 'a'], ['a', 'penicilina']]), ('y', [['y', 'cloramfenicol']])], ['cloramfenicol', 0, 0, 0, 0, 0, 0, 3, ('cloramfenicol', 'VERB', ['ADJ', 'NOUN', 'VERB', 'ADP', 'NOUN', 'CCONJ']), ('cloramfenicol', 'ADV'), ('cloramfenicol', [['uretrotomia', 'interna'], ['interna', 'antecedents'], ['antecedents', 'alergia'], ['alergia', 'a'], ['a', 'penicilina'], ['penicilina', 'y']]), ('cloramfenicol', [['cloramfenicol', 'no']])], ['no', 0, 0, 0, 0, 0, 0, 8, ('no', 'ADV', ['NOUN', 'VERB', 'ADP', 'NOUN', 'CCONJ', 'VERB']), ('no', 'NOUN'), ('no', [['interna', 'antecedents'], ['antecedents', 'alergia'], ['alergia', 'a'], ['a', 'penicilina'], ['penicilina', 'y'], ['y', 'cloramfenicol']]), ('no', [['no', 'habitos']])], ['habitos', 0, 0, 0, 0, 0, 0, 1, ('habitos', 'NOUN', ['VERB', 'ADP', 'NOUN', 'CCONJ', 'VERB', 'ADV']), ('habitos', 'ADJ'), ('habitos', [['antecedents', 'alergia'], ['alergia', 'a'], ['a', 'penicilina'], ['penicilina', 'y'], ['y', 'cloramfenicol'], ['cloramfenicol', 'no']]), ('habitos', [['habitos', 'toxicos']])], ['toxicos', 0, 0, 0, 0, 0, 0, 5, ('toxicos', 'ADJ', ['ADP', 'NOUN', 'CCONJ', 'VERB', 'ADV', 'NOUN']), ('toxicos', 'NOUN'), ('toxicos', [['alergia', 'a'], ['a', 'penicilina'], ['penicilina', 'y'], ['y', 'cloramfenicol'], ['cloramfenicol', 'no'], ['no', 'habitos']]), ('toxicos', [['toxicos', 'antecedentes']])], ['antecedentes', 0, 0, 0, 0, 0, 0, 1, ('antecedentes', 'NOUN', ['NOUN', 'CCONJ', 'VERB', 'ADV', 'NOUN', 'ADJ']), ('antecedentes', 'ADJ'), ('antecedentes', [['a', 'penicilina'], ['penicilina', 'y'], ['y', 'cloramfenicol'], ['cloramfenicol', 'no'], ['no', 'habitos'], ['habitos', 'toxicos']]), ('antecedentes', [['antecedentes', 'medicos']])], ['medicos', 0, 0, 0, 0, 0, 0, 5, ('medicos', 'ADJ', ['CCONJ', 'VERB', 'ADV', 'NOUN', 'ADJ', 'NOUN']), ('medicos', 'NOUN'), ('medicos', [['penicilina', 'y'], ['y', 'cloramfenicol'], ['cloramfenicol', 'no'], ['no', 'habitos'], ['habitos', 'toxicos'], ['toxicos', 'antecedentes']]), ('medicos', [['medicos', 'bloqueo']])], ['bloqueo', 0, 0, 0, 0, 0, 0, 1, ('bloqueo', 'NOUN', ['VERB', 'ADV', 'NOUN', 'ADJ', 'NOUN', 'ADJ']), ('bloqueo', 'ADJ'), ('bloqueo', [['y', 'cloramfenicol'], ['cloramfenicol', 'no'], ['no', 'habitos'], ['habitos', 'toxicos'], ['toxicos', 'antecedentes'], ['antecedentes', 'medicos']]), ('bloqueo', [['bloqueo', 'auriculoventricular']])], ['auriculoventricular', 0, 0, 0, 0, 0, 0, 5, ('auriculoventricular', 'ADJ', ['ADV', 'NOUN', 'ADJ', 'NOUN', 'ADJ', 'NOUN']), ('auriculoventricular', 'ADP'), ('auriculoventricular', [['cloramfenicol', 'no'], ['no', 'habitos'], ['habitos', 'toxicos'], ['toxicos', 'antecedentes'], ['antecedentes', 'medicos'], ['medicos', 'bloqueo']]), ('auriculoventricular', [['auriculoventricular', 'de']])], ['de', 0, 0, 0, 0, 0, 0, 4, ('de', 'ADP', ['NOUN', 'ADJ', 'NOUN', 'ADJ', 'NOUN', 'ADJ']), ('de', 'ADJ'), ('de', [['no', 'habitos'], ['habitos', 'toxicos'], ['toxicos', 'antecedentes'], ['antecedentes', 'medicos'], ['medicos', 'bloqueo'], ['bloqueo', 'auriculoventricular']]), ('de', [['de', 'primer']])], ['primer', 0, 0, 0, 0, 0, 0, 5, ('primer', 'ADJ', ['ADJ', 'NOUN', 'ADJ', 'NOUN', 'ADJ', 'ADP']), ('primer', 'NOUN'), ('primer', [['habitos', 'toxicos'], ['toxicos', 'antecedentes'], ['antecedentes', 'medicos'], ['medicos', 'bloqueo'], ['bloqueo', 'auriculoventricular'], ['auriculoventricular', 'de']]), ('primer', [['primer', 'grado']])], ['grado', 0, 0, 0, 0, 0, 0, 1, ('grado', 'NOUN', ['NOUN', 'ADJ', 'NOUN', 'ADJ', 'ADP', 'ADJ']), ('grado', 'NOUN'), ('grado', [['toxicos', 'antecedentes'], ['antecedentes', 'medicos'], ['medicos', 'bloqueo'], ['bloqueo', 'auriculoventricular'], ['auriculoventricular', 'de'], ['de', 'primer']]), ('grado', [['grado', 'hipertension']])], ['hipertension', 0, 0, 0, 0, 0, 0, 1, ('hipertension', 'NOUN', ['ADJ', 'NOUN', 'ADJ', 'ADP', 'ADJ', 'NOUN']), ('hipertension', 'ADJ'), ('hipertension', [['antecedentes', 'medicos'], ['medicos', 'bloqueo'], ['bloqueo', 'auriculoventricular'], ['auriculoventricular', 'de'], ['de', 'primer'], ['primer', 'grado']]), ('hipertension', [['hipertension', 'arterial']])], ['arterial', 0, 0, 0, 0, 0, 0, 5, ('arterial', 'ADJ', ['NOUN', 'ADJ', 'ADP', 'ADJ', 'NOUN', 'NOUN']), ('arterial', 'NOUN'), ('arterial', [['medicos', 'bloqueo'], ['bloqueo', 'auriculoventricular'], ['auriculoventricular', 'de'], ['de', 'primer'], ['primer', 'grado'], ['grado', 'hipertension']]), ('arterial', [['arterial', 'diverticulosis']])], ['diverticulosis', 0, 0, 0, 0, 0, 0, 1, ('diverticulosis', 'NOUN', ['ADJ', 'ADP', 'ADJ', 'NOUN', 'NOUN', 'ADJ']), ('diverticulosis', 'ADJ'), ('diverticulosis', [['bloqueo', 'auriculoventricular'], ['auriculoventricular', 'de'], ['de', 'primer'], ['primer', 'grado'], ['grado', 'hipertension'], ['hipertension', 'arterial']]), ('diverticulosis', [['diverticulosis', 'extensa']])], ['extensa', 0, 0, 0, 0, 0, 0, 5, ('extensa', 'ADJ', ['ADP', 'ADJ', 'NOUN', 'NOUN', 'ADJ', 'NOUN']), ('extensa', 'NOUN'), ('extensa', [['auriculoventricular', 'de'], ['de', 'primer'], ['primer', 'grado'], ['grado', 'hipertension'], ['hipertension', 'arterial'], ['arterial', 'diverticulosis']]), ('extensa', [['extensa', 'insuficiencia']])], ['insuficiencia', 0, 0, 0, 0, 0, 0, 1, ('insuficiencia', 'NOUN', ['ADJ', 'NOUN', 'NOUN', 'ADJ', 'NOUN', 'ADJ']), ('insuficiencia', 'ADJ'), ('insuficiencia', [['de', 'primer'], ['primer', 'grado'], ['grado', 'hipertension'], ['hipertension', 'arterial'], ['arterial', 'diverticulosis'], ['diverticulosis', 'extensa']]), ('insuficiencia', [['insuficiencia', 'renal']])], ['renal', 0, 0, 0, 0, 0, 0, 5, ('renal', 'ADJ', ['NOUN', 'NOUN', 'ADJ', 'NOUN', 'ADJ', 'NOUN']), ('renal', 'ADJ'), ('renal', [['primer', 'grado'], ['grado', 'hipertension'], ['hipertension', 'arterial'], ['arterial', 'diverticulosis'], ['diverticulosis', 'extensa'], ['extensa', 'insuficiencia']]), ('renal', [['renal', 'cronica']])], ['cronica', 0, 0, 0, 0, 0, 0, 5, ('cronica', 'ADJ', ['NOUN', 'ADJ', 'NOUN', 'ADJ', 'NOUN', 'ADJ']), ('cronica', 'VERB'), ('cronica', [['grado', 'hipertension'], ['hipertension', 'arterial'], ['arterial', 'diverticulosis'], ['diverticulosis', 'extensa'], ['extensa', 'insuficiencia'], ['insuficiencia', 'renal']]), ('cronica', [['cronica', 'colelitiasis']])], ['colelitiasis', 0, 0, 0, 0, 0, 0, 3, ('colelitiasis', 'VERB', ['ADJ', 'NOUN', 'ADJ', 'NOUN', 'ADJ', 'ADJ']), ('colelitiasis', 'NOUN'), ('colelitiasis', [['hipertension', 'arterial'], ['arterial', 'diverticulosis'], ['diverticulosis', 'extensa'], ['extensa', 'insuficiencia'], ['insuficiencia', 'renal'], ['renal', 'cronica']]), ('colelitiasis', [['colelitiasis', 'antecedentes']])], ['antecedentes', 0, 0, 0, 0, 0, 0, 1, ('antecedentes', 'NOUN', ['NOUN', 'ADJ', 'NOUN', 'ADJ', 'ADJ', 'VERB']), ('antecedentes', 'ADJ'), ('antecedentes', [['arterial', 'diverticulosis'], ['diverticulosis', 'extensa'], ['extensa', 'insuficiencia'], ['insuficiencia', 'renal'], ['renal', 'cronica'], ['cronica', 'colelitiasis']]), ('antecedentes', [['antecedentes', 'quirurgicos']])], ['quirurgicos', 0, 0, 0, 0, 0, 0, 5, ('quirurgicos', 'ADJ', ['ADJ', 'NOUN', 'ADJ', 'ADJ', 'VERB', 'NOUN']), ('quirurgicos', 'NOUN'), ('quirurgicos', [['diverticulosis', 'extensa'], ['extensa', 'insuficiencia'], ['insuficiencia', 'renal'], ['renal', 'cronica'], ['cronica', 'colelitiasis'], ['colelitiasis', 'antecedentes']]), ('quirurgicos', [['quirurgicos', 'exeresis']])], ['exeresis', 0, 0, 0, 0, 0, 0, 1, ('exeresis', 'NOUN', ['NOUN', 'ADJ', 'ADJ', 'VERB', 'NOUN', 'ADJ']), ('exeresis', 'ADP'), ('exeresis', [['extensa', 'insuficiencia'], ['insuficiencia', 'renal'], ['renal', 'cronica'], ['cronica', 'colelitiasis'], ['colelitiasis', 'antecedentes'], ['antecedentes', 'quirurgicos']]), ('exeresis', [['exeresis', 'de']])], ['de', 0, 0, 0, 0, 0, 0, 4, ('de', 'ADP', ['ADJ', 'ADJ', 'VERB', 'NOUN', 'ADJ', 'NOUN']), ('de', 'NOUN'), ('de', [['insuficiencia', 'renal'], ['renal', 'cronica'], ['cronica', 'colelitiasis'], ['colelitiasis', 'antecedentes'], ['antecedentes', 'quirurgicos'], ['quirurgicos', 'exeresis']]), ('de', [['de', 'lesiones']])], ['lesiones', 0, 0, 0, 0, 0, 0, 1, ('lesiones', 'NOUN', ['ADJ', 'VERB', 'NOUN', 'ADJ', 'NOUN', 'ADP']), ('lesiones', 'ADJ'), ('lesiones', [['renal', 'cronica'], ['cronica', 'colelitiasis'], ['colelitiasis', 'antecedentes'], ['antecedentes', 'quirurgicos'], ['quirurgicos', 'exeresis'], ['exeresis', 'de']]), ('lesiones', [['lesiones', 'cutaneas']])], ['cutaneas', 0, 0, 0, 0, 0, 0, 5, ('cutaneas', 'ADJ', ['VERB', 'NOUN', 'ADJ', 'NOUN', 'ADP', 'NOUN']), ('cutaneas', 'ADP'), ('cutaneas', [['cronica', 'colelitiasis'], ['colelitiasis', 'antecedentes'], ['antecedentes', 'quirurgicos'], ['quirurgicos', 'exeresis'], ['exeresis', 'de'], ['de', 'lesiones']]), ('cutaneas', [['cutaneas', 'con']])], ['con', 0, 0, 0, 0, 0, 0, 4, ('con', 'ADP', ['NOUN', 'ADJ', 'NOUN', 'ADP', 'NOUN', 'ADJ']), ('con', 'NOUN'), ('con', [['colelitiasis', 'antecedentes'], ['antecedentes', 'quirurgicos'], ['quirurgicos', 'exeresis'], ['exeresis', 'de'], ['de', 'lesiones'], ['lesiones', 'cutaneas']]), ('con', [['con', 'anestesia']])], ['anestesia', 0, 0, 0, 0, 0, 0, 1, ('anestesia', 'NOUN', ['ADJ', 'NOUN', 'ADP', 'NOUN', 'ADJ', 'ADP']), ('anestesia', 'ADJ'), ('anestesia', [['antecedentes', 'quirurgicos'], ['quirurgicos', 'exeresis'], ['exeresis', 'de'], ['de', 'lesiones'], ['lesiones', 'cutaneas'], ['cutaneas', 'con']]), ('anestesia', [['anestesia', 'local']])], ['local', 0, 0, 0, 0, 0, 0, 5, ('local', 'ADJ', ['NOUN', 'ADP', 'NOUN', 'ADJ', 'ADP', 'NOUN']), ('local', 'NOUN'), ('local', [['quirurgicos', 'exeresis'], ['exeresis', 'de'], ['de', 'lesiones'], ['lesiones', 'cutaneas'], ['cutaneas', 'con'], ['con', 'anestesia']]), ('local', [['local', 'protesis']])], ['protesis', 0, 0, 0, 0, 0, 0, 1, ('protesis', 'NOUN', ['ADP', 'NOUN', 'ADJ', 'ADP', 'NOUN', 'ADJ']), ('protesis', 'ADJ'), ('protesis', [['exeresis', 'de'], ['de', 'lesiones'], ['lesiones', 'cutaneas'], ['cutaneas', 'con'], ['con', 'anestesia'], ['anestesia', 'local']]), ('protesis', [['protesis', 'total']])], ['total', 0, 0, 0, 0, 0, 0, 5, ('total', 'ADJ', ['NOUN', 'ADJ', 'ADP', 'NOUN', 'ADJ', 'NOUN']), ('total', 'ADP'), ('total', [['de', 'lesiones'], ['lesiones', 'cutaneas'], ['cutaneas', 'con'], ['con', 'anestesia'], ['anestesia', 'local'], ['local', 'protesis']]), ('total', [['total', 'de']])], ['de', 0, 0, 0, 0, 0, 0, 4, ('de', 'ADP', ['ADJ', 'ADP', 'NOUN', 'ADJ', 'NOUN', 'ADJ']), ('de', 'NOUN'), ('de', [['lesiones', 'cutaneas'], ['cutaneas', 'con'], ['con', 'anestesia'], ['anestesia', 'local'], ['local', 'protesis'], ['protesis', 'total']]), ('de', [['de', 'cadera']])], ['cadera', 0, 0, 0, 0, 0, 0, 1, ('cadera', 'NOUN', ['ADP', 'NOUN', 'ADJ', 'NOUN', 'ADJ', 'ADP']), ('cadera', 'PROPN'), ('cadera', [['cutaneas', 'con'], ['con', 'anestesia'], ['anestesia', 'local'], ['local', 'protesis'], ['protesis', 'total'], ['total', 'de']]), ('cadera', [['cadera', 'cordectomia']])], ['cordectomia', 0, 0, 0, 0, 0, 0, 6, ('cordectomia', 'PROPN', ['NOUN', 'ADJ', 'NOUN', 'ADJ', 'ADP', 'NOUN']), ('cordectomia', 'PROPN'), ('cordectomia', [['con', 'anestesia'], ['anestesia', 'local'], ['local', 'protesis'], ['protesis', 'total'], ['total', 'de'], ['de', 'cadera']]), ('cordectomia', [['cordectomia', 'herniorrafia']])], ['herniorrafia', 0, 0, 0, 0, 0, 0, 6, ('herniorrafia', 'PROPN', ['ADJ', 'NOUN', 'ADJ', 'ADP', 'NOUN', 'PROPN']), ('herniorrafia', 'ADJ'), ('herniorrafia', [['anestesia', 'local'], ['local', 'protesis'], ['protesis', 'total'], ['total', 'de'], ['de', 'cadera'], ['cadera', 'cordectomia']]), ('herniorrafia', [['herniorrafia', 'inguinal']])], ['inguinal', 0, 0, 0, 0, 0, 0, 5, ('inguinal', 'ADJ', ['NOUN', 'ADJ', 'ADP', 'NOUN', 'PROPN', 'PROPN']), ('inguinal', 'NOUN'), ('inguinal', [['local', 'protesis'], ['protesis', 'total'], ['total', 'de'], ['de', 'cadera'], ['cadera', 'cordectomia'], ['cordectomia', 'herniorrafia']]), ('inguinal', [['inguinal', 'proces']])], ['proces', 0, 0, 0, 0, 0, 0, 1, ('proces', 'NOUN', ['ADJ', 'ADP', 'NOUN', 'PROPN', 'PROPN', 'ADJ']), ('proces', 'ADJ'), ('proces', [['protesis', 'total'], ['total', 'de'], ['de', 'cadera'], ['cadera', 'cordectomia'], ['cordectomia', 'herniorrafia'], ['herniorrafia', 'inguinal']]), ('proces', [['proces', 'actual']])], ['actual', 0, 0, 0, 0, 0, 0, 5, ('actual', 'ADJ', ['ADP', 'NOUN', 'PROPN', 'PROPN', 'ADJ', 'NOUN']), ('actual', 'VERB'), ('actual', [['total', 'de'], ['de', 'cadera'], ['cadera', 'cordectomia'], ['cordectomia', 'herniorrafia'], ['herniorrafia', 'inguinal'], ['inguinal', 'proces']]), ('actual', [['actual', 'varon']])], ['varon', 0, 0, 0, 0, 0, 0, 3, ('varon', 'VERB', ['NOUN', 'PROPN', 'PROPN', 'ADJ', 'NOUN', 'ADJ']), ('varon', 'ADP'), ('varon', [['de', 'cadera'], ['cadera', 'cordectomia'], ['cordectomia', 'herniorrafia'], ['herniorrafia', 'inguinal'], ['inguinal', 'proces'], ['proces', 'actual']]), ('varon', [['varon', 'de']])], ['de', 0, 0, 0, 0, 0, 0, 4, ('de', 'ADP', ['PROPN', 'PROPN', 'ADJ', 'NOUN', 'ADJ', 'VERB']), ('de', 'NUM'), ('de', [['cadera', 'cordectomia'], ['cordectomia', 'herniorrafia'], ['herniorrafia', 'inguinal'], ['inguinal', 'proces'], ['proces', 'actual'], ['actual', 'varon']]), ('de', [['de', '81a']])], ['81a', 0, 0, 0, 1, 0, 0, 9, ('81a', 'NUM', ['PROPN', 'ADJ', 'NOUN', 'ADJ', 'VERB', 'ADP']), ('81a', 'SCONJ'), ('81a', [['cordectomia', 'herniorrafia'], ['herniorrafia', 'inguinal'], ['inguinal', 'proces'], ['proces', 'actual'], ['actual', 'varon'], ['varon', 'de']]), ('81a', [['81a', 'que']])], ['que', 0, 0, 0, 0, 0, 0, 10, ('que', 'SCONJ', ['ADJ', 'NOUN', 'ADJ', 'VERB', 'ADP', 'NUM']), ('que', 'ADP'), ('que', [['herniorrafia', 'inguinal'], ['inguinal', 'proces'], ['proces', 'actual'], ['actual', 'varon'], ['varon', 'de'], ['de', '81a']]), ('que', [['que', 'a']])], ['a', 0, 0, 0, 0, 0, 0, 4, ('a', 'ADP', ['NOUN', 'ADJ', 'VERB', 'ADP', 'NUM', 'SCONJ']), ('a', 'PROPN'), ('a', [['inguinal', 'proces'], ['proces', 'actual'], ['actual', 'varon'], ['varon', 'de'], ['de', '81a'], ['81a', 'que']]), ('a', [['a', 'raiz']])], ['raiz', 0, 0, 0, 0, 0, 0, 6, ('raiz', 'PROPN', ['ADJ', 'VERB', 'ADP', 'NUM', 'SCONJ', 'ADP']), ('raiz', 'ADP'), ('raiz', [['proces', 'actual'], ['actual', 'varon'], ['varon', 'de'], ['de', '81a'], ['81a', 'que'], ['que', 'a']]), ('raiz', [['raiz', 'de']])], ['de', 0, 0, 0, 0, 0, 0, 4, ('de', 'ADP', ['VERB', 'ADP', 'NUM', 'SCONJ', 'ADP', 'PROPN']), ('de', 'NOUN'), ('de', [['actual', 'varon'], ['varon', 'de'], ['de', '81a'], ['81a', 'que'], ['que', 'a'], ['a', 'raiz']]), ('de', [['de', 'episodio']])], ['episodio', 0, 0, 0, 0, 0, 0, 1, ('episodio', 'NOUN', ['ADP', 'NUM', 'SCONJ', 'ADP', 'PROPN', 'ADP']), ('episodio', 'ADP'), ('episodio', [['varon', 'de'], ['de', '81a'], ['81a', 'que'], ['que', 'a'], ['a', 'raiz'], ['raiz', 'de']]), ('episodio', [['episodio', 'de']])], ['de', 0, 0, 0, 0, 0, 0, 4, ('de', 'ADP', ['NUM', 'SCONJ', 'ADP', 'PROPN', 'ADP', 'NOUN']), ('de', 'NOUN'), ('de', [['de', '81a'], ['81a', 'que'], ['que', 'a'], ['a', 'raiz'], ['raiz', 'de'], ['de', 'episodio']]), ('de', [['de', 'hematuria']])], ['hematuria', 0, 0, 0, 0, 0, 0, 1, ('hematuria', 'NOUN', ['SCONJ', 'ADP', 'PROPN', 'ADP', 'NOUN', 'ADP']), ('hematuria', 'ADJ'), ('hematuria', [['81a', 'que'], ['que', 'a'], ['a', 'raiz'], ['raiz', 'de'], ['de', 'episodio'], ['episodio', 'de']]), ('hematuria', [['hematuria', 'macroscopica']])], ['macroscopica', 0, 0, 0, 0, 0, 0, 5, ('macroscopica', 'ADJ', ['ADP', 'PROPN', 'ADP', 'NOUN', 'ADP', 'NOUN']), ('macroscopica', 'PRON'), ('macroscopica', [['que', 'a'], ['a', 'raiz'], ['raiz', 'de'], ['de', 'episodio'], ['episodio', 'de'], ['de', 'hematuria']]), ('macroscopica', [['macroscopica', 'se']])], ['se', 0, 0, 0, 0, 0, 0, 2, ('se', 'PRON', ['PROPN', 'ADP', 'NOUN', 'ADP', 'NOUN', 'ADJ']), ('se', 'VERB'), ('se', [['a', 'raiz'], ['raiz', 'de'], ['de', 'episodio'], ['episodio', 'de'], ['de', 'hematuria'], ['hematuria', 'macroscopica']]), ('se', [['se', 'realiza']])], ['realiza', 0, 0, 0, 0, 0, 0, 3, ('realiza', 'VERB', ['ADP', 'NOUN', 'ADP', 'NOUN', 'ADJ', 'PRON']), ('realiza', 'NOUN'), ('realiza', [['raiz', 'de'], ['de', 'episodio'], ['episodio', 'de'], ['de', 'hematuria'], ['hematuria', 'macroscopica'], ['macroscopica', 'se']]), ('realiza', [['realiza', 'cistoscopia']])], ['cistoscopia', 0, 0, 0, 0, 0, 0, 1, ('cistoscopia', 'NOUN', ['NOUN', 'ADP', 'NOUN', 'ADJ', 'PRON', 'VERB']), ('cistoscopia', 'PRON'), ('cistoscopia', [['de', 'episodio'], ['episodio', 'de'], ['de', 'hematuria'], ['hematuria', 'macroscopica'], ['macroscopica', 'se'], ['se', 'realiza']]), ('cistoscopia', [['cistoscopia', 'que']])], ['que', 0, 0, 0, 0, 0, 0, 2, ('que', 'PRON', ['ADP', 'NOUN', 'ADJ', 'PRON', 'VERB', 'NOUN']), ('que', 'AUX'), ('que', [['episodio', 'de'], ['de', 'hematuria'], ['hematuria', 'macroscopica'], ['macroscopica', 'se'], ['se', 'realiza'], ['realiza', 'cistoscopia']]), ('que', [['que', 'es']])], ['es', 0, 0, 0, 0, 0, 0, 11, ('es', 'AUX', ['NOUN', 'ADJ', 'PRON', 'VERB', 'NOUN', 'PRON']), ('es', 'ADJ'), ('es', [['de', 'hematuria'], ['hematuria', 'macroscopica'], ['macroscopica', 'se'], ['se', 'realiza'], ['realiza', 'cistoscopia'], ['cistoscopia', 'que']]), ('es', [['es', 'negativa']])], ['negativa', 0, 0, 0, 0, 0, 0, 5, ('negativa', 'ADJ', ['ADJ', 'PRON', 'VERB', 'NOUN', 'PRON', 'AUX']), ('negativa', 'ADP'), ('negativa', [['hematuria', 'macroscopica'], ['macroscopica', 'se'], ['se', 'realiza'], ['realiza', 'cistoscopia'], ['cistoscopia', 'que'], ['que', 'es']]), ('negativa', [['negativa', 'para']])], ['para', 0, 0, 0, 0, 0, 0, 4, ('para', 'ADP', ['PRON', 'VERB', 'NOUN', 'PRON', 'AUX', 'ADJ']), ('para', 'NOUN'), ('para', [['macroscopica', 'se'], ['se', 'realiza'], ['realiza', 'cistoscopia'], ['cistoscopia', 'que'], ['que', 'es'], ['es', 'negativa']]), ('para', [['para', 'lesiones']])], ['lesiones', 0, 0, 0, 0, 0, 0, 1, ('lesiones', 'NOUN', ['VERB', 'NOUN', 'PRON', 'AUX', 'ADJ', 'ADP']), ('lesiones', 'ADJ'), ('lesiones', [['se', 'realiza'], ['realiza', 'cistoscopia'], ['cistoscopia', 'que'], ['que', 'es'], ['es', 'negativa'], ['negativa', 'para']]), ('lesiones', [['lesiones', 'malignas']])], ['malignas', 0, 0, 0, 0, 0, 0, 5, ('malignas', 'ADJ', ['NOUN', 'PRON', 'AUX', 'ADJ', 'ADP', 'NOUN']), ('malignas', 'CCONJ'), ('malignas', [['realiza', 'cistoscopia'], ['cistoscopia', 'que'], ['que', 'es'], ['es', 'negativa'], ['negativa', 'para'], ['para', 'lesiones']]), ('malignas', [['malignas', 'pero']])], ['pero', 0, 0, 0, 0, 0, 0, 7, ('pero', 'CCONJ', ['PRON', 'AUX', 'ADJ', 'ADP', 'NOUN', 'ADJ']), ('pero', 'PRON'), ('pero', [['cistoscopia', 'que'], ['que', 'es'], ['es', 'negativa'], ['negativa', 'para'], ['para', 'lesiones'], ['lesiones', 'malignas']]), ('pero', [['pero', 'se']])], ['se', 0, 0, 0, 0, 0, 0, 2, ('se', 'PRON', ['AUX', 'ADJ', 'ADP', 'NOUN', 'ADJ', 'CCONJ']), ('se', 'VERB'), ('se', [['que', 'es'], ['es', 'negativa'], ['negativa', 'para'], ['para', 'lesiones'], ['lesiones', 'malignas'], ['malignas', 'pero']]), ('se', [['se', 'objetiva']])], ['objetiva', 0, 0, 0, 0, 0, 0, 3, ('objetiva', 'VERB', ['ADJ', 'ADP', 'NOUN', 'ADJ', 'CCONJ', 'PRON']), ('objetiva', 'NOUN'), ('objetiva', [['es', 'negativa'], ['negativa', 'para'], ['para', 'lesiones'], ['lesiones', 'malignas'], ['malignas', 'pero'], ['pero', 'se']]), ('objetiva', [['objetiva', 'estenosis']])], ['estenosis', 0, 0, 0, 0, 0, 0, 1, ('estenosis', 'NOUN', ['ADP', 'NOUN', 'ADJ', 'CCONJ', 'PRON', 'VERB']), ('estenosis', 'ADP'), ('estenosis', [['negativa', 'para'], ['para', 'lesiones'], ['lesiones', 'malignas'], ['malignas', 'pero'], ['pero', 'se'], ['se', 'objetiva']]), ('estenosis', [['estenosis', 'de']])], ['de', 0, 0, 0, 0, 0, 0, 4, ('de', 'ADP', ['NOUN', 'ADJ', 'CCONJ', 'PRON', 'VERB', 'NOUN']), ('de', 'NOUN'), ('de', [['para', 'lesiones'], ['lesiones', 'malignas'], ['malignas', 'pero'], ['pero', 'se'], ['se', 'objetiva'], ['objetiva', 'estenosis']]), ('de', [['de', 'uretra']])], ['uretra', 0, 0, 0, 0, 0, 0, 1, ('uretra', 'NOUN', ['ADJ', 'CCONJ', 'PRON', 'VERB', 'NOUN', 'ADP']), ('uretra', 'PRON'), ('uretra', [['lesiones', 'malignas'], ['malignas', 'pero'], ['pero', 'se'], ['se', 'objetiva'], ['objetiva', 'estenosis'], ['estenosis', 'de']]), ('uretra', [['uretra', 'se']])], ['se', 0, 0, 0, 0, 0, 0, 2, ('se', 'PRON', ['CCONJ', 'PRON', 'VERB', 'NOUN', 'ADP', 'NOUN']), ('se', 'VERB'), ('se', [['malignas', 'pero'], ['pero', 'se'], ['se', 'objetiva'], ['objetiva', 'estenosis'], ['estenosis', 'de'], ['de', 'uretra']]), ('se', [['se', 'intentan']])], ['intentan', 0, 0, 0, 0, 0, 0, 3, ('intentan', 'VERB', ['PRON', 'VERB', 'NOUN', 'ADP', 'NOUN', 'PRON']), ('intentan', 'NOUN'), ('intentan', [['pero', 'se'], ['se', 'objetiva'], ['objetiva', 'estenosis'], ['estenosis', 'de'], ['de', 'uretra'], ['uretra', 'se']]), ('intentan', [['intentan', 'dilataciones']])], ['dilataciones', 0, 0, 0, 0, 0, 0, 1, ('dilataciones', 'NOUN', ['VERB', 'NOUN', 'ADP', 'NOUN', 'PRON', 'VERB']), ('dilataciones', 'ADJ'), ('dilataciones', [['se', 'objetiva'], ['objetiva', 'estenosis'], ['estenosis', 'de'], ['de', 'uretra'], ['uretra', 'se'], ['se', 'intentan']]), ('dilataciones', [['dilataciones', 'progresivas']])], ['progresivas', 0, 0, 0, 0, 0, 0, 5, ('progresivas', 'ADJ', ['NOUN', 'ADP', 'NOUN', 'PRON', 'VERB', 'NOUN']), ('progresivas', 'ADP'), ('progresivas', [['objetiva', 'estenosis'], ['estenosis', 'de'], ['de', 'uretra'], ['uretra', 'se'], ['se', 'intentan'], ['intentan', 'dilataciones']]), ('progresivas', [['progresivas', 'en']])], ['en', 0, 0, 0, 0, 0, 0, 4, ('en', 'ADP', ['ADP', 'NOUN', 'PRON', 'VERB', 'NOUN', 'ADJ']), ('en', 'DET'), ('en', [['estenosis', 'de'], ['de', 'uretra'], ['uretra', 'se'], ['se', 'intentan'], ['intentan', 'dilataciones'], ['dilataciones', 'progresivas']]), ('en', [['en', 'el']])], ['el', 0, 0, 0, 0, 0, 0, 12, ('el', 'DET', ['NOUN', 'PRON', 'VERB', 'NOUN', 'ADJ', 'ADP']), ('el', 'NOUN'), ('el', [['de', 'uretra'], ['uretra', 'se'], ['se', 'intentan'], ['intentan', 'dilataciones'], ['dilataciones', 'progresivas'], ['progresivas', 'en']]), ('el', [['el', 'gabinete']])], ['gabinete', 0, 0, 0, 0, 0, 0, 1, ('gabinete', 'NOUN', ['PRON', 'VERB', 'NOUN', 'ADJ', 'ADP', 'DET']), ('gabinete', 'ADP'), ('gabinete', [['uretra', 'se'], ['se', 'intentan'], ['intentan', 'dilataciones'], ['dilataciones', 'progresivas'], ['progresivas', 'en'], ['en', 'el']]), ('gabinete', [['gabinete', 'de']])], ['de', 0, 0, 0, 0, 0, 0, 4, ('de', 'ADP', ['VERB', 'NOUN', 'ADJ', 'ADP', 'DET', 'NOUN']), ('de', 'NOUN'), ('de', [['se', 'intentan'], ['intentan', 'dilataciones'], ['dilataciones', 'progresivas'], ['progresivas', 'en'], ['en', 'el'], ['el', 'gabinete']]), ('de', [['de', 'urologia']])], ['urologia', 0, 0, 0, 0, 0, 0, 1, ('urologia', 'NOUN', ['NOUN', 'ADJ', 'ADP', 'DET', 'NOUN', 'ADP']), ('urologia', 'ADP'), ('urologia', [['intentan', 'dilataciones'], ['dilataciones', 'progresivas'], ['progresivas', 'en'], ['en', 'el'], ['el', 'gabinete'], ['gabinete', 'de']]), ('urologia', [['urologia', 'sin']])], ['sin', 0, 0, 0, 0, 0, 0, 4, ('sin', 'ADP', ['ADJ', 'ADP', 'DET', 'NOUN', 'ADP', 'NOUN']), ('sin', 'NOUN'), ('sin', [['dilataciones', 'progresivas'], ['progresivas', 'en'], ['en', 'el'], ['el', 'gabinete'], ['gabinete', 'de'], ['de', 'urologia']]), ('sin', [['sin', 'exito']])], ['exito', 0, 0, 0, 0, 0, 0, 1, ('exito', 'NOUN', ['ADP', 'DET', 'NOUN', 'ADP', 'NOUN', 'ADP']), ('exito', 'PRON'), ('exito', [['progresivas', 'en'], ['en', 'el'], ['el', 'gabinete'], ['gabinete', 'de'], ['de', 'urologia'], ['urologia', 'sin']]), ('exito', [['exito', 'se']])], ['se', 0, 0, 0, 0, 0, 0, 2, ('se', 'PRON', ['DET', 'NOUN', 'ADP', 'NOUN', 'ADP', 'NOUN']), ('se', 'VERB'), ('se', [['en', 'el'], ['el', 'gabinete'], ['gabinete', 'de'], ['de', 'urologia'], ['urologia', 'sin'], ['sin', 'exito']]), ('se', [['se', 'solicita']])], ['solicita', 0, 0, 0, 0, 0, 0, 3, ('solicita', 'VERB', ['NOUN', 'ADP', 'NOUN', 'ADP', 'NOUN', 'PRON']), ('solicita', 'NOUN'), ('solicita', [['el', 'gabinete'], ['gabinete', 'de'], ['de', 'urologia'], ['urologia', 'sin'], ['sin', 'exito'], ['exito', 'se']]), ('solicita', [['solicita', 'estudio']])], ['estudio', 0, 0, 0, 0, 0, 0, 1, ('estudio', 'NOUN', ['ADP', 'NOUN', 'ADP', 'NOUN', 'PRON', 'VERB']), ('estudio', 'ADP'), ('estudio', [['gabinete', 'de'], ['de', 'urologia'], ['urologia', 'sin'], ['sin', 'exito'], ['exito', 'se'], ['se', 'solicita']]), ('estudio', [['estudio', 'de']])], ['de', 0, 0, 0, 0, 0, 0, 4, ('de', 'ADP', ['NOUN', 'ADP', 'NOUN', 'PRON', 'VERB', 'NOUN']), ('de', 'NOUN'), ('de', [['de', 'urologia'], ['urologia', 'sin'], ['sin', 'exito'], ['exito', 'se'], ['se', 'solicita'], ['solicita', 'estudio']]), ('de', [['de', 'imagen']])], ['imagen', 0, 0, 0, 0, 0, 0, 1, ('imagen', 'NOUN', ['ADP', 'NOUN', 'PRON', 'VERB', 'NOUN', 'ADP']), ('imagen', 'PRON'), ('imagen', [['urologia', 'sin'], ['sin', 'exito'], ['exito', 'se'], ['se', 'solicita'], ['solicita', 'estudio'], ['estudio', 'de']]), ('imagen', [['imagen', 'que']])], ['que', 0, 0, 0, 0, 0, 0, 2, ('que', 'PRON', ['NOUN', 'PRON', 'VERB', 'NOUN', 'ADP', 'NOUN']), ('que', 'VERB'), ('que', [['sin', 'exito'], ['exito', 'se'], ['se', 'solicita'], ['solicita', 'estudio'], ['estudio', 'de'], ['de', 'imagen']]), ('que', [['que', 'confirma']])], ['confirma', 0, 0, 0, 0, 0, 0, 3, ('confirma', 'VERB', ['PRON', 'VERB', 'NOUN', 'ADP', 'NOUN', 'PRON']), ('confirma', 'DET'), ('confirma', [['exito', 'se'], ['se', 'solicita'], ['solicita', 'estudio'], ['estudio', 'de'], ['de', 'imagen'], ['imagen', 'que']]), ('confirma', [['confirma', 'la']])], ['la', 0, 0, 0, 0, 0, 0, 12, ('la', 'DET', ['VERB', 'NOUN', 'ADP', 'NOUN', 'PRON', 'VERB']), ('la', 'NOUN'), ('la', [['se', 'solicita'], ['solicita', 'estudio'], ['estudio', 'de'], ['de', 'imagen'], ['imagen', 'que'], ['que', 'confirma']]), ('la', [['la', 'existencia']])], ['existencia', 0, 0, 0, 0, 0, 0, 1, ('existencia', 'NOUN', ['NOUN', 'ADP', 'NOUN', 'PRON', 'VERB', 'DET']), ('existencia', 'ADP'), ('existencia', [['solicita', 'estudio'], ['estudio', 'de'], ['de', 'imagen'], ['imagen', 'que'], ['que', 'confirma'], ['confirma', 'la']]), ('existencia', [['existencia', 'de']])], ['de', 0, 0, 0, 0, 0, 0, 4, ('de', 'ADP', ['ADP', 'NOUN', 'PRON', 'VERB', 'DET', 'NOUN']), ('de', 'NOUN'), ('de', [['estudio', 'de'], ['de', 'imagen'], ['imagen', 'que'], ['que', 'confirma'], ['confirma', 'la'], ['la', 'existencia']]), ('de', [['de', 'estenosis']])], ['estenosis', 0, 0, 0, 0, 0, 0, 1, ('estenosis', 'NOUN', ['NOUN', 'PRON', 'VERB', 'DET', 'NOUN', 'ADP']), ('estenosis', 'ADP'), ('estenosis', [['de', 'imagen'], ['imagen', 'que'], ['que', 'confirma'], ['confirma', 'la'], ['la', 'existencia'], ['existencia', 'de']]), ('estenosis', [['estenosis', 'a']])], ['a', 0, 0, 0, 0, 0, 0, 4, ('a', 'ADP', ['PRON', 'VERB', 'DET', 'NOUN', 'ADP', 'NOUN']), ('a', 'NOUN'), ('a', [['imagen', 'que'], ['que', 'confirma'], ['confirma', 'la'], ['la', 'existencia'], ['existencia', 'de'], ['de', 'estenosis']]), ('a', [['a', 'nivel']])], ['nivel', 0, 0, 0, 0, 0, 0, 1, ('nivel', 'NOUN', ['VERB', 'DET', 'NOUN', 'ADP', 'NOUN', 'ADP']), ('nivel', 'PROPN'), ('nivel', [['que', 'confirma'], ['confirma', 'la'], ['la', 'existencia'], ['existencia', 'de'], ['de', 'estenosis'], ['estenosis', 'a']]), ('nivel', [['nivel', 'd']])], ['d', 0, 0, 0, 0, 0, 0, 6, ('d', 'PROPN', ['DET', 'NOUN', 'ADP', 'NOUN', 'ADP', 'NOUN']), ('d', 'ADJ'), ('d', [['confirma', 'la'], ['la', 'existencia'], ['existencia', 'de'], ['de', 'estenosis'], ['estenosis', 'a'], ['a', 'nivel']]), ('d', [['d', 'uretra']])], ['uretra', 0, 0, 0, 0, 0, 0, 5, ('uretra', 'ADJ', ['NOUN', 'ADP', 'NOUN', 'ADP', 'NOUN', 'PROPN']), ('uretra', 'NOUN'), ('uretra', [['la', 'existencia'], ['existencia', 'de'], ['de', 'estenosis'], ['estenosis', 'a'], ['a', 'nivel'], ['nivel', 'd']]), ('uretra', [['uretra', 'bulbar']])], ['bulbar', 0, 0, 0, 0, 0, 0, 1, ('bulbar', 'NOUN', ['ADP', 'NOUN', 'ADP', 'NOUN', 'PROPN', 'ADJ']), ('bulbar', 'ADP'), ('bulbar', [['existencia', 'de'], ['de', 'estenosis'], ['estenosis', 'a'], ['a', 'nivel'], ['nivel', 'd'], ['d', 'uretra']]), ('bulbar', [['bulbar', 'por']])], ['por', 0, 0, 0, 0, 0, 0, 4, ('por', 'ADP', ['NOUN', 'ADP', 'NOUN', 'PROPN', 'ADJ', 'NOUN']), ('por', 'PRON'), ('por', [['de', 'estenosis'], ['estenosis', 'a'], ['a', 'nivel'], ['nivel', 'd'], ['d', 'uretra'], ['uretra', 'bulbar']]), ('por', [['por', 'lo']])], ['lo', 0, 0, 0, 0, 0, 0, 2, ('lo', 'PRON', ['ADP', 'NOUN', 'PROPN', 'ADJ', 'NOUN', 'ADP']), ('lo', 'PRON'), ('lo', [['estenosis', 'a'], ['a', 'nivel'], ['nivel', 'd'], ['d', 'uretra'], ['uretra', 'bulbar'], ['bulbar', 'por']]), ('lo', [['lo', 'que']])], ['que', 0, 0, 0, 0, 0, 0, 2, ('que', 'PRON', ['NOUN', 'PROPN', 'ADJ', 'NOUN', 'ADP', 'PRON']), ('que', 'PRON'), ('que', [['a', 'nivel'], ['nivel', 'd'], ['d', 'uretra'], ['uretra', 'bulbar'], ['bulbar', 'por'], ['por', 'lo']]), ('que', [['que', 'se']])], ['se', 0, 0, 0, 0, 0, 0, 2, ('se', 'PRON', ['PROPN', 'ADJ', 'NOUN', 'ADP', 'PRON', 'PRON']), ('se', 'VERB'), ('se', [['nivel', 'd'], ['d', 'uretra'], ['uretra', 'bulbar'], ['bulbar', 'por'], ['por', 'lo'], ['lo', 'que']]), ('se', [['se', 'indica']])], ['indica', 0, 0, 0, 0, 0, 0, 3, ('indica', 'VERB', ['ADJ', 'NOUN', 'ADP', 'PRON', 'PRON', 'PRON']), ('indica', 'NOUN'), ('indica', [['d', 'uretra'], ['uretra', 'bulbar'], ['bulbar', 'por'], ['por', 'lo'], ['lo', 'que'], ['que', 'se']]), ('indica', [['indica', 'uretrtomia']])], ['uretrtomia', 0, 0, 0, 0, 0, 0, 1, ('uretrtomia', 'NOUN', ['NOUN', 'ADP', 'PRON', 'PRON', 'PRON', 'VERB']), ('uretrtomia', 'ADJ'), ('uretrtomia', [['uretra', 'bulbar'], ['bulbar', 'por'], ['por', 'lo'], ['lo', 'que'], ['que', 'se'], ['se', 'indica']]), ('uretrtomia', [['uretrtomia', 'interna']])], ['interna', 0, 0, 0, 0, 0, 0, 5, ('interna', 'ADJ', ['ADP', 'PRON', 'PRON', 'PRON', 'VERB', 'NOUN']), ('interna', 'NOUN'), ('interna', [['bulbar', 'por'], ['por', 'lo'], ['lo', 'que'], ['que', 'se'], ['se', 'indica'], ['indica', 'uretrtomia']]), ('interna', [['interna', 'exploracio']])], ['exploracio', 0, 0, 0, 0, 0, 0, 1, ('exploracio', 'NOUN', ['PRON', 'PRON', 'PRON', 'VERB', 'NOUN', 'ADJ']), ('exploracio', 'ADJ'), ('exploracio', [['por', 'lo'], ['lo', 'que'], ['que', 'se'], ['se', 'indica'], ['indica', 'uretrtomia'], ['uretrtomia', 'interna']]), ('exploracio', [['exploracio', 'complementaria']])], ['complementaria', 0, 0, 0, 0, 0, 0, 5, ('complementaria', 'ADJ', ['PRON', 'PRON', 'VERB', 'NOUN', 'ADJ', 'NOUN']), ('complementaria', 'NOUN'), ('complementaria', [['lo', 'que'], ['que', 'se'], ['se', 'indica'], ['indica', 'uretrtomia'], ['uretrtomia', 'interna'], ['interna', 'exploracio']]), ('complementaria', [['complementaria', 'uretrocistografia']])], ['uretrocistografia', 0, 0, 0, 0, 0, 0, 1, ('uretrocistografia', 'NOUN', ['PRON', 'VERB', 'NOUN', 'ADJ', 'NOUN', 'ADJ']), ('uretrocistografia', 'ADJ'), ('uretrocistografia', [['que', 'se'], ['se', 'indica'], ['indica', 'uretrtomia'], ['uretrtomia', 'interna'], ['interna', 'exploracio'], ['exploracio', 'complementaria']]), ('uretrocistografia', [['uretrocistografia', 'retrograda']])], ['retrograda', 0, 0, 0, 0, 0, 0, 5, ('retrograda', 'ADJ', ['VERB', 'NOUN', 'ADJ', 'NOUN', 'ADJ', 'NOUN']), ('retrograda', 'NOUN'), ('retrograda', [['se', 'indica'], ['indica', 'uretrtomia'], ['uretrtomia', 'interna'], ['interna', 'exploracio'], ['exploracio', 'complementaria'], ['complementaria', 'uretrocistografia']]), ('retrograda', [['retrograda', 'cums']])], ['cums', 0, 0, 0, 0, 0, 0, 1, ('cums', 'NOUN', ['NOUN', 'ADJ', 'NOUN', 'ADJ', 'NOUN', 'ADJ']), ('cums', 'NUM'), ('cums', [['indica', 'uretrtomia'], ['uretrtomia', 'interna'], ['interna', 'exploracio'], ['exploracio', 'complementaria'], ['complementaria', 'uretrocistografia'], ['uretrocistografia', 'retrograda']]), ('cums', [['cums', '112017']])], ['112017', 0, 0, 1, 1, 0, 0, 9, ('112017', 'NUM', ['ADJ', 'NOUN', 'ADJ', 'NOUN', 'ADJ', 'NOUN']), ('112017', 'DET'), ('112017', [['uretrtomia', 'interna'], ['interna', 'exploracio'], ['exploracio', 'complementaria'], ['complementaria', 'uretrocistografia'], ['uretrocistografia', 'retrograda'], ['retrograda', 'cums']]), ('112017', [['112017', 'la']])], ['la', 0, 0, 0, 0, 0, 0, 12, ('la', 'DET', ['NOUN', 'ADJ', 'NOUN', 'ADJ', 'NOUN', 'NUM']), ('la', 'NOUN'), ('la', [['interna', 'exploracio'], ['exploracio', 'complementaria'], ['complementaria', 'uretrocistografia'], ['uretrocistografia', 'retrograda'], ['retrograda', 'cums'], ['cums', '112017']]), ('la', [['la', 'uretrografia']])], ['uretrografia', 0, 0, 0, 0, 0, 0, 1, ('uretrografia', 'NOUN', ['ADJ', 'NOUN', 'ADJ', 'NOUN', 'NUM', 'DET']), ('uretrografia', 'ADJ'), ('uretrografia', [['exploracio', 'complementaria'], ['complementaria', 'uretrocistografia'], ['uretrocistografia', 'retrograda'], ['retrograda', 'cums'], ['cums', '112017'], ['112017', 'la']]), ('uretrografia', [['uretrografia', 'retrograda']])], ['retrograda', 0, 0, 0, 0, 0, 0, 5, ('retrograda', 'ADJ', ['NOUN', 'ADJ', 'NOUN', 'NUM', 'DET', 'NOUN']), ('retrograda', 'VERB'), ('retrograda', [['complementaria', 'uretrocistografia'], ['uretrocistografia', 'retrograda'], ['retrograda', 'cums'], ['cums', '112017'], ['112017', 'la'], ['la', 'uretrografia']]), ('retrograda', [['retrograda', 'muestra']])], ['muestra', 0, 0, 0, 0, 0, 0, 3, ('muestra', 'VERB', ['ADJ', 'NOUN', 'NUM', 'DET', 'NOUN', 'ADJ']), ('muestra', 'DET'), ('muestra', [['uretrocistografia', 'retrograda'], ['retrograda', 'cums'], ['cums', '112017'], ['112017', 'la'], ['la', 'uretrografia'], ['uretrografia', 'retrograda']]), ('muestra', [['muestra', 'una']])], ['una', 0, 0, 0, 0, 0, 0, 12, ('una', 'DET', ['NOUN', 'NUM', 'DET', 'NOUN', 'ADJ', 'VERB']), ('una', 'NOUN'), ('una', [['retrograda', 'cums'], ['cums', '112017'], ['112017', 'la'], ['la', 'uretrografia'], ['uretrografia', 'retrograda'], ['retrograda', 'muestra']]), ('una', [['una', 'uretra']])], ['uretra', 0, 0, 0, 0, 0, 0, 1, ('uretra', 'NOUN', ['NUM', 'DET', 'NOUN', 'ADJ', 'VERB', 'DET']), ('uretra', 'ADJ'), ('uretra', [['cums', '112017'], ['112017', 'la'], ['la', 'uretrografia'], ['uretrografia', 'retrograda'], ['retrograda', 'muestra'], ['muestra', 'una']]), ('uretra', [['uretra', 'anterior']])], ['anterior', 0, 0, 0, 0, 0, 0, 5, ('anterior', 'ADJ', ['DET', 'NOUN', 'ADJ', 'VERB', 'DET', 'NOUN']), ('anterior', 'ADP'), ('anterior', [['112017', 'la'], ['la', 'uretrografia'], ['uretrografia', 'retrograda'], ['retrograda', 'muestra'], ['muestra', 'una'], ['una', 'uretra']]), ('anterior', [['anterior', 'con']])], ['con', 0, 0, 0, 0, 0, 0, 4, ('con', 'ADP', ['NOUN', 'ADJ', 'VERB', 'DET', 'NOUN', 'ADJ']), ('con', 'NUM'), ('con', [['la', 'uretrografia'], ['uretrografia', 'retrograda'], ['retrograda', 'muestra'], ['muestra', 'una'], ['una', 'uretra'], ['uretra', 'anterior']]), ('con', [['con', 'dos']])], ['dos', 0, 0, 0, 0, 0, 0, 9, ('dos', 'NUM', ['ADJ', 'VERB', 'DET', 'NOUN', 'ADJ', 'ADP']), ('dos', 'NOUN'), ('dos', [['uretrografia', 'retrograda'], ['retrograda', 'muestra'], ['muestra', 'una'], ['una', 'uretra'], ['uretra', 'anterior'], ['anterior', 'con']]), ('dos', [['dos', 'estenosis']])], ['estenosis', 0, 0, 0, 0, 0, 0, 1, ('estenosis', 'NOUN', ['VERB', 'DET', 'NOUN', 'ADJ', 'ADP', 'NUM']), ('estenosis', 'ADJ'), ('estenosis', [['retrograda', 'muestra'], ['muestra', 'una'], ['una', 'uretra'], ['uretra', 'anterior'], ['anterior', 'con'], ['con', 'dos']]), ('estenosis', [['estenosis', 'focales']])], ['focales', 0, 0, 0, 0, 0, 0, 5, ('focales', 'ADJ', ['DET', 'NOUN', 'ADJ', 'ADP', 'NUM', 'NOUN']), ('focales', 'ADP'), ('focales', [['muestra', 'una'], ['una', 'uretra'], ['uretra', 'anterior'], ['anterior', 'con'], ['con', 'dos'], ['dos', 'estenosis']]), ('focales', [['focales', 'a']])], ['a', 0, 0, 0, 0, 0, 0, 4, ('a', 'ADP', ['NOUN', 'ADJ', 'ADP', 'NUM', 'NOUN', 'ADJ']), ('a', 'NOUN'), ('a', [['una', 'uretra'], ['uretra', 'anterior'], ['anterior', 'con'], ['con', 'dos'], ['dos', 'estenosis'], ['estenosis', 'focales']]), ('a', [['a', 'nivel']])], ['nivel', 0, 0, 0, 0, 0, 0, 1, ('nivel', 'NOUN', ['ADJ', 'ADP', 'NUM', 'NOUN', 'ADJ', 'ADP']), ('nivel', 'ADP'), ('nivel', [['uretra', 'anterior'], ['anterior', 'con'], ['con', 'dos'], ['dos', 'estenosis'], ['estenosis', 'focales'], ['focales', 'a']]), ('nivel', [['nivel', 'de']])], ['de', 0, 0, 0, 0, 0, 0, 4, ('de', 'ADP', ['ADP', 'NUM', 'NOUN', 'ADJ', 'ADP', 'NOUN']), ('de', 'NOUN'), ('de', [['anterior', 'con'], ['con', 'dos'], ['dos', 'estenosis'], ['estenosis', 'focales'], ['focales', 'a'], ['a', 'nivel']]), ('de', [['de', 'uretra']])], ['uretra', 0, 0, 0, 0, 0, 0, 1, ('uretra', 'NOUN', ['NUM', 'NOUN', 'ADJ', 'ADP', 'NOUN', 'ADP']), ('uretra', 'ADJ'), ('uretra', [['con', 'dos'], ['dos', 'estenosis'], ['estenosis', 'focales'], ['focales', 'a'], ['a', 'nivel'], ['nivel', 'de']]), ('uretra', [['uretra', 'peneana']])], ['peneana', 0, 0, 0, 0, 0, 0, 5, ('peneana', 'ADJ', ['NOUN', 'ADJ', 'ADP', 'NOUN', 'ADP', 'NOUN']), ('peneana', 'CCONJ'), ('peneana', [['dos', 'estenosis'], ['estenosis', 'focales'], ['focales', 'a'], ['a', 'nivel'], ['nivel', 'de'], ['de', 'uretra']]), ('peneana', [['peneana', 'y']])], ['y', 0, 0, 0, 0, 0, 0, 7, ('y', 'CCONJ', ['ADJ', 'ADP', 'NOUN', 'ADP', 'NOUN', 'ADJ']), ('y', 'VERB'), ('y', [['estenosis', 'focales'], ['focales', 'a'], ['a', 'nivel'], ['nivel', 'de'], ['de', 'uretra'], ['uretra', 'peneana']]), ('y', [['y', 'bulbar']])], ['bulbar', 0, 0, 0, 0, 0, 0, 3, ('bulbar', 'VERB', ['ADP', 'NOUN', 'ADP', 'NOUN', 'ADJ', 'CCONJ']), ('bulbar', 'SCONJ'), ('bulbar', [['focales', 'a'], ['a', 'nivel'], ['nivel', 'de'], ['de', 'uretra'], ['uretra', 'peneana'], ['peneana', 'y']]), ('bulbar', [['bulbar', 'aunque']])], ['aunque', 0, 0, 0, 0, 0, 0, 10, ('aunque', 'SCONJ', ['NOUN', 'ADP', 'NOUN', 'ADJ', 'CCONJ', 'VERB']), ('aunque', 'PRON'), ('aunque', [['a', 'nivel'], ['nivel', 'de'], ['de', 'uretra'], ['uretra', 'peneana'], ['peneana', 'y'], ['y', 'bulbar']]), ('aunque', [['aunque', 'se']])], ['se', 0, 0, 0, 0, 0, 0, 2, ('se', 'PRON', ['ADP', 'NOUN', 'ADJ', 'CCONJ', 'VERB', 'SCONJ']), ('se', 'VERB'), ('se', [['nivel', 'de'], ['de', 'uretra'], ['uretra', 'peneana'], ['peneana', 'y'], ['y', 'bulbar'], ['bulbar', 'aunque']]), ('se', [['se', 'observa']])], ['observa', 0, 0, 0, 0, 0, 0, 3, ('observa', 'VERB', ['NOUN', 'ADJ', 'CCONJ', 'VERB', 'SCONJ', 'PRON']), ('observa', 'NOUN'), ('observa', [['de', 'uretra'], ['uretra', 'peneana'], ['peneana', 'y'], ['y', 'bulbar'], ['bulbar', 'aunque'], ['aunque', 'se']]), ('observa', [['observa', 'paso']])], ['paso', 0, 0, 0, 0, 0, 0, 1, ('paso', 'NOUN', ['ADJ', 'CCONJ', 'VERB', 'SCONJ', 'PRON', 'VERB']), ('paso', 'ADP'), ('paso', [['uretra', 'peneana'], ['peneana', 'y'], ['y', 'bulbar'], ['bulbar', 'aunque'], ['aunque', 'se'], ['se', 'observa']]), ('paso', [['paso', 'de']])], ['de', 0, 0, 0, 0, 0, 0, 4, ('de', 'ADP', ['CCONJ', 'VERB', 'SCONJ', 'PRON', 'VERB', 'NOUN']), ('de', 'NOUN'), ('de', [['peneana', 'y'], ['y', 'bulbar'], ['bulbar', 'aunque'], ['aunque', 'se'], ['se', 'observa'], ['observa', 'paso']]), ('de', [['de', 'contraste']])], ['contraste', 0, 0, 0, 0, 0, 0, 1, ('contraste', 'NOUN', ['VERB', 'SCONJ', 'PRON', 'VERB', 'NOUN', 'ADP']), ('contraste', 'ADJ'), ('contraste', [['y', 'bulbar'], ['bulbar', 'aunque'], ['aunque', 'se'], ['se', 'observa'], ['observa', 'paso'], ['paso', 'de']]), ('contraste', [['contraste', 'retrogrado']])], ['retrogrado', 0, 0, 0, 0, 0, 0, 5, ('retrogrado', 'ADJ', ['SCONJ', 'PRON', 'VERB', 'NOUN', 'ADP', 'NOUN']), ('retrogrado', 'ADP'), ('retrogrado', [['bulbar', 'aunque'], ['aunque', 'se'], ['se', 'observa'], ['observa', 'paso'], ['paso', 'de'], ['de', 'contraste']]), ('retrogrado', [['retrogrado', 'a']])], ['a', 0, 0, 0, 0, 0, 0, 4, ('a', 'ADP', ['PRON', 'VERB', 'NOUN', 'ADP', 'NOUN', 'ADJ']), ('a', 'PROPN'), ('a', [['aunque', 'se'], ['se', 'observa'], ['observa', 'paso'], ['paso', 'de'], ['de', 'contraste'], ['contraste', 'retrogrado']]), ('a', [['a', 'vejiga']])], ['vejiga', 0, 0, 0, 0, 0, 0, 6, ('vejiga', 'PROPN', ['VERB', 'NOUN', 'ADP', 'NOUN', 'ADJ', 'ADP']), ('vejiga', 'PROPN'), ('vejiga', [['se', 'observa'], ['observa', 'paso'], ['paso', 'de'], ['de', 'contraste'], ['contraste', 'retrogrado'], ['retrogrado', 'a']]), ('vejiga', [['vejiga', 'vejiga']])], ['vejiga', 0, 0, 0, 0, 0, 0, 6, ('vejiga', 'PROPN', ['NOUN', 'ADP', 'NOUN', 'ADJ', 'ADP', 'PROPN']), ('vejiga', 'ADP'), ('vejiga', [['observa', 'paso'], ['paso', 'de'], ['de', 'contraste'], ['contraste', 'retrogrado'], ['retrogrado', 'a'], ['a', 'vejiga']]), ('vejiga', [['vejiga', 'de']])], ['de', 0, 0, 0, 0, 0, 0, 4, ('de', 'ADP', ['ADP', 'NOUN', 'ADJ', 'ADP', 'PROPN', 'PROPN']), ('de', 'ADJ'), ('de', [['paso', 'de'], ['de', 'contraste'], ['contraste', 'retrogrado'], ['retrogrado', 'a'], ['a', 'vejiga'], ['vejiga', 'vejiga']]), ('de', [['de', 'correcta']])], ['correcta', 0, 0, 0, 0, 0, 0, 5, ('correcta', 'ADJ', ['NOUN', 'ADJ', 'ADP', 'PROPN', 'PROPN', 'ADP']), ('correcta', 'NOUN'), ('correcta', [['de', 'contraste'], ['contraste', 'retrogrado'], ['retrogrado', 'a'], ['a', 'vejiga'], ['vejiga', 'vejiga'], ['vejiga', 'de']]), ('correcta', [['correcta', 'capacidad']])], ['capacidad', 0, 0, 0, 0, 0, 0, 1, ('capacidad', 'NOUN', ['ADJ', 'ADP', 'PROPN', 'PROPN', 'ADP', 'ADJ']), ('capacidad', 'NUM'), ('capacidad', [['contraste', 'retrogrado'], ['retrogrado', 'a'], ['a', 'vejiga'], ['vejiga', 'vejiga'], ['vejiga', 'de'], ['de', 'correcta']]), ('capacidad', [['capacidad', '250']])], ['250', 0, 0, 1, 1, 0, 0, 9, ('250', 'NUM', ['ADP', 'PROPN', 'PROPN', 'ADP', 'ADJ', 'NOUN']), ('250', 'NUM'), ('250', [['retrogrado', 'a'], ['a', 'vejiga'], ['vejiga', 'vejiga'], ['vejiga', 'de'], ['de', 'correcta'], ['correcta', 'capacidad']]), ('250', [['250', 'cc']])], ['cc', 0, 0, 0, 0, 0, 0, 9, ('cc', 'NUM', ['PROPN', 'PROPN', 'ADP', 'ADJ', 'NOUN', 'NUM']), ('cc', 'ADP'), ('cc', [['a', 'vejiga'], ['vejiga', 'vejiga'], ['vejiga', 'de'], ['de', 'correcta'], ['correcta', 'capacidad'], ['capacidad', '250']]), ('cc', [['cc', 'de']])], ['de', 0, 0, 0, 0, 0, 0, 4, ('de', 'ADP', ['PROPN', 'ADP', 'ADJ', 'NOUN', 'NUM', 'NUM']), ('de', 'NOUN'), ('de', [['vejiga', 'vejiga'], ['vejiga', 'de'], ['de', 'correcta'], ['correcta', 'capacidad'], ['capacidad', '250'], ['250', 'cc']]), ('de', [['de', 'contraste']])], ['contraste', 0, 0, 0, 0, 0, 0, 1, ('contraste', 'NOUN', ['ADP', 'ADJ', 'NOUN', 'NUM', 'NUM', 'ADP']), ('contraste', 'ADP'), ('contraste', [['vejiga', 'de'], ['de', 'correcta'], ['correcta', 'capacidad'], ['capacidad', '250'], ['250', 'cc'], ['cc', 'de']]), ('contraste', [['contraste', 'de']])], ['de', 0, 0, 0, 0, 0, 0, 4, ('de', 'ADP', ['ADJ', 'NOUN', 'NUM', 'NUM', 'ADP', 'NOUN']), ('de', 'NOUN'), ('de', [['de', 'correcta'], ['correcta', 'capacidad'], ['capacidad', '250'], ['250', 'cc'], ['cc', 'de'], ['de', 'contraste']]), ('de', [['de', 'paredes']])], ['paredes', 0, 0, 0, 0, 0, 0, 1, ('paredes', 'NOUN', ['NOUN', 'NUM', 'NUM', 'ADP', 'NOUN', 'ADP']), ('paredes', 'ADJ'), ('paredes', [['correcta', 'capacidad'], ['capacidad', '250'], ['250', 'cc'], ['cc', 'de'], ['de', 'contraste'], ['contraste', 'de']]), ('paredes', [['paredes', 'trabeculadas']])], ['trabeculadas', 0, 0, 0, 0, 0, 0, 5, ('trabeculadas', 'ADJ', ['NUM', 'NUM', 'ADP', 'NOUN', 'ADP', 'NOUN']), ('trabeculadas', 'CCONJ'), ('trabeculadas', [['capacidad', '250'], ['250', 'cc'], ['cc', 'de'], ['de', 'contraste'], ['contraste', 'de'], ['de', 'paredes']]), ('trabeculadas', [['trabeculadas', 'y']])], ['y', 0, 0, 0, 0, 0, 0, 7, ('y', 'CCONJ', ['NUM', 'ADP', 'NOUN', 'ADP', 'NOUN', 'ADJ']), ('y', 'ADP'), ('y', [['250', 'cc'], ['cc', 'de'], ['de', 'contraste'], ['contraste', 'de'], ['de', 'paredes'], ['paredes', 'trabeculadas']]), ('y', [['y', 'con']])], ['con', 0, 0, 0, 0, 0, 0, 4, ('con', 'ADP', ['ADP', 'NOUN', 'ADP', 'NOUN', 'ADJ', 'CCONJ']), ('con', 'NOUN'), ('con', [['cc', 'de'], ['de', 'contraste'], ['contraste', 'de'], ['de', 'paredes'], ['paredes', 'trabeculadas'], ['trabeculadas', 'y']]), ('con', [['con', 'diverticulos']])], ['diverticulos', 0, 0, 0, 0, 0, 0, 1, ('diverticulos', 'NOUN', ['NOUN', 'ADP', 'NOUN', 'ADJ', 'CCONJ', 'ADP']), ('diverticulos', 'DET'), ('diverticulos', [['de', 'contraste'], ['contraste', 'de'], ['de', 'paredes'], ['paredes', 'trabeculadas'], ['trabeculadas', 'y'], ['y', 'con']]), ('diverticulos', [['diverticulos', 'el']])], ['el', 0, 0, 0, 0, 0, 0, 12, ('el', 'DET', ['ADP', 'NOUN', 'ADJ', 'CCONJ', 'ADP', 'NOUN']), ('el', 'ADJ'), ('el', [['contraste', 'de'], ['de', 'paredes'], ['paredes', 'trabeculadas'], ['trabeculadas', 'y'], ['y', 'con'], ['con', 'diverticulos']]), ('el', [['el', 'mayor']])], ['mayor', 0, 0, 0, 0, 0, 0, 5, ('mayor', 'ADJ', ['NOUN', 'ADJ', 'CCONJ', 'ADP', 'NOUN', 'DET']), ('mayor', 'ADP'), ('mayor', [['de', 'paredes'], ['paredes', 'trabeculadas'], ['trabeculadas', 'y'], ['y', 'con'], ['con', 'diverticulos'], ['diverticulos', 'el']]), ('mayor', [['mayor', 'de']])], ['de', 0, 0, 0, 0, 0, 0, 4, ('de', 'ADP', ['ADJ', 'CCONJ', 'ADP', 'NOUN', 'DET', 'ADJ']), ('de', 'PRON'), ('de', [['paredes', 'trabeculadas'], ['trabeculadas', 'y'], ['y', 'con'], ['con', 'diverticulos'], ['diverticulos', 'el'], ['el', 'mayor']]), ('de', [['de', 'ellos']])], ['ellos', 0, 0, 0, 0, 0, 0, 2, ('ellos', 'PRON', ['CCONJ', 'ADP', 'NOUN', 'DET', 'ADJ', 'ADP']), ('ellos', 'ADP'), ('ellos', [['trabeculadas', 'y'], ['y', 'con'], ['con', 'diverticulos'], ['diverticulos', 'el'], ['el', 'mayor'], ['mayor', 'de']]), ('ellos', [['ellos', 'en']])], ['en', 0, 0, 0, 0, 0, 0, 4, ('en', 'ADP', ['ADP', 'NOUN', 'DET', 'ADJ', 'ADP', 'PRON']), ('en', 'NOUN'), ('en', [['y', 'con'], ['con', 'diverticulos'], ['diverticulos', 'el'], ['el', 'mayor'], ['mayor', 'de'], ['de', 'ellos']]), ('en', [['en', 'cara']])], ['cara', 0, 0, 0, 0, 0, 0, 1, ('cara', 'NOUN', ['NOUN', 'DET', 'ADJ', 'ADP', 'PRON', 'ADP']), ('cara', 'ADJ'), ('cara', [['con', 'diverticulos'], ['diverticulos', 'el'], ['el', 'mayor'], ['mayor', 'de'], ['de', 'ellos'], ['ellos', 'en']]), ('cara', [['cara', 'posterolateral']])], ['posterolateral', 0, 0, 0, 0, 0, 0, 5, ('posterolateral', 'ADJ', ['DET', 'ADJ', 'ADP', 'PRON', 'ADP', 'NOUN']), ('posterolateral', 'ADJ'), ('posterolateral', [['diverticulos', 'el'], ['el', 'mayor'], ['mayor', 'de'], ['de', 'ellos'], ['ellos', 'en'], ['en', 'cara']]), ('posterolateral', [['posterolateral', 'izquierda']])], ['izquierda', 0, 0, 0, 0, 0, 0, 5, ('izquierda', 'ADJ', ['ADJ', 'ADP', 'PRON', 'ADP', 'NOUN', 'ADJ']), ('izquierda', 'ADP'), ('izquierda', [['el', 'mayor'], ['mayor', 'de'], ['de', 'ellos'], ['ellos', 'en'], ['en', 'cara'], ['cara', 'posterolateral']]), ('izquierda', [['izquierda', 'sin']])], ['sin', 0, 0, 0, 0, 0, 0, 4, ('sin', 'ADP', ['ADP', 'PRON', 'ADP', 'NOUN', 'ADJ', 'ADJ']), ('sin', 'VERB'), ('sin', [['mayor', 'de'], ['de', 'ellos'], ['ellos', 'en'], ['en', 'cara'], ['cara', 'posterolateral'], ['posterolateral', 'izquierda']]), ('sin', [['sin', 'observarse']])], ['observarse', 0, 0, 0, 0, 0, 0, 3, ('observarse', 'VERB', ['PRON', 'ADP', 'NOUN', 'ADJ', 'ADJ', 'ADP']), ('observarse', 'NOUN'), ('observarse', [['de', 'ellos'], ['ellos', 'en'], ['en', 'cara'], ['cara', 'posterolateral'], ['posterolateral', 'izquierda'], ['izquierda', 'sin']]), ('observarse', [['observarse', 'defectos']])], ['defectos', 0, 0, 0, 0, 0, 0, 1, ('defectos', 'NOUN', ['ADP', 'NOUN', 'ADJ', 'ADJ', 'ADP', 'VERB']), ('defectos', 'ADP'), ('defectos', [['ellos', 'en'], ['en', 'cara'], ['cara', 'posterolateral'], ['posterolateral', 'izquierda'], ['izquierda', 'sin'], ['sin', 'observarse']]), ('defectos', [['defectos', 'de']])], ['de', 0, 0, 0, 0, 0, 0, 4, ('de', 'ADP', ['NOUN', 'ADJ', 'ADJ', 'ADP', 'VERB', 'NOUN']), ('de', 'PROPN'), ('de', [['en', 'cara'], ['cara', 'posterolateral'], ['posterolateral', 'izquierda'], ['izquierda', 'sin'], ['sin', 'observarse'], ['observarse', 'defectos']]), ('de', [['de', 'replecion']])], ['replecion', 0, 0, 0, 0, 0, 0, 6, ('replecion', 'PROPN', ['ADJ', 'ADJ', 'ADP', 'VERB', 'NOUN', 'ADP']), ('replecion', 'DET'), ('replecion', [['cara', 'posterolateral'], ['posterolateral', 'izquierda'], ['izquierda', 'sin'], ['sin', 'observarse'], ['observarse', 'defectos'], ['defectos', 'de']]), ('replecion', [['replecion', 'la']])], ['la', 0, 0, 0, 0, 0, 0, 12, ('la', 'DET', ['ADJ', 'ADP', 'VERB', 'NOUN', 'ADP', 'PROPN']), ('la', 'PROPN'), ('la', [['posterolateral', 'izquierda'], ['izquierda', 'sin'], ['sin', 'observarse'], ['observarse', 'defectos'], ['defectos', 'de'], ['de', 'replecion']]), ('la', [['la', 'uretrografia']])], ['uretrografia', 0, 0, 0, 0, 0, 0, 6, ('uretrografia', 'PROPN', ['ADP', 'VERB', 'NOUN', 'ADP', 'PROPN', 'DET']), ('uretrografia', 'ADJ'), ('uretrografia', [['izquierda', 'sin'], ['sin', 'observarse'], ['observarse', 'defectos'], ['defectos', 'de'], ['de', 'replecion'], ['replecion', 'la']]), ('uretrografia', [['uretrografia', 'miccional']])], ['miccional', 0, 0, 0, 0, 0, 0, 5, ('miccional', 'ADJ', ['VERB', 'NOUN', 'ADP', 'PROPN', 'DET', 'PROPN']), ('miccional', 'VERB'), ('miccional', [['sin', 'observarse'], ['observarse', 'defectos'], ['defectos', 'de'], ['de', 'replecion'], ['replecion', 'la'], ['la', 'uretrografia']]), ('miccional', [['miccional', 'muestra']])], ['muestra', 0, 0, 0, 0, 0, 0, 3, ('muestra', 'VERB', ['NOUN', 'ADP', 'PROPN', 'DET', 'PROPN', 'ADJ']), ('muestra', 'DET'), ('muestra', [['observarse', 'defectos'], ['defectos', 'de'], ['de', 'replecion'], ['replecion', 'la'], ['la', 'uretrografia'], ['uretrografia', 'miccional']]), ('muestra', [['muestra', 'una']])], ['una', 0, 0, 0, 0, 0, 0, 12, ('una', 'DET', ['ADP', 'PROPN', 'DET', 'PROPN', 'ADJ', 'VERB']), ('una', 'ADJ'), ('una', [['defectos', 'de'], ['de', 'replecion'], ['replecion', 'la'], ['la', 'uretrografia'], ['uretrografia', 'miccional'], ['miccional', 'muestra']]), ('una', [['una', 'uretra']])], ['uretra', 0, 0, 0, 0, 0, 0, 5, ('uretra', 'ADJ', ['PROPN', 'DET', 'PROPN', 'ADJ', 'VERB', 'DET']), ('uretra', 'NOUN'), ('uretra', [['de', 'replecion'], ['replecion', 'la'], ['la', 'uretrografia'], ['uretrografia', 'miccional'], ['miccional', 'muestra'], ['muestra', 'una']]), ('uretra', [['uretra', 'prostatica']])], ['prostatica', 0, 0, 0, 0, 0, 0, 1, ('prostatica', 'NOUN', ['DET', 'PROPN', 'ADJ', 'VERB', 'DET', 'ADJ']), ('prostatica', 'ADJ'), ('prostatica', [['replecion', 'la'], ['la', 'uretrografia'], ['uretrografia', 'miccional'], ['miccional', 'muestra'], ['muestra', 'una'], ['una', 'uretra']]), ('prostatica', [['prostatica', 'dilatada']])], ['dilatada', 0, 0, 0, 0, 0, 0, 5, ('dilatada', 'ADJ', ['PROPN', 'ADJ', 'VERB', 'DET', 'ADJ', 'NOUN']), ('dilatada', 'ADP'), ('dilatada', [['la', 'uretrografia'], ['uretrografia', 'miccional'], ['miccional', 'muestra'], ['muestra', 'una'], ['una', 'uretra'], ['uretra', 'prostatica']]), ('dilatada', [['dilatada', 'sin']])], ['sin', 0, 0, 0, 0, 0, 0, 4, ('sin', 'ADP', ['ADJ', 'VERB', 'DET', 'ADJ', 'NOUN', 'ADJ']), ('sin', 'ADJ'), ('sin', [['uretrografia', 'miccional'], ['miccional', 'muestra'], ['muestra', 'una'], ['una', 'uretra'], ['uretra', 'prostatica'], ['prostatica', 'dilatada']]), ('sin', [['sin', 'claras']])], ['claras', 0, 0, 0, 0, 0, 0, 5, ('claras', 'ADJ', ['VERB', 'DET', 'ADJ', 'NOUN', 'ADJ', 'ADP']), ('claras', 'NOUN'), ('claras', [['miccional', 'muestra'], ['muestra', 'una'], ['una', 'uretra'], ['uretra', 'prostatica'], ['prostatica', 'dilatada'], ['dilatada', 'sin']]), ('claras', [['claras', 'estenosis']])], ['estenosis', 0, 0, 0, 0, 0, 0, 1, ('estenosis', 'NOUN', ['DET', 'ADJ', 'NOUN', 'ADJ', 'ADP', 'ADJ']), ('estenosis', 'ADJ'), ('estenosis', [['muestra', 'una'], ['una', 'uretra'], ['uretra', 'prostatica'], ['prostatica', 'dilatada'], ['dilatada', 'sin'], ['sin', 'claras']]), ('estenosis', [['estenosis', 'focales']])], ['focales', 0, 0, 0, 0, 0, 0, 5, ('focales', 'ADJ', ['ADJ', 'NOUN', 'ADJ', 'ADP', 'ADJ', 'NOUN']), ('focales', 'VERB'), ('focales', [['una', 'uretra'], ['uretra', 'prostatica'], ['prostatica', 'dilatada'], ['dilatada', 'sin'], ['sin', 'claras'], ['claras', 'estenosis']]), ('focales', [['focales', 'confirmandose']])], ['confirmandose', 0, 0, 0, 0, 0, 0, 3, ('confirmandose', 'VERB', ['NOUN', 'ADJ', 'ADP', 'ADJ', 'NOUN', 'ADJ']), ('confirmandose', 'DET'), ('confirmandose', [['uretra', 'prostatica'], ['prostatica', 'dilatada'], ['dilatada', 'sin'], ['sin', 'claras'], ['claras', 'estenosis'], ['estenosis', 'focales']]), ('confirmandose', [['confirmandose', 'la']])], ['la', 0, 0, 0, 0, 0, 0, 12, ('la', 'DET', ['ADJ', 'ADP', 'ADJ', 'NOUN', 'ADJ', 'VERB']), ('la', 'NOUN'), ('la', [['prostatica', 'dilatada'], ['dilatada', 'sin'], ['sin', 'claras'], ['claras', 'estenosis'], ['estenosis', 'focales'], ['focales', 'confirmandose']]), ('la', [['la', 'existencia']])], ['existencia', 0, 0, 0, 0, 0, 0, 1, ('existencia', 'NOUN', ['ADP', 'ADJ', 'NOUN', 'ADJ', 'VERB', 'DET']), ('existencia', 'ADP'), ('existencia', [['dilatada', 'sin'], ['sin', 'claras'], ['claras', 'estenosis'], ['estenosis', 'focales'], ['focales', 'confirmandose'], ['confirmandose', 'la']]), ('existencia', [['existencia', 'de']])], ['de', 0, 0, 0, 0, 0, 0, 4, ('de', 'ADP', ['ADJ', 'NOUN', 'ADJ', 'VERB', 'DET', 'NOUN']), ('de', 'DET'), ('de', [['sin', 'claras'], ['claras', 'estenosis'], ['estenosis', 'focales'], ['focales', 'confirmandose'], ['confirmandose', 'la'], ['la', 'existencia']]), ('de', [['de', 'las']])], ['las', 0, 0, 0, 0, 0, 0, 12, ('las', 'DET', ['NOUN', 'ADJ', 'VERB', 'DET', 'NOUN', 'ADP']), ('las', 'NUM'), ('las', [['claras', 'estenosis'], ['estenosis', 'focales'], ['focales', 'confirmandose'], ['confirmandose', 'la'], ['la', 'existencia'], ['existencia', 'de']]), ('las', [['las', 'dos']])], ['dos', 0, 0, 0, 0, 0, 0, 9, ('dos', 'NUM', ['ADJ', 'VERB', 'DET', 'NOUN', 'ADP', 'DET']), ('dos', 'NOUN'), ('dos', [['estenosis', 'focales'], ['focales', 'confirmandose'], ['confirmandose', 'la'], ['la', 'existencia'], ['existencia', 'de'], ['de', 'las']]), ('dos', [['dos', 'estenosis']])], ['estenosis', 0, 0, 0, 0, 0, 0, 1, ('estenosis', 'NOUN', ['VERB', 'DET', 'NOUN', 'ADP', 'DET', 'NUM']), ('estenosis', 'ADP'), ('estenosis', [['focales', 'confirmandose'], ['confirmandose', 'la'], ['la', 'existencia'], ['existencia', 'de'], ['de', 'las'], ['las', 'dos']]), ('estenosis', [['estenosis', 'de']])], ['de', 0, 0, 0, 0, 0, 0, 4, ('de', 'ADP', ['DET', 'NOUN', 'ADP', 'DET', 'NUM', 'NOUN']), ('de', 'NOUN'), ('de', [['confirmandose', 'la'], ['la', 'existencia'], ['existencia', 'de'], ['de', 'las'], ['las', 'dos'], ['dos', 'estenosis']]), ('de', [['de', 'uretra']])], ['uretra', 0, 0, 0, 0, 0, 0, 1, ('uretra', 'NOUN', ['NOUN', 'ADP', 'DET', 'NUM', 'NOUN', 'ADP']), ('uretra', 'ADJ'), ('uretra', [['la', 'existencia'], ['existencia', 'de'], ['de', 'las'], ['las', 'dos'], ['dos', 'estenosis'], ['estenosis', 'de']]), ('uretra', [['uretra', 'anterior']])], ['anterior', 0, 0, 0, 0, 0, 0, 5, ('anterior', 'ADJ', ['ADP', 'DET', 'NUM', 'NOUN', 'ADP', 'NOUN']), ('anterior', 'NOUN'), ('anterior', [['existencia', 'de'], ['de', 'las'], ['las', 'dos'], ['dos', 'estenosis'], ['estenosis', 'de'], ['de', 'uretra']]), ('anterior', [['anterior', 'descritas']])], ['descritas', 0, 0, 0, 0, 0, 0, 1, ('descritas', 'NOUN', ['DET', 'NUM', 'NOUN', 'ADP', 'NOUN', 'ADJ']), ('descritas', 'ADV'), ('descritas', [['de', 'las'], ['las', 'dos'], ['dos', 'estenosis'], ['estenosis', 'de'], ['de', 'uretra'], ['uretra', 'anterior']]), ('descritas', [['descritas', 'previamente']])], ['previamente', 0, 0, 0, 0, 0, 0, 8, ('previamente', 'ADV', ['NUM', 'NOUN', 'ADP', 'NOUN', 'ADJ', 'NOUN']), ('previamente', 'ADJ'), ('previamente', [['las', 'dos'], ['dos', 'estenosis'], ['estenosis', 'de'], ['de', 'uretra'], ['uretra', 'anterior'], ['anterior', 'descritas']]), ('previamente', [['previamente', 'moderado']])], ['moderado', 0, 0, 0, 0, 0, 0, 5, ('moderado', 'ADJ', ['NOUN', 'ADP', 'NOUN', 'ADJ', 'NOUN', 'ADV']), ('moderado', 'NOUN'), ('moderado', [['dos', 'estenosis'], ['estenosis', 'de'], ['de', 'uretra'], ['uretra', 'anterior'], ['anterior', 'descritas'], ['descritas', 'previamente']]), ('moderado', [['moderado', 'residuo']])], ['residuo', 0, 0, 0, 0, 0, 0, 1, ('residuo', 'NOUN', ['ADP', 'NOUN', 'ADJ', 'NOUN', 'ADV', 'ADJ']), ('residuo', 'ADJ'), ('residuo', [['estenosis', 'de'], ['de', 'uretra'], ['uretra', 'anterior'], ['anterior', 'descritas'], ['descritas', 'previamente'], ['previamente', 'moderado']]), ('residuo', [['residuo', 'postmiccional']])], ['postmiccional', 0, 0, 0, 0, 0, 0, 5, ('postmiccional', 'ADJ', ['NOUN', 'ADJ', 'NOUN', 'ADV', 'ADJ', 'NOUN']), ('postmiccional', 'ADP'), ('postmiccional', [['de', 'uretra'], ['uretra', 'anterior'], ['anterior', 'descritas'], ['descritas', 'previamente'], ['previamente', 'moderado'], ['moderado', 'residuo']]), ('postmiccional', [['postmiccional', 'en']])], ['en', 0, 0, 0, 0, 0, 0, 4, ('en', 'ADP', ['ADJ', 'NOUN', 'ADV', 'ADJ', 'NOUN', 'ADJ']), ('en', 'PROPN'), ('en', [['uretra', 'anterior'], ['anterior', 'descritas'], ['descritas', 'previamente'], ['previamente', 'moderado'], ['moderado', 'residuo'], ['residuo', 'postmiccional']]), ('en', [['en', 'vejiga']])], ['vejiga', 0, 0, 0, 0, 0, 0, 6, ('vejiga', 'PROPN', ['NOUN', 'ADV', 'ADJ', 'NOUN', 'ADJ', 'ADP']), ('vejiga', 'PROPN'), ('vejiga', [['anterior', 'descritas'], ['descritas', 'previamente'], ['previamente', 'moderado'], ['moderado', 'residuo'], ['residuo', 'postmiccional'], ['postmiccional', 'en']]), ('vejiga', [['vejiga', 'asi']])], ['asi', 0, 0, 0, 0, 0, 0, 6, ('asi', 'PROPN', ['ADV', 'ADJ', 'NOUN', 'ADJ', 'ADP', 'PROPN']), ('asi', 'SCONJ'), ('asi', [['descritas', 'previamente'], ['previamente', 'moderado'], ['moderado', 'residuo'], ['residuo', 'postmiccional'], ['postmiccional', 'en'], ['en', 'vejiga']]), ('asi', [['asi', 'como']])], ['como', 0, 0, 0, 0, 0, 0, 10, ('como', 'SCONJ', ['ADJ', 'NOUN', 'ADJ', 'ADP', 'PROPN', 'PROPN']), ('como', 'ADP'), ('como', [['previamente', 'moderado'], ['moderado', 'residuo'], ['residuo', 'postmiccional'], ['postmiccional', 'en'], ['en', 'vejiga'], ['vejiga', 'asi']]), ('como', [['como', 'en']])], ['en', 0, 0, 0, 0, 0, 0, 4, ('en', 'ADP', ['NOUN', 'ADJ', 'ADP', 'PROPN', 'PROPN', 'SCONJ']), ('en', 'DET'), ('en', [['moderado', 'residuo'], ['residuo', 'postmiccional'], ['postmiccional', 'en'], ['en', 'vejiga'], ['vejiga', 'asi'], ['asi', 'como']]), ('en', [['en', 'el']])], ['el', 0, 0, 0, 0, 0, 0, 12, ('el', 'DET', ['ADJ', 'ADP', 'PROPN', 'PROPN', 'SCONJ', 'ADP']), ('el', 'NOUN'), ('el', [['residuo', 'postmiccional'], ['postmiccional', 'en'], ['en', 'vejiga'], ['vejiga', 'asi'], ['asi', 'como'], ['como', 'en']]), ('el', [['el', 'interior']])], ['interior', 0, 0, 0, 0, 0, 0, 1, ('interior', 'NOUN', ['ADP', 'PROPN', 'PROPN', 'SCONJ', 'ADP', 'DET']), ('interior', 'ADP'), ('interior', [['postmiccional', 'en'], ['en', 'vejiga'], ['vejiga', 'asi'], ['asi', 'como'], ['como', 'en'], ['en', 'el']]), ('interior', [['interior', 'del']])], ['del', 0, 0, 0, 0, 0, 0, 4, ('del', 'ADP', ['PROPN', 'PROPN', 'SCONJ', 'ADP', 'DET', 'NOUN']), ('del', 'NOUN'), ('del', [['en', 'vejiga'], ['vejiga', 'asi'], ['asi', 'como'], ['como', 'en'], ['en', 'el'], ['el', 'interior']]), ('del', [['del', 'diverticulo']])], ['diverticulo', 0, 0, 0, 0, 0, 0, 1, ('diverticulo', 'NOUN', ['PROPN', 'SCONJ', 'ADP', 'DET', 'NOUN', 'ADP']), ('diverticulo', 'ADJ'), ('diverticulo', [['vejiga', 'asi'], ['asi', 'como'], ['como', 'en'], ['en', 'el'], ['el', 'interior'], ['interior', 'del']]), ('diverticulo', [['diverticulo', 'posterolateral']])], ['posterolateral', 0, 0, 0, 0, 0, 0, 5, ('posterolateral', 'ADJ', ['SCONJ', 'ADP', 'DET', 'NOUN', 'ADP', 'NOUN']), ('posterolateral', 'ADJ'), ('posterolateral', [['asi', 'como'], ['como', 'en'], ['en', 'el'], ['el', 'interior'], ['interior', 'del'], ['del', 'diverticulo']]), ('posterolateral', [['posterolateral', 'izquierdo']])], ['izquierdo', 0, 0, 0, 0, 0, 0, 5, ('izquierdo', 'ADJ', ['ADP', 'DET', 'NOUN', 'ADP', 'NOUN', 'ADJ']), ('izquierdo', 'ADJ'), ('izquierdo', [['como', 'en'], ['en', 'el'], ['el', 'interior'], ['interior', 'del'], ['del', 'diverticulo'], ['diverticulo', 'posterolateral']]), ('izquierdo', [['izquierdo', 'descrito']])], ['descrito', 0, 0, 0, 0, 0, 0, 5, ('descrito', 'ADJ', ['DET', 'NOUN', 'ADP', 'NOUN', 'ADJ', 'ADJ']), ('descrito', 'PROPN'), ('descrito', [['en', 'el'], ['el', 'interior'], ['interior', 'del'], ['del', 'diverticulo'], ['diverticulo', 'posterolateral'], ['posterolateral', 'izquierdo']]), ('descrito', [['descrito', 'uretroscopia']])], ['uretroscopia', 0, 0, 0, 0, 0, 0, 6, ('uretroscopia', 'PROPN', ['NOUN', 'ADP', 'NOUN', 'ADJ', 'ADJ', 'ADJ']), ('uretroscopia', 'NUM'), ('uretroscopia', [['el', 'interior'], ['interior', 'del'], ['del', 'diverticulo'], ['diverticulo', 'posterolateral'], ['posterolateral', 'izquierdo'], ['izquierdo', 'descrito']]), ('uretroscopia', [['uretroscopia', '102017']])], ['102017', 0, 0, 1, 1, 0, 0, 9, ('102017', 'NUM', ['ADP', 'NOUN', 'ADJ', 'ADJ', 'ADJ', 'PROPN']), ('102017', 'ADJ'), ('102017', [['interior', 'del'], ['del', 'diverticulo'], ['diverticulo', 'posterolateral'], ['posterolateral', 'izquierdo'], ['izquierdo', 'descrito'], ['descrito', 'uretroscopia']]), ('102017', [['102017', 'falsa']])], ['falsa', 0, 0, 0, 0, 0, 0, 5, ('falsa', 'ADJ', ['NOUN', 'ADJ', 'ADJ', 'ADJ', 'PROPN', 'NUM']), ('falsa', 'PROPN'), ('falsa', [['del', 'diverticulo'], ['diverticulo', 'posterolateral'], ['posterolateral', 'izquierdo'], ['izquierdo', 'descrito'], ['descrito', 'uretroscopia'], ['uretroscopia', '102017']]), ('falsa', [['falsa', 'via']])], ['via', 0, 0, 0, 0, 0, 0, 6, ('via', 'PROPN', ['ADJ', 'ADJ', 'ADJ', 'PROPN', 'NUM', 'ADJ']), ('via', 'ADP'), ('via', [['diverticulo', 'posterolateral'], ['posterolateral', 'izquierdo'], ['izquierdo', 'descrito'], ['descrito', 'uretroscopia'], ['uretroscopia', '102017'], ['102017', 'falsa']]), ('via', [['via', 'a']])], ['a', 0, 0, 0, 0, 0, 0, 4, ('a', 'ADP', ['ADJ', 'ADJ', 'PROPN', 'NUM', 'ADJ', 'PROPN']), ('a', 'NOUN'), ('a', [['posterolateral', 'izquierdo'], ['izquierdo', 'descrito'], ['descrito', 'uretroscopia'], ['uretroscopia', '102017'], ['102017', 'falsa'], ['falsa', 'via']]), ('a', [['a', 'nivel']])], ['nivel', 0, 0, 0, 0, 0, 0, 1, ('nivel', 'NOUN', ['ADJ', 'PROPN', 'NUM', 'ADJ', 'PROPN', 'ADP']), ('nivel', 'ADP'), ('nivel', [['izquierdo', 'descrito'], ['descrito', 'uretroscopia'], ['uretroscopia', '102017'], ['102017', 'falsa'], ['falsa', 'via'], ['via', 'a']]), ('nivel', [['nivel', 'de']])], ['de', 0, 0, 0, 0, 0, 0, 4, ('de', 'ADP', ['PROPN', 'NUM', 'ADJ', 'PROPN', 'ADP', 'NOUN']), ('de', 'NOUN'), ('de', [['descrito', 'uretroscopia'], ['uretroscopia', '102017'], ['102017', 'falsa'], ['falsa', 'via'], ['via', 'a'], ['a', 'nivel']]), ('de', [['de', 'uretra']])], ['uretra', 0, 0, 0, 0, 0, 0, 1, ('uretra', 'NOUN', ['NUM', 'ADJ', 'PROPN', 'ADP', 'NOUN', 'ADP']), ('uretra', 'ADJ'), ('uretra', [['uretroscopia', '102017'], ['102017', 'falsa'], ['falsa', 'via'], ['via', 'a'], ['a', 'nivel'], ['nivel', 'de']]), ('uretra', [['uretra', 'peneana']])], ['peneana', 0, 0, 0, 0, 0, 0, 5, ('peneana', 'ADJ', ['ADJ', 'PROPN', 'ADP', 'NOUN', 'ADP', 'NOUN']), ('peneana', 'VERB'), ('peneana', [['102017', 'falsa'], ['falsa', 'via'], ['via', 'a'], ['a', 'nivel'], ['nivel', 'de'], ['de', 'uretra']]), ('peneana', [['peneana', 'siguiendo']])], ['siguiendo', 0, 0, 0, 0, 0, 0, 3, ('siguiendo', 'VERB', ['PROPN', 'ADP', 'NOUN', 'ADP', 'NOUN', 'ADJ']), ('siguiendo', 'DET'), ('siguiendo', [['falsa', 'via'], ['via', 'a'], ['a', 'nivel'], ['nivel', 'de'], ['de', 'uretra'], ['uretra', 'peneana']]), ('siguiendo', [['siguiendo', 'la']])], ['la', 0, 0, 0, 0, 0, 0, 12, ('la', 'DET', ['ADP', 'NOUN', 'ADP', 'NOUN', 'ADJ', 'VERB']), ('la', 'ADJ'), ('la', [['via', 'a'], ['a', 'nivel'], ['nivel', 'de'], ['de', 'uretra'], ['uretra', 'peneana'], ['peneana', 'siguiendo']]), ('la', [['la', 'uretra']])], ['uretra', 0, 0, 0, 0, 0, 0, 5, ('uretra', 'ADJ', ['NOUN', 'ADP', 'NOUN', 'ADJ', 'VERB', 'DET']), ('uretra', 'PRON'), ('uretra', [['a', 'nivel'], ['nivel', 'de'], ['de', 'uretra'], ['uretra', 'peneana'], ['peneana', 'siguiendo'], ['siguiendo', 'la']]), ('uretra', [['uretra', 'se']])], ['se', 0, 0, 0, 0, 0, 0, 2, ('se', 'PRON', ['ADP', 'NOUN', 'ADJ', 'VERB', 'DET', 'ADJ']), ('se', 'VERB'), ('se', [['nivel', 'de'], ['de', 'uretra'], ['uretra', 'peneana'], ['peneana', 'siguiendo'], ['siguiendo', 'la'], ['la', 'uretra']]), ('se', [['se', 'detecta']])], ['detecta', 0, 0, 0, 0, 0, 0, 3, ('detecta', 'VERB', ['NOUN', 'ADJ', 'VERB', 'DET', 'ADJ', 'PRON']), ('detecta', 'ADJ'), ('detecta', [['de', 'uretra'], ['uretra', 'peneana'], ['peneana', 'siguiendo'], ['siguiendo', 'la'], ['la', 'uretra'], ['uretra', 'se']]), ('detecta', [['detecta', 'gran']])], ['gran', 0, 0, 0, 0, 0, 0, 5, ('gran', 'ADJ', ['ADJ', 'VERB', 'DET', 'ADJ', 'PRON', 'VERB']), ('gran', 'NOUN'), ('gran', [['uretra', 'peneana'], ['peneana', 'siguiendo'], ['siguiendo', 'la'], ['la', 'uretra'], ['uretra', 'se'], ['se', 'detecta']]), ('gran', [['gran', 'estenosis']])], ['estenosis', 0, 0, 0, 0, 0, 0, 1, ('estenosis', 'NOUN', ['VERB', 'DET', 'ADJ', 'PRON', 'VERB', 'ADJ']), ('estenosis', 'PRON'), ('estenosis', [['peneana', 'siguiendo'], ['siguiendo', 'la'], ['la', 'uretra'], ['uretra', 'se'], ['se', 'detecta'], ['detecta', 'gran']]), ('estenosis', [['estenosis', 'que']])], ['que', 0, 0, 0, 0, 0, 0, 2, ('que', 'PRON', ['DET', 'ADJ', 'PRON', 'VERB', 'ADJ', 'NOUN']), ('que', 'ADV'), ('que', [['siguiendo', 'la'], ['la', 'uretra'], ['uretra', 'se'], ['se', 'detecta'], ['detecta', 'gran'], ['gran', 'estenosis']]), ('que', [['que', 'no']])], ['no', 0, 0, 0, 0, 0, 0, 8, ('no', 'ADV', ['ADJ', 'PRON', 'VERB', 'ADJ', 'NOUN', 'PRON']), ('no', 'VERB'), ('no', [['la', 'uretra'], ['uretra', 'se'], ['se', 'detecta'], ['detecta', 'gran'], ['gran', 'estenosis'], ['estenosis', 'que']]), ('no', [['no', 'permite']])], ['permite', 0, 0, 0, 0, 0, 0, 3, ('permite', 'VERB', ['PRON', 'VERB', 'ADJ', 'NOUN', 'PRON', 'ADV']), ('permite', 'DET'), ('permite', [['uretra', 'se'], ['se', 'detecta'], ['detecta', 'gran'], ['gran', 'estenosis'], ['estenosis', 'que'], ['que', 'no']]), ('permite', [['permite', 'el']])], ['el', 0, 0, 0, 0, 0, 0, 12, ('el', 'DET', ['VERB', 'ADJ', 'NOUN', 'PRON', 'ADV', 'VERB']), ('el', 'NOUN'), ('el', [['se', 'detecta'], ['detecta', 'gran'], ['gran', 'estenosis'], ['estenosis', 'que'], ['que', 'no'], ['no', 'permite']]), ('el', [['el', 'paso']])], ['paso', 0, 0, 0, 0, 0, 0, 1, ('paso', 'NOUN', ['ADJ', 'NOUN', 'PRON', 'ADV', 'VERB', 'DET']), ('paso', 'ADP'), ('paso', [['detecta', 'gran'], ['gran', 'estenosis'], ['estenosis', 'que'], ['que', 'no'], ['no', 'permite'], ['permite', 'el']]), ('paso', [['paso', 'de']])], ['de', 0, 0, 0, 0, 0, 0, 4, ('de', 'ADP', ['NOUN', 'PRON', 'ADV', 'VERB', 'DET', 'NOUN']), ('de', 'DET'), ('de', [['gran', 'estenosis'], ['estenosis', 'que'], ['que', 'no'], ['no', 'permite'], ['permite', 'el'], ['el', 'paso']]), ('de', [['de', 'una']])], ['una', 0, 0, 0, 0, 0, 0, 12, ('una', 'DET', ['PRON', 'ADV', 'VERB', 'DET', 'NOUN', 'ADP']), ('una', 'NOUN'), ('una', [['estenosis', 'que'], ['que', 'no'], ['no', 'permite'], ['permite', 'el'], ['el', 'paso'], ['paso', 'de']]), ('una', [['una', 'guia']])], ['guia', 0, 0, 0, 0, 0, 0, 1, ('guia', 'NOUN', ['ADV', 'VERB', 'DET', 'NOUN', 'ADP', 'DET']), ('guia', 'ADJ'), ('guia', [['que', 'no'], ['no', 'permite'], ['permite', 'el'], ['el', 'paso'], ['paso', 'de'], ['de', 'una']]), ('guia', [['guia', 'evolucio']])], ['evolucio', 0, 0, 0, 0, 0, 0, 5, ('evolucio', 'ADJ', ['VERB', 'DET', 'NOUN', 'ADP', 'DET', 'NOUN']), ('evolucio', 'VERB'), ('evolucio', [['no', 'permite'], ['permite', 'el'], ['el', 'paso'], ['paso', 'de'], ['de', 'una'], ['una', 'guia']]), ('evolucio', [['evolucio', 'clinica']])], ['clinica', 0, 0, 0, 0, 0, 0, 3, ('clinica', 'VERB', ['DET', 'NOUN', 'ADP', 'DET', 'NOUN', 'ADJ']), ('clinica', 'DET'), ('clinica', [['permite', 'el'], ['el', 'paso'], ['paso', 'de'], ['de', 'una'], ['una', 'guia'], ['guia', 'evolucio']]), ('clinica', [['clinica', 'el']])], ['el', 0, 0, 0, 0, 0, 0, 12, ('el', 'DET', ['NOUN', 'ADP', 'DET', 'NOUN', 'ADJ', 'VERB']), ('el', 'NUM'), ('el', [['el', 'paso'], ['paso', 'de'], ['de', 'una'], ['una', 'guia'], ['guia', 'evolucio'], ['evolucio', 'clinica']]), ('el', [['el', '24']])], ['24', 0, 0, 1, 1, 0, 0, 9, ('24', 'NUM', ['ADP', 'DET', 'NOUN', 'ADJ', 'VERB', 'DET']), ('24', 'ADP'), ('24', [['paso', 'de'], ['de', 'una'], ['una', 'guia'], ['guia', 'evolucio'], ['evolucio', 'clinica'], ['clinica', 'el']]), ('24', [['24', 'de']])], ['de', 0, 0, 0, 0, 0, 0, 4, ('de', 'ADP', ['DET', 'NOUN', 'ADJ', 'VERB', 'DET', 'NUM']), ('de', 'NOUN'), ('de', [['de', 'una'], ['una', 'guia'], ['guia', 'evolucio'], ['evolucio', 'clinica'], ['clinica', 'el'], ['el', '24']]), ('de', [['de', 'julio']])], ['julio', 0, 0, 0, 0, 0, 0, 1, ('julio', 'NOUN', ['NOUN', 'ADJ', 'VERB', 'DET', 'NUM', 'ADP']), ('julio', 'ADP'), ('julio', [['una', 'guia'], ['guia', 'evolucio'], ['evolucio', 'clinica'], ['clinica', 'el'], ['el', '24'], ['24', 'de']]), ('julio', [['julio', 'de']])], ['de', 0, 0, 0, 0, 0, 0, 4, ('de', 'ADP', ['ADJ', 'VERB', 'DET', 'NUM', 'ADP', 'NOUN']), ('de', 'NUM'), ('de', [['guia', 'evolucio'], ['evolucio', 'clinica'], ['clinica', 'el'], ['el', '24'], ['24', 'de'], ['de', 'julio']]), ('de', [['de', '2018']])], ['2018', 0, 0, 1, 1, 0, 0, 9, ('2018', 'NUM', ['VERB', 'DET', 'NUM', 'ADP', 'NOUN', 'ADP']), ('2018', 'ADP'), ('2018', [['evolucio', 'clinica'], ['clinica', 'el'], ['el', '24'], ['24', 'de'], ['de', 'julio'], ['julio', 'de']]), ('2018', [['2018', 'con']])], ['con', 0, 0, 0, 0, 0, 0, 4, ('con', 'ADP', ['DET', 'NUM', 'ADP', 'NOUN', 'ADP', 'NUM']), ('con', 'DET'), ('con', [['clinica', 'el'], ['el', '24'], ['24', 'de'], ['de', 'julio'], ['julio', 'de'], ['de', '2018']]), ('con', [['con', 'el']])], ['el', 0, 0, 0, 0, 0, 0, 12, ('el', 'DET', ['NUM', 'ADP', 'NOUN', 'ADP', 'NUM', 'ADP']), ('el', 'NOUN'), ('el', [['el', '24'], ['24', 'de'], ['de', 'julio'], ['julio', 'de'], ['de', '2018'], ['2018', 'con']]), ('el', [['el', 'consentimiento']])], ['consentimiento', 0, 0, 0, 0, 0, 0, 1, ('consentimiento', 'NOUN', ['ADP', 'NOUN', 'ADP', 'NUM', 'ADP', 'DET']), ('consentimiento', 'ADJ'), ('consentimiento', [['24', 'de'], ['de', 'julio'], ['julio', 'de'], ['de', '2018'], ['2018', 'con'], ['con', 'el']]), ('consentimiento', [['consentimiento', 'informado']])], ['informado', 0, 0, 0, 0, 0, 0, 5, ('informado', 'ADJ', ['NOUN', 'ADP', 'NUM', 'ADP', 'DET', 'NOUN']), ('informado', 'ADP'), ('informado', [['de', 'julio'], ['julio', 'de'], ['de', '2018'], ['2018', 'con'], ['con', 'el'], ['el', 'consentimiento']]), ('informado', [['informado', 'del']])], ['del', 0, 0, 0, 0, 0, 0, 4, ('del', 'ADP', ['ADP', 'NUM', 'ADP', 'DET', 'NOUN', 'ADJ']), ('del', 'NOUN'), ('del', [['julio', 'de'], ['de', '2018'], ['2018', 'con'], ['con', 'el'], ['el', 'consentimiento'], ['consentimiento', 'informado']]), ('del', [['del', 'paciente']])], ['paciente', 0, 0, 0, 0, 0, 0, 1, ('paciente', 'NOUN', ['NUM', 'ADP', 'DET', 'NOUN', 'ADJ', 'ADP']), ('paciente', 'CCONJ'), ('paciente', [['de', '2018'], ['2018', 'con'], ['con', 'el'], ['el', 'consentimiento'], ['consentimiento', 'informado'], ['informado', 'del']]), ('paciente', [['paciente', 'y']])], ['y', 0, 0, 0, 0, 0, 0, 7, ('y', 'CCONJ', ['ADP', 'DET', 'NOUN', 'ADJ', 'ADP', 'NOUN']), ('y', 'ADP'), ('y', [['2018', 'con'], ['con', 'el'], ['el', 'consentimiento'], ['consentimiento', 'informado'], ['informado', 'del'], ['del', 'paciente']]), ('y', [['y', 'sin']])], ['sin', 0, 0, 0, 0, 0, 0, 4, ('sin', 'ADP', ['DET', 'NOUN', 'ADJ', 'ADP', 'NOUN', 'CCONJ']), ('sin', 'PROPN'), ('sin', [['con', 'el'], ['el', 'consentimiento'], ['consentimiento', 'informado'], ['informado', 'del'], ['del', 'paciente'], ['paciente', 'y']]), ('sin', [['sin', 'contraindicacion']])], ['contraindicacion', 0, 0, 0, 0, 0, 0, 6, ('contraindicacion', 'PROPN', ['NOUN', 'ADJ', 'ADP', 'NOUN', 'CCONJ', 'ADP']), ('contraindicacion', 'ADJ'), ('contraindicacion', [['el', 'consentimiento'], ['consentimiento', 'informado'], ['informado', 'del'], ['del', 'paciente'], ['paciente', 'y'], ['y', 'sin']]), ('contraindicacion', [['contraindicacion', 'preoperatoria']])], ['preoperatoria', 0, 0, 0, 0, 0, 0, 5, ('preoperatoria', 'ADJ', ['ADJ', 'ADP', 'NOUN', 'CCONJ', 'ADP', 'PROPN']), ('preoperatoria', 'PRON'), ('preoperatoria', [['consentimiento', 'informado'], ['informado', 'del'], ['del', 'paciente'], ['paciente', 'y'], ['y', 'sin'], ['sin', 'contraindicacion']]), ('preoperatoria', [['preoperatoria', 'se']])], ['se', 0, 0, 0, 0, 0, 0, 2, ('se', 'PRON', ['ADP', 'NOUN', 'CCONJ', 'ADP', 'PROPN', 'ADJ']), ('se', 'VERB'), ('se', [['informado', 'del'], ['del', 'paciente'], ['paciente', 'y'], ['y', 'sin'], ['sin', 'contraindicacion'], ['contraindicacion', 'preoperatoria']]), ('se', [['se', 'realiza']])], ['realiza', 0, 0, 0, 0, 0, 0, 3, ('realiza', 'VERB', ['NOUN', 'CCONJ', 'ADP', 'PROPN', 'ADJ', 'PRON']), ('realiza', 'NOUN'), ('realiza', [['del', 'paciente'], ['paciente', 'y'], ['y', 'sin'], ['sin', 'contraindicacion'], ['contraindicacion', 'preoperatoria'], ['preoperatoria', 'se']]), ('realiza', [['realiza', 'uretrotomia']])], ['uretrotomia', 0, 0, 0, 0, 0, 0, 1, ('uretrotomia', 'NOUN', ['CCONJ', 'ADP', 'PROPN', 'ADJ', 'PRON', 'VERB']), ('uretrotomia', 'ADJ'), ('uretrotomia', [['paciente', 'y'], ['y', 'sin'], ['sin', 'contraindicacion'], ['contraindicacion', 'preoperatoria'], ['preoperatoria', 'se'], ['se', 'realiza']]), ('uretrotomia', [['uretrotomia', 'interna']])], ['interna', 0, 0, 0, 0, 0, 0, 5, ('interna', 'ADJ', ['ADP', 'PROPN', 'ADJ', 'PRON', 'VERB', 'NOUN']), ('interna', 'ADP'), ('interna', [['y', 'sin'], ['sin', 'contraindicacion'], ['contraindicacion', 'preoperatoria'], ['preoperatoria', 'se'], ['se', 'realiza'], ['realiza', 'uretrotomia']]), ('interna', [['interna', 'sin']])], ['sin', 0, 0, 0, 0, 0, 0, 4, ('sin', 'ADP', ['PROPN', 'ADJ', 'PRON', 'VERB', 'NOUN', 'ADJ']), ('sin', 'NOUN'), ('sin', [['sin', 'contraindicacion'], ['contraindicacion', 'preoperatoria'], ['preoperatoria', 'se'], ['se', 'realiza'], ['realiza', 'uretrotomia'], ['uretrotomia', 'interna']]), ('sin', [['sin', 'incidencias']])], ['incidencias', 0, 0, 0, 0, 0, 0, 1, ('incidencias', 'NOUN', ['ADJ', 'PRON', 'VERB', 'NOUN', 'ADJ', 'ADP']), ('incidencias', 'ADP'), ('incidencias', [['contraindicacion', 'preoperatoria'], ['preoperatoria', 'se'], ['se', 'realiza'], ['realiza', 'uretrotomia'], ['uretrotomia', 'interna'], ['interna', 'sin']]), ('incidencias', [['incidencias', 'tras']])], ['tras', 0, 0, 0, 0, 0, 0, 4, ('tras', 'ADP', ['PRON', 'VERB', 'NOUN', 'ADJ', 'ADP', 'NOUN']), ('tras', 'DET'), ('tras', [['preoperatoria', 'se'], ['se', 'realiza'], ['realiza', 'uretrotomia'], ['uretrotomia', 'interna'], ['interna', 'sin'], ['sin', 'incidencias']]), ('tras', [['tras', 'el']])], ['el', 0, 0, 0, 0, 0, 0, 12, ('el', 'DET', ['VERB', 'NOUN', 'ADJ', 'ADP', 'NOUN', 'ADP']), ('el', 'NOUN'), ('el', [['se', 'realiza'], ['realiza', 'uretrotomia'], ['uretrotomia', 'interna'], ['interna', 'sin'], ['sin', 'incidencias'], ['incidencias', 'tras']]), ('el', [['el', 'procedimiento']])], ['procedimiento', 0, 0, 0, 0, 0, 0, 1, ('procedimiento', 'NOUN', ['NOUN', 'ADJ', 'ADP', 'NOUN', 'ADP', 'DET']), ('procedimiento', 'DET'), ('procedimiento', [['realiza', 'uretrotomia'], ['uretrotomia', 'interna'], ['interna', 'sin'], ['sin', 'incidencias'], ['incidencias', 'tras'], ['tras', 'el']]), ('procedimiento', [['procedimiento', 'el']])], ['el', 0, 0, 0, 0, 0, 0, 12, ('el', 'DET', ['ADJ', 'ADP', 'NOUN', 'ADP', 'DET', 'NOUN']), ('el', 'NOUN'), ('el', [['uretrotomia', 'interna'], ['interna', 'sin'], ['sin', 'incidencias'], ['incidencias', 'tras'], ['tras', 'el'], ['el', 'procedimiento']]), ('el', [['el', 'paciente']])], ['paciente', 0, 0, 0, 0, 0, 0, 1, ('paciente', 'NOUN', ['ADP', 'NOUN', 'ADP', 'DET', 'NOUN', 'DET']), ('paciente', 'AUX'), ('paciente', [['interna', 'sin'], ['sin', 'incidencias'], ['incidencias', 'tras'], ['tras', 'el'], ['el', 'procedimiento'], ['procedimiento', 'el']]), ('paciente', [['paciente', 'es']])], ['es', 0, 0, 0, 0, 0, 0, 11, ('es', 'AUX', ['NOUN', 'ADP', 'DET', 'NOUN', 'DET', 'NOUN']), ('es', 'VERB'), ('es', [['sin', 'incidencias'], ['incidencias', 'tras'], ['tras', 'el'], ['el', 'procedimiento'], ['procedimiento', 'el'], ['el', 'paciente']]), ('es', [['es', 'trasladado']])], ['trasladado', 0, 0, 0, 0, 0, 0, 3, ('trasladado', 'VERB', ['ADP', 'DET', 'NOUN', 'DET', 'NOUN', 'AUX']), ('trasladado', 'ADP'), ('trasladado', [['incidencias', 'tras'], ['tras', 'el'], ['el', 'procedimiento'], ['procedimiento', 'el'], ['el', 'paciente'], ['paciente', 'es']]), ('trasladado', [['trasladado', 'a']])], ['a', 0, 0, 0, 0, 0, 0, 4, ('a', 'ADP', ['DET', 'NOUN', 'DET', 'NOUN', 'AUX', 'VERB']), ('a', 'DET'), ('a', [['tras', 'el'], ['el', 'procedimiento'], ['procedimiento', 'el'], ['el', 'paciente'], ['paciente', 'es'], ['es', 'trasladado']]), ('a', [['a', 'la']])], ['la', 0, 0, 0, 0, 0, 0, 12, ('la', 'DET', ['NOUN', 'DET', 'NOUN', 'AUX', 'VERB', 'ADP']), ('la', 'NOUN'), ('la', [['el', 'procedimiento'], ['procedimiento', 'el'], ['el', 'paciente'], ['paciente', 'es'], ['es', 'trasladado'], ['trasladado', 'a']]), ('la', [['la', 'planta']])], ['planta', 0, 0, 0, 0, 0, 0, 1, ('planta', 'NOUN', ['DET', 'NOUN', 'AUX', 'VERB', 'ADP', 'DET']), ('planta', 'ADP'), ('planta', [['procedimiento', 'el'], ['el', 'paciente'], ['paciente', 'es'], ['es', 'trasladado'], ['trasladado', 'a'], ['a', 'la']]), ('planta', [['planta', 'de']])], ['de', 0, 0, 0, 0, 0, 0, 4, ('de', 'ADP', ['NOUN', 'AUX', 'VERB', 'ADP', 'DET', 'NOUN']), ('de', 'NOUN'), ('de', [['el', 'paciente'], ['paciente', 'es'], ['es', 'trasladado'], ['trasladado', 'a'], ['a', 'la'], ['la', 'planta']]), ('de', [['de', 'hospitalizacion']])], ['hospitalizacion', 0, 0, 0, 0, 0, 0, 1, ('hospitalizacion', 'NOUN', ['AUX', 'VERB', 'ADP', 'DET', 'NOUN', 'ADP']), ('hospitalizacion', 'AUX'), ('hospitalizacion', [['paciente', 'es'], ['es', 'trasladado'], ['trasladado', 'a'], ['a', 'la'], ['la', 'planta'], ['planta', 'de']]), ('hospitalizacion', [['hospitalizacion', 'siendo']])], ['siendo', 0, 0, 0, 0, 0, 0, 11, ('siendo', 'AUX', ['VERB', 'ADP', 'DET', 'NOUN', 'ADP', 'NOUN']), ('siendo', 'ADJ'), ('siendo', [['es', 'trasladado'], ['trasladado', 'a'], ['a', 'la'], ['la', 'planta'], ['planta', 'de'], ['de', 'hospitalizacion']]), ('siendo', [['siendo', 'portador']])], ['portador', 0, 0, 0, 0, 0, 0, 5, ('portador', 'ADJ', ['ADP', 'DET', 'NOUN', 'ADP', 'NOUN', 'AUX']), ('portador', 'ADP'), ('portador', [['trasladado', 'a'], ['a', 'la'], ['la', 'planta'], ['planta', 'de'], ['de', 'hospitalizacion'], ['hospitalizacion', 'siendo']]), ('portador', [['portador', 'de']])], ['de', 0, 0, 0, 0, 0, 0, 4, ('de', 'ADP', ['DET', 'NOUN', 'ADP', 'NOUN', 'AUX', 'ADJ']), ('de', 'ADJ'), ('de', [['a', 'la'], ['la', 'planta'], ['planta', 'de'], ['de', 'hospitalizacion'], ['hospitalizacion', 'siendo'], ['siendo', 'portador']]), ('de', [['de', 'lavado']])], ['lavado', 0, 0, 0, 0, 0, 0, 5, ('lavado', 'ADJ', ['NOUN', 'ADP', 'NOUN', 'AUX', 'ADJ', 'ADP']), ('lavado', 'ADJ'), ('lavado', [['la', 'planta'], ['planta', 'de'], ['de', 'hospitalizacion'], ['hospitalizacion', 'siendo'], ['siendo', 'portador'], ['portador', 'de']]), ('lavado', [['lavado', 'vesical']])], ['vesical', 0, 0, 0, 0, 0, 0, 5, ('vesical', 'ADJ', ['ADP', 'NOUN', 'AUX', 'ADJ', 'ADP', 'ADJ']), ('vesical', 'ADJ'), ('vesical', [['planta', 'de'], ['de', 'hospitalizacion'], ['hospitalizacion', 'siendo'], ['siendo', 'portador'], ['portador', 'de'], ['de', 'lavado']]), ('vesical', [['vesical', 'continuo']])], ['continuo', 0, 0, 0, 0, 0, 0, 5, ('continuo', 'ADJ', ['NOUN', 'AUX', 'ADJ', 'ADP', 'ADJ', 'ADJ']), ('continuo', 'ADV'), ('continuo', [['de', 'hospitalizacion'], ['hospitalizacion', 'siendo'], ['siendo', 'portador'], ['portador', 'de'], ['de', 'lavado'], ['lavado', 'vesical']]), ('continuo', [['continuo', 'posteriormente']])], ['posteriormente', 0, 0, 0, 0, 0, 0, 8, ('posteriormente', 'ADV', ['AUX', 'ADJ', 'ADP', 'ADJ', 'ADJ', 'ADJ']), ('posteriormente', 'PRON'), ('posteriormente', [['hospitalizacion', 'siendo'], ['siendo', 'portador'], ['portador', 'de'], ['de', 'lavado'], ['lavado', 'vesical'], ['vesical', 'continuo']]), ('posteriormente', [['posteriormente', 'se']])], ['se', 0, 0, 0, 0, 0, 0, 2, ('se', 'PRON', ['ADJ', 'ADP', 'ADJ', 'ADJ', 'ADJ', 'ADV']), ('se', 'VERB'), ('se', [['siendo', 'portador'], ['portador', 'de'], ['de', 'lavado'], ['lavado', 'vesical'], ['vesical', 'continuo'], ['continuo', 'posteriormente']]), ('se', [['se', 'mantiene']])], ['mantiene', 0, 0, 0, 0, 0, 0, 3, ('mantiene', 'VERB', ['ADP', 'ADJ', 'ADJ', 'ADJ', 'ADV', 'PRON']), ('mantiene', 'ADP'), ('mantiene', [['portador', 'de'], ['de', 'lavado'], ['lavado', 'vesical'], ['vesical', 'continuo'], ['continuo', 'posteriormente'], ['posteriormente', 'se']]), ('mantiene', [['mantiene', 'en']])], ['en', 0, 0, 0, 0, 0, 0, 4, ('en', 'ADP', ['ADJ', 'ADJ', 'ADJ', 'ADV', 'PRON', 'VERB']), ('en', 'NOUN'), ('en', [['de', 'lavado'], ['lavado', 'vesical'], ['vesical', 'continuo'], ['continuo', 'posteriormente'], ['posteriormente', 'se'], ['se', 'mantiene']]), ('en', [['en', 'buen']])], ['buen', 0, 0, 0, 0, 0, 0, 1, ('buen', 'NOUN', ['ADJ', 'ADJ', 'ADV', 'PRON', 'VERB', 'ADP']), ('buen', 'NOUN'), ('buen', [['lavado', 'vesical'], ['vesical', 'continuo'], ['continuo', 'posteriormente'], ['posteriormente', 'se'], ['se', 'mantiene'], ['mantiene', 'en']]), ('buen', [['buen', 'estado']])], ['estado', 0, 0, 0, 0, 0, 0, 1, ('estado', 'NOUN', ['ADJ', 'ADV', 'PRON', 'VERB', 'ADP', 'NOUN']), ('estado', 'ADJ'), ('estado', [['vesical', 'continuo'], ['continuo', 'posteriormente'], ['posteriormente', 'se'], ['se', 'mantiene'], ['mantiene', 'en'], ['en', 'buen']]), ('estado', [['estado', 'general']])], ['general', 0, 0, 0, 0, 0, 0, 5, ('general', 'ADJ', ['ADV', 'PRON', 'VERB', 'ADP', 'NOUN', 'NOUN']), ('general', 'ADJ'), ('general', [['continuo', 'posteriormente'], ['posteriormente', 'se'], ['se', 'mantiene'], ['mantiene', 'en'], ['en', 'buen'], ['buen', 'estado']]), ('general', [['general', 'afebril']])], ['afebril', 0, 0, 0, 0, 0, 0, 5, ('afebril', 'ADJ', ['PRON', 'VERB', 'ADP', 'NOUN', 'NOUN', 'ADJ']), ('afebril', 'ADV'), ('afebril', [['posteriormente', 'se'], ['se', 'mantiene'], ['mantiene', 'en'], ['en', 'buen'], ['buen', 'estado'], ['estado', 'general']]), ('afebril', [['afebril', 'hemodinamicamente']])], ['hemodinamicamente', 0, 0, 0, 0, 0, 0, 8, ('hemodinamicamente', 'ADV', ['VERB', 'ADP', 'NOUN', 'NOUN', 'ADJ', 'ADJ']), ('hemodinamicamente', 'ADJ'), ('hemodinamicamente', [['se', 'mantiene'], ['mantiene', 'en'], ['en', 'buen'], ['buen', 'estado'], ['estado', 'general'], ['general', 'afebril']]), ('hemodinamicamente', [['hemodinamicamente', 'estable']])], ['estable', 0, 0, 0, 0, 0, 0, 5, ('estable', 'ADJ', ['ADP', 'NOUN', 'NOUN', 'ADJ', 'ADJ', 'ADV']), ('estable', 'CCONJ'), ('estable', [['mantiene', 'en'], ['en', 'buen'], ['buen', 'estado'], ['estado', 'general'], ['general', 'afebril'], ['afebril', 'hemodinamicamente']]), ('estable', [['estable', 'y']])], ['y', 0, 0, 0, 0, 0, 0, 7, ('y', 'CCONJ', ['NOUN', 'NOUN', 'ADJ', 'ADJ', 'ADV', 'ADJ']), ('y', 'ADP'), ('y', [['en', 'buen'], ['buen', 'estado'], ['estado', 'general'], ['general', 'afebril'], ['afebril', 'hemodinamicamente'], ['hemodinamicamente', 'estable']]), ('y', [['y', 'con']])], ['con', 0, 0, 0, 0, 0, 0, 4, ('con', 'ADP', ['NOUN', 'ADJ', 'ADJ', 'ADV', 'ADJ', 'CCONJ']), ('con', 'ADJ'), ('con', [['buen', 'estado'], ['estado', 'general'], ['general', 'afebril'], ['afebril', 'hemodinamicamente'], ['hemodinamicamente', 'estable'], ['estable', 'y']]), ('con', [['con', 'buen']])], ['buen', 0, 0, 0, 0, 0, 0, 5, ('buen', 'ADJ', ['ADJ', 'ADJ', 'ADV', 'ADJ', 'CCONJ', 'ADP']), ('buen', 'NOUN'), ('buen', [['estado', 'general'], ['general', 'afebril'], ['afebril', 'hemodinamicamente'], ['hemodinamicamente', 'estable'], ['estable', 'y'], ['y', 'con']]), ('buen', [['buen', 'control']])], ['control', 0, 0, 0, 0, 0, 0, 1, ('control', 'NOUN', ['ADJ', 'ADV', 'ADJ', 'CCONJ', 'ADP', 'ADJ']), ('control', 'ADP'), ('control', [['general', 'afebril'], ['afebril', 'hemodinamicamente'], ['hemodinamicamente', 'estable'], ['estable', 'y'], ['y', 'con'], ['con', 'buen']]), ('control', [['control', 'del']])], ['del', 0, 0, 0, 0, 0, 0, 4, ('del', 'ADP', ['ADV', 'ADJ', 'CCONJ', 'ADP', 'ADJ', 'NOUN']), ('del', 'NOUN'), ('del', [['afebril', 'hemodinamicamente'], ['hemodinamicamente', 'estable'], ['estable', 'y'], ['y', 'con'], ['con', 'buen'], ['buen', 'control']]), ('del', [['del', 'dolor']])], ['dolor', 0, 0, 0, 0, 0, 0, 1, ('dolor', 'NOUN', ['ADJ', 'CCONJ', 'ADP', 'ADJ', 'NOUN', 'ADP']), ('dolor', 'ADJ'), ('dolor', [['hemodinamicamente', 'estable'], ['estable', 'y'], ['y', 'con'], ['con', 'buen'], ['buen', 'control'], ['control', 'del']]), ('dolor', [['dolor', 'aclarado']])], ['aclarado', 0, 0, 0, 0, 0, 0, 5, ('aclarado', 'ADJ', ['CCONJ', 'ADP', 'ADJ', 'NOUN', 'ADP', 'NOUN']), ('aclarado', 'ADJ'), ('aclarado', [['estable', 'y'], ['y', 'con'], ['con', 'buen'], ['buen', 'control'], ['control', 'del'], ['del', 'dolor']]), ('aclarado', [['aclarado', 'progresivo']])], ['progresivo', 0, 0, 0, 0, 0, 0, 5, ('progresivo', 'ADJ', ['ADP', 'ADJ', 'NOUN', 'ADP', 'NOUN', 'ADJ']), ('progresivo', 'ADP'), ('progresivo', [['y', 'con'], ['con', 'buen'], ['buen', 'control'], ['control', 'del'], ['del', 'dolor'], ['dolor', 'aclarado']]), ('progresivo', [['progresivo', 'de']])], ['de', 0, 0, 0, 0, 0, 0, 4, ('de', 'ADP', ['ADJ', 'NOUN', 'ADP', 'NOUN', 'ADJ', 'ADJ']), ('de', 'DET'), ('de', [['con', 'buen'], ['buen', 'control'], ['control', 'del'], ['del', 'dolor'], ['dolor', 'aclarado'], ['aclarado', 'progresivo']]), ('de', [['de', 'la']])], ['la', 0, 0, 0, 0, 0, 0, 12, ('la', 'DET', ['NOUN', 'ADP', 'NOUN', 'ADJ', 'ADJ', 'ADP']), ('la', 'NOUN'), ('la', [['buen', 'control'], ['control', 'del'], ['del', 'dolor'], ['dolor', 'aclarado'], ['aclarado', 'progresivo'], ['progresivo', 'de']]), ('la', [['la', 'orina']])], ['orina', 0, 0, 0, 0, 0, 0, 1, ('orina', 'NOUN', ['ADP', 'NOUN', 'ADJ', 'ADJ', 'ADP', 'DET']), ('orina', 'ADP'), ('orina', [['control', 'del'], ['del', 'dolor'], ['dolor', 'aclarado'], ['aclarado', 'progresivo'], ['progresivo', 'de'], ['de', 'la']]), ('orina', [['orina', 'con']])], ['con', 0, 0, 0, 0, 0, 0, 4, ('con', 'ADP', ['NOUN', 'ADJ', 'ADJ', 'ADP', 'DET', 'NOUN']), ('con', 'DET'), ('con', [['del', 'dolor'], ['dolor', 'aclarado'], ['aclarado', 'progresivo'], ['progresivo', 'de'], ['de', 'la'], ['la', 'orina']]), ('con', [['con', 'los']])], ['los', 0, 0, 0, 0, 0, 0, 12, ('los', 'DET', ['ADJ', 'ADJ', 'ADP', 'DET', 'NOUN', 'ADP']), ('los', 'NOUN'), ('los', [['dolor', 'aclarado'], ['aclarado', 'progresivo'], ['progresivo', 'de'], ['de', 'la'], ['la', 'orina'], ['orina', 'con']]), ('los', [['los', 'lavados']])], ['lavados', 0, 0, 0, 0, 0, 0, 1, ('lavados', 'NOUN', ['ADJ', 'ADP', 'DET', 'NOUN', 'ADP', 'DET']), ('lavados', 'ADJ'), ('lavados', [['aclarado', 'progresivo'], ['progresivo', 'de'], ['de', 'la'], ['la', 'orina'], ['orina', 'con'], ['con', 'los']]), ('lavados', [['lavados', 'vesicales']])], ['vesicales', 0, 0, 0, 0, 0, 0, 5, ('vesicales', 'ADJ', ['ADP', 'DET', 'NOUN', 'ADP', 'DET', 'NOUN']), ('vesicales', 'ADJ'), ('vesicales', [['progresivo', 'de'], ['de', 'la'], ['la', 'orina'], ['orina', 'con'], ['con', 'los'], ['los', 'lavados']]), ('vesicales', [['vesicales', 'continuos']])], ['continuos', 0, 0, 0, 0, 0, 0, 5, ('continuos', 'ADJ', ['DET', 'NOUN', 'ADP', 'DET', 'NOUN', 'ADJ']), ('continuos', 'PRON'), ('continuos', [['de', 'la'], ['la', 'orina'], ['orina', 'con'], ['con', 'los'], ['los', 'lavados'], ['lavados', 'vesicales']]), ('continuos', [['continuos', 'que']])], ['que', 0, 0, 0, 0, 0, 0, 2, ('que', 'PRON', ['NOUN', 'ADP', 'DET', 'NOUN', 'ADJ', 'ADJ']), ('que', 'VERB'), ('que', [['la', 'orina'], ['orina', 'con'], ['con', 'los'], ['los', 'lavados'], ['lavados', 'vesicales'], ['vesicales', 'continuos']]), ('que', [['que', 'permiten']])], ['permiten', 0, 0, 0, 0, 0, 0, 3, ('permiten', 'VERB', ['ADP', 'DET', 'NOUN', 'ADJ', 'ADJ', 'PRON']), ('permiten', 'DET'), ('permiten', [['orina', 'con'], ['con', 'los'], ['los', 'lavados'], ['lavados', 'vesicales'], ['vesicales', 'continuos'], ['continuos', 'que']]), ('permiten', [['permiten', 'su']])], ['su', 0, 0, 0, 0, 0, 0, 12, ('su', 'DET', ['DET', 'NOUN', 'ADJ', 'ADJ', 'PRON', 'VERB']), ('su', 'NOUN'), ('su', [['con', 'los'], ['los', 'lavados'], ['lavados', 'vesicales'], ['vesicales', 'continuos'], ['continuos', 'que'], ['que', 'permiten']]), ('su', [['su', 'retirada']])], ['retirada', 0, 0, 0, 0, 0, 0, 1, ('retirada', 'NOUN', ['NOUN', 'ADJ', 'ADJ', 'PRON', 'VERB', 'DET']), ('retirada', 'VERB'), ('retirada', [['los', 'lavados'], ['lavados', 'vesicales'], ['vesicales', 'continuos'], ['continuos', 'que'], ['que', 'permiten'], ['permiten', 'su']]), ('retirada', [['retirada', 'conserva']])], ['conserva', 0, 0, 0, 0, 0, 0, 3, ('conserva', 'VERB', ['ADJ', 'ADJ', 'PRON', 'VERB', 'DET', 'NOUN']), ('conserva', 'ADJ'), ('conserva', [['lavados', 'vesicales'], ['vesicales', 'continuos'], ['continuos', 'que'], ['que', 'permiten'], ['permiten', 'su'], ['su', 'retirada']]), ('conserva', [['conserva', 'correcta']])], ['correcta', 0, 0, 0, 0, 0, 0, 5, ('correcta', 'ADJ', ['ADJ', 'PRON', 'VERB', 'DET', 'NOUN', 'VERB']), ('correcta', 'NOUN'), ('correcta', [['vesicales', 'continuos'], ['continuos', 'que'], ['que', 'permiten'], ['permiten', 'su'], ['su', 'retirada'], ['retirada', 'conserva']]), ('correcta', [['correcta', 'diuresis']])], ['diuresis', 0, 0, 0, 0, 0, 0, 1, ('diuresis', 'NOUN', ['PRON', 'VERB', 'DET', 'NOUN', 'VERB', 'ADJ']), ('diuresis', 'NOUN'), ('diuresis', [['continuos', 'que'], ['que', 'permiten'], ['permiten', 'su'], ['su', 'retirada'], ['retirada', 'conserva'], ['conserva', 'correcta']]), ('diuresis', [['diuresis', 'tolerancia']])], ['tolerancia', 0, 0, 0, 0, 0, 0, 1, ('tolerancia', 'NOUN', ['VERB', 'DET', 'NOUN', 'VERB', 'ADJ', 'NOUN']), ('tolerancia', 'ADJ'), ('tolerancia', [['que', 'permiten'], ['permiten', 'su'], ['su', 'retirada'], ['retirada', 'conserva'], ['conserva', 'correcta'], ['correcta', 'diuresis']]), ('tolerancia', [['tolerancia', 'correcta']])], ['correcta', 0, 0, 0, 0, 0, 0, 5, ('correcta', 'ADJ', ['DET', 'NOUN', 'VERB', 'ADJ', 'NOUN', 'NOUN']), ('correcta', 'ADP'), ('correcta', [['permiten', 'su'], ['su', 'retirada'], ['retirada', 'conserva'], ['conserva', 'correcta'], ['correcta', 'diuresis'], ['diuresis', 'tolerancia']]), ('correcta', [['correcta', 'a']])], ['a', 0, 0, 0, 0, 0, 0, 4, ('a', 'ADP', ['NOUN', 'VERB', 'ADJ', 'NOUN', 'NOUN', 'ADJ']), ('a', 'NOUN'), ('a', [['su', 'retirada'], ['retirada', 'conserva'], ['conserva', 'correcta'], ['correcta', 'diuresis'], ['diuresis', 'tolerancia'], ['tolerancia', 'correcta']]), ('a', [['a', 'dieta']])], ['dieta', 0, 0, 0, 0, 0, 0, 1, ('dieta', 'NOUN', ['VERB', 'ADJ', 'NOUN', 'NOUN', 'ADJ', 'ADP']), ('dieta', 'ADJ'), ('dieta', [['retirada', 'conserva'], ['conserva', 'correcta'], ['correcta', 'diuresis'], ['diuresis', 'tolerancia'], ['tolerancia', 'correcta'], ['correcta', 'a']]), ('dieta', [['dieta', 'oral']])], ['oral', 0, 0, 0, 0, 0, 0, 5, ('oral', 'ADJ', ['ADJ', 'NOUN', 'NOUN', 'ADJ', 'ADP', 'NOUN']), ('oral', 'VERB'), ('oral', [['conserva', 'correcta'], ['correcta', 'diuresis'], ['diuresis', 'tolerancia'], ['tolerancia', 'correcta'], ['correcta', 'a'], ['a', 'dieta']]), ('oral', [['oral', 'dada']])], ['dada', 0, 0, 0, 0, 0, 0, 3, ('dada', 'VERB', ['NOUN', 'NOUN', 'ADJ', 'ADP', 'NOUN', 'ADJ']), ('dada', 'DET'), ('dada', [['correcta', 'diuresis'], ['diuresis', 'tolerancia'], ['tolerancia', 'correcta'], ['correcta', 'a'], ['a', 'dieta'], ['dieta', 'oral']]), ('dada', [['dada', 'la']])], ['la', 0, 0, 0, 0, 0, 0, 12, ('la', 'DET', ['NOUN', 'ADJ', 'ADP', 'NOUN', 'ADJ', 'VERB']), ('la', 'ADJ'), ('la', [['diuresis', 'tolerancia'], ['tolerancia', 'correcta'], ['correcta', 'a'], ['a', 'dieta'], ['dieta', 'oral'], ['oral', 'dada']]), ('la', [['la', 'buena']])], ['buena', 0, 0, 0, 0, 0, 0, 5, ('buena', 'ADJ', ['ADJ', 'ADP', 'NOUN', 'ADJ', 'VERB', 'DET']), ('buena', 'PROPN'), ('buena', [['tolerancia', 'correcta'], ['correcta', 'a'], ['a', 'dieta'], ['dieta', 'oral'], ['oral', 'dada'], ['dada', 'la']]), ('buena', [['buena', 'evolucion']])], ['evolucion', 0, 0, 0, 0, 0, 0, 6, ('evolucion', 'PROPN', ['ADP', 'NOUN', 'ADJ', 'VERB', 'DET', 'ADJ']), ('evolucion', 'PRON'), ('evolucion', [['correcta', 'a'], ['a', 'dieta'], ['dieta', 'oral'], ['oral', 'dada'], ['dada', 'la'], ['la', 'buena']]), ('evolucion', [['evolucion', 'se']])], ['se', 0, 0, 0, 0, 0, 0, 2, ('se', 'PRON', ['NOUN', 'ADJ', 'VERB', 'DET', 'ADJ', 'PROPN']), ('se', 'VERB'), ('se', [['a', 'dieta'], ['dieta', 'oral'], ['oral', 'dada'], ['dada', 'la'], ['la', 'buena'], ['buena', 'evolucion']]), ('se', [['se', 'decide']])], ['decide', 0, 0, 0, 0, 0, 0, 3, ('decide', 'VERB', ['ADJ', 'VERB', 'DET', 'ADJ', 'PROPN', 'PRON']), ('decide', 'ADJ'), ('decide', [['dieta', 'oral'], ['oral', 'dada'], ['dada', 'la'], ['la', 'buena'], ['buena', 'evolucion'], ['evolucion', 'se']]), ('decide', [['decide', 'alta']])], ['alta', 0, 0, 0, 0, 0, 0, 5, ('alta', 'ADJ', ['VERB', 'DET', 'ADJ', 'PROPN', 'PRON', 'VERB']), ('alta', 'ADJ'), ('alta', [['oral', 'dada'], ['dada', 'la'], ['la', 'buena'], ['buena', 'evolucion'], ['evolucion', 'se'], ['se', 'decide']]), ('alta', [['alta', 'domiciliaria']])], ['domiciliaria', 0, 0, 0, 0, 0, 0, 5, ('domiciliaria', 'ADJ', ['DET', 'ADJ', 'PROPN', 'PRON', 'VERB', 'ADJ']), ('domiciliaria', 'AUX'), ('domiciliaria', [['dada', 'la'], ['la', 'buena'], ['buena', 'evolucion'], ['evolucion', 'se'], ['se', 'decide'], ['decide', 'alta']]), ('domiciliaria', [['domiciliaria', 'siendo']])], ['siendo', 0, 0, 0, 0, 0, 0, 11, ('siendo', 'AUX', ['ADJ', 'PROPN', 'PRON', 'VERB', 'ADJ', 'ADJ']), ('siendo', 'ADJ'), ('siendo', [['la', 'buena'], ['buena', 'evolucion'], ['evolucion', 'se'], ['se', 'decide'], ['decide', 'alta'], ['alta', 'domiciliaria']]), ('siendo', [['siendo', 'portador']])], ['portador', 0, 0, 0, 0, 0, 0, 5, ('portador', 'ADJ', ['PROPN', 'PRON', 'VERB', 'ADJ', 'ADJ', 'AUX']), ('portador', 'ADP'), ('portador', [['buena', 'evolucion'], ['evolucion', 'se'], ['se', 'decide'], ['decide', 'alta'], ['alta', 'domiciliaria'], ['domiciliaria', 'siendo']]), ('portador', [['portador', 'de']])], ['de', 0, 0, 0, 0, 0, 0, 4, ('de', 'ADP', ['PRON', 'VERB', 'ADJ', 'ADJ', 'AUX', 'ADJ']), ('de', 'NOUN'), ('de', [['evolucion', 'se'], ['se', 'decide'], ['decide', 'alta'], ['alta', 'domiciliaria'], ['domiciliaria', 'siendo'], ['siendo', 'portador']]), ('de', [['de', 'sonda']])], ['sonda', 0, 0, 0, 0, 0, 0, 1, ('sonda', 'NOUN', ['VERB', 'ADJ', 'ADJ', 'AUX', 'ADJ', 'ADP']), ('sonda', 'ADJ'), ('sonda', [['se', 'decide'], ['decide', 'alta'], ['alta', 'domiciliaria'], ['domiciliaria', 'siendo'], ['siendo', 'portador'], ['portador', 'de']]), ('sonda', [['sonda', 'vesical']])], ['vesical', 0, 0, 0, 0, 0, 0, 5, ('vesical', 'ADJ', ['ADJ', 'ADJ', 'AUX', 'ADJ', 'ADP', 'NOUN']), ('vesical', 'NOUN'), ('vesical', [['decide', 'alta'], ['alta', 'domiciliaria'], ['domiciliaria', 'siendo'], ['siendo', 'portador'], ['portador', 'de'], ['de', 'sonda']]), ('vesical', [['vesical', 'orientacio']])], ['orientacio', 0, 0, 0, 0, 0, 0, 1, ('orientacio', 'NOUN', ['ADJ', 'AUX', 'ADJ', 'ADP', 'NOUN', 'ADJ']), ('orientacio', 'PROPN'), ('orientacio', [['alta', 'domiciliaria'], ['domiciliaria', 'siendo'], ['siendo', 'portador'], ['portador', 'de'], ['de', 'sonda'], ['sonda', 'vesical']]), ('orientacio', [['orientacio', 'diagnostica']])], ['diagnostica', 0, 0, 0, 0, 0, 0, 6, ('diagnostica', 'PROPN', ['AUX', 'ADJ', 'ADP', 'NOUN', 'ADJ', 'NOUN']), ('diagnostica', 'PROPN'), ('diagnostica', [['domiciliaria', 'siendo'], ['siendo', 'portador'], ['portador', 'de'], ['de', 'sonda'], ['sonda', 'vesical'], ['vesical', 'orientacio']]), ('diagnostica', [['diagnostica', 'n400']])], ['n400', 0, 0, 0, 1, 0, 0, 6, ('n400', 'PROPN', ['ADJ', 'ADP', 'NOUN', 'ADJ', 'NOUN', 'PROPN']), ('n400', 'PROPN'), ('n400', [['siendo', 'portador'], ['portador', 'de'], ['de', 'sonda'], ['sonda', 'vesical'], ['vesical', 'orientacio'], ['orientacio', 'diagnostica']]), ('n400', [['n400', 'hiperplasia']])], ['hiperplasia', 0, 0, 0, 0, 0, 0, 6, ('hiperplasia', 'PROPN', ['ADP', 'NOUN', 'ADJ', 'NOUN', 'PROPN', 'PROPN']), ('hiperplasia', 'ADJ'), ('hiperplasia', [['portador', 'de'], ['de', 'sonda'], ['sonda', 'vesical'], ['vesical', 'orientacio'], ['orientacio', 'diagnostica'], ['diagnostica', 'n400']]), ('hiperplasia', [['hiperplasia', 'prostatica']])], ['prostatica', 0, 0, 0, 0, 0, 0, 5, ('prostatica', 'ADJ', ['NOUN', 'ADJ', 'NOUN', 'PROPN', 'PROPN', 'PROPN']), ('prostatica', 'NOUN'), ('prostatica', [['de', 'sonda'], ['sonda', 'vesical'], ['vesical', 'orientacio'], ['orientacio', 'diagnostica'], ['diagnostica', 'n400'], ['n400', 'hiperplasia']]), ('prostatica', [['prostatica', 'benigna']])], ['benigna', 0, 0, 0, 0, 0, 0, 1, ('benigna', 'NOUN', ['ADJ', 'NOUN', 'PROPN', 'PROPN', 'PROPN', 'ADJ']), ('benigna', 'ADJ'), ('benigna', [['sonda', 'vesical'], ['vesical', 'orientacio'], ['orientacio', 'diagnostica'], ['diagnostica', 'n400'], ['n400', 'hiperplasia'], ['hiperplasia', 'prostatica']]), ('benigna', [['benigna', 'sense']])], ['sense', 0, 0, 0, 0, 0, 0, 5, ('sense', 'ADJ', ['NOUN', 'PROPN', 'PROPN', 'PROPN', 'ADJ', 'NOUN']), ('sense', 'ADJ'), ('sense', [['vesical', 'orientacio'], ['orientacio', 'diagnostica'], ['diagnostica', 'n400'], ['n400', 'hiperplasia'], ['hiperplasia', 'prostatica'], ['prostatica', 'benigna']]), ('sense', [['sense', 'simptomes']])], ['simptomes', 0, 0, 0, 0, 0, 0, 5, ('simptomes', 'ADJ', ['PROPN', 'PROPN', 'PROPN', 'ADJ', 'NOUN', 'ADJ']), ('simptomes', 'ADP'), ('simptomes', [['orientacio', 'diagnostica'], ['diagnostica', 'n400'], ['n400', 'hiperplasia'], ['hiperplasia', 'prostatica'], ['prostatica', 'benigna'], ['benigna', 'sense']]), ('simptomes', [['simptomes', 'en']])], ['en', 0, 0, 0, 0, 0, 0, 4, ('en', 'ADP', ['PROPN', 'PROPN', 'ADJ', 'NOUN', 'ADJ', 'ADJ']), ('en', 'PRON'), ('en', [['diagnostica', 'n400'], ['n400', 'hiperplasia'], ['hiperplasia', 'prostatica'], ['prostatica', 'benigna'], ['benigna', 'sense'], ['sense', 'simptomes']]), ('en', [['en', 'les']])], ['les', 0, 0, 0, 0, 0, 0, 2, ('les', 'PRON', ['PROPN', 'ADJ', 'NOUN', 'ADJ', 'ADJ', 'ADP']), ('les', 'NOUN'), ('les', [['n400', 'hiperplasia'], ['hiperplasia', 'prostatica'], ['prostatica', 'benigna'], ['benigna', 'sense'], ['sense', 'simptomes'], ['simptomes', 'en']]), ('les', [['les', 'vies']])], ['vies', 0, 0, 0, 0, 0, 0, 1, ('vies', 'NOUN', ['ADJ', 'NOUN', 'ADJ', 'ADJ', 'ADP', 'PRON']), ('vies', 'PROPN'), ('vies', [['hiperplasia', 'prostatica'], ['prostatica', 'benigna'], ['benigna', 'sense'], ['sense', 'simptomes'], ['simptomes', 'en'], ['en', 'les']]), ('vies', [['vies', 'urinaries']])], ['urinaries', 0, 0, 0, 0, 0, 0, 6, ('urinaries', 'PROPN', ['NOUN', 'ADJ', 'ADJ', 'ADP', 'PRON', 'NOUN']), ('urinaries', 'PROPN'), ('urinaries', [['prostatica', 'benigna'], ['benigna', 'sense'], ['sense', 'simptomes'], ['simptomes', 'en'], ['en', 'les'], ['les', 'vies']]), ('urinaries', [['urinaries', 'inferiors']])], ['inferiors', 0, 0, 0, 0, 0, 0, 6, ('inferiors', 'PROPN', ['ADJ', 'ADJ', 'ADP', 'PRON', 'NOUN', 'PROPN']), ('inferiors', 'NOUN'), ('inferiors', [['benigna', 'sense'], ['sense', 'simptomes'], ['simptomes', 'en'], ['en', 'les'], ['les', 'vies'], ['vies', 'urinaries']]), ('inferiors', [['inferiors', 'procediments']])], ['procediments', 0, 0, 0, 0, 0, 0, 1, ('procediments', 'NOUN', ['ADJ', 'ADP', 'PRON', 'NOUN', 'PROPN', 'PROPN']), ('procediments', 'NUM'), ('procediments', [['sense', 'simptomes'], ['simptomes', 'en'], ['en', 'les'], ['les', 'vies'], ['vies', 'urinaries'], ['urinaries', 'inferiors']]), ('procediments', [['procediments', '0481']])], ['0481', 0, 0, 1, 1, 0, 0, 9, ('0481', 'NUM', ['ADP', 'PRON', 'NOUN', 'PROPN', 'PROPN', 'NOUN']), ('0481', 'ADJ'), ('0481', [['simptomes', 'en'], ['en', 'les'], ['les', 'vies'], ['vies', 'urinaries'], ['urinaries', 'inferiors'], ['inferiors', 'procediments']]), ('0481', [['0481', 'injeccio']])], ['injeccio', 0, 0, 0, 0, 0, 0, 5, ('injeccio', 'ADJ', ['PRON', 'NOUN', 'PROPN', 'PROPN', 'NOUN', 'NUM']), ('injeccio', 'ADP'), ('injeccio', [['en', 'les'], ['les', 'vies'], ['vies', 'urinaries'], ['urinaries', 'inferiors'], ['inferiors', 'procediments'], ['procediments', '0481']]), ('injeccio', [['injeccio', 'en']])], ['en', 0, 0, 0, 0, 0, 0, 4, ('en', 'ADP', ['NOUN', 'PROPN', 'PROPN', 'NOUN', 'NUM', 'ADJ']), ('en', 'DET'), ('en', [['les', 'vies'], ['vies', 'urinaries'], ['urinaries', 'inferiors'], ['inferiors', 'procediments'], ['procediments', '0481'], ['0481', 'injeccio']]), ('en', [['en', 'el']])], ['el', 0, 0, 0, 0, 0, 0, 12, ('el', 'DET', ['PROPN', 'PROPN', 'NOUN', 'NUM', 'ADJ', 'ADP']), ('el', 'NOUN'), ('el', [['vies', 'urinaries'], ['urinaries', 'inferiors'], ['inferiors', 'procediments'], ['procediments', '0481'], ['0481', 'injeccio'], ['injeccio', 'en']]), ('el', [['el', 'nervi']])], ['nervi', 0, 0, 0, 0, 0, 0, 1, ('nervi', 'NOUN', ['PROPN', 'NOUN', 'NUM', 'ADJ', 'ADP', 'DET']), ('nervi', 'VERB'), ('nervi', [['urinaries', 'inferiors'], ['inferiors', 'procediments'], ['procediments', '0481'], ['0481', 'injeccio'], ['injeccio', 'en'], ['en', 'el']]), ('nervi', [['nervi', 'periferic']])], ['periferic', 0, 0, 0, 0, 0, 0, 3, ('periferic', 'VERB', ['NOUN', 'NUM', 'ADJ', 'ADP', 'DET', 'NOUN']), ('periferic', 'PROPN'), ('periferic', [['inferiors', 'procediments'], ['procediments', '0481'], ['0481', 'injeccio'], ['injeccio', 'en'], ['en', 'el'], ['el', 'nervi']]), ('periferic', [['periferic', 'danestesic']])], ['danestesic', 0, 0, 0, 0, 0, 0, 6, ('danestesic', 'PROPN', ['NUM', 'ADJ', 'ADP', 'DET', 'NOUN', 'VERB']), ('danestesic', 'ADP'), ('danestesic', [['procediments', '0481'], ['0481', 'injeccio'], ['injeccio', 'en'], ['en', 'el'], ['el', 'nervi'], ['nervi', 'periferic']]), ('danestesic', [['danestesic', 'per']])], ['per', 0, 0, 0, 0, 0, 0, 4, ('per', 'ADP', ['ADJ', 'ADP', 'DET', 'NOUN', 'VERB', 'PROPN']), ('per', 'ADP'), ('per', [['0481', 'injeccio'], ['injeccio', 'en'], ['en', 'el'], ['el', 'nervi'], ['nervi', 'periferic'], ['periferic', 'danestesic']]), ('per', [['per', 'a']])], ['a', 0, 0, 0, 0, 0, 0, 4, ('a', 'ADP', ['ADP', 'DET', 'NOUN', 'VERB', 'PROPN', 'ADP']), ('a', 'PROPN'), ('a', [['injeccio', 'en'], ['en', 'el'], ['el', 'nervi'], ['nervi', 'periferic'], ['periferic', 'danestesic'], ['danestesic', 'per']]), ('a', [['a', 'analgesia']])], ['analgesia', 0, 0, 0, 0, 0, 0, 6, ('analgesia', 'PROPN', ['DET', 'NOUN', 'VERB', 'PROPN', 'ADP', 'ADP']), ('analgesia', 'NUM'), ('analgesia', [['en', 'el'], ['el', 'nervi'], ['nervi', 'periferic'], ['periferic', 'danestesic'], ['danestesic', 'per'], ['per', 'a']]), ('analgesia', [['analgesia', '580']])], ['580', 0, 0, 1, 1, 0, 0, 9, ('580', 'NUM', ['NOUN', 'VERB', 'PROPN', 'ADP', 'ADP', 'PROPN']), ('580', 'NOUN'), ('580', [['el', 'nervi'], ['nervi', 'periferic'], ['periferic', 'danestesic'], ['danestesic', 'per'], ['per', 'a'], ['a', 'analgesia']]), ('580', [['580', 'uretrotomia']])], ['uretrotomia', 0, 0, 0, 0, 0, 0, 1, ('uretrotomia', 'NOUN', ['VERB', 'PROPN', 'ADP', 'ADP', 'PROPN', 'NUM']), ('uretrotomia', 'ADJ'), ('uretrotomia', [['nervi', 'periferic'], ['periferic', 'danestesic'], ['danestesic', 'per'], ['per', 'a'], ['a', 'analgesia'], ['analgesia', '580']]), ('uretrotomia', [['uretrotomia', 'excisio']])], ['excisio', 0, 0, 0, 0, 0, 0, 5, ('excisio', 'ADJ', ['PROPN', 'ADP', 'ADP', 'PROPN', 'NUM', 'NOUN']), ('excisio', 'ADP'), ('excisio', [['periferic', 'danestesic'], ['danestesic', 'per'], ['per', 'a'], ['a', 'analgesia'], ['analgesia', '580'], ['580', 'uretrotomia']]), ('excisio', [['excisio', 'de']])], ['de', 0, 0, 0, 0, 0, 0, 4, ('de', 'ADP', ['ADP', 'ADP', 'PROPN', 'NUM', 'NOUN', 'ADJ']), ('de', 'NOUN'), ('de', [['danestesic', 'per'], ['per', 'a'], ['a', 'analgesia'], ['analgesia', '580'], ['580', 'uretrotomia'], ['uretrotomia', 'excisio']]), ('de', [['de', 'septe']])], ['septe', 0, 0, 0, 0, 0, 0, 1, ('septe', 'NOUN', ['ADP', 'PROPN', 'NUM', 'NOUN', 'ADJ', 'ADP']), ('septe', 'ADJ'), ('septe', [['per', 'a'], ['a', 'analgesia'], ['analgesia', '580'], ['580', 'uretrotomia'], ['uretrotomia', 'excisio'], ['excisio', 'de']]), ('septe', [['septe', 'uretral']])], ['uretral', 0, 0, 0, 0, 0, 0, 5, ('uretral', 'ADJ', ['PROPN', 'NUM', 'NOUN', 'ADJ', 'ADP', 'NOUN']), ('uretral', 'PROPN'), ('uretral', [['a', 'analgesia'], ['analgesia', '580'], ['580', 'uretrotomia'], ['uretrotomia', 'excisio'], ['excisio', 'de'], ['de', 'septe']]), ('uretral', [['uretral', 'uretrostomia']])], ['uretrostomia', 0, 0, 0, 0, 0, 0, 6, ('uretrostomia', 'PROPN', ['NUM', 'NOUN', 'ADJ', 'ADP', 'NOUN', 'ADJ']), ('uretrostomia', 'ADJ'), ('uretrostomia', [['analgesia', '580'], ['580', 'uretrotomia'], ['uretrotomia', 'excisio'], ['excisio', 'de'], ['de', 'septe'], ['septe', 'uretral']]), ('uretrostomia', [['uretrostomia', 'perineal']])], ['perineal', 0, 0, 0, 0, 0, 0, 5, ('perineal', 'ADJ', ['NOUN', 'ADJ', 'ADP', 'NOUN', 'ADJ', 'PROPN']), ('perineal', 'NOUN'), ('perineal', [['580', 'uretrotomia'], ['uretrotomia', 'excisio'], ['excisio', 'de'], ['de', 'septe'], ['septe', 'uretral'], ['uretral', 'uretrostomia']]), ('perineal', [['perineal', 'extraccio']])], ['extraccio', 0, 0, 0, 0, 0, 0, 1, ('extraccio', 'NOUN', ['ADJ', 'ADP', 'NOUN', 'ADJ', 'PROPN', 'ADJ']), ('extraccio', 'ADP'), ('extraccio', [['uretrotomia', 'excisio'], ['excisio', 'de'], ['de', 'septe'], ['septe', 'uretral'], ['uretral', 'uretrostomia'], ['uretrostomia', 'perineal']]), ('extraccio', [['extraccio', 'de']])], ['de', 0, 0, 0, 0, 0, 0, 4, ('de', 'ADP', ['ADP', 'NOUN', 'ADJ', 'PROPN', 'ADJ', 'NOUN']), ('de', 'NOUN'), ('de', [['excisio', 'de'], ['de', 'septe'], ['septe', 'uretral'], ['uretral', 'uretrostomia'], ['uretrostomia', 'perineal'], ['perineal', 'extraccio']]), ('de', [['de', 'calcul']])], ['calcul', 0, 0, 0, 0, 0, 0, 1, ('calcul', 'NOUN', ['NOUN', 'ADJ', 'PROPN', 'ADJ', 'NOUN', 'ADP']), ('calcul', 'PROPN'), ('calcul', [['de', 'septe'], ['septe', 'uretral'], ['uretral', 'uretrostomia'], ['uretrostomia', 'perineal'], ['perineal', 'extraccio'], ['extraccio', 'de']]), ('calcul', [['calcul', 'uretral']])], ['uretral', 0, 0, 0, 0, 0, 0, 6, ('uretral', 'PROPN', ['ADJ', 'PROPN', 'ADJ', 'NOUN', 'ADP', 'NOUN']), ('uretral', 'ADP'), ('uretral', [['septe', 'uretral'], ['uretral', 'uretrostomia'], ['uretrostomia', 'perineal'], ['perineal', 'extraccio'], ['extraccio', 'de'], ['de', 'calcul']]), ('uretral', [['uretral', 'per']])], ['per', 0, 0, 0, 0, 0, 0, 4, ('per', 'ADP', ['PROPN', 'ADJ', 'NOUN', 'ADP', 'NOUN', 'PROPN']), ('per', 'PROPN'), ('per', [['uretral', 'uretrostomia'], ['uretrostomia', 'perineal'], ['perineal', 'extraccio'], ['extraccio', 'de'], ['de', 'calcul'], ['calcul', 'uretral']]), ('per', [['per', 'incisio']])], ['incisio', 0, 0, 0, 0, 0, 0, 6, ('incisio', 'PROPN', ['ADJ', 'NOUN', 'ADP', 'NOUN', 'PROPN', 'ADP']), ('incisio', 'NOUN'), ('incisio', [['uretrostomia', 'perineal'], ['perineal', 'extraccio'], ['extraccio', 'de'], ['de', 'calcul'], ['calcul', 'uretral'], ['uretral', 'per']]), ('incisio', [['incisio', 'sonda']])], ['sonda', 0, 0, 0, 0, 0, 0, 1, ('sonda', 'NOUN', ['NOUN', 'ADP', 'NOUN', 'PROPN', 'ADP', 'PROPN']), ('sonda', 'ADJ'), ('sonda', [['perineal', 'extraccio'], ['extraccio', 'de'], ['de', 'calcul'], ['calcul', 'uretral'], ['uretral', 'per'], ['per', 'incisio']]), ('sonda', [['sonda', 'vesical']])], ['vesical', 0, 0, 0, 0, 0, 0, 5, ('vesical', 'ADJ', ['ADP', 'NOUN', 'PROPN', 'ADP', 'PROPN', 'NOUN']), ('vesical', 'PROPN'), ('vesical', [['extraccio', 'de'], ['de', 'calcul'], ['calcul', 'uretral'], ['uretral', 'per'], ['per', 'incisio'], ['incisio', 'sonda']]), ('vesical', [['vesical', 'profilaxis']])], ['profilaxis', 0, 0, 0, 0, 0, 0, 6, ('profilaxis', 'PROPN', ['NOUN', 'PROPN', 'ADP', 'PROPN', 'NOUN', 'ADJ']), ('profilaxis', 'ADJ'), ('profilaxis', [['de', 'calcul'], ['calcul', 'uretral'], ['uretral', 'per'], ['per', 'incisio'], ['incisio', 'sonda'], ['sonda', 'vesical']]), ('profilaxis', [['profilaxis', 'antibiotica']])], ['antibiotica', 0, 0, 0, 0, 0, 0, 5, ('antibiotica', 'ADJ', ['PROPN', 'ADP', 'PROPN', 'NOUN', 'ADJ', 'PROPN']), ('antibiotica', 'ADJ'), ('antibiotica', [['calcul', 'uretral'], ['uretral', 'per'], ['per', 'incisio'], ['incisio', 'sonda'], ['sonda', 'vesical'], ['vesical', 'profilaxis']]), ('antibiotica', [['antibiotica', 'antilucerosa']])], ['antilucerosa', 0, 0, 0, 0, 0, 0, 5, ('antilucerosa', 'ADJ', ['ADP', 'PROPN', 'NOUN', 'ADJ', 'PROPN', 'ADJ']), ('antilucerosa', 'CCONJ'), ('antilucerosa', [['uretral', 'per'], ['per', 'incisio'], ['incisio', 'sonda'], ['sonda', 'vesical'], ['vesical', 'profilaxis'], ['profilaxis', 'antibiotica']]), ('antilucerosa', [['antilucerosa', 'y']])], ['y', 0, 0, 0, 0, 0, 0, 7, ('y', 'CCONJ', ['PROPN', 'NOUN', 'ADJ', 'PROPN', 'ADJ', 'ADJ']), ('y', 'ADJ'), ('y', [['per', 'incisio'], ['incisio', 'sonda'], ['sonda', 'vesical'], ['vesical', 'profilaxis'], ['profilaxis', 'antibiotica'], ['antibiotica', 'antilucerosa']]), ('y', [['y', 'antitrombotica']])], ['antitrombotica', 0, 0, 0, 0, 0, 0, 5, ('antitrombotica', 'ADJ', ['NOUN', 'ADJ', 'PROPN', 'ADJ', 'ADJ', 'CCONJ']), ('antitrombotica', 'PROPN'), ('antitrombotica', [['incisio', 'sonda'], ['sonda', 'vesical'], ['vesical', 'profilaxis'], ['profilaxis', 'antibiotica'], ['antibiotica', 'antilucerosa'], ['antilucerosa', 'y']]), ('antitrombotica', [['antitrombotica', 'tractament']])], ['tractament', 0, 0, 0, 0, 0, 0, 6, ('tractament', 'PROPN', ['ADJ', 'PROPN', 'ADJ', 'ADJ', 'CCONJ', 'ADJ']), ('tractament', 'CCONJ'), ('tractament', [['sonda', 'vesical'], ['vesical', 'profilaxis'], ['profilaxis', 'antibiotica'], ['antibiotica', 'antilucerosa'], ['antilucerosa', 'y'], ['y', 'antitrombotica']]), ('tractament', [['tractament', 'i']])], ['i', 0, 0, 0, 0, 0, 0, 7, ('i', 'CCONJ', ['PROPN', 'ADJ', 'ADJ', 'CCONJ', 'ADJ', 'PROPN']), ('i', 'ADJ'), ('i', [['vesical', 'profilaxis'], ['profilaxis', 'antibiotica'], ['antibiotica', 'antilucerosa'], ['antilucerosa', 'y'], ['y', 'antitrombotica'], ['antitrombotica', 'tractament']]), ('i', [['i', 'recomanacions']])], ['recomanacions', 0, 0, 0, 0, 0, 0, 5, ('recomanacions', 'ADJ', ['ADJ', 'ADJ', 'CCONJ', 'ADJ', 'PROPN', 'CCONJ']), ('recomanacions', 'ADP'), ('recomanacions', [['profilaxis', 'antibiotica'], ['antibiotica', 'antilucerosa'], ['antilucerosa', 'y'], ['y', 'antitrombotica'], ['antitrombotica', 'tractament'], ['tractament', 'i']]), ('recomanacions', [['recomanacions', 'a']])], ['a', 0, 0, 0, 0, 0, 0, 4, ('a', 'ADP', ['ADJ', 'CCONJ', 'ADJ', 'PROPN', 'CCONJ', 'ADJ']), ('a', 'NOUN'), ('a', [['antibiotica', 'antilucerosa'], ['antilucerosa', 'y'], ['y', 'antitrombotica'], ['antitrombotica', 'tractament'], ['tractament', 'i'], ['i', 'recomanacions']]), ('a', [['a', 'lalta']])], ['lalta', 0, 0, 0, 0, 0, 0, 1, ('lalta', 'NOUN', ['CCONJ', 'ADJ', 'PROPN', 'CCONJ', 'ADJ', 'ADP']), ('lalta', 'ADV'), ('lalta', [['antilucerosa', 'y'], ['y', 'antitrombotica'], ['antitrombotica', 'tractament'], ['tractament', 'i'], ['i', 'recomanacions'], ['recomanacions', 'a']]), ('lalta', [['lalta', 'abundante']])], ['abundante', 0, 0, 0, 0, 0, 0, 8, ('abundante', 'ADV', ['ADJ', 'PROPN', 'CCONJ', 'ADJ', 'ADP', 'NOUN']), ('abundante', 'ADJ'), ('abundante', [['y', 'antitrombotica'], ['antitrombotica', 'tractament'], ['tractament', 'i'], ['i', 'recomanacions'], ['recomanacions', 'a'], ['a', 'lalta']]), ('abundante', [['abundante', 'ingesta']])], ['ingesta', 0, 0, 0, 0, 0, 0, 5, ('ingesta', 'ADJ', ['PROPN', 'CCONJ', 'ADJ', 'ADP', 'NOUN', 'ADV']), ('ingesta', 'ADP'), ('ingesta', [['antitrombotica', 'tractament'], ['tractament', 'i'], ['i', 'recomanacions'], ['recomanacions', 'a'], ['a', 'lalta'], ['lalta', 'abundante']]), ('ingesta', [['ingesta', 'de']])], ['de', 0, 0, 0, 0, 0, 0, 4, ('de', 'ADP', ['CCONJ', 'ADJ', 'ADP', 'NOUN', 'ADV', 'ADJ']), ('de', 'NOUN'), ('de', [['tractament', 'i'], ['i', 'recomanacions'], ['recomanacions', 'a'], ['a', 'lalta'], ['lalta', 'abundante'], ['abundante', 'ingesta']]), ('de', [['de', 'liquidos']])], ['liquidos', 0, 0, 0, 0, 0, 0, 1, ('liquidos', 'NOUN', ['ADJ', 'ADP', 'NOUN', 'ADV', 'ADJ', 'ADP']), ('liquidos', 'NOUN'), ('liquidos', [['i', 'recomanacions'], ['recomanacions', 'a'], ['a', 'lalta'], ['lalta', 'abundante'], ['abundante', 'ingesta'], ['ingesta', 'de']]), ('liquidos', [['liquidos', 'entorno']])], ['entorno', 0, 0, 0, 0, 0, 0, 1, ('entorno', 'NOUN', ['ADP', 'NOUN', 'ADV', 'ADJ', 'ADP', 'NOUN']), ('entorno', 'ADP'), ('entorno', [['recomanacions', 'a'], ['a', 'lalta'], ['lalta', 'abundante'], ['abundante', 'ingesta'], ['ingesta', 'de'], ['de', 'liquidos']]), ('entorno', [['entorno', 'a']])], ['a', 0, 0, 0, 0, 0, 0, 4, ('a', 'ADP', ['NOUN', 'ADV', 'ADJ', 'ADP', 'NOUN', 'NOUN']), ('a', 'NUM'), ('a', [['a', 'lalta'], ['lalta', 'abundante'], ['abundante', 'ingesta'], ['ingesta', 'de'], ['de', 'liquidos'], ['liquidos', 'entorno']]), ('a', [['a', 'dos']])], ['dos', 0, 0, 0, 0, 0, 0, 9, ('dos', 'NUM', ['ADV', 'ADJ', 'ADP', 'NOUN', 'NOUN', 'ADP']), ('dos', 'NOUN'), ('dos', [['lalta', 'abundante'], ['abundante', 'ingesta'], ['ingesta', 'de'], ['de', 'liquidos'], ['liquidos', 'entorno'], ['entorno', 'a']]), ('dos', [['dos', 'litros']])], ['litros', 0, 0, 0, 0, 0, 0, 1, ('litros', 'NOUN', ['ADJ', 'ADP', 'NOUN', 'NOUN', 'ADP', 'NUM']), ('litros', 'CCONJ'), ('litros', [['abundante', 'ingesta'], ['ingesta', 'de'], ['de', 'liquidos'], ['liquidos', 'entorno'], ['entorno', 'a'], ['a', 'dos']]), ('litros', [['litros', 'y']])], ['y', 0, 0, 0, 0, 0, 0, 7, ('y', 'CCONJ', ['ADP', 'NOUN', 'NOUN', 'ADP', 'NUM', 'NOUN']), ('y', 'NUM'), ('y', [['ingesta', 'de'], ['de', 'liquidos'], ['liquidos', 'entorno'], ['entorno', 'a'], ['a', 'dos'], ['dos', 'litros']]), ('y', [['y', 'medio']])], ['medio', 0, 0, 0, 0, 0, 0, 9, ('medio', 'NUM', ['NOUN', 'NOUN', 'ADP', 'NUM', 'NOUN', 'CCONJ']), ('medio', 'ADP'), ('medio', [['de', 'liquidos'], ['liquidos', 'entorno'], ['entorno', 'a'], ['a', 'dos'], ['dos', 'litros'], ['litros', 'y']]), ('medio', [['medio', 'de']])], ['de', 0, 0, 0, 0, 0, 0, 4, ('de', 'ADP', ['NOUN', 'ADP', 'NUM', 'NOUN', 'CCONJ', 'NUM']), ('de', 'NOUN'), ('de', [['liquidos', 'entorno'], ['entorno', 'a'], ['a', 'dos'], ['dos', 'litros'], ['litros', 'y'], ['y', 'medio']]), ('de', [['de', 'agua']])], ['agua', 0, 0, 0, 0, 0, 0, 1, ('agua', 'NOUN', ['ADP', 'NUM', 'NOUN', 'CCONJ', 'NUM', 'ADP']), ('agua', 'ADP'), ('agua', [['entorno', 'a'], ['a', 'dos'], ['dos', 'litros'], ['litros', 'y'], ['y', 'medio'], ['medio', 'de']]), ('agua', [['agua', 'al']])], ['al', 0, 0, 0, 0, 0, 0, 4, ('al', 'ADP', ['NUM', 'NOUN', 'CCONJ', 'NUM', 'ADP', 'NOUN']), ('al', 'PRON'), ('al', [['a', 'dos'], ['dos', 'litros'], ['litros', 'y'], ['y', 'medio'], ['medio', 'de'], ['de', 'agua']]), ('al', [['al', 'dia']])], ['dia', 0, 0, 0, 0, 0, 0, 2, ('dia', 'PRON', ['NOUN', 'CCONJ', 'NUM', 'ADP', 'NOUN', 'ADP']), ('dia', 'AUX'), ('dia', [['dos', 'litros'], ['litros', 'y'], ['y', 'medio'], ['medio', 'de'], ['de', 'agua'], ['agua', 'al']]), ('dia', [['dia', 'puede']])], ['puede', 0, 0, 0, 0, 0, 0, 11, ('puede', 'AUX', ['CCONJ', 'NUM', 'ADP', 'NOUN', 'ADP', 'PRON']), ('puede', 'VERB'), ('puede', [['litros', 'y'], ['y', 'medio'], ['medio', 'de'], ['de', 'agua'], ['agua', 'al'], ['al', 'dia']]), ('puede', [['puede', 'orinar']])], ['orinar', 0, 0, 0, 0, 0, 0, 3, ('orinar', 'VERB', ['NUM', 'ADP', 'NOUN', 'ADP', 'PRON', 'AUX']), ('orinar', 'ADP'), ('orinar', [['y', 'medio'], ['medio', 'de'], ['de', 'agua'], ['agua', 'al'], ['al', 'dia'], ['dia', 'puede']]), ('orinar', [['orinar', 'con']])], ['con', 0, 0, 0, 0, 0, 0, 4, ('con', 'ADP', ['ADP', 'NOUN', 'ADP', 'PRON', 'AUX', 'VERB']), ('con', 'NOUN'), ('con', [['medio', 'de'], ['de', 'agua'], ['agua', 'al'], ['al', 'dia'], ['dia', 'puede'], ['puede', 'orinar']]), ('con', [['con', 'restos']])], ['restos', 0, 0, 0, 0, 0, 0, 1, ('restos', 'NOUN', ['NOUN', 'ADP', 'PRON', 'AUX', 'VERB', 'ADP']), ('restos', 'ADP'), ('restos', [['de', 'agua'], ['agua', 'al'], ['al', 'dia'], ['dia', 'puede'], ['puede', 'orinar'], ['orinar', 'con']]), ('restos', [['restos', 'de']])], ['de', 0, 0, 0, 0, 0, 0, 4, ('de', 'ADP', ['ADP', 'PRON', 'AUX', 'VERB', 'ADP', 'NOUN']), ('de', 'NOUN'), ('de', [['agua', 'al'], ['al', 'dia'], ['dia', 'puede'], ['puede', 'orinar'], ['orinar', 'con'], ['con', 'restos']]), ('de', [['de', 'sangre']])], ['sangre', 0, 0, 0, 0, 0, 0, 1, ('sangre', 'NOUN', ['PRON', 'AUX', 'VERB', 'ADP', 'NOUN', 'ADP']), ('sangre', 'ADP'), ('sangre', [['al', 'dia'], ['dia', 'puede'], ['puede', 'orinar'], ['orinar', 'con'], ['con', 'restos'], ['restos', 'de']]), ('sangre', [['sangre', 'durante']])], ['durante', 0, 0, 0, 0, 0, 0, 4, ('durante', 'ADP', ['AUX', 'VERB', 'ADP', 'NOUN', 'ADP', 'NOUN']), ('durante', 'DET'), ('durante', [['dia', 'puede'], ['puede', 'orinar'], ['orinar', 'con'], ['con', 'restos'], ['restos', 'de'], ['de', 'sangre']]), ('durante', [['durante', 'las']])], ['las', 0, 0, 0, 0, 0, 0, 12, ('las', 'DET', ['VERB', 'ADP', 'NOUN', 'ADP', 'NOUN', 'ADP']), ('las', 'ADJ'), ('las', [['puede', 'orinar'], ['orinar', 'con'], ['con', 'restos'], ['restos', 'de'], ['de', 'sangre'], ['sangre', 'durante']]), ('las', [['las', 'proximas']])], ['proximas', 0, 0, 0, 0, 0, 0, 5, ('proximas', 'ADJ', ['ADP', 'NOUN', 'ADP', 'NOUN', 'ADP', 'DET']), ('proximas', 'NOUN'), ('proximas', [['orinar', 'con'], ['con', 'restos'], ['restos', 'de'], ['de', 'sangre'], ['sangre', 'durante'], ['durante', 'las']]), ('proximas', [['proximas', 'semanas']])], ['semanas', 0, 0, 0, 0, 0, 0, 1, ('semanas', 'NOUN', ['NOUN', 'ADP', 'NOUN', 'ADP', 'DET', 'ADJ']), ('semanas', 'AUX'), ('semanas', [['con', 'restos'], ['restos', 'de'], ['de', 'sangre'], ['sangre', 'durante'], ['durante', 'las'], ['las', 'proximas']]), ('semanas', [['semanas', 'es']])], ['es', 0, 0, 0, 0, 0, 0, 11, ('es', 'AUX', ['ADP', 'NOUN', 'ADP', 'DET', 'ADJ', 'NOUN']), ('es', 'ADJ'), ('es', [['restos', 'de'], ['de', 'sangre'], ['sangre', 'durante'], ['durante', 'las'], ['las', 'proximas'], ['proximas', 'semanas']]), ('es', [['es', 'normal']])], ['normal', 0, 0, 0, 0, 0, 0, 5, ('normal', 'ADJ', ['NOUN', 'ADP', 'DET', 'ADJ', 'NOUN', 'AUX']), ('normal', 'SCONJ'), ('normal', [['de', 'sangre'], ['sangre', 'durante'], ['durante', 'las'], ['las', 'proximas'], ['proximas', 'semanas'], ['semanas', 'es']]), ('normal', [['normal', 'que']])], ['que', 0, 0, 0, 0, 0, 0, 10, ('que', 'SCONJ', ['ADP', 'DET', 'ADJ', 'NOUN', 'AUX', 'ADJ']), ('que', 'VERB'), ('que', [['sangre', 'durante'], ['durante', 'las'], ['las', 'proximas'], ['proximas', 'semanas'], ['semanas', 'es'], ['es', 'normal']]), ('que', [['que', 'sienta']])], ['sienta', 0, 0, 0, 0, 0, 0, 3, ('sienta', 'VERB', ['DET', 'ADJ', 'NOUN', 'AUX', 'ADJ', 'SCONJ']), ('sienta', 'PROPN'), ('sienta', [['durante', 'las'], ['las', 'proximas'], ['proximas', 'semanas'], ['semanas', 'es'], ['es', 'normal'], ['normal', 'que']]), ('sienta', [['sienta', 'escozor']])], ['escozor', 0, 0, 0, 0, 0, 0, 6, ('escozor', 'PROPN', ['ADJ', 'NOUN', 'AUX', 'ADJ', 'SCONJ', 'VERB']), ('escozor', 'ADP'), ('escozor', [['las', 'proximas'], ['proximas', 'semanas'], ['semanas', 'es'], ['es', 'normal'], ['normal', 'que'], ['que', 'sienta']]), ('escozor', [['escozor', 'al']])], ['al', 0, 0, 0, 0, 0, 0, 4, ('al', 'ADP', ['NOUN', 'AUX', 'ADJ', 'SCONJ', 'VERB', 'PROPN']), ('al', 'VERB'), ('al', [['proximas', 'semanas'], ['semanas', 'es'], ['es', 'normal'], ['normal', 'que'], ['que', 'sienta'], ['sienta', 'escozor']]), ('al', [['al', 'orinar']])], ['orinar', 0, 0, 0, 0, 0, 0, 3, ('orinar', 'VERB', ['AUX', 'ADJ', 'SCONJ', 'VERB', 'PROPN', 'ADP']), ('orinar', 'CCONJ'), ('orinar', [['semanas', 'es'], ['es', 'normal'], ['normal', 'que'], ['que', 'sienta'], ['sienta', 'escozor'], ['escozor', 'al']]), ('orinar', [['orinar', 'y']])], ['y', 0, 0, 0, 0, 0, 0, 7, ('y', 'CCONJ', ['ADJ', 'SCONJ', 'VERB', 'PROPN', 'ADP', 'VERB']), ('y', 'SCONJ'), ('y', [['es', 'normal'], ['normal', 'que'], ['que', 'sienta'], ['sienta', 'escozor'], ['escozor', 'al'], ['al', 'orinar']]), ('y', [['y', 'que']])], ['que', 0, 0, 0, 0, 0, 0, 10, ('que', 'SCONJ', ['SCONJ', 'VERB', 'PROPN', 'ADP', 'VERB', 'CCONJ']), ('que', 'VERB'), ('que', [['normal', 'que'], ['que', 'sienta'], ['sienta', 'escozor'], ['escozor', 'al'], ['al', 'orinar'], ['orinar', 'y']]), ('que', [['que', 'tenga']])], ['tenga', 0, 0, 0, 0, 0, 0, 3, ('tenga', 'VERB', ['VERB', 'PROPN', 'ADP', 'VERB', 'CCONJ', 'SCONJ']), ('tenga', 'VERB'), ('tenga', [['que', 'sienta'], ['sienta', 'escozor'], ['escozor', 'al'], ['al', 'orinar'], ['orinar', 'y'], ['y', 'que']]), ('tenga', [['tenga', 'algun']])], ['algun', 0, 0, 0, 0, 0, 0, 3, ('algun', 'VERB', ['PROPN', 'ADP', 'VERB', 'CCONJ', 'SCONJ', 'VERB']), ('algun', 'NOUN'), ('algun', [['sienta', 'escozor'], ['escozor', 'al'], ['al', 'orinar'], ['orinar', 'y'], ['y', 'que'], ['que', 'tenga']]), ('algun', [['algun', 'escape']])], ['escape', 0, 0, 0, 0, 0, 0, 1, ('escape', 'NOUN', ['ADP', 'VERB', 'CCONJ', 'SCONJ', 'VERB', 'VERB']), ('escape', 'ADP'), ('escape', [['escozor', 'al'], ['al', 'orinar'], ['orinar', 'y'], ['y', 'que'], ['que', 'tenga'], ['tenga', 'algun']]), ('escape', [['escape', 'de']])], ['de', 0, 0, 0, 0, 0, 0, 4, ('de', 'ADP', ['VERB', 'CCONJ', 'SCONJ', 'VERB', 'VERB', 'NOUN']), ('de', 'PROPN'), ('de', [['al', 'orinar'], ['orinar', 'y'], ['y', 'que'], ['que', 'tenga'], ['tenga', 'algun'], ['algun', 'escape']]), ('de', [['de', 'orina']])], ['orina', 0, 0, 0, 0, 0, 0, 6, ('orina', 'PROPN', ['CCONJ', 'SCONJ', 'VERB', 'VERB', 'NOUN', 'ADP']), ('orina', 'CCONJ'), ('orina', [['orinar', 'y'], ['y', 'que'], ['que', 'tenga'], ['tenga', 'algun'], ['algun', 'escape'], ['escape', 'de']]), ('orina', [['orina', 'y']])], ['y', 0, 0, 0, 0, 0, 0, 7, ('y', 'CCONJ', ['SCONJ', 'VERB', 'VERB', 'NOUN', 'ADP', 'PROPN']), ('y', 'NOUN'), ('y', [['y', 'que'], ['que', 'tenga'], ['tenga', 'algun'], ['algun', 'escape'], ['escape', 'de'], ['de', 'orina']]), ('y', [['y', 'urgencia']])], ['urgencia', 0, 0, 0, 0, 0, 0, 1, ('urgencia', 'NOUN', ['VERB', 'VERB', 'NOUN', 'ADP', 'PROPN', 'CCONJ']), ('urgencia', 'ADJ'), ('urgencia', [['que', 'tenga'], ['tenga', 'algun'], ['algun', 'escape'], ['escape', 'de'], ['de', 'orina'], ['orina', 'y']]), ('urgencia', [['urgencia', 'miccional']])], ['miccional', 0, 0, 0, 0, 0, 0, 5, ('miccional', 'ADJ', ['VERB', 'NOUN', 'ADP', 'PROPN', 'CCONJ', 'NOUN']), ('miccional', 'ADP'), ('miccional', [['tenga', 'algun'], ['algun', 'escape'], ['escape', 'de'], ['de', 'orina'], ['orina', 'y'], ['y', 'urgencia']]), ('miccional', [['miccional', 'al']])], ['al', 0, 0, 0, 0, 0, 0, 4, ('al', 'ADP', ['NOUN', 'ADP', 'PROPN', 'CCONJ', 'NOUN', 'ADJ']), ('al', 'VERB'), ('al', [['algun', 'escape'], ['escape', 'de'], ['de', 'orina'], ['orina', 'y'], ['y', 'urgencia'], ['urgencia', 'miccional']]), ('al', [['al', 'retirar']])], ['retirar', 0, 0, 0, 0, 0, 0, 3, ('retirar', 'VERB', ['ADP', 'PROPN', 'CCONJ', 'NOUN', 'ADJ', 'ADP']), ('retirar', 'DET'), ('retirar', [['escape', 'de'], ['de', 'orina'], ['orina', 'y'], ['y', 'urgencia'], ['urgencia', 'miccional'], ['miccional', 'al']]), ('retirar', [['retirar', 'la']])], ['la', 0, 0, 0, 0, 0, 0, 12, ('la', 'DET', ['PROPN', 'CCONJ', 'NOUN', 'ADJ', 'ADP', 'VERB']), ('la', 'NOUN'), ('la', [['de', 'orina'], ['orina', 'y'], ['y', 'urgencia'], ['urgencia', 'miccional'], ['miccional', 'al'], ['al', 'retirar']]), ('la', [['la', 'sonda']])], ['sonda', 0, 0, 0, 0, 0, 0, 1, ('sonda', 'NOUN', ['CCONJ', 'NOUN', 'ADJ', 'ADP', 'VERB', 'DET']), ('sonda', 'ADJ'), ('sonda', [['orina', 'y'], ['y', 'urgencia'], ['urgencia', 'miccional'], ['miccional', 'al'], ['al', 'retirar'], ['retirar', 'la']]), ('sonda', [['sonda', 'vesical']])], ['vesical', 0, 0, 0, 0, 0, 0, 5, ('vesical', 'ADJ', ['NOUN', 'ADJ', 'ADP', 'VERB', 'DET', 'NOUN']), ('vesical', 'VERB'), ('vesical', [['y', 'urgencia'], ['urgencia', 'miccional'], ['miccional', 'al'], ['al', 'retirar'], ['retirar', 'la'], ['la', 'sonda']]), ('vesical', [['vesical', 'mantener']])], ['mantener', 0, 0, 0, 0, 0, 0, 3, ('mantener', 'VERB', ['ADJ', 'ADP', 'VERB', 'DET', 'NOUN', 'ADJ']), ('mantener', 'NOUN'), ('mantener', [['urgencia', 'miccional'], ['miccional', 'al'], ['al', 'retirar'], ['retirar', 'la'], ['la', 'sonda'], ['sonda', 'vesical']]), ('mantener', [['mantener', 'sonda']])], ['sonda', 0, 0, 0, 0, 0, 0, 1, ('sonda', 'NOUN', ['ADP', 'VERB', 'DET', 'NOUN', 'ADJ', 'VERB']), ('sonda', 'ADJ'), ('sonda', [['miccional', 'al'], ['al', 'retirar'], ['retirar', 'la'], ['la', 'sonda'], ['sonda', 'vesical'], ['vesical', 'mantener']]), ('sonda', [['sonda', 'vesical']])], ['vesical', 0, 0, 0, 0, 0, 0, 5, ('vesical', 'ADJ', ['VERB', 'DET', 'NOUN', 'ADJ', 'VERB', 'NOUN']), ('vesical', 'ADP'), ('vesical', [['al', 'retirar'], ['retirar', 'la'], ['la', 'sonda'], ['sonda', 'vesical'], ['vesical', 'mantener'], ['mantener', 'sonda']]), ('vesical', [['vesical', 'durante']])], ['durante', 0, 0, 0, 0, 0, 0, 4, ('durante', 'ADP', ['DET', 'NOUN', 'ADJ', 'VERB', 'NOUN', 'ADJ']), ('durante', 'NUM'), ('durante', [['retirar', 'la'], ['la', 'sonda'], ['sonda', 'vesical'], ['vesical', 'mantener'], ['mantener', 'sonda'], ['sonda', 'vesical']]), ('durante', [['durante', '14']])], ['14', 0, 0, 1, 1, 0, 0, 9, ('14', 'NUM', ['NOUN', 'ADJ', 'VERB', 'NOUN', 'ADJ', 'ADP']), ('14', 'NOUN'), ('14', [['la', 'sonda'], ['sonda', 'vesical'], ['vesical', 'mantener'], ['mantener', 'sonda'], ['sonda', 'vesical'], ['vesical', 'durante']]), ('14', [['14', 'dias']])], ['dias', 0, 0, 0, 0, 0, 0, 1, ('dias', 'NOUN', ['ADJ', 'VERB', 'NOUN', 'ADJ', 'ADP', 'NUM']), ('dias', 'NUM'), ('dias', [['sonda', 'vesical'], ['vesical', 'mantener'], ['mantener', 'sonda'], ['sonda', 'vesical'], ['vesical', 'durante'], ['durante', '14']]), ('dias', [['dias', 'dos']])], ['dos', 0, 0, 0, 0, 0, 0, 9, ('dos', 'NUM', ['VERB', 'NOUN', 'ADJ', 'ADP', 'NUM', 'NOUN']), ('dos', 'NOUN'), ('dos', [['vesical', 'mantener'], ['mantener', 'sonda'], ['sonda', 'vesical'], ['vesical', 'durante'], ['durante', '14'], ['14', 'dias']]), ('dos', [['dos', 'semanas']])], ['semanas', 0, 0, 0, 0, 0, 0, 1, ('semanas', 'NOUN', ['NOUN', 'ADJ', 'ADP', 'NUM', 'NOUN', 'NUM']), ('semanas', 'ADJ'), ('semanas', [['mantener', 'sonda'], ['sonda', 'vesical'], ['vesical', 'durante'], ['durante', '14'], ['14', 'dias'], ['dias', 'dos']]), ('semanas', [['semanas', 'ciprofloxacino']])], ['ciprofloxacino', 0, 0, 0, 0, 0, 0, 5, ('ciprofloxacino', 'ADJ', ['ADJ', 'ADP', 'NUM', 'NOUN', 'NUM', 'NOUN']), ('ciprofloxacino', 'NUM'), ('ciprofloxacino', [['sonda', 'vesical'], ['vesical', 'durante'], ['durante', '14'], ['14', 'dias'], ['dias', 'dos'], ['dos', 'semanas']]), ('ciprofloxacino', [['ciprofloxacino', '500mg']])], ['500mg', 0, 0, 0, 1, 0, 0, 9, ('500mg', 'NUM', ['ADP', 'NUM', 'NOUN', 'NUM', 'NOUN', 'ADJ']), ('500mg', 'VERB'), ('500mg', [['vesical', 'durante'], ['durante', '14'], ['14', 'dias'], ['dias', 'dos'], ['dos', 'semanas'], ['semanas', 'ciprofloxacino']]), ('500mg', [['500mg', 'cada']])], ['cada', 0, 0, 0, 0, 0, 0, 3, ('cada', 'VERB', ['NUM', 'NOUN', 'NUM', 'NOUN', 'ADJ', 'NUM']), ('cada', 'NUM'), ('cada', [['durante', '14'], ['14', 'dias'], ['dias', 'dos'], ['dos', 'semanas'], ['semanas', 'ciprofloxacino'], ['ciprofloxacino', '500mg']]), ('cada', [['cada', '12h']])], ['12h', 0, 0, 0, 1, 0, 0, 9, ('12h', 'NUM', ['NOUN', 'NUM', 'NOUN', 'ADJ', 'NUM', 'VERB']), ('12h', 'NUM'), ('12h', [['14', 'dias'], ['dias', 'dos'], ['dos', 'semanas'], ['semanas', 'ciprofloxacino'], ['ciprofloxacino', '500mg'], ['500mg', 'cada']]), ('12h', [['12h', 'durante']])], ['durante', 0, 0, 0, 0, 0, 0, 9, ('durante', 'NUM', ['NUM', 'NOUN', 'ADJ', 'NUM', 'VERB', 'NUM']), ('durante', 'ADP'), ('durante', [['dias', 'dos'], ['dos', 'semanas'], ['semanas', 'ciprofloxacino'], ['ciprofloxacino', '500mg'], ['500mg', 'cada'], ['cada', '12h']]), ('durante', [['durante', 'dos']])], ['dos', 0, 0, 0, 0, 0, 0, 4, ('dos', 'ADP', ['NOUN', 'ADJ', 'NUM', 'VERB', 'NUM', 'NUM']), ('dos', 'NUM'), ('dos', [['dos', 'semanas'], ['semanas', 'ciprofloxacino'], ['ciprofloxacino', '500mg'], ['500mg', 'cada'], ['cada', '12h'], ['12h', 'durante']]), ('dos', [['dos', 'semanas']])], ['semanas', 0, 0, 0, 0, 0, 0, 9, ('semanas', 'NUM', ['ADJ', 'NUM', 'VERB', 'NUM', 'NUM', 'ADP']), ('semanas', 'NOUN'), ('semanas', [['semanas', 'ciprofloxacino'], ['ciprofloxacino', '500mg'], ['500mg', 'cada'], ['cada', '12h'], ['12h', 'durante'], ['durante', 'dos']]), ('semanas', [['semanas', 'paracetamol']])], ['paracetamol', 0, 0, 0, 0, 0, 0, 1, ('paracetamol', 'NOUN', ['NUM', 'VERB', 'NUM', 'NUM', 'ADP', 'NUM']), ('paracetamol', 'ADJ'), ('paracetamol', [['ciprofloxacino', '500mg'], ['500mg', 'cada'], ['cada', '12h'], ['12h', 'durante'], ['durante', 'dos'], ['dos', 'semanas']]), ('paracetamol', [['paracetamol', '1']])], ['1', 0, 0, 1, 1, 0, 0, 5, ('1', 'ADJ', ['VERB', 'NUM', 'NUM', 'ADP', 'NUM', 'NOUN']), ('1', 'NUM'), ('1', [['500mg', 'cada'], ['cada', '12h'], ['12h', 'durante'], ['durante', 'dos'], ['dos', 'semanas'], ['semanas', 'paracetamol']]), ('1', [['1', 'g']])], ['g', 0, 0, 0, 0, 0, 0, 9, ('g', 'NUM', ['NUM', 'NUM', 'ADP', 'NUM', 'NOUN', 'ADJ']), ('g', 'CCONJ'), ('g', [['cada', '12h'], ['12h', 'durante'], ['durante', 'dos'], ['dos', 'semanas'], ['semanas', 'paracetamol'], ['paracetamol', '1']]), ('g', [['g', 'cada']])], ['cada', 0, 0, 0, 0, 0, 0, 7, ('cada', 'CCONJ', ['NUM', 'ADP', 'NUM', 'NOUN', 'ADJ', 'NUM']), ('cada', 'NUM'), ('cada', [['12h', 'durante'], ['durante', 'dos'], ['dos', 'semanas'], ['semanas', 'paracetamol'], ['paracetamol', '1'], ['1', 'g']]), ('cada', [['cada', '8']])], ['8', 0, 0, 1, 1, 0, 0, 9, ('8', 'NUM', ['ADP', 'NUM', 'NOUN', 'ADJ', 'NUM', 'CCONJ']), ('8', 'NUM'), ('8', [['durante', 'dos'], ['dos', 'semanas'], ['semanas', 'paracetamol'], ['paracetamol', '1'], ['1', 'g'], ['g', 'cada']]), ('8', [['8', 'horas']])], ['horas', 0, 0, 0, 0, 0, 0, 9, ('horas', 'NUM', ['NUM', 'NOUN', 'ADJ', 'NUM', 'CCONJ', 'NUM']), ('horas', 'NOUN'), ('horas', [['dos', 'semanas'], ['semanas', 'paracetamol'], ['paracetamol', '1'], ['1', 'g'], ['g', 'cada'], ['cada', '8']]), ('horas', [['horas', 'si']])], ['si', 0, 0, 0, 0, 0, 0, 1, ('si', 'NOUN', ['NOUN', 'ADJ', 'NUM', 'CCONJ', 'NUM', 'NUM']), ('si', 'SCONJ'), ('si', [['semanas', 'paracetamol'], ['paracetamol', '1'], ['1', 'g'], ['g', 'cada'], ['cada', '8'], ['8', 'horas']]), ('si', [['si', 'molestias']])], ['molestias', 0, 0, 0, 0, 0, 0, 10, ('molestias', 'SCONJ', ['ADJ', 'NUM', 'CCONJ', 'NUM', 'NUM', 'NOUN']), ('molestias', 'ADJ'), ('molestias', [['paracetamol', '1'], ['1', 'g'], ['g', 'cada'], ['cada', '8'], ['8', 'horas'], ['horas', 'si']]), ('molestias', [['molestias', 'si']])], ['si', 0, 0, 0, 0, 0, 0, 5, ('si', 'ADJ', ['NUM', 'CCONJ', 'NUM', 'NUM', 'NOUN', 'SCONJ']), ('si', 'SCONJ'), ('si', [['1', 'g'], ['g', 'cada'], ['cada', '8'], ['8', 'horas'], ['horas', 'si'], ['si', 'molestias']]), ('si', [['si', 'fiebre']])], ['fiebre', 0, 0, 0, 0, 0, 0, 10, ('fiebre', 'SCONJ', ['CCONJ', 'NUM', 'NUM', 'NOUN', 'SCONJ', 'ADJ']), ('fiebre', 'NOUN'), ('fiebre', [['g', 'cada'], ['cada', '8'], ['8', 'horas'], ['horas', 'si'], ['si', 'molestias'], ['molestias', 'si']]), ('fiebre', [['fiebre', 'mayor']])], ['mayor', 0, 0, 0, 0, 0, 0, 1, ('mayor', 'NOUN', ['NUM', 'NUM', 'NOUN', 'SCONJ', 'ADJ', 'SCONJ']), ('mayor', 'ADJ'), ('mayor', [['cada', '8'], ['8', 'horas'], ['horas', 'si'], ['si', 'molestias'], ['molestias', 'si'], ['si', 'fiebre']]), ('mayor', [['mayor', 'de']])], ['de', 0, 0, 0, 0, 0, 0, 5, ('de', 'ADJ', ['NUM', 'NOUN', 'SCONJ', 'ADJ', 'SCONJ', 'NOUN']), ('de', 'ADP'), ('de', [['8', 'horas'], ['horas', 'si'], ['si', 'molestias'], ['molestias', 'si'], ['si', 'fiebre'], ['fiebre', 'mayor']]), ('de', [['de', '38ºc']])], ['38ºc', 0, 0, 0, 1, 0, 0, 4, ('38ºc', 'ADP', ['NOUN', 'SCONJ', 'ADJ', 'SCONJ', 'NOUN', 'ADJ']), ('38ºc', 'NUM'), ('38ºc', [['horas', 'si'], ['si', 'molestias'], ['molestias', 'si'], ['si', 'fiebre'], ['fiebre', 'mayor'], ['mayor', 'de']]), ('38ºc', [['38ºc', 'empeoramiento']])], ['empeoramiento', 0, 0, 0, 0, 0, 0, 9, ('empeoramiento', 'NUM', ['SCONJ', 'ADJ', 'SCONJ', 'NOUN', 'ADJ', 'ADP']), ('empeoramiento', 'NOUN'), ('empeoramiento', [['si', 'molestias'], ['molestias', 'si'], ['si', 'fiebre'], ['fiebre', 'mayor'], ['mayor', 'de'], ['de', '38ºc']]), ('empeoramiento', [['empeoramiento', 'claro']])], ['claro', 0, 0, 0, 0, 0, 0, 1, ('claro', 'NOUN', ['ADJ', 'SCONJ', 'NOUN', 'ADJ', 'ADP', 'NUM']), ('claro', 'ADJ'), ('claro', [['molestias', 'si'], ['si', 'fiebre'], ['fiebre', 'mayor'], ['mayor', 'de'], ['de', '38ºc'], ['38ºc', 'empeoramiento']]), ('claro', [['claro', 'del']])], ['del', 0, 0, 0, 0, 0, 0, 5, ('del', 'ADJ', ['SCONJ', 'NOUN', 'ADJ', 'ADP', 'NUM', 'NOUN']), ('del', 'ADP'), ('del', [['si', 'fiebre'], ['fiebre', 'mayor'], ['mayor', 'de'], ['de', '38ºc'], ['38ºc', 'empeoramiento'], ['empeoramiento', 'claro']]), ('del', [['del', 'estado']])], ['estado', 0, 0, 0, 0, 0, 0, 4, ('estado', 'ADP', ['NOUN', 'ADJ', 'ADP', 'NUM', 'NOUN', 'ADJ']), ('estado', 'NOUN'), ('estado', [['fiebre', 'mayor'], ['mayor', 'de'], ['de', '38ºc'], ['38ºc', 'empeoramiento'], ['empeoramiento', 'claro'], ['claro', 'del']]), ('estado', [['estado', 'general']])], ['general', 0, 0, 0, 0, 0, 0, 1, ('general', 'NOUN', ['ADJ', 'ADP', 'NUM', 'NOUN', 'ADJ', 'ADP']), ('general', 'ADJ'), ('general', [['mayor', 'de'], ['de', '38ºc'], ['38ºc', 'empeoramiento'], ['empeoramiento', 'claro'], ['claro', 'del'], ['del', 'estado']]), ('general', [['general', 'o']])], ['o', 0, 0, 0, 0, 0, 0, 5, ('o', 'ADJ', ['ADP', 'NUM', 'NOUN', 'ADJ', 'ADP', 'NOUN']), ('o', 'CCONJ'), ('o', [['de', '38ºc'], ['38ºc', 'empeoramiento'], ['empeoramiento', 'claro'], ['claro', 'del'], ['del', 'estado'], ['estado', 'general']]), ('o', [['o', 'imposibilidad']])], ['imposibilidad', 0, 0, 0, 0, 0, 0, 7, ('imposibilidad', 'CCONJ', ['NUM', 'NOUN', 'ADJ', 'ADP', 'NOUN', 'ADJ']), ('imposibilidad', 'NOUN'), ('imposibilidad', [['38ºc', 'empeoramiento'], ['empeoramiento', 'claro'], ['claro', 'del'], ['del', 'estado'], ['estado', 'general'], ['general', 'o']]), ('imposibilidad', [['imposibilidad', 'miccional']])], ['miccional', 0, 0, 0, 0, 0, 0, 1, ('miccional', 'NOUN', ['NOUN', 'ADJ', 'ADP', 'NOUN', 'ADJ', 'CCONJ']), ('miccional', 'ADJ'), ('miccional', [['empeoramiento', 'claro'], ['claro', 'del'], ['del', 'estado'], ['estado', 'general'], ['general', 'o'], ['o', 'imposibilidad']]), ('miccional', [['miccional', 'por']])], ['por', 0, 0, 0, 0, 0, 0, 5, ('por', 'ADJ', ['ADJ', 'ADP', 'NOUN', 'ADJ', 'CCONJ', 'NOUN']), ('por', 'ADP'), ('por', [['claro', 'del'], ['del', 'estado'], ['estado', 'general'], ['general', 'o'], ['o', 'imposibilidad'], ['imposibilidad', 'miccional']]), ('por', [['por', 'obstruccion']])], ['obstruccion', 0, 0, 0, 0, 0, 0, 4, ('obstruccion', 'ADP', ['ADP', 'NOUN', 'ADJ', 'CCONJ', 'NOUN', 'ADJ']), ('obstruccion', 'PROPN'), ('obstruccion', [['del', 'estado'], ['estado', 'general'], ['general', 'o'], ['o', 'imposibilidad'], ['imposibilidad', 'miccional'], ['miccional', 'por']]), ('obstruccion', [['obstruccion', 'de']])], ['de', 0, 0, 0, 0, 0, 0, 6, ('de', 'PROPN', ['NOUN', 'ADJ', 'CCONJ', 'NOUN', 'ADJ', 'ADP']), ('de', 'ADP'), ('de', [['estado', 'general'], ['general', 'o'], ['o', 'imposibilidad'], ['imposibilidad', 'miccional'], ['miccional', 'por'], ['por', 'obstruccion']]), ('de', [['de', 'sonda']])], ['sonda', 0, 0, 0, 0, 0, 0, 4, ('sonda', 'ADP', ['ADJ', 'CCONJ', 'NOUN', 'ADJ', 'ADP', 'PROPN']), ('sonda', 'NOUN'), ('sonda', [['general', 'o'], ['o', 'imposibilidad'], ['imposibilidad', 'miccional'], ['miccional', 'por'], ['por', 'obstruccion'], ['obstruccion', 'de']]), ('sonda', [['sonda', 'vesical']])], ['vesical', 0, 0, 0, 0, 0, 0, 1, ('vesical', 'NOUN', ['CCONJ', 'NOUN', 'ADJ', 'ADP', 'PROPN', 'ADP']), ('vesical', 'ADJ'), ('vesical', [['o', 'imposibilidad'], ['imposibilidad', 'miccional'], ['miccional', 'por'], ['por', 'obstruccion'], ['obstruccion', 'de'], ['de', 'sonda']]), ('vesical', [['vesical', 'o']])], ['o', 0, 0, 0, 0, 0, 0, 5, ('o', 'ADJ', ['NOUN', 'ADJ', 'ADP', 'PROPN', 'ADP', 'NOUN']), ('o', 'CCONJ'), ('o', [['imposibilidad', 'miccional'], ['miccional', 'por'], ['por', 'obstruccion'], ['obstruccion', 'de'], ['de', 'sonda'], ['sonda', 'vesical']]), ('o', [['o', 'despues']])], ['despues', 0, 0, 0, 0, 0, 0, 7, ('despues', 'CCONJ', ['ADJ', 'ADP', 'PROPN', 'ADP', 'NOUN', 'ADJ']), ('despues', 'NOUN'), ('despues', [['miccional', 'por'], ['por', 'obstruccion'], ['obstruccion', 'de'], ['de', 'sonda'], ['sonda', 'vesical'], ['vesical', 'o']]), ('despues', [['despues', 'de']])], ['de', 0, 0, 0, 0, 0, 0, 1, ('de', 'NOUN', ['ADP', 'PROPN', 'ADP', 'NOUN', 'ADJ', 'CCONJ']), ('de', 'ADP'), ('de', [['por', 'obstruccion'], ['obstruccion', 'de'], ['de', 'sonda'], ['sonda', 'vesical'], ['vesical', 'o'], ['o', 'despues']]), ('de', [['de', 'su']])], ['su', 0, 0, 0, 0, 0, 0, 4, ('su', 'ADP', ['PROPN', 'ADP', 'NOUN', 'ADJ', 'CCONJ', 'NOUN']), ('su', 'DET'), ('su', [['obstruccion', 'de'], ['de', 'sonda'], ['sonda', 'vesical'], ['vesical', 'o'], ['o', 'despues'], ['despues', 'de']]), ('su', [['su', 'retirada']])], ['retirada', 0, 0, 0, 0, 0, 0, 12, ('retirada', 'DET', ['ADP', 'NOUN', 'ADJ', 'CCONJ', 'NOUN', 'ADP']), ('retirada', 'NOUN'), ('retirada', [['de', 'sonda'], ['sonda', 'vesical'], ['vesical', 'o'], ['o', 'despues'], ['despues', 'de'], ['de', 'su']]), ('retirada', [['retirada', 'consultar']])], ['consultar', 0, 0, 0, 0, 0, 0, 1, ('consultar', 'NOUN', ['NOUN', 'ADJ', 'CCONJ', 'NOUN', 'ADP', 'DET']), ('consultar', 'VERB'), ('consultar', [['sonda', 'vesical'], ['vesical', 'o'], ['o', 'despues'], ['despues', 'de'], ['de', 'su'], ['su', 'retirada']]), ('consultar', [['consultar', 'con']])], ['con', 0, 0, 0, 0, 0, 0, 3, ('con', 'VERB', ['ADJ', 'CCONJ', 'NOUN', 'ADP', 'DET', 'NOUN']), ('con', 'ADP'), ('con', [['vesical', 'o'], ['o', 'despues'], ['despues', 'de'], ['de', 'su'], ['su', 'retirada'], ['retirada', 'consultar']]), ('con', [['con', 'el']])], ['el', 0, 0, 0, 0, 0, 0, 4, ('el', 'ADP', ['CCONJ', 'NOUN', 'ADP', 'DET', 'NOUN', 'VERB']), ('el', 'DET'), ('el', [['o', 'despues'], ['despues', 'de'], ['de', 'su'], ['su', 'retirada'], ['retirada', 'consultar'], ['consultar', 'con']]), ('el', [['el', 'servicio']])], ['servicio', 0, 0, 0, 0, 0, 0, 12, ('servicio', 'DET', ['NOUN', 'ADP', 'DET', 'NOUN', 'VERB', 'ADP']), ('servicio', 'NOUN'), ('servicio', [['despues', 'de'], ['de', 'su'], ['su', 'retirada'], ['retirada', 'consultar'], ['consultar', 'con'], ['con', 'el']]), ('servicio', [['servicio', 'de']])], ['de', 0, 0, 0, 0, 0, 0, 1, ('de', 'NOUN', ['ADP', 'DET', 'NOUN', 'VERB', 'ADP', 'DET']), ('de', 'ADP'), ('de', [['de', 'su'], ['su', 'retirada'], ['retirada', 'consultar'], ['consultar', 'con'], ['con', 'el'], ['el', 'servicio']]), ('de', [['de', 'urgencias']])], ['urgencias', 0, 0, 0, 0, 0, 0, 4, ('urgencias', 'ADP', ['DET', 'NOUN', 'VERB', 'ADP', 'DET', 'NOUN']), ('urgencias', 'NOUN'), ('urgencias', [['su', 'retirada'], ['retirada', 'consultar'], ['consultar', 'con'], ['con', 'el'], ['el', 'servicio'], ['servicio', 'de']]), ('urgencias', [['urgencias', 'control']])], ['control', 0, 0, 0, 0, 0, 0, 1, ('control', 'NOUN', ['NOUN', 'VERB', 'ADP', 'DET', 'NOUN', 'ADP']), ('control', 'NOUN'), ('control', [['retirada', 'consultar'], ['consultar', 'con'], ['con', 'el'], ['el', 'servicio'], ['servicio', 'de'], ['de', 'urgencias']]), ('control', [['control', 'en']])], ['en', 0, 0, 0, 0, 0, 0, 1, ('en', 'NOUN', ['VERB', 'ADP', 'DET', 'NOUN', 'ADP', 'NOUN']), ('en', 'ADP'), ('en', [['consultar', 'con'], ['con', 'el'], ['el', 'servicio'], ['servicio', 'de'], ['de', 'urgencias'], ['urgencias', 'control']]), ('en', [['en', 'consultas']])], ['consultas', 0, 0, 0, 0, 0, 0, 4, ('consultas', 'ADP', ['ADP', 'DET', 'NOUN', 'ADP', 'NOUN', 'NOUN']), ('consultas', 'NOUN'), ('consultas', [['con', 'el'], ['el', 'servicio'], ['servicio', 'de'], ['de', 'urgencias'], ['urgencias', 'control'], ['control', 'en']]), ('consultas', [['consultas', 'externas']])], ['externas', 0, 0, 0, 0, 0, 0, 1, ('externas', 'NOUN', ['DET', 'NOUN', 'ADP', 'NOUN', 'NOUN', 'ADP']), ('externas', 'ADJ'), ('externas', [['el', 'servicio'], ['servicio', 'de'], ['de', 'urgencias'], ['urgencias', 'control'], ['control', 'en'], ['en', 'consultas']]), ('externas', [['externas', 'de']])], ['de', 0, 0, 0, 0, 0, 0, 5, ('de', 'ADJ', ['NOUN', 'ADP', 'NOUN', 'NOUN', 'ADP', 'NOUN']), ('de', 'ADP'), ('de', [['servicio', 'de'], ['de', 'urgencias'], ['urgencias', 'control'], ['control', 'en'], ['en', 'consultas'], ['consultas', 'externas']]), ('de', [['de', 'urologia']])], ['urologia', 0, 0, 0, 0, 0, 0, 4, ('urologia', 'ADP', ['ADP', 'NOUN', 'NOUN', 'ADP', 'NOUN', 'ADJ']), ('urologia', 'NOUN'), ('urologia', [['de', 'urgencias'], ['urgencias', 'control'], ['control', 'en'], ['en', 'consultas'], ['consultas', 'externas'], ['externas', 'de']]), ('urologia', [['urologia', 'segun']])], ['segun', 0, 0, 0, 0, 0, 0, 1, ('segun', 'NOUN', ['NOUN', 'NOUN', 'ADP', 'NOUN', 'ADJ', 'ADP']), ('segun', 'ADJ'), ('segun', [['urgencias', 'control'], ['control', 'en'], ['en', 'consultas'], ['consultas', 'externas'], ['externas', 'de'], ['de', 'urologia']]), ('segun', [['segun', 'cita']])], ['cita', 0, 0, 0, 0, 0, 0, 5, ('cita', 'ADJ', ['NOUN', 'ADP', 'NOUN', 'ADJ', 'ADP', 'NOUN']), ('cita', 'NOUN'), ('cita', [['control', 'en'], ['en', 'consultas'], ['consultas', 'externas'], ['externas', 'de'], ['de', 'urologia'], ['urologia', 'segun']]), ('cita', [['cita', 'en']])], ['en', 0, 0, 0, 0, 0, 0, 1, ('en', 'NOUN', ['ADP', 'NOUN', 'ADJ', 'ADP', 'NOUN', 'ADJ']), ('en', 'ADP'), ('en', [['en', 'consultas'], ['consultas', 'externas'], ['externas', 'de'], ['de', 'urologia'], ['urologia', 'segun'], ['segun', 'cita']]), ('en', [['en', 'hoja']])], ['hoja', 0, 0, 0, 0, 0, 0, 4, ('hoja', 'ADP', ['NOUN', 'ADJ', 'ADP', 'NOUN', 'ADJ', 'NOUN']), ('hoja', 'NOUN'), ('hoja', [['consultas', 'externas'], ['externas', 'de'], ['de', 'urologia'], ['urologia', 'segun'], ['segun', 'cita'], ['cita', 'en']]), ('hoja', [['hoja', 'adjunta']])], ['adjunta', 0, 0, 0, 0, 0, 0, 1, ('adjunta', 'NOUN', ['ADJ', 'ADP', 'NOUN', 'ADJ', 'NOUN', 'ADP']), ('adjunta', 'ADJ'), ('adjunta', [['externas', 'de'], ['de', 'urologia'], ['urologia', 'segun'], ['segun', 'cita'], ['cita', 'en'], ['en', 'hoja']]), ('adjunta', [['adjunta', 'destinacio']])], ['destinacio', 0, 0, 0, 0, 0, 0, 5, ('destinacio', 'ADJ', ['ADP', 'NOUN', 'ADJ', 'NOUN', 'ADP', 'NOUN']), ('destinacio', 'NOUN'), ('destinacio', [['de', 'urologia'], ['urologia', 'segun'], ['segun', 'cita'], ['cita', 'en'], ['en', 'hoja'], ['hoja', 'adjunta']]), ('destinacio', [['destinacio', 'a']])], ['a', 0, 0, 0, 0, 0, 0, 1, ('a', 'NOUN', ['NOUN', 'ADJ', 'NOUN', 'ADP', 'NOUN', 'ADJ']), ('a', 'ADP'), ('a', [['urologia', 'segun'], ['segun', 'cita'], ['cita', 'en'], ['en', 'hoja'], ['hoja', 'adjunta'], ['adjunta', 'destinacio']]), ('a', [['a', 'lalta']])], ['lalta', 0, 0, 0, 0, 0, 0, 4, ('lalta', 'ADP', ['ADJ', 'NOUN', 'ADP', 'NOUN', 'ADJ', 'NOUN']), ('lalta', 'NOUN'), ('lalta', [['segun', 'cita'], ['cita', 'en'], ['en', 'hoja'], ['hoja', 'adjunta'], ['adjunta', 'destinacio'], ['destinacio', 'a']]), ('lalta', [['lalta', 'a']])], ['a', 0, 0, 0, 0, 0, 0, 1, ('a', 'NOUN', ['NOUN', 'ADP', 'NOUN', 'ADJ', 'NOUN', 'ADP']), ('a', 'ADP'), ('a', [['cita', 'en'], ['en', 'hoja'], ['hoja', 'adjunta'], ['adjunta', 'destinacio'], ['destinacio', 'a'], ['a', 'lalta']]), ('a', [['a', 'domicili']])], ['domicili', 0, 0, 0, 0, 0, 0, 4, ('domicili', 'ADP', ['ADP', 'NOUN', 'ADJ', 'NOUN', 'ADP', 'NOUN']), ('domicili', 'NOUN'), ('domicili', [['en', 'hoja'], ['hoja', 'adjunta'], ['adjunta', 'destinacio'], ['destinacio', 'a'], ['a', 'lalta'], ['lalta', 'a']]), ('domicili', [['domicili']])]]\n",
            "['O', 'O', 'O', 'O', 'O', 'O', 'O', 'O', 'O', 'O', 'O', 'O', 'O', 'O', 'O', 'O', 'O', 'O', 'O', 'O', 'O', 'O', 'O', 'O', 'O', 'O', 'O', 'O', 'O', 'O', 'O', 'O', 'O', 'O', 'O', 'O', 'O', 'O', 'O', 'O', 'O', 'O', 'O', 'O', 'O', 'O', 'O', 'O', 'O', 'O', 'O', 'O', 'O', 'O', 'O', 'O', 'O', 'O', 'O', 'O', 'NEG-POS', 'O', 'O', 'O', 'O', 'O', 'O', 'O', 'O', 'O', 'O', 'O', 'O', 'O', 'O', 'O', 'O', 'O', 'O', 'O', 'O', 'O', 'O', 'O', 'O', 'O', 'O', 'O', 'O', 'O', 'O', 'O', 'O', 'O', 'O', 'O', 'O', 'O', 'O', 'O', 'O', 'O', 'O', 'O', 'O', 'O', 'O', 'O', 'O', 'O', 'O', 'O', 'NEG-PRE', 'O', 'O', 'O', 'UNC-PRE', 'O', 'O', 'O', 'O', 'O', 'O', 'O', 'O', 'O', 'O', 'O', 'O', 'O', 'O', 'O', 'NEG-POS', 'O', 'O', 'O', 'O', 'O', 'O', 'O', 'O', 'O', 'O', 'O', 'O', 'O', 'O', 'O', 'O', 'O', 'O', 'O', 'O', 'O', 'O', 'O', 'O', 'O', 'O', 'O', 'O', 'O', 'O', 'O', 'O', 'O', 'O', 'O', 'O', 'O', 'O', 'O', 'O', 'O', 'O', 'O', 'O', 'O', 'O', 'O', 'O', 'O', 'UNC-PRE', 'O', 'O', 'O', 'O', 'O', 'O', 'O', 'O', 'O', 'O', 'O', 'O', 'O', 'O', 'O', 'O', 'O', 'O', 'O', 'O', 'O', 'O', 'O', 'O', 'O', 'O', 'O', 'O', 'O', 'O', 'NEG-POS', 'O', 'O', 'O', 'O', 'O', 'O', 'O', 'O', 'O', 'O', 'O', 'O', 'NEG-POS', 'O', 'O', 'O', 'O', 'O', 'O', 'O', 'O', 'O', 'O', 'O', 'O', 'O', 'O', 'O', 'O', 'O', 'O', 'O', 'O', 'O', 'O', 'O', 'O', 'O', 'O', 'O', 'O', 'O', 'O', 'O', 'O', 'UNC-POS', 'O', 'O', 'O', 'O', 'O', 'O', 'O', 'O', 'O', 'O', 'O', 'O', 'O', 'O', 'NEG-POS', 'O', 'O', 'O', 'O', 'O', 'O', 'O', 'O', 'O', 'O', 'O', 'O', 'O', 'O', 'O', 'O', 'O', 'O', 'O', 'O', 'O', 'O', 'O', 'O', 'O', 'O', 'O', 'O', 'O', 'NEG-POS', 'O', 'O', 'O', 'O', 'O', 'O', 'NEG-POS', 'O', 'O', 'O', 'O', 'O', 'O', 'O', 'O', 'O', 'O', 'O', 'O', 'O', 'O', 'O', 'O', 'O', 'O', 'O', 'O', 'O', 'O', 'O', 'O', 'O', 'O', 'O', 'O', 'O', 'O', 'O', 'O', 'O', 'O', 'O', 'O', 'O', 'O', 'O', 'O', 'O', 'O', 'O', 'O', 'O', 'O', 'O', 'O', 'O', 'O', 'O', 'O', 'O', 'O', 'O', 'O', 'O', 'O', 'O', 'O', 'O', 'O', 'O', 'O', 'O', 'O', 'O', 'O', 'O', 'O', 'O', 'O', 'O', 'O', 'O', 'O', 'NEG-POS', 'O', 'O', 'O', 'O', 'O', 'O', 'O', 'O', 'O', 'O', 'O', 'O', 'O', 'O', 'O', 'O', 'O', 'O', 'O', 'O', 'O', 'O', 'O', 'O', 'O', 'O', 'O', 'O', 'O', 'O', 'O', 'O', 'O', 'O', 'O', 'O', 'O', 'O', 'O', 'O', 'O', 'O', 'O', 'O', 'O', 'O', 'O', 'O', 'O', 'O', 'O', 'O', 'O', 'O', 'O', 'O', 'O', 'O', 'O', 'O', 'O', 'O', 'O', 'O', 'O', 'O', 'O', 'O', 'O', 'O', 'O', 'O', 'O', 'O', 'O', 'O', 'O', 'O', 'O', 'O', 'O', 'O', 'O', 'O', 'O', 'NEG-POS', 'O', 'O', 'O', 'O', 'O', 'O', 'O', 'O', 'O', 'O', 'O', 'O', 'O', 'O', 'O', 'O', 'O', 'O', 'O', 'O', 'O', 'O', 'O', 'O', 'O', 'O', 'O', 'O', 'O', 'O', 'O', 'O', 'O', 'O', 'O', 'O', 'O', 'NEG-POS', 'O', 'O', 'O', 'O', 'O', 'O', 'O', 'O', 'O', 'O', 'O', 'O', 'O', 'O', 'O', 'O', 'O', 'O', 'O', 'O', 'O', 'O', 'O', 'O', 'O', 'O', 'O', 'O', 'O', 'O', 'O', 'O', 'O', 'O', 'O', 'O', 'O', 'O', 'O', 'O', 'O']\n",
            "254\n",
            "254\n"
          ]
        }
      ],
      "source": [
        "print(X_train[0])\n",
        "print(y_train[0])\n",
        "\n",
        "print(len(X_train))\n",
        "print(len(y_train))"
      ]
    },
    {
      "cell_type": "markdown",
      "metadata": {},
      "source": [
        "## <span style=\"color:red; font-size:larger;\">**MODEL**</span>\n"
      ]
    },
    {
      "cell_type": "code",
      "execution_count": 64,
      "metadata": {},
      "outputs": [
        {
          "ename": "ValueError",
          "evalue": "The numbers of items and labels differ: |x| = 493, |y| = 554",
          "output_type": "error",
          "traceback": [
            "\u001b[1;31m---------------------------------------------------------------------------\u001b[0m",
            "\u001b[1;31mValueError\u001b[0m                                Traceback (most recent call last)",
            "Cell \u001b[1;32mIn[64], line 33\u001b[0m\n\u001b[0;32m     28\u001b[0m     crf_model\u001b[38;5;241m.\u001b[39mfit(X_encoded, y_train)\n\u001b[0;32m     31\u001b[0m \u001b[38;5;66;03m# Example usage:\u001b[39;00m\n\u001b[0;32m     32\u001b[0m \u001b[38;5;66;03m# Assuming X_train and y_train are obtained as in your example\u001b[39;00m\n\u001b[1;32m---> 33\u001b[0m train_crf(X_train, y_train)\n",
            "Cell \u001b[1;32mIn[64], line 28\u001b[0m, in \u001b[0;36mtrain_crf\u001b[1;34m(X_train, y_train)\u001b[0m\n\u001b[0;32m     25\u001b[0m \u001b[38;5;28;01mif\u001b[39;00m \u001b[38;5;28misinstance\u001b[39m(y_train[\u001b[38;5;241m0\u001b[39m], \u001b[38;5;28mstr\u001b[39m):\n\u001b[0;32m     26\u001b[0m     y_train \u001b[38;5;241m=\u001b[39m [[label] \u001b[38;5;28;01mfor\u001b[39;00m label \u001b[38;5;129;01min\u001b[39;00m y_train]\n\u001b[1;32m---> 28\u001b[0m crf_model\u001b[38;5;241m.\u001b[39mfit(X_encoded, y_train)\n",
            "File \u001b[1;32mc:\\anaconda\\Lib\\site-packages\\sklearn_crfsuite\\estimator.py:314\u001b[0m, in \u001b[0;36mCRF.fit\u001b[1;34m(self, X, y, X_dev, y_dev)\u001b[0m\n\u001b[0;32m    311\u001b[0m     train_data \u001b[38;5;241m=\u001b[39m tqdm(train_data, \u001b[38;5;124m\"\u001b[39m\u001b[38;5;124mloading training data to CRFsuite\u001b[39m\u001b[38;5;124m\"\u001b[39m, \u001b[38;5;28mlen\u001b[39m(X), leave\u001b[38;5;241m=\u001b[39m\u001b[38;5;28;01mTrue\u001b[39;00m)\n\u001b[0;32m    313\u001b[0m \u001b[38;5;28;01mfor\u001b[39;00m xseq, yseq \u001b[38;5;129;01min\u001b[39;00m train_data:\n\u001b[1;32m--> 314\u001b[0m     trainer\u001b[38;5;241m.\u001b[39mappend(xseq, yseq)\n\u001b[0;32m    316\u001b[0m \u001b[38;5;28;01mif\u001b[39;00m \u001b[38;5;28mself\u001b[39m\u001b[38;5;241m.\u001b[39mverbose:\n\u001b[0;32m    317\u001b[0m     \u001b[38;5;28mprint\u001b[39m(\u001b[38;5;124m\"\u001b[39m\u001b[38;5;124m\"\u001b[39m)\n",
            "File \u001b[1;32mpycrfsuite/_pycrfsuite.pyx:312\u001b[0m, in \u001b[0;36mpycrfsuite._pycrfsuite.BaseTrainer.append\u001b[1;34m()\u001b[0m\n",
            "\u001b[1;31mValueError\u001b[0m: The numbers of items and labels differ: |x| = 493, |y| = 554"
          ]
        }
      ],
      "source": [
        "# Define CRF model\n",
        "crf_model = CRF(\n",
        "    algorithm='lbfgs',\n",
        "    c1=0.1,\n",
        "    c2=0.1,\n",
        "    max_iterations=100,\n",
        "    all_possible_transitions=True\n",
        ")\n",
        "\n",
        "\n",
        "# Function to train CRF model\n",
        "def train_crf(X_train, y_train):\n",
        "    # Encode features\n",
        "    encoder = LabelEncoder()\n",
        "    X_encoded = []\n",
        "    for sentence in X_train:\n",
        "        sentence_encoded = []\n",
        "        for feature in sentence:\n",
        "            feature_str = str(feature)  # Convert feature to string\n",
        "            feature_encoded = encoder.fit_transform([feature_str])  # Encode as string\n",
        "            sentence_encoded.append(feature_encoded[0])  # Append the first element (as it's a list)\n",
        "        X_encoded.append([{'feature': encoded_feature} for encoded_feature in sentence_encoded])\n",
        "\n",
        "    # Convert y_train to list of lists (if it's not already)\n",
        "    if isinstance(y_train[0], str):\n",
        "        y_train = [[label] for label in y_train]\n",
        "\n",
        "    crf_model.fit(X_encoded, y_train)\n",
        "\n",
        "\n",
        "# Example usage:\n",
        "# Assuming X_train and y_train are obtained as in your example\n",
        "train_crf(X_train, y_train)\n"
      ]
    },
    {
      "cell_type": "markdown",
      "metadata": {},
      "source": [
        "## <span style=\"color:red; font-size:larger;\">**MODEL EVALUATION**</span>"
      ]
    },
    {
      "cell_type": "code",
      "execution_count": null,
      "metadata": {},
      "outputs": [],
      "source": [
        "# To evaluate on test data:\n",
        "# X_test and y_test should be prepared in the same way as X_train and y_train\n",
        "# evaluate_crf(X_test, y_test)\n",
        "\n",
        "# To predict labels on new data:\n",
        "# Assuming X_new is the feature matrix for new data\n",
        "# predicted_labels = predict_crf(X_new)\n",
        "\n",
        "\n",
        "# Function to evaluate CRF model\n",
        "def evaluate_crf(X_test, y_test):\n",
        "    y_pred = crf_model.predict(X_test)\n",
        "    print(flat_classification_report(y_test, y_pred))"
      ]
    }
  ],
  "metadata": {
    "colab": {
      "provenance": []
    },
    "kernelspec": {
      "display_name": "Python 3",
      "language": "python",
      "name": "python3"
    },
    "language_info": {
      "codemirror_mode": {
        "name": "ipython",
        "version": 3
      },
      "file_extension": ".py",
      "mimetype": "text/x-python",
      "name": "python",
      "nbconvert_exporter": "python",
      "pygments_lexer": "ipython3",
      "version": "3.11.5"
    }
  },
  "nbformat": 4,
  "nbformat_minor": 0
}
