{
  "nbformat": 4,
  "nbformat_minor": 0,
  "metadata": {
    "colab": {
      "provenance": []
    },
    "kernelspec": {
      "name": "python3",
      "display_name": "Python 3"
    },
    "language_info": {
      "name": "python"
    }
  },
  "cells": [
    {
      "cell_type": "code",
      "execution_count": null,
      "metadata": {
        "id": "Oeidpp8Fv9ps"
      },
      "outputs": [],
      "source": [
        "def precision_neg_unc(true, pred):\n",
        "    right = 0\n",
        "    wrong = 0\n",
        "    total_pred = len(pred)\n",
        "\n",
        "    for token in pred:\n",
        "        if token in true:\n",
        "            right += 1\n",
        "        else:\n",
        "            wrong += 1\n",
        "\n",
        "    precision = right / total_pred\n",
        "    recall = right / (right + wrong) if right + wrong > 0 else 0\n",
        "    f1_score = 2 * (precision * recall) / (precision + recall) if precision + recall > 0 else 0\n",
        "    return precision, recall, f1_score\n",
        "\n",
        "precision_neg, recall_neg, f1_score_neg = precision_neg_unc(negations, neg_detections_text)\n",
        "\n",
        "print(neg_scope_detect)\n",
        "print(negation_scopes)"
      ]
    },
    {
      "cell_type": "code",
      "source": [
        "def precision_neg_unc_scopes(true_scopes, pred_scopes):\n",
        "    right = 0 #Variable to store correct predictions.\n",
        "    wrong = 0\n",
        "    total_pred = len(pred_scopes) #Total amount of predictions.\n",
        "\n",
        "    for prediction in pred_scopes:\n",
        "        pred_start, pred_end = prediction[0], prediction[1]\n",
        "\n",
        "        for true in true_scopes:\n",
        "            true_start, true_end = true[0], true[1]\n",
        "            if (pred_start == true_start or pred_end == true_end): #using abs to get the absolute number and see if the pred matches true.\n",
        "                right += 1\n",
        "            else:\n",
        "                wrong += 1\n",
        "\n",
        "    precision = right / total_pred\n",
        "    recall = right / (right + wrong) if right + wrong > 0 else 0\n",
        "    f1_score = 2 * (precision * recall) / (precision + recall) if precision + recall > 0 else 0\n",
        "    return precision, recall, f1_score\n",
        "\n",
        "precision_neg_scope, recall_neg_scope, f1_score_neg_scope = precision_neg_scopes(negation_scopes, neg_scope_detect)\n",
        "#Convert the negations tuple into a list with just the negation words detected.\n",
        "unc_detections_text = []\n",
        "for detection in unc_detect:\n",
        "    for x in detection:\n",
        "        if type(x)== str:\n",
        "            unc_detections_text.append(x)\n",
        "\n",
        "print(uncertainties)\n",
        "print(unc_detections_text)\n",
        "\n",
        "precision_unc, recall_unc, f1_score_unc = precision_neg_unc(uncertainties, unc_detections_text)\n",
        "\n"
      ],
      "metadata": {
        "id": "12a04iO7wDqy"
      },
      "execution_count": null,
      "outputs": []
    },
    {
      "cell_type": "code",
      "source": [
        "def precision_unc_scopes(true_scopes, pred_scopes):\n",
        "    right = 0\n",
        "    wrong = 0\n",
        "    total_pred = len(pred_scopes)\n",
        "\n",
        "    for prediction in pred_scopes:\n",
        "        pred_start, pred_end = prediction[0], prediction[1]\n",
        "\n",
        "        for true in true_scopes:\n",
        "            true_start, true_end = true[0], true[1]\n",
        "            if (pred_start == true_start or pred_end == true_end):\n",
        "                right += 1\n",
        "            else:\n",
        "                wrong += 1\n",
        "\n",
        "    precision = right / total_pred\n",
        "    recall = right / (right + wrong) if right + wrong > 0 else 0\n",
        "    f1_score = 2 * (precision * recall) / (precision + recall) if precision + recall > 0 else 0\n",
        "\n",
        "    return precision, recall, f1_score\n",
        "\n",
        "\n",
        "precision_unc_scope, recall_unc_scope, f1_score_unc_scope = precision_unc_scopes(uncertainty_scopes, unc_detect_scopes)\n"
      ],
      "metadata": {
        "id": "PH-3ldWvwHf1"
      },
      "execution_count": null,
      "outputs": []
    },
    {
      "cell_type": "code",
      "source": [
        "print('PRECISIONS:  ')\n",
        "print('Precision for Negations: ', precision_neg)\n",
        "print('-------------------------------------------')\n",
        "print('Precision for Negation scopes: ', precision_neg_scope)\n",
        "print('-------------------------------------------')\n",
        "print('Precision for Uncertanties: ', precision_unc)\n",
        "print('-------------------------------------------')\n",
        "print('Precision for Uncertanties scopes: ', precision_unc_scope)\n",
        "\n",
        "print('RECALL:  ')\n",
        "print('Recall for Negations: ', recall_neg)\n",
        "print('-------------------------------------------')\n",
        "print('Recall for Negation scopes: ', recall_neg_scope)\n",
        "print('-------------------------------------------')\n",
        "print('Reall for Uncertanties: ', recall_unc)\n",
        "print('-------------------------------------------')\n",
        "print('Recall for Uncertanties scopes: ', recall_unc_scope)\n",
        "print('F1 SCORE:  ')\n",
        "print('F1 score for Negations: ', f1_score_neg)\n",
        "print('-------------------------------------------')\n",
        "print('F1 score for Negation scopes: ', f1_score_neg_scope)\n",
        "print('-------------------------------------------')\n",
        "print('F1 score for Uncertanties: ', f1_score_unc)\n",
        "print('-------------------------------------------')\n",
        "print('F1 score for Uncertanties scopes: ', f1_score_unc_scope)\n"
      ],
      "metadata": {
        "id": "RxbxfqiYwK_q"
      },
      "execution_count": null,
      "outputs": []
    }
  ]
}